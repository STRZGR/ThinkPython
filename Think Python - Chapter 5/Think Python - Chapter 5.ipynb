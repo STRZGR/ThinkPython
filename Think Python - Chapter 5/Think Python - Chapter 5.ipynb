{
 "cells": [
  {
   "cell_type": "markdown",
   "metadata": {},
   "source": [
    "# Think Python\n",
    "\n",
    "## Chapter 5 - Conditionals and recursion\n",
    "\n",
    "HTML version available [here](http://greenteapress.com/thinkpython2/html/thinkpython2006.html \"Chpt 5\").\n",
    "\n",
    "### 5.1 Floor division and modulus\n",
    "\n",
    "*Use `//` for floor division:*\n"
   ]
  },
  {
   "cell_type": "code",
   "execution_count": 1,
   "metadata": {},
   "outputs": [
    {
     "data": {
      "text/plain": [
       "1"
      ]
     },
     "execution_count": 1,
     "metadata": {},
     "output_type": "execute_result"
    }
   ],
   "source": [
    "minutes = 105\n",
    "hours = minutes // 60\n",
    "hours"
   ]
  },
  {
   "cell_type": "markdown",
   "metadata": {},
   "source": [
    "### 5.2 Boolean expressions\n",
    "\n",
    "*No notes.*\n",
    "\n",
    "### 5.3 Logical operators\n",
    "\n",
    "*Any nonzero number is interpreted as `True` in Python:*"
   ]
  },
  {
   "cell_type": "code",
   "execution_count": 2,
   "metadata": {},
   "outputs": [
    {
     "data": {
      "text/plain": [
       "True"
      ]
     },
     "execution_count": 2,
     "metadata": {},
     "output_type": "execute_result"
    }
   ],
   "source": [
    "42 and True"
   ]
  },
  {
   "cell_type": "markdown",
   "metadata": {},
   "source": [
    "### 5.4 Conditional execution\n",
    "\n",
    "*Conditional statements have to have at least one statement, so you can use `pass` as a placeholder:*"
   ]
  },
  {
   "cell_type": "code",
   "execution_count": 3,
   "metadata": {},
   "outputs": [],
   "source": [
    "x = 5\n",
    "\n",
    "if x < 0:\n",
    "    pass         # TODO: need to handle negative values!"
   ]
  },
  {
   "cell_type": "markdown",
   "metadata": {},
   "source": [
    "### 5.5 Alternative execution\n",
    "\n",
    "*Alternatives in `if ... else` statements are also called __branches__.*"
   ]
  },
  {
   "cell_type": "markdown",
   "metadata": {},
   "source": [
    "### 5.6 Chained conditionals\n",
    "\n",
    "*Remember that Python uses `if ... elif ... else` syntax.*"
   ]
  },
  {
   "cell_type": "markdown",
   "metadata": {},
   "source": [
    "### 5.7 Nested conditionals\n",
    "\n",
    "*No notes.*\n",
    "\n",
    "### 5.8 Recursion\n",
    "\n",
    "*Simple example:*"
   ]
  },
  {
   "cell_type": "code",
   "execution_count": 4,
   "metadata": {},
   "outputs": [],
   "source": [
    "def countdown(n):\n",
    "    if n <= 0:\n",
    "        print('\\n((((((((...... Blastoff! ......))))))))')\n",
    "    else:\n",
    "        print(n)\n",
    "        countdown(n - 1)"
   ]
  },
  {
   "cell_type": "code",
   "execution_count": 5,
   "metadata": {},
   "outputs": [
    {
     "name": "stdout",
     "output_type": "stream",
     "text": [
      "10\n",
      "9\n",
      "8\n",
      "7\n",
      "6\n",
      "5\n",
      "4\n",
      "3\n",
      "2\n",
      "1\n",
      "\n",
      "((((((((...... Blastoff! ......))))))))\n"
     ]
    }
   ],
   "source": [
    "countdown(10)"
   ]
  },
  {
   "cell_type": "markdown",
   "metadata": {},
   "source": [
    "*Another example, that will print a string $n$ times:*"
   ]
  },
  {
   "cell_type": "code",
   "execution_count": 6,
   "metadata": {},
   "outputs": [],
   "source": [
    "def print_n(s, n):\n",
    "    if n <= 0:\n",
    "        return\n",
    "    print(s)\n",
    "    print_n(s, n - 1)\n",
    "    "
   ]
  },
  {
   "cell_type": "code",
   "execution_count": 7,
   "metadata": {},
   "outputs": [
    {
     "name": "stdout",
     "output_type": "stream",
     "text": [
      "Snugglebunnies!\n",
      "\n",
      "Snugglebunnies!\n",
      "\n",
      "Snugglebunnies!\n",
      "\n",
      "Snugglebunnies!\n",
      "\n",
      "Snugglebunnies!\n",
      "\n",
      "Snugglebunnies!\n",
      "\n"
     ]
    }
   ],
   "source": [
    "print_n(\"Snugglebunnies!\\n\", 6)"
   ]
  },
  {
   "cell_type": "markdown",
   "metadata": {},
   "source": [
    "### 5.9 Stack diagrams for recursive functions\n",
    "\n",
    "*No notes.*\n",
    "\n",
    "### 5.10 Infinite recursion\n",
    "\n",
    "*This would run until the maximum recursion depth was reached:*\n",
    "\n",
    "```{Python}\n",
    "def recurse():\n",
    "    recurse()\n",
    "```"
   ]
  },
  {
   "cell_type": "markdown",
   "metadata": {},
   "source": [
    "### 5.11 Keyboard input\n",
    "\n",
    "*Use `input()` to get user input:*"
   ]
  },
  {
   "cell_type": "code",
   "execution_count": 8,
   "metadata": {},
   "outputs": [
    {
     "name": "stdout",
     "output_type": "stream",
     "text": [
      "What...is your name?\n",
      "Arthur, King of Britons!\n"
     ]
    }
   ],
   "source": [
    "name = input(\"What...is your name?\\n\")"
   ]
  },
  {
   "cell_type": "code",
   "execution_count": 9,
   "metadata": {},
   "outputs": [
    {
     "data": {
      "text/plain": [
       "'Arthur, King of Britons!'"
      ]
     },
     "execution_count": 9,
     "metadata": {},
     "output_type": "execute_result"
    }
   ],
   "source": [
    "name"
   ]
  },
  {
   "cell_type": "markdown",
   "metadata": {},
   "source": [
    "### 5.12 Debugging\n",
    "\n",
    "*No notes.*\n",
    "\n",
    "### 5.13 Glossary\n",
    "\n",
    "*No notes*\n",
    "\n",
    "### 5.14 Exercises\n",
    "\n",
    "#### Exercise 1  \n",
    "\n",
    "*The `time` module provides a function, also named `time`, that returns the current Greenwich Mean Time in “the epoch”, which is an arbitrary time used as a reference point. On UNIX systems, the epoch is 1 January 1970.*\n",
    "\n",
    "```{Python}\n",
    ">>> import time\n",
    ">>> time.time()\n",
    "1437746094.5735958\n",
    "```\n",
    "\n",
    "*Write a script that reads the current time and converts it to a time of day in hours, minutes, and seconds, plus the number of days since the epoch.*"
   ]
  },
  {
   "cell_type": "code",
   "execution_count": 10,
   "metadata": {},
   "outputs": [],
   "source": [
    "import time\n",
    "\n",
    "def get_time():\n",
    "    \"\"\"Reads and converts current time into the number of\n",
    "    days, hours, minutes and seconds since the epoch\"\"\"\n",
    "    now = time.time()\n",
    "    days = int(now // (60 * 60 *24))\n",
    "    days_remainder = now % (60 * 60 * 24)\n",
    "    hours = int(days_remainder // (60 * 60))\n",
    "    hours_remainder = days_remainder % (60 * 60)\n",
    "    minutes = int(hours_remainder // 60)\n",
    "    seconds = hours_remainder % 60\n",
    "    print(\"{:,} days, {} hours, {} minutes and {:2.3f} seconds have elapsed since 'the epoch'.\".format(days, hours, minutes, seconds))\n"
   ]
  },
  {
   "cell_type": "code",
   "execution_count": 11,
   "metadata": {},
   "outputs": [
    {
     "name": "stdout",
     "output_type": "stream",
     "text": [
      "18,136 days, 4 hours, 35 minutes and 4.441 seconds have elapsed since 'the epoch'.\n"
     ]
    }
   ],
   "source": [
    "get_time()"
   ]
  },
  {
   "cell_type": "markdown",
   "metadata": {},
   "source": [
    "#### Exercise 2  \n",
    "\n",
    "*Fermat’s Last Theorem says that there are no positive integers $a$, $b$, and $c$ such that*\n",
    "\n",
    "$$a^n + b^n = c^n$$\n",
    "\n",
    "*for any values of $n$ greater than 2.*\n",
    "\n",
    "<ol>\n",
    "<li>\n",
    "<em>Write a function named `check_fermat` that takes four parameters—`a`, `b`, `c` and `n`—and checks to see if Fermat’s theorem holds. If $n$ is greater than 2 and</em>\n",
    "\n",
    "$$a^n + b^n = c^n $$\n",
    "\n",
    "*the program should print, “Holy smokes, Fermat was wrong!” Otherwise the program should print, “No, that doesn’t work.”*\n",
    "</li>\n",
    "<li>\n",
    "<em>Write a function that prompts the user to input values for `a`, `b`, `c` and `n`, converts them to integers, and uses `check_fermat` to check whether they violate Fermat’s theorem.<em>\n",
    "</li>\n",
    "</ol>"
   ]
  },
  {
   "cell_type": "code",
   "execution_count": 12,
   "metadata": {},
   "outputs": [],
   "source": [
    "def check_fermat(a, b, c, n):\n",
    "    \"\"\"Checks to see if Fermat's theorem\n",
    "    holds for a, b, and c raised to the nth power.\"\"\"\n",
    "    if n <= 2:\n",
    "        print(\"Sorry, Fermat's theorem only works for exponents larger than two.\")\n",
    "    elif a**n + b**n == c**n:\n",
    "        print(\"Holy smokes, Fermat was wrong!\")\n",
    "    else:\n",
    "        print(\"No, that doesn't work.\")"
   ]
  },
  {
   "cell_type": "code",
   "execution_count": 13,
   "metadata": {},
   "outputs": [
    {
     "name": "stdout",
     "output_type": "stream",
     "text": [
      "No, that doesn't work.\n"
     ]
    }
   ],
   "source": [
    "check_fermat(3, 5, 8, 3)"
   ]
  },
  {
   "cell_type": "code",
   "execution_count": 14,
   "metadata": {},
   "outputs": [],
   "source": [
    "def input_fermat():\n",
    "    \"\"\"Checks to see if Fermat's theorem\n",
    "    holds for a, b, and c raised to the nth power.\n",
    "    a, b, c, and n are supplied by the user.\"\"\"\n",
    "    a = input(\"What is the value of 'a'?\\n\")\n",
    "    b = input(\"What is the value of 'b'?\\n\")\n",
    "    c = input(\"What is the value of 'c'?\\n\")\n",
    "    n = input(\"What is the value of 'n'?\\n\")\n",
    "    print(\"\\n\")\n",
    "    return check_fermat(int(a), int(b), int(c), int(n))"
   ]
  },
  {
   "cell_type": "code",
   "execution_count": 15,
   "metadata": {},
   "outputs": [
    {
     "name": "stdout",
     "output_type": "stream",
     "text": [
      "What is the value of 'a'?\n",
      "5\n",
      "What is the value of 'b'?\n",
      "7\n",
      "What is the value of 'c'?\n",
      "3\n",
      "What is the value of 'n'?\n",
      "6\n",
      "\n",
      "\n",
      "No, that doesn't work.\n"
     ]
    }
   ],
   "source": [
    "input_fermat()"
   ]
  },
  {
   "cell_type": "markdown",
   "metadata": {},
   "source": [
    "#### Exercise 3  \n",
    "*If you are given three sticks, you may or may not be able to arrange them in a triangle. For example, if one of the sticks is 12 inches long and the other two are one inch long, you will not be able to get the short sticks to meet in the middle. For any three lengths, there is a simple test to see if it is possible to form a triangle:*\n",
    "\n",
    "> *If any of the three lengths is greater than the sum of the other two, then you cannot form a triangle. Otherwise, you can. (If the sum of two lengths equals the third, they form what is called a “degenerate” triangle.)*\n",
    "\n",
    "<ol>\n",
    "    <li>\n",
    "<em>Write a function named `is_triangle` that takes three integers as arguments, and that prints either “Yes” or “No”, depending on whether you can or cannot form a triangle from sticks with the given lengths.</em>\n",
    "    </li>\n",
    "    <li>\n",
    "<em>Write a function that prompts the user to input three stick lengths, converts them to integers, and uses `is_triangle` to check whether sticks with the given lengths can form a triangle.</em>\n",
    "    </li>\n",
    "   </ol>"
   ]
  },
  {
   "cell_type": "code",
   "execution_count": 16,
   "metadata": {},
   "outputs": [],
   "source": [
    "def is_triangle(a, b, c):\n",
    "    \"\"\"Determines if a triangle can be formed from sticks\n",
    "    of lengths a, b, and c.\"\"\"\n",
    "    if a >= b and a >= c:\n",
    "        long = a\n",
    "        short1, short2 = b, c\n",
    "    elif b >= c and b >= a:\n",
    "        long = b\n",
    "        short1, short2 = a, c\n",
    "    else:\n",
    "        long = c\n",
    "        short1, short2 = a, b\n",
    "    if long > short1 + short2:\n",
    "        print(\"No.\")\n",
    "    else:\n",
    "        print(\"Yes.\")\n",
    "    \n"
   ]
  },
  {
   "cell_type": "code",
   "execution_count": 17,
   "metadata": {},
   "outputs": [
    {
     "name": "stdout",
     "output_type": "stream",
     "text": [
      "No.\n"
     ]
    }
   ],
   "source": [
    "is_triangle(4, 8, 3)"
   ]
  },
  {
   "cell_type": "markdown",
   "metadata": {},
   "source": [
    "*This is a more efficient rendering of `is_triangle`, but it uses code that hasn't yet been introduced in this book:*"
   ]
  },
  {
   "cell_type": "code",
   "execution_count": 18,
   "metadata": {},
   "outputs": [],
   "source": [
    "def is_triangle(a, b, c):\n",
    "    \"\"\"Determines if a triangle can be formed from sticks\n",
    "    of lengths a, b, and c.\"\"\"\n",
    "    sorted = [a, b, c]\n",
    "    sorted.sort()\n",
    "    if sorted[2] > sorted[0] + sorted[1]:\n",
    "        print(\"No.\")\n",
    "    else:\n",
    "        print(\"Yes.\")"
   ]
  },
  {
   "cell_type": "code",
   "execution_count": 19,
   "metadata": {},
   "outputs": [
    {
     "name": "stdout",
     "output_type": "stream",
     "text": [
      "No.\n"
     ]
    }
   ],
   "source": [
    "is_triangle(7, 3, 2)"
   ]
  },
  {
   "cell_type": "code",
   "execution_count": 20,
   "metadata": {},
   "outputs": [
    {
     "name": "stdout",
     "output_type": "stream",
     "text": [
      "Yes.\n"
     ]
    }
   ],
   "source": [
    "is_triangle(3, 7, 4)"
   ]
  },
  {
   "cell_type": "code",
   "execution_count": 21,
   "metadata": {},
   "outputs": [],
   "source": [
    "def get_triangle():\n",
    "    \"\"\"Determines if a triangle can be formed from sticks\n",
    "    of lengths a, b, and c. a, b, and c are supplied by\n",
    "    the user.\"\"\"\n",
    "    a = input(\"What is the length of the first stick?\\n\")\n",
    "    b = input(\"What is the length of the second stick?\\n\")\n",
    "    c = input(\"What is the length of the third stick?\\n\")\n",
    "    print(\"\\n\")\n",
    "    is_triangle(int(a), int(b), int(c))"
   ]
  },
  {
   "cell_type": "code",
   "execution_count": 22,
   "metadata": {},
   "outputs": [
    {
     "name": "stdout",
     "output_type": "stream",
     "text": [
      "What is the length of the first stick?\n",
      "3\n",
      "What is the length of the second stick?\n",
      "7\n",
      "What is the length of the third stick?\n",
      "12\n",
      "\n",
      "\n",
      "No.\n"
     ]
    }
   ],
   "source": [
    "get_triangle()"
   ]
  },
  {
   "cell_type": "markdown",
   "metadata": {},
   "source": [
    "#### Exercise 4   \n",
    "\n",
    "*What is the output of the following program? Draw a stack diagram that shows the state of the program when it prints the result.*\n",
    "\n",
    "```{Python}\n",
    "def recurse(n, s):\n",
    "    \"\"\"Function calls itself recursively until n reaches 0.\n",
    "    At each call, s is the sum of n and s from the previous \n",
    "    call.\n",
    "    \"\"\"\n",
    "    if n == 0:\n",
    "        print(s)\n",
    "    else:\n",
    "        recurse(n-1, n+s)\n",
    "\n",
    "recurse(3, 0)\n",
    "```\n",
    "\n",
    "*The output is `6`.*\n",
    "\n",
    "<ol>\n",
    "    <li>\n",
    "        <em>What would happen if you called this function like this: <code>recurse(-1, 0)</code>?</em>\n",
    "    \n",
    "<em><b>The code would go into infinite recursion.</b></em></li>\n",
    "<br>\n",
    "<li><em>Write a docstring that explains everything someone would need to know in order to use this function (and nothing else).</em></li>"
   ]
  },
  {
   "cell_type": "markdown",
   "metadata": {},
   "source": [
    "#### Exercise 6  \n",
    "\n",
    "*The Koch curve is a fractal that looks something like Figure 5.2. To draw a Koch curve with length x, all you have to do is*\n",
    "\n",
    "\n",
    "1. *Draw a Koch curve with length x/3.*\n",
    "2. *Turn left 60 degrees.*\n",
    "3. *Draw a Koch curve with length x/3.*\n",
    "4. *Turn right 120 degrees.*\n",
    "5. *Draw a Koch curve with length x/3.*\n",
    "6. *Turn left 60 degrees.*\n",
    "7. *Draw a Koch curve with length x/3.*\n",
    "\n",
    "*The exception is if x is less than 3: in that case, you can just draw a straight line with length x.*\n",
    "\n",
    "<ol>\n",
    "    <li>\n",
    "        \n",
    "<em>Write a function called `koch` that takes a turtle and a length as parameters, and that uses the turtle to draw a Koch curve with the given length.</em></li>\n",
    "<li>\n",
    "    <em>Write a function called <code>snowflake</code> that draws three Koch curves to make the outline of a snowflake.\n",
    "Solution: http://thinkpython2.com/code/koch.py.</em></li>\n",
    "<li>\n",
    "<em>The Koch curve can be generalized in several ways. See http://en.wikipedia.org/wiki/Koch_snowflake for examples and implement your favorite.</em></li>"
   ]
  },
  {
   "cell_type": "markdown",
   "metadata": {},
   "source": [
    "*__Part 1:__*\n",
    "\n",
    "*__The Python code is saved [here](https://github.com/Sturzgefahr/ThinkPython/blob/master/Think%20Python%20-%20Chapter%205/ThinkPython5_koch.py).__*\n",
    "\n",
    "*This wouldn't work at first, because I had forgotten to add `return` to the base case.*\n",
    "\n",
    "\n",
    "```{Python}\n",
    "import turtle\n",
    "bob = turtle.Turtle()\n",
    "\n",
    "def koch(t, length):\n",
    "    \"\"\"Draws a Koch curve with the given length.\n",
    "    t is a turtle.\n",
    "    \"\"\"\n",
    "    if length < 3:\n",
    "        t.fd(length)\n",
    "        return\n",
    "    koch(t, length/3)\n",
    "    t.lt(60)\n",
    "    koch(t, length/3)\n",
    "    t.rt(120)\n",
    "    koch(t, length/3)\n",
    "    t.lt(60)\n",
    "    koch(t, length/3)\n",
    "\n",
    "\n",
    "koch(bob, 150)\n",
    "\n",
    "turtle.mainloop()\n",
    "```\n",
    "\n",
    "*__Part 2:__*\n",
    "\n",
    "*__The Python code is saved [here](https://github.com/Sturzgefahr/ThinkPython/blob/master/Think%20Python%20-%20Chapter%205/ThinkPython5_snowflake.py).__*\n",
    "\n",
    "```{Python}\n",
    "import turtle\n",
    "bob = turtle.Turtle()\n",
    "\n",
    "def koch(t, length):\n",
    "    \"\"\"Draws a Koch curve with the given length.\n",
    "    t is a turtle.\n",
    "    \"\"\"\n",
    "    if length < 3:\n",
    "        t.fd(length)\n",
    "        return\n",
    "    koch(t, length/3)\n",
    "    t.lt(60)\n",
    "    koch(t, length/3)\n",
    "    t.rt(120)\n",
    "    koch(t, length/3)\n",
    "    t.lt(60)\n",
    "    koch(t, length/3)\n",
    "\n",
    "\n",
    "def snowflake(t, length):\n",
    "    \"\"\"Joins 3 koch curves together to form a \n",
    "    snowflake pattern.\n",
    "    \"\"\"    \n",
    "    for i in range(3):\n",
    "        koch(t, length)\n",
    "        t.rt(120)\n",
    "\n",
    "snowflake(bob, 150)\n",
    "\n",
    "turtle.mainloop()\n",
    "```\n",
    "\n",
    "\n",
    "*__Part 3:__*\n",
    "\n",
    "*__The Python code is saved [here](https://github.com/Sturzgefahr/ThinkPython/blob/master/Think%20Python%20-%20Chapter%205/ThinkPython5_square_koch.py).__*\n",
    "\n",
    "```{Python}\n",
    "import turtle\n",
    "bob = turtle.Turtle()\n",
    "\n",
    "def square_koch(t, length):\n",
    "    \"\"\"Creates a variation of the Koch curve\n",
    "    where all turns are right angles.  length \n",
    "    is the length of the original side. t is a \n",
    "    turtle.\n",
    "    \"\"\"\n",
    "    if length < 3:\n",
    "        t.fd(length)\n",
    "        return\n",
    "    square_koch(t, length/3)\n",
    "    t.lt(90)\n",
    "    square_koch(t, length/3)\n",
    "    t.rt(90)\n",
    "    square_koch(t, length/3)\n",
    "    t.rt(90)\n",
    "    square_koch(t, length/3)\n",
    "    t.lt(90)\n",
    "    square_koch(t, length/3)\n",
    "    \n",
    "\n",
    "\n",
    "\n",
    "for i in range(4):\n",
    "    square_koch(bob, 50)\n",
    "    bob.rt(90)\n",
    "\n",
    "turtle.mainloop()\n",
    "```\n",
    "\n",
    "*__Part 3a:__*\n",
    "\n",
    "*__The Python code is saved [here](https://github.com/Sturzgefahr/ThinkPython/blob/master/Think%20Python%20-%20Chapter%205/ThinkPython5_square_koch_fractal.py).__*\n",
    "\n",
    "```{Python}\n",
    "import turtle\n",
    "bob = turtle.Turtle()\n",
    "\n",
    "def square_koch_fractal(t, length):\n",
    "    \"\"\"Draws a Quadratic Flake.  length\n",
    "    is the original length. t is a turtle.\n",
    "    \"\"\"\n",
    "    if length < 3:\n",
    "        t.fd(length)\n",
    "        return\n",
    "    square_koch_fractal(t, length/3)\n",
    "    t.lt(90)\n",
    "    square_koch_fractal(t, length/3)\n",
    "    t.rt(90)\n",
    "    square_koch_fractal(t, length/3)\n",
    "    t.rt(90)\n",
    "    square_koch_fractal(t, length/3)\n",
    "    square_koch_fractal(t, length/3)\n",
    "    t.lt(90)\n",
    "    square_koch_fractal(t, length/3)\n",
    "    t.lt(90)\n",
    "    square_koch_fractal(t, length/3)\n",
    "    t.rt(90)\n",
    "    square_koch_fractal(t, length/3)\n",
    "    \n",
    "\n",
    "\n",
    "\n",
    "for i in range(4):\n",
    "    square_koch_fractal(bob, 50)\n",
    "    bob.rt(90)\n",
    "\n",
    "turtle.mainloop()\n",
    "```\n",
    "\n",
    "*Again, I'm of the opinion that the difficulties in this chapter are due less to lack of programming ability/knowledge, and more to lack of familiarity with advanced geometry.  I.e., a fairly expert Python programmer could very well struggle with these exercises, which shouldn't be.  Also, the wikipedia links in the chapter are probably nowhere near as helpful as the author might think.  In order to graph these shapes, we need descriptions of the algorithms used to build them, and these are absent from the (current) wikis.*"
   ]
  }
 ],
 "metadata": {
  "kernelspec": {
   "display_name": "Python 3",
   "language": "python",
   "name": "python3"
  },
  "language_info": {
   "codemirror_mode": {
    "name": "ipython",
    "version": 3
   },
   "file_extension": ".py",
   "mimetype": "text/x-python",
   "name": "python",
   "nbconvert_exporter": "python",
   "pygments_lexer": "ipython3",
   "version": "3.6.4"
  }
 },
 "nbformat": 4,
 "nbformat_minor": 2
}
