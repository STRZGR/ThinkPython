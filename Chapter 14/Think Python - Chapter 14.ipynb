{
 "cells": [
  {
   "cell_type": "markdown",
   "metadata": {},
   "source": [
    "# Think Python\n",
    "\n",
    "## Chapter 14 - Files\n",
    "\n",
    "### 14.1 Persistence\n",
    "\n",
    "*HTML of this chapter in \"Think Python 2e\" can be found [here](http://greenteapress.com/thinkpython2/html/thinkpython2015.html \"Chapter 14\").*\n",
    "\n",
    "### 14.2 Reading and writing\n",
    "\n",
    "\n"
   ]
  },
  {
   "cell_type": "code",
   "execution_count": 1,
   "metadata": {},
   "outputs": [],
   "source": [
    "import os\n",
    "\n",
    "path = \"C:\\\\Users\\\\mjcor\\\\Desktop\\\\ProgrammingStuff\\\\ThinkPython\\\\Chapter14\"\n",
    "os.chdir(path)"
   ]
  },
  {
   "cell_type": "code",
   "execution_count": 2,
   "metadata": {},
   "outputs": [],
   "source": [
    "# writing a file\n",
    "fout = open('output.txt', 'w')"
   ]
  },
  {
   "cell_type": "code",
   "execution_count": 3,
   "metadata": {},
   "outputs": [
    {
     "data": {
      "text/plain": [
       "24"
      ]
     },
     "execution_count": 3,
     "metadata": {},
     "output_type": "execute_result"
    }
   ],
   "source": [
    "# writing to the file\n",
    "line1 = \"This here's the wattle,\\n\"\n",
    "fout.write(line1)"
   ]
  },
  {
   "cell_type": "code",
   "execution_count": 4,
   "metadata": {},
   "outputs": [
    {
     "data": {
      "text/plain": [
       "24"
      ]
     },
     "execution_count": 4,
     "metadata": {},
     "output_type": "execute_result"
    }
   ],
   "source": [
    "# adding new data\n",
    "line2 = \"the emblem of our land.\\n\"\n",
    "fout.write(line2)"
   ]
  },
  {
   "cell_type": "code",
   "execution_count": 5,
   "metadata": {},
   "outputs": [],
   "source": [
    "fout.close()"
   ]
  },
  {
   "cell_type": "markdown",
   "metadata": {},
   "source": [
    "### 14.3 Format operator\n",
    "\n"
   ]
  },
  {
   "cell_type": "code",
   "execution_count": 6,
   "metadata": {},
   "outputs": [
    {
     "data": {
      "text/plain": [
       "'42'"
      ]
     },
     "execution_count": 6,
     "metadata": {},
     "output_type": "execute_result"
    }
   ],
   "source": [
    "camels = 42\n",
    "'%d' % camels"
   ]
  },
  {
   "cell_type": "markdown",
   "metadata": {},
   "source": [
    "### 14.4 Filenames and paths"
   ]
  },
  {
   "cell_type": "code",
   "execution_count": 7,
   "metadata": {},
   "outputs": [],
   "source": [
    "# author's code\n",
    "\n",
    "import os\n",
    "\n",
    "def walk(dirname):\n",
    "    for name in os.listdir(dirname):\n",
    "        path = os.path.join(dirname, name)\n",
    "        \n",
    "        if os.path.isfile(path):\n",
    "            print(path)\n",
    "        else:\n",
    "            walk(path)"
   ]
  },
  {
   "cell_type": "code",
   "execution_count": 8,
   "metadata": {},
   "outputs": [
    {
     "name": "stdout",
     "output_type": "stream",
     "text": [
      "C:\\Users\\mjcor\\Desktop\\ProgrammingStuff\\ThinkPython\\alice.txt\n",
      "C:\\Users\\mjcor\\Desktop\\ProgrammingStuff\\ThinkPython\\alice_new.txt\n",
      "C:\\Users\\mjcor\\Desktop\\ProgrammingStuff\\ThinkPython\\austen.txt\n",
      "C:\\Users\\mjcor\\Desktop\\ProgrammingStuff\\ThinkPython\\beowulf.txt\n",
      "C:\\Users\\mjcor\\Desktop\\ProgrammingStuff\\ThinkPython\\canterbury.txt\n",
      "C:\\Users\\mjcor\\Desktop\\ProgrammingStuff\\ThinkPython\\Chapter12\\pigwar.txt\n",
      "C:\\Users\\mjcor\\Desktop\\ProgrammingStuff\\ThinkPython\\Chapter12\\Think Python - Chapter 12 for GH.ipynb\n",
      "C:\\Users\\mjcor\\Desktop\\ProgrammingStuff\\ThinkPython\\Chapter12\\Think Python - Chapter 12.ipynb\n",
      "C:\\Users\\mjcor\\Desktop\\ProgrammingStuff\\ThinkPython\\Chapter13\\Think Python - Chapter 13.ipynb\n",
      "C:\\Users\\mjcor\\Desktop\\ProgrammingStuff\\ThinkPython\\Chapter14\\anagrams.txt\n",
      "C:\\Users\\mjcor\\Desktop\\ProgrammingStuff\\ThinkPython\\Chapter14\\anagrams_dict.db.bak\n",
      "C:\\Users\\mjcor\\Desktop\\ProgrammingStuff\\ThinkPython\\Chapter14\\anagrams_dict.db.dat\n",
      "C:\\Users\\mjcor\\Desktop\\ProgrammingStuff\\ThinkPython\\Chapter14\\anagrams_dict.db.dir\n",
      "C:\\Users\\mjcor\\Desktop\\ProgrammingStuff\\ThinkPython\\Chapter14\\anagram_dict.db.bak\n",
      "C:\\Users\\mjcor\\Desktop\\ProgrammingStuff\\ThinkPython\\Chapter14\\anagram_dict.db.dat\n",
      "C:\\Users\\mjcor\\Desktop\\ProgrammingStuff\\ThinkPython\\Chapter14\\anagram_dict.db.dir\n",
      "C:\\Users\\mjcor\\Desktop\\ProgrammingStuff\\ThinkPython\\Chapter14\\anagram_sets.py\n",
      "C:\\Users\\mjcor\\Desktop\\ProgrammingStuff\\ThinkPython\\Chapter14\\captions.bak\n",
      "C:\\Users\\mjcor\\Desktop\\ProgrammingStuff\\ThinkPython\\Chapter14\\captions.dat\n",
      "C:\\Users\\mjcor\\Desktop\\ProgrammingStuff\\ThinkPython\\Chapter14\\captions.dir\n",
      "C:\\Users\\mjcor\\Desktop\\ProgrammingStuff\\ThinkPython\\Chapter14\\output.txt\n",
      "C:\\Users\\mjcor\\Desktop\\ProgrammingStuff\\ThinkPython\\Chapter14\\test1.txt\n",
      "C:\\Users\\mjcor\\Desktop\\ProgrammingStuff\\ThinkPython\\Chapter14\\test2.txt\n",
      "C:\\Users\\mjcor\\Desktop\\ProgrammingStuff\\ThinkPython\\Chapter14\\testme\\sumtest1.txt\n",
      "C:\\Users\\mjcor\\Desktop\\ProgrammingStuff\\ThinkPython\\Chapter14\\testme\\sumtest2.txt\n",
      "C:\\Users\\mjcor\\Desktop\\ProgrammingStuff\\ThinkPython\\Chapter14\\testme\\sumtest3.txt\n",
      "C:\\Users\\mjcor\\Desktop\\ProgrammingStuff\\ThinkPython\\Chapter14\\__pycache__\\anagram_sets.cpython-37.pyc\n",
      "C:\\Users\\mjcor\\Desktop\\ProgrammingStuff\\ThinkPython\\Chapter4\\mypolygon.py\n",
      "C:\\Users\\mjcor\\Desktop\\ProgrammingStuff\\ThinkPython\\Chapter4\\ThinkPython4_3_1.py\n",
      "C:\\Users\\mjcor\\Desktop\\ProgrammingStuff\\ThinkPython\\Chapter4\\ThinkPython4_3_2.py\n",
      "C:\\Users\\mjcor\\Desktop\\ProgrammingStuff\\ThinkPython\\Chapter4\\ThinkPython4_3_3.py\n",
      "C:\\Users\\mjcor\\Desktop\\ProgrammingStuff\\ThinkPython\\Chapter4\\ThinkPython4_3_4.py\n",
      "C:\\Users\\mjcor\\Desktop\\ProgrammingStuff\\ThinkPython\\Chapter4\\ThinkPython4_3_5.py\n",
      "C:\\Users\\mjcor\\Desktop\\ProgrammingStuff\\ThinkPython\\Chapter4\\ThinkPython4_flowers.py\n",
      "C:\\Users\\mjcor\\Desktop\\ProgrammingStuff\\ThinkPython\\Chapter4\\ThinkPython4_polypie.py\n",
      "C:\\Users\\mjcor\\Desktop\\ProgrammingStuff\\ThinkPython\\Chapter4\\ThinkPython4_spiral.py\n",
      "C:\\Users\\mjcor\\Desktop\\ProgrammingStuff\\ThinkPython\\Chapter5\\ThinkPython5_koch.py\n",
      "C:\\Users\\mjcor\\Desktop\\ProgrammingStuff\\ThinkPython\\Chapter5\\ThinkPython5_snowflake.py\n",
      "C:\\Users\\mjcor\\Desktop\\ProgrammingStuff\\ThinkPython\\Chapter5\\ThinkPython5_square_koch.py\n",
      "C:\\Users\\mjcor\\Desktop\\ProgrammingStuff\\ThinkPython\\Chapter5\\ThinkPython5_square_koch_fractal.py\n",
      "C:\\Users\\mjcor\\Desktop\\ProgrammingStuff\\ThinkPython\\Chapter9\\least_frequent_combo.py\n",
      "C:\\Users\\mjcor\\Desktop\\ProgrammingStuff\\ThinkPython\\Chapter9\\least_frequent_combo_from_list.py\n",
      "C:\\Users\\mjcor\\Desktop\\ProgrammingStuff\\ThinkPython\\emma.txt\n",
      "C:\\Users\\mjcor\\Desktop\\ProgrammingStuff\\ThinkPython\\emma_cleaned.txt\n",
      "C:\\Users\\mjcor\\Desktop\\ProgrammingStuff\\ThinkPython\\emma_new.txt\n",
      "C:\\Users\\mjcor\\Desktop\\ProgrammingStuff\\ThinkPython\\footer_test.txt\n",
      "C:\\Users\\mjcor\\Desktop\\ProgrammingStuff\\ThinkPython\\hamlet.txt\n",
      "C:\\Users\\mjcor\\Desktop\\ProgrammingStuff\\ThinkPython\\heading_test.txt\n",
      "C:\\Users\\mjcor\\Desktop\\ProgrammingStuff\\ThinkPython\\hungarian.txt\n",
      "C:\\Users\\mjcor\\Desktop\\ProgrammingStuff\\ThinkPython\\iliad.txt\n",
      "C:\\Users\\mjcor\\Desktop\\ProgrammingStuff\\ThinkPython\\italian.txt\n",
      "C:\\Users\\mjcor\\Desktop\\ProgrammingStuff\\ThinkPython\\minialice.txt\n",
      "C:\\Users\\mjcor\\Desktop\\ProgrammingStuff\\ThinkPython\\sherlock.txt\n",
      "C:\\Users\\mjcor\\Desktop\\ProgrammingStuff\\ThinkPython\\Think Python - Chapter 1.ipynb\n",
      "C:\\Users\\mjcor\\Desktop\\ProgrammingStuff\\ThinkPython\\Think Python - Chapter 10.ipynb\n",
      "C:\\Users\\mjcor\\Desktop\\ProgrammingStuff\\ThinkPython\\Think Python - Chapter 2.ipynb\n",
      "C:\\Users\\mjcor\\Desktop\\ProgrammingStuff\\ThinkPython\\Think Python - Chapter 3.ipynb\n",
      "C:\\Users\\mjcor\\Desktop\\ProgrammingStuff\\ThinkPython\\Think Python - Chapter 4.ipynb\n",
      "C:\\Users\\mjcor\\Desktop\\ProgrammingStuff\\ThinkPython\\Think Python - Chapter 5.ipynb\n",
      "C:\\Users\\mjcor\\Desktop\\ProgrammingStuff\\ThinkPython\\Think Python - Chapter 6.ipynb\n",
      "C:\\Users\\mjcor\\Desktop\\ProgrammingStuff\\ThinkPython\\Think Python - Chapter 7.ipynb\n",
      "C:\\Users\\mjcor\\Desktop\\ProgrammingStuff\\ThinkPython\\Think Python - Chapter 8.ipynb\n",
      "C:\\Users\\mjcor\\Desktop\\ProgrammingStuff\\ThinkPython\\Think Python - Chapter 9.ipynb\n",
      "C:\\Users\\mjcor\\Desktop\\ProgrammingStuff\\ThinkPython\\ThinkPython-master\\ThinkPython-master\\README.md\n",
      "C:\\Users\\mjcor\\Desktop\\ProgrammingStuff\\ThinkPython\\ThinkPython-master\\ThinkPython-master\\Think Python - Chapter 1\\Think Python - Chapter 1.ipynb\n",
      "C:\\Users\\mjcor\\Desktop\\ProgrammingStuff\\ThinkPython\\ThinkPython-master\\ThinkPython-master\\Think Python - Chapter 10\\Think Python - Chapter 10.ipynb\n",
      "C:\\Users\\mjcor\\Desktop\\ProgrammingStuff\\ThinkPython\\ThinkPython-master\\ThinkPython-master\\Think Python - Chapter 11\\Think Python - Chapter 11.ipynb\n",
      "C:\\Users\\mjcor\\Desktop\\ProgrammingStuff\\ThinkPython\\ThinkPython-master\\ThinkPython-master\\Think Python - Chapter 2\\Think Python - Chapter 2.ipynb\n",
      "C:\\Users\\mjcor\\Desktop\\ProgrammingStuff\\ThinkPython\\ThinkPython-master\\ThinkPython-master\\Think Python - Chapter 3\\Think Python - Chapter 3.ipynb\n",
      "C:\\Users\\mjcor\\Desktop\\ProgrammingStuff\\ThinkPython\\ThinkPython-master\\ThinkPython-master\\Think Python - Chapter 4\\Think Python - Chapter 4.ipynb\n",
      "C:\\Users\\mjcor\\Desktop\\ProgrammingStuff\\ThinkPython\\ThinkPython-master\\ThinkPython-master\\Think Python - Chapter 4\\ThinkPython4_3_1.py\n",
      "C:\\Users\\mjcor\\Desktop\\ProgrammingStuff\\ThinkPython\\ThinkPython-master\\ThinkPython-master\\Think Python - Chapter 4\\ThinkPython4_3_2.py\n",
      "C:\\Users\\mjcor\\Desktop\\ProgrammingStuff\\ThinkPython\\ThinkPython-master\\ThinkPython-master\\Think Python - Chapter 4\\ThinkPython4_3_3.py\n",
      "C:\\Users\\mjcor\\Desktop\\ProgrammingStuff\\ThinkPython\\ThinkPython-master\\ThinkPython-master\\Think Python - Chapter 4\\ThinkPython4_3_4.py\n",
      "C:\\Users\\mjcor\\Desktop\\ProgrammingStuff\\ThinkPython\\ThinkPython-master\\ThinkPython-master\\Think Python - Chapter 4\\ThinkPython4_3_5.py\n",
      "C:\\Users\\mjcor\\Desktop\\ProgrammingStuff\\ThinkPython\\ThinkPython-master\\ThinkPython-master\\Think Python - Chapter 4\\ThinkPython4_flowers.py\n",
      "C:\\Users\\mjcor\\Desktop\\ProgrammingStuff\\ThinkPython\\ThinkPython-master\\ThinkPython-master\\Think Python - Chapter 4\\ThinkPython4_polypie.py\n",
      "C:\\Users\\mjcor\\Desktop\\ProgrammingStuff\\ThinkPython\\ThinkPython-master\\ThinkPython-master\\Think Python - Chapter 4\\ThinkPython4_spiral.py\n",
      "C:\\Users\\mjcor\\Desktop\\ProgrammingStuff\\ThinkPython\\ThinkPython-master\\ThinkPython-master\\Think Python - Chapter 5\\Think Python - Chapter 5.ipynb\n",
      "C:\\Users\\mjcor\\Desktop\\ProgrammingStuff\\ThinkPython\\ThinkPython-master\\ThinkPython-master\\Think Python - Chapter 5\\ThinkPython5_koch.py\n",
      "C:\\Users\\mjcor\\Desktop\\ProgrammingStuff\\ThinkPython\\ThinkPython-master\\ThinkPython-master\\Think Python - Chapter 5\\ThinkPython5_snowflake.py\n",
      "C:\\Users\\mjcor\\Desktop\\ProgrammingStuff\\ThinkPython\\ThinkPython-master\\ThinkPython-master\\Think Python - Chapter 5\\ThinkPython5_square_koch.py\n",
      "C:\\Users\\mjcor\\Desktop\\ProgrammingStuff\\ThinkPython\\ThinkPython-master\\ThinkPython-master\\Think Python - Chapter 5\\ThinkPython5_square_koch_fractal.py\n",
      "C:\\Users\\mjcor\\Desktop\\ProgrammingStuff\\ThinkPython\\ThinkPython-master\\ThinkPython-master\\Think Python - Chapter 6\\Think Python - Chapter 6.ipynb\n",
      "C:\\Users\\mjcor\\Desktop\\ProgrammingStuff\\ThinkPython\\ThinkPython-master\\ThinkPython-master\\Think Python - Chapter 7\\Think Python - Chapter 7.ipynb\n",
      "C:\\Users\\mjcor\\Desktop\\ProgrammingStuff\\ThinkPython\\ThinkPython-master\\ThinkPython-master\\Think Python - Chapter 8\\Think Python - Chapter 8.ipynb\n",
      "C:\\Users\\mjcor\\Desktop\\ProgrammingStuff\\ThinkPython\\ThinkPython-master\\ThinkPython-master\\Think Python - Chapter 9\\least_frequent_combo.py\n",
      "C:\\Users\\mjcor\\Desktop\\ProgrammingStuff\\ThinkPython\\ThinkPython-master\\ThinkPython-master\\Think Python - Chapter 9\\least_frequent_combo_from_list.py\n",
      "C:\\Users\\mjcor\\Desktop\\ProgrammingStuff\\ThinkPython\\ThinkPython-master\\ThinkPython-master\\Think Python - Chapter 9\\Think Python - Chapter 9.ipynb\n",
      "C:\\Users\\mjcor\\Desktop\\ProgrammingStuff\\ThinkPython\\ulysses.txt\n",
      "C:\\Users\\mjcor\\Desktop\\ProgrammingStuff\\ThinkPython\\words.txt\n"
     ]
    }
   ],
   "source": [
    "mpath = \"C:\\\\Users\\\\mjcor\\\\Desktop\\\\ProgrammingStuff\\\\ThinkPython\"\n",
    "walk(mpath)"
   ]
  },
  {
   "cell_type": "markdown",
   "metadata": {},
   "source": [
    "### 14.5 Catching exceptions\n",
    "\n",
    "*__No notes.__*\n",
    "\n",
    "### 14.6 Databases\n",
    "\n"
   ]
  },
  {
   "cell_type": "code",
   "execution_count": 9,
   "metadata": {},
   "outputs": [],
   "source": [
    "import dbm\n",
    "db = dbm.open('captions', 'c')"
   ]
  },
  {
   "cell_type": "code",
   "execution_count": 10,
   "metadata": {},
   "outputs": [],
   "source": [
    "# creating new item\n",
    "\n",
    "db['cleese.png'] = 'Photo of John Cleese'"
   ]
  },
  {
   "cell_type": "code",
   "execution_count": 11,
   "metadata": {},
   "outputs": [
    {
     "data": {
      "text/plain": [
       "b'Photo of John Cleese'"
      ]
     },
     "execution_count": 11,
     "metadata": {},
     "output_type": "execute_result"
    }
   ],
   "source": [
    "db['cleese.png']"
   ]
  },
  {
   "cell_type": "code",
   "execution_count": 12,
   "metadata": {},
   "outputs": [],
   "source": [
    "db['cleese.png'] = 'Photo of John Cleese doing a silly walk.'"
   ]
  },
  {
   "cell_type": "code",
   "execution_count": 13,
   "metadata": {},
   "outputs": [
    {
     "data": {
      "text/plain": [
       "b'Photo of John Cleese doing a silly walk.'"
      ]
     },
     "execution_count": 13,
     "metadata": {},
     "output_type": "execute_result"
    }
   ],
   "source": [
    "db['cleese.png']"
   ]
  },
  {
   "cell_type": "code",
   "execution_count": 14,
   "metadata": {},
   "outputs": [
    {
     "name": "stdout",
     "output_type": "stream",
     "text": [
      "b'cleese.png' b'Photo of John Cleese doing a silly walk.'\n"
     ]
    }
   ],
   "source": [
    "for key in db:\n",
    "    print(key, db[key])"
   ]
  },
  {
   "cell_type": "code",
   "execution_count": 15,
   "metadata": {},
   "outputs": [],
   "source": [
    "db.close()"
   ]
  },
  {
   "cell_type": "markdown",
   "metadata": {},
   "source": [
    "### 14.7 Pickling\n",
    "\n",
    "*`pickle.dumps` takes an object as a parameter and returns a string representation (dumps is short for “dump string”):*"
   ]
  },
  {
   "cell_type": "code",
   "execution_count": 16,
   "metadata": {},
   "outputs": [
    {
     "data": {
      "text/plain": [
       "b'\\x80\\x03]q\\x00(K\\x01K\\x02K\\x03e.'"
      ]
     },
     "execution_count": 16,
     "metadata": {},
     "output_type": "execute_result"
    }
   ],
   "source": [
    "import pickle\n",
    "t = [1, 2, 3]\n",
    "pickle.dumps(t)"
   ]
  },
  {
   "cell_type": "markdown",
   "metadata": {},
   "source": [
    "*`pickle.loads` (“load string”) reconstitutes the object:*"
   ]
  },
  {
   "cell_type": "code",
   "execution_count": 17,
   "metadata": {},
   "outputs": [
    {
     "data": {
      "text/plain": [
       "[1, 2, 3]"
      ]
     },
     "execution_count": 17,
     "metadata": {},
     "output_type": "execute_result"
    }
   ],
   "source": [
    "s = pickle.dumps(t)\n",
    "t2 = pickle.loads(s)\n",
    "t2"
   ]
  },
  {
   "cell_type": "markdown",
   "metadata": {},
   "source": [
    "### 14.8 Pipes\n",
    "\n",
    "*You can run shell commands by using a __pipe object__:*"
   ]
  },
  {
   "cell_type": "code",
   "execution_count": 18,
   "metadata": {},
   "outputs": [],
   "source": [
    "# commands are different on windows\n",
    "\n",
    "import subprocess\n",
    "\n",
    "cmd = 'dir'\n",
    "fp = os.popen(cmd)\n",
    "res = fp.read()"
   ]
  },
  {
   "cell_type": "markdown",
   "metadata": {},
   "source": [
    "*__Closing the pipe:__*"
   ]
  },
  {
   "cell_type": "code",
   "execution_count": 19,
   "metadata": {},
   "outputs": [
    {
     "name": "stdout",
     "output_type": "stream",
     "text": [
      "None\n"
     ]
    }
   ],
   "source": [
    "stat = fp.close()\n",
    "print(stat)"
   ]
  },
  {
   "cell_type": "markdown",
   "metadata": {},
   "source": [
    "*__Using pipe to run `md5sum` from Python and getting the result:__*"
   ]
  },
  {
   "cell_type": "code",
   "execution_count": 20,
   "metadata": {},
   "outputs": [
    {
     "name": "stdout",
     "output_type": "stream",
     "text": [
      "\n"
     ]
    }
   ],
   "source": [
    "filename = 'book.tex'\n",
    "cmd = 'md5sum ' + filename\n",
    "fp = os.popen(cmd)\n",
    "res = fp.read()\n",
    "stat = fp.close()\n",
    "print(res)\n"
   ]
  },
  {
   "cell_type": "markdown",
   "metadata": {},
   "source": [
    "### 14.12  Exercises\n",
    "\n",
    "#### Exercise 1  \n",
    "\n",
    "*Write a function called `sed` that takes as arguments a pattern string, a replacement string, and two filenames; it should read the first file and write the contents into the second file (creating it if necessary). If the pattern string appears anywhere in the file, it should be replaced with the replacement string.*\n",
    "\n",
    "*If an error occurs while opening, reading, writing or closing files, your program should catch the exception, print an error message, and exit.*"
   ]
  },
  {
   "cell_type": "code",
   "execution_count": 21,
   "metadata": {},
   "outputs": [],
   "source": [
    "import string\n",
    "\n",
    "def sed(filename1, filename2, pattern, replacement):\n",
    "    \n",
    "    try:\n",
    "        fin = open(filename1, 'r')\n",
    "        fout = open(filename2, 'w')\n",
    "\n",
    "        for line in fin:\n",
    "            fout.write(line.replace(pattern, replacement))\n",
    "\n",
    "        fout.close()\n",
    "        \n",
    "    except:\n",
    "        print(\"That didn't go as planned...\")"
   ]
  },
  {
   "cell_type": "markdown",
   "metadata": {},
   "source": [
    "*__Text of `'test1.txt'`:__*\n",
    "\n",
    "> *Lorem ipsum dolor sit amet, consectetur adipiscing elit, sed do eiusmod tempor incididunt ut labore et dolore magna aliqua. Sed libero enim sed faucibus turpis in eu. Viverra ipsum nunc aliquet bibendum enim facilisis gravida neque convallis. Lectus sit amet est placerat in egestas erat imperdiet sed. Varius morbi enim nunc faucibus a pellentesque sit. Imperdiet sed euismod nisi porta. Phasellus vestibulum lorem sed risus ultricies tristique nulla aliquet enim. At risus viverra adipiscing at in tellus integer feugiat. Pellentesque dignissim enim sit amet. Fringilla phasellus faucibus scelerisque eleifend donec pretium vulputate. Consectetur adipiscing elit duis tristique sollicitudin nibh sit. Tincidunt lobortis feugiat vivamus at augue eget. Cursus vitae congue mauris rhoncus aenean vel.*"
   ]
  },
  {
   "cell_type": "code",
   "execution_count": 22,
   "metadata": {},
   "outputs": [],
   "source": [
    "sed('test1.txt', 'test2.txt', 'et', 'zzzzz')"
   ]
  },
  {
   "cell_type": "markdown",
   "metadata": {},
   "source": [
    "*__Text of `'test1.txt'` after running `sed`:__*\n",
    "\n",
    ">*Lorem ipsum dolor sit amzzzzz, consectzzzzzur adipiscing elit, sed do eiusmod tempor incididunt ut labore zzzzz dolore magna aliqua. Sed libero enim sed faucibus turpis in eu. Viverra ipsum nunc aliquzzzzz bibendum enim facilisis gravida neque convallis. Lectus sit amzzzzz est placerat in egestas erat imperdizzzzz sed. Varius morbi enim nunc faucibus a pellentesque sit. Imperdizzzzz sed euismod nisi porta. Phasellus vestibulum lorem sed risus ultricies tristique nulla aliquzzzzz enim. At risus viverra adipiscing at in tellus integer feugiat. Pellentesque dignissim enim sit amzzzzz. Fringilla phasellus faucibus scelerisque eleifend donec przzzzzium vulputate. Consectzzzzzur adipiscing elit duis tristique sollicitudin nibh sit. Tincidunt lobortis feugiat vivamus at augue egzzzzz. Cursus vitae congue mauris rhoncus aenean vel.*"
   ]
  },
  {
   "cell_type": "code",
   "execution_count": 23,
   "metadata": {},
   "outputs": [
    {
     "name": "stdout",
     "output_type": "stream",
     "text": [
      "That didn't go as planned...\n"
     ]
    }
   ],
   "source": [
    "# 'test3.txt' does not exist\n",
    "\n",
    "sed('test3.txt', 'test2.txt', 'et', 'rocking')"
   ]
  },
  {
   "cell_type": "markdown",
   "metadata": {},
   "source": [
    "#### Exercise 2  \n",
    "\n",
    "*Write a module that imports `anagram_sets` and provides two new functions: `store_anagrams` should store the anagram dictionary in a “shelf”; `read_anagrams` should look up a word and return a list of its anagrams.* \n",
    "\n",
    "*__I'm using jupyter notebooks, so this will be a little different compared to someone running Python from the console:__*"
   ]
  },
  {
   "cell_type": "code",
   "execution_count": 24,
   "metadata": {},
   "outputs": [],
   "source": [
    "# %load anagram_sets.py \n",
    "def sort_letters(string):\n",
    "    \"\"\"\n",
    "    Returns the letters in string as a new string\n",
    "    whose letters are in alphabetical order.\n",
    "    \"\"\"\n",
    "        \n",
    "    return ''.join(sorted(list(string.lower())))\n",
    "\n",
    "def find_anagrams(text):\n",
    "    \"\"\"\n",
    "    Takes a text and returns a list of tuples of anagrams.\n",
    "    First item in the tuple is the number of anagrams formed.\n",
    "    Second item is the letters used.\n",
    "    Third item is the anagrams.\n",
    "    \"\"\"\n",
    "\n",
    "    sorted_dict = {}\n",
    "\n",
    "    for line in text:\n",
    "        orig_word = line.strip()\n",
    "        sorted_word = sort_letters(orig_word)\n",
    "        sorted_dict.setdefault(sorted_word, []).append(orig_word)\n",
    "            \n",
    "    return sorted_dict\n",
    "    "
   ]
  },
  {
   "cell_type": "code",
   "execution_count": 25,
   "metadata": {},
   "outputs": [],
   "source": [
    "%run anagram_sets.py"
   ]
  },
  {
   "cell_type": "code",
   "execution_count": 26,
   "metadata": {},
   "outputs": [],
   "source": [
    "path_to_words = \"C:\\\\Users\\\\mjcor\\\\Desktop\\\\ProgrammingStuff\\\\ThinkPython\\\\words.txt\""
   ]
  },
  {
   "cell_type": "markdown",
   "metadata": {},
   "source": [
    "*__`.write()` won't work with dictionaries, and `pickle` is very slow, meaning we should use `shelve`, which was only mentioned - and not covered - in \"Think Python 2e\":__*"
   ]
  },
  {
   "cell_type": "code",
   "execution_count": 27,
   "metadata": {},
   "outputs": [],
   "source": [
    "import shelve\n",
    "\n",
    "def store_anagrams(path, dict_name):\n",
    "    \"\"\"\n",
    "    Creates a dictionary of anagrams and stores\n",
    "    it.\n",
    "    \n",
    "    Arguments:\n",
    "    path: Path where word list can be found.\n",
    "    dict_name: Name to be given to the \n",
    "        resulting dictionary.\n",
    "    \"\"\"\n",
    "    \n",
    "    anagrams = find_anagrams(open(path))\n",
    "\n",
    "    ad = shelve.open(dict_name)\n",
    "    for k, v in anagrams.items():\n",
    "        ad[k] = v\n",
    "    ad.close()\n",
    "    \n"
   ]
  },
  {
   "cell_type": "code",
   "execution_count": 28,
   "metadata": {},
   "outputs": [],
   "source": [
    "# `path_to_words` should be the local path to `words.txt`\n",
    "\n",
    "store_anagrams(path_to_words, 'anagram_dict.db')"
   ]
  },
  {
   "cell_type": "code",
   "execution_count": 29,
   "metadata": {},
   "outputs": [],
   "source": [
    "def read_anagrams(word, d):\n",
    "    \"\"\"\n",
    "    Retrieves the anagrams for a word from an\n",
    "    existing anagrams dictionary.\n",
    "    \n",
    "    Arguments:\n",
    "    word: The word to be queried.\n",
    "    d: The anagrams dictionary.  Must be in the \n",
    "        working directory.\n",
    "    \"\"\"\n",
    "    \n",
    "    try:\n",
    "        sorted_word = sort_letters(word)\n",
    "        s = shelve.open(d)\n",
    "        anagram = s[sorted_word]\n",
    "        s.close()\n",
    "\n",
    "        print(anagram)\n",
    "    except:\n",
    "        print(\"'{}' was not found in '{}'.\".format(word, d))\n",
    "    \n"
   ]
  },
  {
   "cell_type": "code",
   "execution_count": 30,
   "metadata": {},
   "outputs": [
    {
     "name": "stdout",
     "output_type": "stream",
     "text": [
      "['opts', 'post', 'pots', 'spot', 'stop', 'tops']\n"
     ]
    }
   ],
   "source": [
    "read_anagrams('post', 'anagram_dict.db')"
   ]
  },
  {
   "cell_type": "code",
   "execution_count": 31,
   "metadata": {},
   "outputs": [
    {
     "name": "stdout",
     "output_type": "stream",
     "text": [
      "['least', 'setal', 'slate', 'stale', 'steal', 'stela', 'taels', 'tales', 'teals', 'tesla']\n"
     ]
    }
   ],
   "source": [
    "read_anagrams('least', 'anagram_dict.db')"
   ]
  },
  {
   "cell_type": "code",
   "execution_count": 32,
   "metadata": {},
   "outputs": [
    {
     "name": "stdout",
     "output_type": "stream",
     "text": [
      "'ohisashiburi' was not found in 'anagram_dict.db'.\n"
     ]
    }
   ],
   "source": [
    "read_anagrams('ohisashiburi', 'anagram_dict.db')"
   ]
  },
  {
   "cell_type": "markdown",
   "metadata": {},
   "source": [
    "#### Exercise 3  \n",
    "\n",
    "*In a large collection of MP3 files, there may be more than one copy of the same song, stored in different directories or with different file names. The goal of this exercise is to search for duplicates.*\n",
    "\n",
    "<ol>\n",
    "    <li><i>Write a program that searches a directory and all of its subdirectories, recursively, and returns a list of complete paths for all files with a given suffix (like .mp3). Hint: os.path provides several useful functions for manipulating file and path names.</li></i>\n",
    "    <li><i>To recognize duplicates, you can use md5sum to compute a “checksum” for each files. If two files have the same checksum, they probably have the same contents.</li></i>\n",
    "    <li><i>To double-check, you can use the Unix command diff.</li></i>\n",
    "</ol>"
   ]
  },
  {
   "cell_type": "code",
   "execution_count": 33,
   "metadata": {},
   "outputs": [],
   "source": [
    "import hashlib"
   ]
  },
  {
   "cell_type": "code",
   "execution_count": 34,
   "metadata": {},
   "outputs": [
    {
     "data": {
      "text/plain": [
       "'2a53375ff139d9837e93a38a279d63e5'"
      ]
     },
     "execution_count": 34,
     "metadata": {},
     "output_type": "execute_result"
    }
   ],
   "source": [
    "hashlib.md5(\"filename.exe\".encode('utf-8')).hexdigest()"
   ]
  },
  {
   "cell_type": "code",
   "execution_count": 54,
   "metadata": {},
   "outputs": [],
   "source": [
    "path = \"C:\\\\Users\\\\mjcor\\\\Desktop\\\\ProgrammingStuff\\\\ThinkPython\\\\Chapter14\\\\testme\\\\folder1\"\n",
    "os.chdir(path)"
   ]
  },
  {
   "cell_type": "code",
   "execution_count": 55,
   "metadata": {},
   "outputs": [
    {
     "name": "stdout",
     "output_type": "stream",
     "text": [
      "f1e7d47868050f37f328e856a2941eb1\n"
     ]
    }
   ],
   "source": [
    "# author's code\n",
    "\n",
    "for name in os.listdir(path):\n",
    "        newpath = os.path.join(path, name)\n",
    "        \n",
    "        if os.path.isfile(newpath):\n",
    "            print(hashlib.md5(name.encode('utf-8')).hexdigest())\n"
   ]
  },
  {
   "cell_type": "code",
   "execution_count": 56,
   "metadata": {},
   "outputs": [],
   "source": [
    "path = \"C:\\\\Users\\\\mjcor\\\\Desktop\\\\ProgrammingStuff\\\\ThinkPython\\\\Chapter14\\\\testme\\\\folder2\"\n",
    "os.chdir(path)"
   ]
  },
  {
   "cell_type": "code",
   "execution_count": 57,
   "metadata": {},
   "outputs": [
    {
     "name": "stdout",
     "output_type": "stream",
     "text": [
      "f1e7d47868050f37f328e856a2941eb1\n"
     ]
    }
   ],
   "source": [
    "for name in os.listdir(path):\n",
    "        newpath = os.path.join(path, name)\n",
    "        \n",
    "        if os.path.isfile(newpath):\n",
    "            print(hashlib.md5(name.encode('utf-8')).hexdigest())"
   ]
  },
  {
   "cell_type": "code",
   "execution_count": 69,
   "metadata": {},
   "outputs": [],
   "source": [
    "import hashlib\n",
    "\n",
    "# d = {}\n",
    "\n",
    "def walk_and_hash(dirname):\n",
    "    for name in os.listdir(dirname):\n",
    "        path = os.path.join(dirname, name)\n",
    "        \n",
    "        if os.path.isfile(path):\n",
    "            hsh = hashlib.md5(name.encode('utf-8')).hexdigest()\n",
    "            if hsh not in d:\n",
    "                d[hsh] = [path]\n",
    "            else:\n",
    "                d[hsh] += [path]\n",
    "        else:\n",
    "            walk_and_hash(path)\n",
    "    \n",
    "    \n",
    "            \n",
    "\n",
    "def find_dup_files(dirname):\n",
    "    d = {}\n",
    "    walk_and_hash(dirname)\n",
    "        \n",
    "    for v in d.values():\n",
    "        \n",
    "        if len(v) > 1:\n",
    "            print(\"{} are duplicates\".format(v))\n"
   ]
  },
  {
   "cell_type": "code",
   "execution_count": 70,
   "metadata": {},
   "outputs": [],
   "source": [
    "my_path = \"C:\\\\Users\\\\mjcor\\\\Desktop\\\\ProgrammingStuff\\\\ThinkPython\\\\Chapter14\\\\testme\"\n",
    "\n",
    "find_dup_files(my_path)"
   ]
  },
  {
   "cell_type": "code",
   "execution_count": 71,
   "metadata": {},
   "outputs": [
    {
     "name": "stdout",
     "output_type": "stream",
     "text": [
      "['C:\\\\Users\\\\mjcor\\\\Desktop\\\\ProgrammingStuff\\\\ThinkPython\\\\Chapter14\\\\testme\\\\folder1\\\\sumtest1a.txt', 'C:\\\\Users\\\\mjcor\\\\Desktop\\\\ProgrammingStuff\\\\ThinkPython\\\\Chapter14\\\\testme\\\\folder1\\\\sumtest1a.txt', 'C:\\\\Users\\\\mjcor\\\\Desktop\\\\ProgrammingStuff\\\\ThinkPython\\\\Chapter14\\\\testme\\\\folder1\\\\sumtest1a.txt'] are duplicates\n",
      "['C:\\\\Users\\\\mjcor\\\\Desktop\\\\ProgrammingStuff\\\\ThinkPython\\\\Chapter14\\\\testme\\\\folder2\\\\sumtest1.txt', 'C:\\\\Users\\\\mjcor\\\\Desktop\\\\ProgrammingStuff\\\\ThinkPython\\\\Chapter14\\\\testme\\\\sumtest1.txt', 'C:\\\\Users\\\\mjcor\\\\Desktop\\\\ProgrammingStuff\\\\ThinkPython\\\\Chapter14\\\\testme\\\\folder2\\\\sumtest1.txt', 'C:\\\\Users\\\\mjcor\\\\Desktop\\\\ProgrammingStuff\\\\ThinkPython\\\\Chapter14\\\\testme\\\\sumtest1.txt', 'C:\\\\Users\\\\mjcor\\\\Desktop\\\\ProgrammingStuff\\\\ThinkPython\\\\Chapter14\\\\testme\\\\folder2\\\\sumtest1.txt', 'C:\\\\Users\\\\mjcor\\\\Desktop\\\\ProgrammingStuff\\\\ThinkPython\\\\Chapter14\\\\testme\\\\sumtest1.txt'] are duplicates\n",
      "['C:\\\\Users\\\\mjcor\\\\Desktop\\\\ProgrammingStuff\\\\ThinkPython\\\\Chapter14\\\\testme\\\\sumtest2.txt', 'C:\\\\Users\\\\mjcor\\\\Desktop\\\\ProgrammingStuff\\\\ThinkPython\\\\Chapter14\\\\testme\\\\sumtest2.txt', 'C:\\\\Users\\\\mjcor\\\\Desktop\\\\ProgrammingStuff\\\\ThinkPython\\\\Chapter14\\\\testme\\\\sumtest2.txt'] are duplicates\n",
      "['C:\\\\Users\\\\mjcor\\\\Desktop\\\\ProgrammingStuff\\\\ThinkPython\\\\Chapter14\\\\testme\\\\sumtest3.txt', 'C:\\\\Users\\\\mjcor\\\\Desktop\\\\ProgrammingStuff\\\\ThinkPython\\\\Chapter14\\\\testme\\\\sumtest3.txt', 'C:\\\\Users\\\\mjcor\\\\Desktop\\\\ProgrammingStuff\\\\ThinkPython\\\\Chapter14\\\\testme\\\\sumtest3.txt'] are duplicates\n"
     ]
    }
   ],
   "source": [
    "for v in d.values():\n",
    "        if len(v) > 1:\n",
    "            print(\"{} are duplicates\".format(v))"
   ]
  }
 ],
 "metadata": {
  "kernelspec": {
   "display_name": "Python 3",
   "language": "python",
   "name": "python3"
  },
  "language_info": {
   "codemirror_mode": {
    "name": "ipython",
    "version": 3
   },
   "file_extension": ".py",
   "mimetype": "text/x-python",
   "name": "python",
   "nbconvert_exporter": "python",
   "pygments_lexer": "ipython3",
   "version": "3.7.3"
  }
 },
 "nbformat": 4,
 "nbformat_minor": 2
}
