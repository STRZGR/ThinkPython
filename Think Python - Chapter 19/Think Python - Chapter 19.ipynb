{
 "cells": [
  {
   "cell_type": "markdown",
   "metadata": {},
   "source": [
    "# Think Python\n",
    "\n",
    "## Chapter 19 - The Goodies \n",
    "\n",
    "*HTML of this chapter in \"Think Python 2e\" can be found [here](http://greenteapress.com/thinkpython2/html/thinkpython2020.html \"Chapter 19\").*\n",
    "\n"
   ]
  },
  {
   "cell_type": "markdown",
   "metadata": {},
   "source": [
    "### 19.4 `any` and `all"
   ]
  },
  {
   "cell_type": "markdown",
   "metadata": {},
   "source": [
    "*__As an exercise, use `all` to re-write `uses_all` from Section 9.3.__*"
   ]
  },
  {
   "cell_type": "code",
   "execution_count": 1,
   "metadata": {},
   "outputs": [],
   "source": [
    "# original code\n",
    "\n",
    "def uses_all(word, required):\n",
    "    for letter in required: \n",
    "        if letter not in word:\n",
    "            return False\n",
    "    return True"
   ]
  },
  {
   "cell_type": "code",
   "execution_count": 2,
   "metadata": {},
   "outputs": [],
   "source": [
    "# new version with `all`\n",
    "\n",
    "def uses_all(word, required):\n",
    "    return all(letter in word for letter in required)"
   ]
  },
  {
   "cell_type": "code",
   "execution_count": 3,
   "metadata": {},
   "outputs": [
    {
     "data": {
      "text/plain": [
       "True"
      ]
     },
     "execution_count": 3,
     "metadata": {},
     "output_type": "execute_result"
    }
   ],
   "source": [
    "uses_all(\"simultaneously\", 'aeiouy')"
   ]
  },
  {
   "cell_type": "markdown",
   "metadata": {},
   "source": [
    "### 19.5 Sets\n",
    "\n"
   ]
  },
  {
   "cell_type": "markdown",
   "metadata": {},
   "source": [
    "*__As an exercise, rewrite `avoids` using sets.__*"
   ]
  },
  {
   "cell_type": "code",
   "execution_count": 4,
   "metadata": {},
   "outputs": [],
   "source": [
    "def avoids(word, forbidden):\n",
    "    return set(word) - set(forbidden) == set(word)"
   ]
  },
  {
   "cell_type": "code",
   "execution_count": 5,
   "metadata": {},
   "outputs": [
    {
     "data": {
      "text/plain": [
       "True"
      ]
     },
     "execution_count": 5,
     "metadata": {},
     "output_type": "execute_result"
    }
   ],
   "source": [
    "avoids('stuff', 'abcde')"
   ]
  },
  {
   "cell_type": "markdown",
   "metadata": {},
   "source": [
    "### 19.11 Exercises\n",
    "\n",
    "#### Exercise 1\n",
    "\n",
    "*The following is a function computes the binomial coefficient recursively.*\n",
    "\n",
    "```\n",
    "    def binomial_coeff(n, k):\n",
    "        \"\"\"Compute the binomial coefficient \"n choose k\".\n",
    "\n",
    "        n: number of trials\n",
    "        k: number of successes\n",
    "\n",
    "        returns: int\n",
    "        \"\"\"\n",
    "        if k == 0:\n",
    "            return 1\n",
    "        if n == 0:\n",
    "            return 0\n",
    "\n",
    "        res = binomial_coeff(n-1, k) + binomial_coeff(n-1, k-1)\n",
    "        return res\n",
    "```\n",
    "*Rewrite the body of the function using nested conditional expressions.*\n",
    "\n",
    "*One note: this function is not very efficient because it ends up computing the same values over and over. You could make it more efficient by memoizing (see Section 11.6). But you will find that it’s harder to memoize if you write it using conditional expressions*"
   ]
  },
  {
   "cell_type": "code",
   "execution_count": 6,
   "metadata": {},
   "outputs": [
    {
     "name": "stdout",
     "output_type": "stream",
     "text": [
      "The answer is: 2,118,760\n",
      "The time for the non-memoized version is: 1.1060\n"
     ]
    }
   ],
   "source": [
    "# non-memoized version\n",
    "\n",
    "import time\n",
    "\n",
    "def binomial_coeff(n, k):\n",
    "    \"\"\"Compute the binomial coefficient \"n choose k\".\n",
    "\n",
    "    n: number of trials\n",
    "    k: number of successes\n",
    "\n",
    "    returns: int\n",
    "    \"\"\"\n",
    "    return 1 if k == 0 else 0 if n == 0 else binomial_coeff(n - 1, k) + binomial_coeff(n - 1, k - 1)\n",
    "\n",
    "start = time.time()\n",
    "\n",
    "bc = binomial_coeff(50, 5)\n",
    "\n",
    "end = time.time()\n",
    "\n",
    "print(\"The answer is: {:,}\".format(bc))\n",
    "print(\"The time for the non-memoized version is: {:.4f}\".format(end - start))"
   ]
  },
  {
   "cell_type": "code",
   "execution_count": 7,
   "metadata": {},
   "outputs": [
    {
     "name": "stdout",
     "output_type": "stream",
     "text": [
      "The answer is: 2,118,760\n",
      "The time for the memoized version is: 1.4332\n"
     ]
    }
   ],
   "source": [
    "known = {}\n",
    "\n",
    "def binomial_coeff(n, k):\n",
    "    \"\"\"Compute the binomial coefficient \"n choose k\".\n",
    "\n",
    "    n: number of trials\n",
    "    k: number of successes\n",
    "\n",
    "    returns: int\n",
    "    \"\"\"\n",
    "    return known(n, k) if (n, k) in known else 1 if k == 0 else 0 if n == 0 else binomial_coeff(n - 1, k) + binomial_coeff(n - 1, k - 1)\n",
    "\n",
    "\n",
    "start = time.time()\n",
    "\n",
    "bc = binomial_coeff(50, 5)\n",
    "\n",
    "end = time.time()\n",
    "\n",
    "\n",
    "print(\"The answer is: {:,}\".format(bc))\n",
    "print(\"The time for the memoized version is: {:.4f}\".format(end - start))\n"
   ]
  },
  {
   "cell_type": "markdown",
   "metadata": {},
   "source": [
    "*__I've tried this with several different values of `n` & `k` and the memoized version is consistently slower than the non-memoized version.__*\n",
    "\n",
    "*__Trying it with memoization, but without list comprehension:__*"
   ]
  },
  {
   "cell_type": "code",
   "execution_count": 8,
   "metadata": {},
   "outputs": [],
   "source": [
    "known = {}\n",
    "\n",
    "def binomial_coeff(n, k):\n",
    "    \"\"\"Compute the binomial coefficient \"n choose k\".\n",
    "\n",
    "    n: number of trials\n",
    "    k: number of successes\n",
    "\n",
    "    returns: int\n",
    "    \"\"\"\n",
    "    if k == 0:\n",
    "        return 1\n",
    "    if n == 0:\n",
    "        return 0\n",
    "\n",
    "    if (n, k) in known:\n",
    "        return known[n, k]\n",
    "    else:\n",
    "        res = binomial_coeff(n-1, k) + binomial_coeff(n-1, k-1)\n",
    "        return res"
   ]
  },
  {
   "cell_type": "code",
   "execution_count": 9,
   "metadata": {},
   "outputs": [
    {
     "name": "stdout",
     "output_type": "stream",
     "text": [
      "The answer is: 2,118,760\n",
      "The time for the memoized version without list comprehension is: 1.1419\n"
     ]
    }
   ],
   "source": [
    "\n",
    "\n",
    "start = time.time()\n",
    "\n",
    "bc = binomial_coeff(50, 5)\n",
    "\n",
    "end = time.time()\n",
    "\n",
    "\n",
    "print(\"The answer is: {:,}\".format(bc))\n",
    "print(\"The time for the memoized version without list comprehension is: {:.4f}\".format(end - start))"
   ]
  },
  {
   "cell_type": "markdown",
   "metadata": {},
   "source": [
    "*__I'm not sure what to make of these results.  The author said the memoized version is more efficient - which I took to also mean faster - but that does not appear to be the case for my code.__*"
   ]
  }
 ],
 "metadata": {
  "kernelspec": {
   "display_name": "Python 3",
   "language": "python",
   "name": "python3"
  },
  "language_info": {
   "codemirror_mode": {
    "name": "ipython",
    "version": 3
   },
   "file_extension": ".py",
   "mimetype": "text/x-python",
   "name": "python",
   "nbconvert_exporter": "python",
   "pygments_lexer": "ipython3",
   "version": "3.7.3"
  }
 },
 "nbformat": 4,
 "nbformat_minor": 2
}
