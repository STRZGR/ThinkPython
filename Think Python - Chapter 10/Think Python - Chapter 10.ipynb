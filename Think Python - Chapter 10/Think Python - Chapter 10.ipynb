{
 "cells": [
  {
   "cell_type": "markdown",
   "metadata": {},
   "source": [
    "# Think Python\n",
    "\n",
    "## Chapter 10 Lists\n",
    "\n",
    "HTML version can be found [here](http://greenteapress.com/thinkpython2/html/thinkpython2011.html \"Chpt 10\").\n",
    "\n",
    "### 10.1 A list is a sequence\n",
    "\n",
    "*__No notes__*\n",
    "\n",
    "### 10.2 Lists are mutable\n",
    "\n",
    "*__No notes__*\n",
    "\n",
    "### 10.3 Traversing a list\n",
    "\n",
    "*__No notes__*\n",
    "\n",
    "### 10.4 List operations\n",
    "\n",
    "*__No notes__*\n",
    "\n",
    "### 10.5 List slices\n",
    "\n",
    "*__No notes__*\n",
    "\n",
    "### 10.6 List methods\n",
    "\n",
    "`extend` takes a list as an argument and appends all of the elements:"
   ]
  },
  {
   "cell_type": "code",
   "execution_count": 1,
   "metadata": {},
   "outputs": [
    {
     "data": {
      "text/plain": [
       "['a', 'b', 'c', 'd', 'e']"
      ]
     },
     "execution_count": 1,
     "metadata": {},
     "output_type": "execute_result"
    }
   ],
   "source": [
    "t1 = ['a', 'b', 'c']\n",
    "t2 = ['d', 'e']\n",
    "t1.extend(t2)\n",
    "t1"
   ]
  },
  {
   "cell_type": "markdown",
   "metadata": {},
   "source": [
    "### 10.7 Map, filter and reduce\n",
    "\n",
    "__Reduce:__ Combining a sequence of elements into a single value.\n",
    "\n",
    "__Map:__  Applying a function to each element in a sequence.\n",
    "\n",
    "__Filter:__ Selecting some of the elements and filtering out the others."
   ]
  },
  {
   "cell_type": "markdown",
   "metadata": {},
   "source": [
    "### 10.8 Deleting elements\n",
    "\n",
    "*__`.pop()` returns the value at an index and removes it from a list.  `del l[i]` deletes a value without returning it.  `l.remove('a')` can be used when you don't know the index of the element to be removed.__*  "
   ]
  },
  {
   "cell_type": "markdown",
   "metadata": {},
   "source": [
    "### 10.9 Lists and strings\n",
    "\n",
    "*__No notes__*\n",
    "\n",
    "### 10.10 Objects and values\n",
    "\n",
    "*__No notes__*\n",
    "\n",
    "### 10.11 Aliasing\n",
    "\n",
    "*__No notes__*\n",
    "\n",
    "### 10.12 List arguments\n",
    "\n",
    "*__No notes__*\n",
    "\n",
    "### 10.13 Debugging\n",
    "\n",
    "*__Be careful with `l.sort()` and `sorted(l)`.  The former modifies the original, the latter does not, and returns a copy.__*\n",
    "\n",
    "### 10.14 Glossary\n",
    "\n",
    "*__No notes__*\n",
    "\n",
    "### 10.15 Exercises\n",
    "\n",
    "#### Exercise 1\n",
    "\n",
    "*Write a function called `nested_sum` that takes a list of lists of integers and adds up the elements from all of the nested lists. For example:*\n",
    "\n",
    "```\n",
    ">>> t = [[1, 2], [3], [4, 5, 6]]\n",
    ">>> nested_sum(t)\n",
    ">>> 21\n",
    "```"
   ]
  },
  {
   "cell_type": "code",
   "execution_count": 2,
   "metadata": {},
   "outputs": [],
   "source": [
    "def nested_sum(t):\n",
    "    \"\"\"\n",
    "    Returns a sum of the nested lists\n",
    "    in list t.\n",
    "    \"\"\"\n",
    "    \n",
    "    total = 0\n",
    "    for s in t:\n",
    "        total += sum(s)\n",
    "    return total"
   ]
  },
  {
   "cell_type": "code",
   "execution_count": 3,
   "metadata": {},
   "outputs": [
    {
     "data": {
      "text/plain": [
       "21"
      ]
     },
     "execution_count": 3,
     "metadata": {},
     "output_type": "execute_result"
    }
   ],
   "source": [
    "t = [[1, 2], [3], [4, 5, 6]]\n",
    "nested_sum(t)"
   ]
  },
  {
   "cell_type": "markdown",
   "metadata": {},
   "source": [
    "#### Exercise 2  \n",
    "\n",
    "*Write a function called `cumsum` that takes a list of numbers and returns the cumulative sum; that is, a new list where the $i$th element is the sum of the first $i+1$ elements from the original list. For example:*\n",
    "\n",
    "```\n",
    ">>> t = [1, 2, 3]\n",
    ">>> cumsum(t)\n",
    ">>> [1, 3, 6]\n",
    "```"
   ]
  },
  {
   "cell_type": "code",
   "execution_count": 4,
   "metadata": {},
   "outputs": [],
   "source": [
    "def cumsum(t):    \n",
    "    \"\"\"\n",
    "    Returns a new list compromised of the\n",
    "    cumulative sum of each item in list t. \n",
    "    \"\"\"\n",
    "    \n",
    "    # slices in Python don't include the last figure, and\n",
    "    # since Python uses zero indexing, we'll use 1 to the\n",
    "    # length of the list to generate slices for each item\n",
    "    i = 1\n",
    "    m = []\n",
    "    while i <= len(t):\n",
    "        m.append(sum(t[:i]))\n",
    "        i += 1\n",
    "    return m"
   ]
  },
  {
   "cell_type": "code",
   "execution_count": 5,
   "metadata": {},
   "outputs": [
    {
     "data": {
      "text/plain": [
       "[1, 3, 6, 10, 15]"
      ]
     },
     "execution_count": 5,
     "metadata": {},
     "output_type": "execute_result"
    }
   ],
   "source": [
    "t = [1, 2, 3, 4, 5]\n",
    "\n",
    "cumsum(t)"
   ]
  },
  {
   "cell_type": "markdown",
   "metadata": {},
   "source": [
    "#### Exercise 3  \n",
    "\n",
    "*Write a function called `middle` that takes a list and returns a new list that contains all but the first and last elements. For example:*\n",
    "\n",
    "```\n",
    ">>> t = [1, 2, 3, 4]\n",
    ">>> middle(t)\n",
    ">>> [2, 3]\n",
    "```"
   ]
  },
  {
   "cell_type": "code",
   "execution_count": 6,
   "metadata": {},
   "outputs": [],
   "source": [
    "def middle(t):\n",
    "    \"\"\"\n",
    "    Returns a new list that excludes the first and \n",
    "    last items of the original list. \n",
    "    \"\"\"\n",
    "    \n",
    "    return t[1:-1]"
   ]
  },
  {
   "cell_type": "code",
   "execution_count": 7,
   "metadata": {},
   "outputs": [
    {
     "data": {
      "text/plain": [
       "[2, 3, 4]"
      ]
     },
     "execution_count": 7,
     "metadata": {},
     "output_type": "execute_result"
    }
   ],
   "source": [
    "t = [1, 2, 3, 4, 5]\n",
    "middle(t)"
   ]
  },
  {
   "cell_type": "markdown",
   "metadata": {},
   "source": [
    "#### Exercise 4  \n",
    "\n",
    "*Write a function called `chop` that takes a list, modifies it by removing the first and last elements, and returns `None`. For example:*\n",
    "\n",
    "```\n",
    ">>> t = [1, 2, 3, 4]\n",
    ">>> chop(t)\n",
    ">>> t\n",
    "[2, 3]\n",
    "```"
   ]
  },
  {
   "cell_type": "code",
   "execution_count": 8,
   "metadata": {},
   "outputs": [],
   "source": [
    "def chop(t):\n",
    "    \"\"\"\n",
    "    Removes first and last elements from list.\n",
    "    Returns None.\n",
    "    \"\"\"\n",
    "    \n",
    "    del t[0]\n",
    "    del t[-1]"
   ]
  },
  {
   "cell_type": "code",
   "execution_count": 9,
   "metadata": {},
   "outputs": [
    {
     "data": {
      "text/plain": [
       "[2, 3, 4]"
      ]
     },
     "execution_count": 9,
     "metadata": {},
     "output_type": "execute_result"
    }
   ],
   "source": [
    "t = [1, 2, 3, 4, 5]\n",
    "chop(t)\n",
    "t"
   ]
  },
  {
   "cell_type": "markdown",
   "metadata": {},
   "source": [
    "#### Exercise 5   \n",
    "\n",
    "*Write a function called `is_sorted` that takes a list as a parameter and returns `True` if the list is sorted in ascending order and `False` otherwise. For example:*\n",
    "\n",
    "```\n",
    ">>> is_sorted([1, 2, 2])\n",
    "True\n",
    ">>> is_sorted(['b', 'a'])\n",
    "False\n",
    "```"
   ]
  },
  {
   "cell_type": "code",
   "execution_count": 10,
   "metadata": {},
   "outputs": [],
   "source": [
    "def is_sorted(t):\n",
    "    \"\"\"\n",
    "    Takes list t and returns True if t is \n",
    "    sorted in ascending order.\n",
    "    \"\"\"\n",
    "    \n",
    "    if t == sorted(t):\n",
    "        return True\n",
    "    return False"
   ]
  },
  {
   "cell_type": "code",
   "execution_count": 11,
   "metadata": {},
   "outputs": [
    {
     "data": {
      "text/plain": [
       "False"
      ]
     },
     "execution_count": 11,
     "metadata": {},
     "output_type": "execute_result"
    }
   ],
   "source": [
    "s = [5, 4, 3, 2, 1]\n",
    "is_sorted(s)"
   ]
  },
  {
   "cell_type": "code",
   "execution_count": 12,
   "metadata": {},
   "outputs": [
    {
     "data": {
      "text/plain": [
       "True"
      ]
     },
     "execution_count": 12,
     "metadata": {},
     "output_type": "execute_result"
    }
   ],
   "source": [
    "t = [1, 2, 3, 4, 5]\n",
    "is_sorted(t)"
   ]
  },
  {
   "cell_type": "markdown",
   "metadata": {},
   "source": [
    "#### Exercise 6  \n",
    "\n",
    "*Two words are anagrams if you can rearrange the letters from one to spell the other. Write a function called `is_anagram` that takes two strings and returns `True` if they are anagrams.*"
   ]
  },
  {
   "cell_type": "code",
   "execution_count": 13,
   "metadata": {},
   "outputs": [],
   "source": [
    "def is_anagram(word1, word2):\n",
    "    \"\"\"\n",
    "    Returns True if word1 and word2 are\n",
    "    anagrams of each other.  Lower and upper\n",
    "    case characters are considered to be equivalent.\n",
    "    \"\"\"\n",
    "    \n",
    "    if sorted(word1.lower()) == sorted(word2.lower()):\n",
    "        return True\n",
    "    return False"
   ]
  },
  {
   "cell_type": "code",
   "execution_count": 14,
   "metadata": {},
   "outputs": [
    {
     "data": {
      "text/plain": [
       "True"
      ]
     },
     "execution_count": 14,
     "metadata": {},
     "output_type": "execute_result"
    }
   ],
   "source": [
    "is_anagram('pots', 'stop')"
   ]
  },
  {
   "cell_type": "code",
   "execution_count": 15,
   "metadata": {},
   "outputs": [
    {
     "data": {
      "text/plain": [
       "True"
      ]
     },
     "execution_count": 15,
     "metadata": {},
     "output_type": "execute_result"
    }
   ],
   "source": [
    "is_anagram('Pots', 'Stop')"
   ]
  },
  {
   "cell_type": "code",
   "execution_count": 16,
   "metadata": {},
   "outputs": [
    {
     "data": {
      "text/plain": [
       "False"
      ]
     },
     "execution_count": 16,
     "metadata": {},
     "output_type": "execute_result"
    }
   ],
   "source": [
    "is_anagram('pits', 'stop')"
   ]
  },
  {
   "cell_type": "markdown",
   "metadata": {},
   "source": [
    "#### Exercise 7  \n",
    "\n",
    "*Write a function called `has_duplicates` that takes a list and returns `True` if there is any element that appears more than once. It should not modify the original list.*"
   ]
  },
  {
   "cell_type": "code",
   "execution_count": 17,
   "metadata": {},
   "outputs": [],
   "source": [
    "def has_duplicates(t):\n",
    "    \"\"\"\n",
    "    Returns True if any element in t\n",
    "    appears more than once.\n",
    "    If t is a string, upper and lower\n",
    "    case characters are treated as equivalent.\n",
    "    \"\"\"\n",
    "    \n",
    "    # Convert t to lowercase if it's a string\n",
    "    if type(t) == str:\n",
    "        sorted_t = sorted(t.lower())\n",
    "    else:\n",
    "        sorted_t = sorted(t)\n",
    "        \n",
    "    i = 0\n",
    "    while i < len(sorted_t) - 1:\n",
    "        if sorted_t[i] == sorted_t[i + 1]:\n",
    "            return True\n",
    "        i += 1\n",
    "    return False\n",
    "    "
   ]
  },
  {
   "cell_type": "code",
   "execution_count": 18,
   "metadata": {},
   "outputs": [
    {
     "data": {
      "text/plain": [
       "True"
      ]
     },
     "execution_count": 18,
     "metadata": {},
     "output_type": "execute_result"
    }
   ],
   "source": [
    "s = [1, 2, 3, 4, 5, 3]\n",
    "\n",
    "has_duplicates(s)"
   ]
  },
  {
   "cell_type": "code",
   "execution_count": 19,
   "metadata": {},
   "outputs": [
    {
     "data": {
      "text/plain": [
       "False"
      ]
     },
     "execution_count": 19,
     "metadata": {},
     "output_type": "execute_result"
    }
   ],
   "source": [
    "t = [1, 2, 3, 4, 5]\n",
    "\n",
    "has_duplicates(t)"
   ]
  },
  {
   "cell_type": "code",
   "execution_count": 20,
   "metadata": {},
   "outputs": [
    {
     "data": {
      "text/plain": [
       "True"
      ]
     },
     "execution_count": 20,
     "metadata": {},
     "output_type": "execute_result"
    }
   ],
   "source": [
    "u = \"asparagus\"\n",
    "\n",
    "has_duplicates(u)"
   ]
  },
  {
   "cell_type": "code",
   "execution_count": 21,
   "metadata": {},
   "outputs": [
    {
     "data": {
      "text/plain": [
       "False"
      ]
     },
     "execution_count": 21,
     "metadata": {},
     "output_type": "execute_result"
    }
   ],
   "source": [
    "v = \"uncopyrightable\"\n",
    "\n",
    "has_duplicates(v)"
   ]
  },
  {
   "cell_type": "code",
   "execution_count": 22,
   "metadata": {},
   "outputs": [
    {
     "data": {
      "text/plain": [
       "True"
      ]
     },
     "execution_count": 22,
     "metadata": {},
     "output_type": "execute_result"
    }
   ],
   "source": [
    "w = \"Susan\"\n",
    "\n",
    "has_duplicates(w)"
   ]
  },
  {
   "cell_type": "markdown",
   "metadata": {},
   "source": [
    "#### Exercise 8  \n",
    "\n",
    "*This exercise pertains to the so-called Birthday Paradox, which you can read about at http://en.wikipedia.org/wiki/Birthday_paradox.*\n",
    "\n",
    "*If there are 23 students in your class, what are the chances that two of you have the same birthday? You can estimate this probability by generating random samples of 23 birthdays and checking for matches. Hint: you can generate random birthdays with the `randint` function in the `random` module.*\n",
    "\n",
    "*__For the sake of convenience, my answer uses `print(\"\".format())`, although it has not yet been introduced in \"Think Python 2e\".__*"
   ]
  },
  {
   "cell_type": "code",
   "execution_count": 23,
   "metadata": {},
   "outputs": [],
   "source": [
    "from random import randint\n",
    "\n",
    "def make_birthdays(n):\n",
    "    \"\"\"\n",
    "    Returns a list with n integers\n",
    "    representing birthdays. Birthdays are \n",
    "    represented by day number: i.e, Jan. 1 is 1, \n",
    "    and Dec. 31 would be 365.  Feb. 29 is not \n",
    "    represented.\n",
    "    \"\"\"\n",
    "    \n",
    "    birthdays = []\n",
    "    for i in range(n):\n",
    "        birthdays.append(randint(1, 365))\n",
    "    return birthdays\n",
    "\n",
    "\n",
    "def has_duplicates(t):\n",
    "    \"\"\"\n",
    "    Returns True if any element in t\n",
    "    appears more than once.\n",
    "    If t is a string, upper and lower\n",
    "    case characters are treated as equivalent.\n",
    "    \"\"\"\n",
    "    \n",
    "    # Convert t to lowercase if it's a string\n",
    "    if type(t) == str:\n",
    "        sorted_t = sorted(t.lower())\n",
    "    else:\n",
    "        sorted_t = sorted(t)\n",
    "        \n",
    "    i = 0\n",
    "    while i < len(sorted_t) - 1:\n",
    "        if sorted_t[i] == sorted_t[i + 1]:\n",
    "            return True\n",
    "        i += 1\n",
    "    return False\n",
    "\n",
    "def check_for_same_birthday(i, n):\n",
    "    \"\"\"\n",
    "    Generates i groups of n birthdays, and\n",
    "    returns the number of groups that have\n",
    "    matching birthdays.\n",
    "    \"\"\"\n",
    "    \n",
    "    matches, no_matches = 0, 0\n",
    "    \n",
    "    for item in range(i):\n",
    "        x = make_birthdays(n)\n",
    "        if has_duplicates(x):\n",
    "            matches += 1\n",
    "        else:\n",
    "            no_matches += 1\n",
    "            \n",
    "    print(\"In {0} groups of {1} people, {2} had matching birthdays and {3} did not.\".format(i,\n",
    "                                                                                          n, matches, no_matches))\n",
    "    "
   ]
  },
  {
   "cell_type": "code",
   "execution_count": 24,
   "metadata": {},
   "outputs": [
    {
     "name": "stdout",
     "output_type": "stream",
     "text": [
      "In 100 groups of 23 people, 49 had matching birthdays and 51 did not.\n"
     ]
    }
   ],
   "source": [
    "check_for_same_birthday(100, 23)"
   ]
  },
  {
   "cell_type": "code",
   "execution_count": 25,
   "metadata": {},
   "outputs": [
    {
     "name": "stdout",
     "output_type": "stream",
     "text": [
      "In 100 groups of 23 people, 44 had matching birthdays and 56 did not.\n"
     ]
    }
   ],
   "source": [
    "check_for_same_birthday(100, 23)"
   ]
  },
  {
   "cell_type": "code",
   "execution_count": 26,
   "metadata": {},
   "outputs": [
    {
     "name": "stdout",
     "output_type": "stream",
     "text": [
      "In 100 groups of 23 people, 50 had matching birthdays and 50 did not.\n"
     ]
    }
   ],
   "source": [
    "check_for_same_birthday(100, 23)"
   ]
  },
  {
   "cell_type": "code",
   "execution_count": 27,
   "metadata": {},
   "outputs": [
    {
     "name": "stdout",
     "output_type": "stream",
     "text": [
      "In 100 groups of 46 people, 93 had matching birthdays and 7 did not.\n"
     ]
    }
   ],
   "source": [
    "check_for_same_birthday(100, 46)"
   ]
  },
  {
   "cell_type": "code",
   "execution_count": 28,
   "metadata": {},
   "outputs": [
    {
     "name": "stdout",
     "output_type": "stream",
     "text": [
      "In 100 groups of 70 people, 100 had matching birthdays and 0 did not.\n"
     ]
    }
   ],
   "source": [
    "check_for_same_birthday(100, 70)"
   ]
  },
  {
   "cell_type": "markdown",
   "metadata": {},
   "source": [
    "#### Exercise 9  \n",
    "\n",
    "*Write a function that reads the file `words.txt` and builds a list with one element per word. Write two versions of this function, one using the `append` method and the other using the idiom `t = t + [x]`. Which one takes longer to run? Why?*"
   ]
  },
  {
   "cell_type": "code",
   "execution_count": 29,
   "metadata": {},
   "outputs": [],
   "source": [
    "import os\n",
    "path = \"C:\\\\Users\\\\mjcor\\\\Desktop\\\\ProgrammingStuff\\\\ThinkPython\"\n",
    "os.chdir(path)"
   ]
  },
  {
   "cell_type": "code",
   "execution_count": 30,
   "metadata": {},
   "outputs": [],
   "source": [
    "def make_word_list_with_append():\n",
    "    \"\"\"\n",
    "    Reads lines from word.txt and \n",
    "    makes a list using append.\n",
    "    \"\"\"\n",
    "    fin = open('words.txt')\n",
    "    t = []\n",
    "\n",
    "    for line in fin:   \n",
    "        t.append(line.strip())\n",
    "    return t"
   ]
  },
  {
   "cell_type": "code",
   "execution_count": 31,
   "metadata": {},
   "outputs": [],
   "source": [
    "def make_word_list_with_add():\n",
    "    \"\"\"\n",
    "    Reads lines from word.txt and \n",
    "    makes a list using +.\n",
    "    \"\"\"    \n",
    "    fin = open('words.txt')\n",
    "    t = []\n",
    "\n",
    "    for line in fin:   \n",
    "        t = t + [line.strip()]\n",
    "    return t"
   ]
  },
  {
   "cell_type": "code",
   "execution_count": 32,
   "metadata": {},
   "outputs": [
    {
     "name": "stdout",
     "output_type": "stream",
     "text": [
      "It took 0.06582212 seconds to make the word list with append.\n"
     ]
    }
   ],
   "source": [
    "import time\n",
    "\n",
    "start = time.time()\n",
    "make_word_list_with_append()\n",
    "end = time.time()\n",
    "\n",
    "# As above, using `print(\"\".format())` for the sake of convenience.\n",
    "\n",
    "print(\"It took {0:.8f} seconds to make the word list with append.\".format(end - start))"
   ]
  },
  {
   "cell_type": "code",
   "execution_count": 33,
   "metadata": {},
   "outputs": [
    {
     "name": "stdout",
     "output_type": "stream",
     "text": [
      "It took 98.38332224 seconds to make the word list with concatenation (+).\n"
     ]
    }
   ],
   "source": [
    "import time\n",
    "\n",
    "start = time.time()\n",
    "make_word_list_with_add()\n",
    "end = time.time()\n",
    "\n",
    "print(\"It took {0:.8f} seconds to make the word list with concatenation (+).\".format(end - start))"
   ]
  },
  {
   "cell_type": "markdown",
   "metadata": {},
   "source": [
    "*__Thankfully, the book doesn't supply the answer to this last question and gives us the chance to search for the answer ourselves `</sarcasm>`.  A quick search online will lead us to a discussion board like [this stackoverflow one](\"https://stackoverflow.com/questions/25216962/python-concatenation-vs-append-speed-on-lists \"concatenation vs. append\"), which informs us that while append simply adds a new item to the end of the list, using concatentaion (`+`) actually creates a new list for each item, which is considerably slower.__*"
   ]
  },
  {
   "cell_type": "markdown",
   "metadata": {},
   "source": [
    "#### Exercise 10  \n",
    "\n",
    "*To check whether a word is in the word list, you could use the `in` operator, but it would be slow because it searches through the words in order.*\n",
    "\n",
    "*Because the words are in alphabetical order, we can speed things up with a bisection search (also known as binary search), which is similar to what you do when you look a word up in the dictionary (the book, not the data structure). You start in the middle and check to see whether the word you are looking for comes before the word in the middle of the list. If so, you search the first half of the list the same way. Otherwise you search the second half.*\n",
    "\n",
    "*Either way, you cut the remaining search space in half. If the word list has 113,809 words, it will take about 17 steps to find the word or conclude that it’s not there.*\n",
    "\n",
    "*Write a function called `in_bisect` that takes a sorted list and a target value and returns `True` if the word is in the list and `False` if it’s not.*\n",
    "\n",
    "*Or you could read the documentation of the bisect module and use that!* "
   ]
  },
  {
   "cell_type": "code",
   "execution_count": 34,
   "metadata": {},
   "outputs": [],
   "source": [
    "my_list = make_word_list_with_append()"
   ]
  },
  {
   "cell_type": "code",
   "execution_count": 35,
   "metadata": {},
   "outputs": [],
   "source": [
    "def in_bisect(word, t):\n",
    "    \"\"\"\n",
    "    Returns True if string word is in list t.\n",
    "    Uses bisection search.\n",
    "    \"\"\"\n",
    "    \n",
    "    midpoint = len(t)//2\n",
    "    \n",
    "    # Without this step, the function might try to access t[0], \n",
    "    # which will throw an error, since the list is empty and there\n",
    "    # are no items inside of it\n",
    "    \n",
    "    if len(t) == 0:\n",
    "        return False\n",
    "    \n",
    "    # This step is not necessary, but it lets us see the\n",
    "    # algorithm in action.  It needs to be removed later, when\n",
    "    # we call this function from inside other functions.\n",
    "    print(t[midpoint])\n",
    "    \n",
    "    if t[midpoint] == word:\n",
    "        return True\n",
    "    elif word < t[midpoint]:\n",
    "        return in_bisect(word, t[:midpoint])\n",
    "    else:\n",
    "        return in_bisect(word, t[midpoint + 1:])\n"
   ]
  },
  {
   "cell_type": "code",
   "execution_count": 36,
   "metadata": {},
   "outputs": [
    {
     "data": {
      "text/plain": [
       "'loosest'"
      ]
     },
     "execution_count": 36,
     "metadata": {},
     "output_type": "execute_result"
    }
   ],
   "source": [
    "# Randomly select word to test\n",
    "\n",
    "my_list[randint(0, len(my_list))]"
   ]
  },
  {
   "cell_type": "code",
   "execution_count": 37,
   "metadata": {},
   "outputs": [
    {
     "name": "stdout",
     "output_type": "stream",
     "text": [
      "longshoreman\n",
      "rioters\n",
      "tamp\n",
      "slypes\n",
      "stigmatizing\n",
      "sulphate\n",
      "sweltering\n",
      "systems\n",
      "syllabus\n",
      "swith\n",
      "swordmen\n",
      "swobbers\n",
      "swivels\n",
      "swizzler\n"
     ]
    },
    {
     "data": {
      "text/plain": [
       "True"
      ]
     },
     "execution_count": 37,
     "metadata": {},
     "output_type": "execute_result"
    }
   ],
   "source": [
    "in_bisect('swizzler', my_list)"
   ]
  },
  {
   "cell_type": "code",
   "execution_count": 38,
   "metadata": {},
   "outputs": [
    {
     "data": {
      "text/plain": [
       "True"
      ]
     },
     "execution_count": 38,
     "metadata": {},
     "output_type": "execute_result"
    }
   ],
   "source": [
    "# Sanity check\n",
    "\n",
    "'swizzler' in my_list"
   ]
  },
  {
   "cell_type": "code",
   "execution_count": 39,
   "metadata": {},
   "outputs": [
    {
     "name": "stdout",
     "output_type": "stream",
     "text": [
      "longshoreman\n",
      "rioters\n",
      "tamp\n",
      "slypes\n",
      "stigmatizing\n",
      "sulphate\n",
      "sweltering\n",
      "suppurated\n",
      "sutures\n",
      "surplus\n",
      "surviver\n",
      "suspicion\n",
      "suspected\n",
      "survivorships\n",
      "suslik\n",
      "susceptibility\n",
      "susceptible\n"
     ]
    },
    {
     "data": {
      "text/plain": [
       "False"
      ]
     },
     "execution_count": 39,
     "metadata": {},
     "output_type": "execute_result"
    }
   ],
   "source": [
    "# Second attempt, with word I selected\n",
    "\n",
    "in_bisect('sushi', my_list)"
   ]
  },
  {
   "cell_type": "code",
   "execution_count": 40,
   "metadata": {},
   "outputs": [
    {
     "data": {
      "text/plain": [
       "False"
      ]
     },
     "execution_count": 40,
     "metadata": {},
     "output_type": "execute_result"
    }
   ],
   "source": [
    "# Sanity check\n",
    "\n",
    "'sushi' in my_list"
   ]
  },
  {
   "cell_type": "markdown",
   "metadata": {},
   "source": [
    "*__I had actually seen this problem before: Before I started working my way through \"Think Python 2e\", I was trying to teach myself Julia with \"Think Julia\" (available [here](https://benlauwens.github.io/ThinkJulia.jl/latest/book.html \"Think Julia\")), which is based on \"Think Python 2e\". The first time I encountered the problem, I spent several hours in vain trying to come up with an answer. Unfortunately, the author of \"Think Julia\" had yet to post the solution online (and at the time of writing, still has not), so I had to look at Allen Downey's solutions for \"Think Python 2e\" to figure out how to come up with a Julia implementation for this problem. (On the plus side, it introduced me to the book \"Think Python 2e\".)__*\n",
    "\n",
    "*__For the most part, I was able to remember how to solve the problem; but I forgot two key points which kept the function from working correctly, and had to peek at Allen Downey's solution for help: 1) We have to include a conditional in case the recursively shrinking word list becomes an empty set - otherwise the Python interpreter will throw an error when we try to access items; and 2) If the target word is not in the list - but would come after the midpoint of it - we have to recursively call the function from the `midpoint + 1`.  Otherwise, the function will repeatedly call itself with a list consisting solely of the word in the list that would appear before the target word.  This would continue until the recursion limit is reached, at which point the interpreter would throw an error.__*"
   ]
  },
  {
   "cell_type": "markdown",
   "metadata": {},
   "source": [
    "#### Exercise 11  \n",
    "\n",
    "*Two words are a “reverse pair” if each is the reverse of the other. Write a program that finds all the reverse pairs in the word list.*\n",
    "\n",
    "*__My solution takes 2-3 minutes to run on my machine (Core i7 7th Gen, 8GB RAM, using iPython in a jupyter notebook).__*"
   ]
  },
  {
   "cell_type": "code",
   "execution_count": 41,
   "metadata": {},
   "outputs": [],
   "source": [
    "def in_bisect(word, t):\n",
    "    \"\"\"\n",
    "    Returns True if string word is in list t.\n",
    "    Uses bisection search.\n",
    "    \"\"\"\n",
    "    \n",
    "    midpoint = len(t)//2\n",
    "       \n",
    "    if len(t) == 0:\n",
    "        return False\n",
    "    \n",
    "    # Commenting out the printing of intermediate stages\n",
    "    # print(t[midpoint])\n",
    "    \n",
    "    if t[midpoint] == word:\n",
    "        return True\n",
    "    elif word < t[midpoint]:\n",
    "        return in_bisect(word, t[:midpoint])\n",
    "    else:\n",
    "        return in_bisect(word, t[midpoint + 1:])\n",
    "\n",
    "def has_reverse_pair(word, t):\n",
    "    \"\"\" \n",
    "    Returns True is the 'reverse pair' of string word\n",
    "    is in list t.\n",
    "    \"\"\"\n",
    "    \n",
    "    reverse_word = word[::-1]\n",
    "    \n",
    "    if in_bisect(reverse_word, t):\n",
    "        return True\n",
    "    return False\n",
    "\n",
    "def find_all_reverse_pairs(t):\n",
    "    \"\"\"\n",
    "    Returns a new list with all 'reverse pairs' in \n",
    "    list t. Strings in list t must be lowercase.\n",
    "    \"\"\"\n",
    "    rp_list = []\n",
    "    for word in t:\n",
    "        if has_reverse_pair(word, t):\n",
    "            rp_list.append([word, word[::-1]])\n",
    "    \n",
    "    return rp_list"
   ]
  },
  {
   "cell_type": "code",
   "execution_count": 42,
   "metadata": {},
   "outputs": [
    {
     "data": {
      "text/plain": [
       "[['aa', 'aa'],\n",
       " ['aba', 'aba'],\n",
       " ['abut', 'tuba'],\n",
       " ['ad', 'da'],\n",
       " ['ados', 'soda'],\n",
       " ['aga', 'aga'],\n",
       " ['agar', 'raga'],\n",
       " ['agas', 'saga'],\n",
       " ['agenes', 'senega'],\n",
       " ['ah', 'ha'],\n",
       " ['aha', 'aha'],\n",
       " ['aider', 'redia'],\n",
       " ['airts', 'stria'],\n",
       " ['ajar', 'raja'],\n",
       " ['ala', 'ala'],\n",
       " ['alif', 'fila'],\n",
       " ['alula', 'alula'],\n",
       " ['am', 'ma'],\n",
       " ['ama', 'ama'],\n",
       " ['amen', 'nema'],\n",
       " ['amis', 'sima'],\n",
       " ['an', 'na'],\n",
       " ['ana', 'ana'],\n",
       " ['anger', 'regna']]"
      ]
     },
     "execution_count": 42,
     "metadata": {},
     "output_type": "execute_result"
    }
   ],
   "source": [
    "all_reverse_pairs = find_all_reverse_pairs(my_list)\n",
    "\n",
    "# First 25 answers:\n",
    "all_reverse_pairs[:24]"
   ]
  },
  {
   "cell_type": "markdown",
   "metadata": {},
   "source": [
    "#### Exercise 12  \n",
    "\n",
    "*Two words “interlock” if taking alternating letters from each forms a new word. For example, “shoe” and “cold” interlock to form “schooled”.*  \n",
    "\n",
    "*Credit: This exercise is inspired by an example at http://puzzlers.org.\"*\n",
    "\n",
    "1. *Write a program that finds all pairs of words that interlock. Hint: don’t enumerate all pairs!*\n",
    "\n",
    "2. *Can you find any words that are three-way interlocked; that is, every third letter forms a word, starting from the first, second or third?*\n",
    "\n",
    "*__This was another problem that wracked my brain when I first encountered it in \"Think Julia\".  However, I again was able to recall the solution (which I was only able to find with some help), and once you know the trick involved, the answer seems obvious.  This seems like a good example of Columbus' egg.__*\n",
    "\n",
    "*__In case the solution is not obvious: instead of taking every possible combination of words in the list and checking whether their interlocked form is in the word list, we should instead realize that since the interlocked words are already in the list, it would be much easier to see if we can make valid words by using every other letter of the words in the list.  If we try to search for every possible combination of interlocked words, we'd end up looking up 113,809! combinations, which is just an insanely high number.  However, since there are only two possible candidates for the 113,809 words in the list, it is much, much easier to look up these 227,618 candidates.__*"
   ]
  },
  {
   "cell_type": "code",
   "execution_count": 43,
   "metadata": {},
   "outputs": [],
   "source": [
    "# Part 1\n",
    "\n",
    "def in_bisect(word, t):\n",
    "    \"\"\"\n",
    "    Returns True if string word is in list t.\n",
    "    Uses bisection search.\n",
    "    \"\"\"\n",
    "    \n",
    "    midpoint = len(t)//2\n",
    "       \n",
    "    if len(t) == 0:\n",
    "        return False\n",
    "    \n",
    "    # Commenting out the printing of intermediate stages\n",
    "    # print(t[midpoint])\n",
    "    \n",
    "    if t[midpoint] == word:\n",
    "        return True\n",
    "    elif word < t[midpoint]:\n",
    "        return in_bisect(word, t[:midpoint])\n",
    "    else:\n",
    "        return in_bisect(word, t[midpoint + 1:])\n",
    "\n",
    "def find_interlocking_words(t):\n",
    "    \"\"\"\n",
    "    Returns a new list of strings in list t\n",
    "    that interlock.\n",
    "    \"\"\"\n",
    "    \n",
    "    interlocking_words = []\n",
    "    \n",
    "    for word in t:\n",
    "        candidate1 = word[0::2]\n",
    "        candidate2 = word[1::2]\n",
    "        if in_bisect(candidate1, t) and in_bisect(candidate2, t):\n",
    "            interlocking_words.append([word, candidate1, candidate2])\n",
    "            \n",
    "    return interlocking_words"
   ]
  },
  {
   "cell_type": "code",
   "execution_count": 44,
   "metadata": {},
   "outputs": [
    {
     "data": {
      "text/plain": [
       "[['aahs', 'ah', 'as'],\n",
       " ['abbey', 'aby', 'be'],\n",
       " ['abied', 'aid', 'be'],\n",
       " ['abies', 'ais', 'be'],\n",
       " ['abri', 'ar', 'bi'],\n",
       " ['abris', 'ars', 'bi'],\n",
       " ['abye', 'ay', 'be'],\n",
       " ['abyes', 'ays', 'be'],\n",
       " ['across', 'ars', 'cos'],\n",
       " ['added', 'add', 'de'],\n",
       " ['adios', 'ais', 'do'],\n",
       " ['adnouns', 'anus', 'don'],\n",
       " ['adrift', 'arf', 'dit'],\n",
       " ['adroitly', 'aril', 'doty'],\n",
       " ['afield', 'ail', 'fed'],\n",
       " ['afreet', 'are', 'fet'],\n",
       " ['afreets', 'ares', 'fet'],\n",
       " ['agio', 'ai', 'go'],\n",
       " ['agios', 'ais', 'go'],\n",
       " ['agleam', 'ala', 'gem'],\n",
       " ['agnail', 'ani', 'gal'],\n",
       " ['agnails', 'anis', 'gal'],\n",
       " ['agnate', 'ant', 'gae'],\n",
       " ['agnates', 'ants', 'gae']]"
      ]
     },
     "execution_count": 44,
     "metadata": {},
     "output_type": "execute_result"
    }
   ],
   "source": [
    "il2 = find_interlocking_words(my_list)\n",
    "\n",
    "# First 25 interlocked words\n",
    "il2[:24]"
   ]
  },
  {
   "cell_type": "code",
   "execution_count": 45,
   "metadata": {},
   "outputs": [],
   "source": [
    "# Part 2\n",
    "\n",
    "def in_bisect(word, t):\n",
    "    \"\"\"\n",
    "    Returns True if string word is in list t.\n",
    "    Uses bisection search.\n",
    "    \"\"\"\n",
    "    \n",
    "    midpoint = len(t)//2\n",
    "       \n",
    "    if len(t) == 0:\n",
    "        return False\n",
    "    \n",
    "    # Commenting out the printing of intermediate stages\n",
    "    # print(t[midpoint])\n",
    "    \n",
    "    if t[midpoint] == word:\n",
    "        return True\n",
    "    elif word < t[midpoint]:\n",
    "        return in_bisect(word, t[:midpoint])\n",
    "    else:\n",
    "        return in_bisect(word, t[midpoint + 1:])\n",
    "\n",
    "def find_interlocking_triples(t):\n",
    "    \"\"\"\n",
    "    Returns a new list of strings in list t\n",
    "    that interlock three ways.\n",
    "    \"\"\"\n",
    "    \n",
    "    interlocking_words = []\n",
    "    \n",
    "    for word in t:\n",
    "        candidate1 = word[0::3]\n",
    "        candidate2 = word[1::3]\n",
    "        candidate3 = word[2::3]\n",
    "        if in_bisect(candidate1, t) and in_bisect(candidate2, t) and in_bisect(candidate3, t):\n",
    "            interlocking_words.append([word, candidate1, candidate2, candidate3])\n",
    "            \n",
    "    return interlocking_words"
   ]
  },
  {
   "cell_type": "code",
   "execution_count": 46,
   "metadata": {},
   "outputs": [
    {
     "data": {
      "text/plain": [
       "[['abacuses', 'ace', 'bus', 'as'],\n",
       " ['abalone', 'ale', 'bo', 'an'],\n",
       " ['abalones', 'ale', 'bos', 'an'],\n",
       " ['abased', 'as', 'be', 'ad'],\n",
       " ['abaser', 'as', 'be', 'ar'],\n",
       " ['abasers', 'ass', 'be', 'ar'],\n",
       " ['abases', 'as', 'be', 'as'],\n",
       " ['abated', 'at', 'be', 'ad'],\n",
       " ['abater', 'at', 'be', 'ar'],\n",
       " ['abates', 'at', 'be', 'as'],\n",
       " ['abatis', 'at', 'bi', 'as'],\n",
       " ['abatises', 'ate', 'bis', 'as'],\n",
       " ['abator', 'at', 'bo', 'ar'],\n",
       " ['abided', 'ad', 'be', 'id'],\n",
       " ['abides', 'ad', 'be', 'is'],\n",
       " ['aboded', 'ad', 'be', 'od'],\n",
       " ['abodes', 'ad', 'be', 'os'],\n",
       " ['abomas', 'am', 'ba', 'os'],\n",
       " ['abomasa', 'ama', 'ba', 'os'],\n",
       " ['abomasal', 'ama', 'bal', 'os'],\n",
       " ['abomasi', 'ami', 'ba', 'os'],\n",
       " ['abomasus', 'amu', 'bas', 'os'],\n",
       " ['abominate', 'ama', 'bit', 'one'],\n",
       " ['abominates', 'amas', 'bit', 'one']]"
      ]
     },
     "execution_count": 46,
     "metadata": {},
     "output_type": "execute_result"
    }
   ],
   "source": [
    "il3 = find_interlocking_triples(my_list)\n",
    "\n",
    "# There are actually quite a few words that interlock three ways\n",
    "# in this list.  Here are the first 25:\n",
    "il3[:24]"
   ]
  }
 ],
 "metadata": {
  "kernelspec": {
   "display_name": "Python 3",
   "language": "python",
   "name": "python3"
  },
  "language_info": {
   "codemirror_mode": {
    "name": "ipython",
    "version": 3
   },
   "file_extension": ".py",
   "mimetype": "text/x-python",
   "name": "python",
   "nbconvert_exporter": "python",
   "pygments_lexer": "ipython3",
   "version": "3.6.4"
  }
 },
 "nbformat": 4,
 "nbformat_minor": 2
}
