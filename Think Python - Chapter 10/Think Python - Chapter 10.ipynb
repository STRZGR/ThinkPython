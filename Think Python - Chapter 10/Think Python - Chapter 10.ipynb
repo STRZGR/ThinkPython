{
 "cells": [
  {
   "cell_type": "markdown",
   "metadata": {},
   "source": [
    "# Think Python\n",
    "\n",
    "## Chapter 10 Lists\n",
    "\n",
    "HTML version can be found [here](http://greenteapress.com/thinkpython2/html/thinkpython2011.html \"Chpt 10\").\n",
    "\n",
    "### 10.1 A list is a sequence\n",
    "\n",
    "*__No notes__*\n",
    "\n",
    "### 10.2 Lists are mutable\n",
    "\n",
    "*__No notes__*\n",
    "\n",
    "### 10.3 Traversing a list\n",
    "\n",
    "*__No notes__*\n",
    "\n",
    "### 10.4 List operations\n",
    "\n",
    "*__No notes__*\n",
    "\n",
    "### 10.5 List slices\n",
    "\n",
    "*__No notes__*\n",
    "\n",
    "### 10.6 List methods\n",
    "\n",
    "`extend` takes a list as an argument and appends all of the elements:"
   ]
  },
  {
   "cell_type": "code",
   "execution_count": 2,
   "metadata": {},
   "outputs": [
    {
     "data": {
      "text/plain": [
       "['a', 'b', 'c', 'd', 'e']"
      ]
     },
     "execution_count": 2,
     "metadata": {},
     "output_type": "execute_result"
    }
   ],
   "source": [
    "t1 = ['a', 'b', 'c']\n",
    "t2 = ['d', 'e']\n",
    "t1.extend(t2)\n",
    "t1"
   ]
  },
  {
   "cell_type": "markdown",
   "metadata": {},
   "source": [
    "### 10.7 Map, filter and reduce\n",
    "\n",
    "__Reduce:__ Combining a sequence of elements into a single value.\n",
    "\n",
    "__Map:__  Applying a function to each element in a sequence.\n",
    "\n",
    "__Filter:__ Selecting some of the elements and filtering out the others."
   ]
  },
  {
   "cell_type": "markdown",
   "metadata": {},
   "source": [
    "### 10.8 Deleting elements\n",
    "\n",
    "*__`.pop()` returns the value at an index and removes it from a list.  `del l[i]` deletes a value without returning it.  `l.remove('a')` can be used when you don't know the index of the element to be removed.__*  "
   ]
  },
  {
   "cell_type": "markdown",
   "metadata": {},
   "source": [
    "### 10.9 Lists and strings\n",
    "\n",
    "*__No notes__*\n",
    "\n",
    "### 10.10 Objects and values\n",
    "\n",
    "*__No notes__*\n",
    "\n",
    "### 10.11 Aliasing\n",
    "\n",
    "*__No notes__*\n",
    "\n",
    "### 10.12 List arguments\n",
    "\n",
    "*__No notes__*\n",
    "\n",
    "### 10.13 Debugging\n",
    "\n",
    "*__Be careful with `l.sort()` and `sorted(l)`.  The former modifies the original, the latter does not, and returns a copy.__*\n",
    "\n",
    "### 10.14 Glossary\n",
    "\n",
    "*__No notes__*\n",
    "\n",
    "### 10.15 Exercises\n",
    "\n",
    "#### Exercise 1\n",
    "\n",
    "Write a function called nested_sum that takes a list of lists of integers and adds up the elements from all of the nested lists. For example:\n",
    "\n",
    "```\n",
    "t = [[1, 2], [3], [4, 5, 6]]\n",
    "nested_sum(t)\n",
    "21\n",
    "```"
   ]
  },
  {
   "cell_type": "code",
   "execution_count": 13,
   "metadata": {},
   "outputs": [],
   "source": [
    "def nested_sum(t):\n",
    "    total = 0\n",
    "    for s in t:\n",
    "        total += sum(s)\n",
    "    return total"
   ]
  },
  {
   "cell_type": "code",
   "execution_count": 14,
   "metadata": {},
   "outputs": [
    {
     "data": {
      "text/plain": [
       "21"
      ]
     },
     "execution_count": 14,
     "metadata": {},
     "output_type": "execute_result"
    }
   ],
   "source": [
    "t = [[1, 2], [3], [4, 5, 6]]\n",
    "nested_sum(t)"
   ]
  }
 ],
 "metadata": {
  "kernelspec": {
   "display_name": "Python 3",
   "language": "python",
   "name": "python3"
  },
  "language_info": {
   "codemirror_mode": {
    "name": "ipython",
    "version": 3
   },
   "file_extension": ".py",
   "mimetype": "text/x-python",
   "name": "python",
   "nbconvert_exporter": "python",
   "pygments_lexer": "ipython3",
   "version": "3.6.4"
  }
 },
 "nbformat": 4,
 "nbformat_minor": 2
}
