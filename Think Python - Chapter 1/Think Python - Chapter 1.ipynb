{
 "cells": [
  {
   "cell_type": "markdown",
   "metadata": {},
   "source": [
    "# Think Python\n",
    "\n",
    "## Chapter 1 - The way of the program\n",
    "\n",
    "*HTML version is available [here](http://greenteapress.com/thinkpython2/html/thinkpython2002.html \"Think Python - Chpt 1\").* \n",
    "\n",
    "### 1.1 What is a program?\n",
    "\n",
    "### 1.2 Running Python\n",
    "\n",
    "### 1.3 The first program\n",
    "\n",
    "### 1.4 Arithmetic operators\n",
    "\n",
    "### 1.5 Values and types\n", 
    "\n",
    "### 1.6 Formal and natural languages\n",
    "\n",
    "### 1.7 Debugging\n",
    "\n",
    "*I didn't see any need to take any notes in the above sections.*\n",
    "\n",
    "### 1.9  Exercises\n",
    "\n",
    "#### Exercise 1  \n",
    "\n",
    "1. *In a print statement, what happens if you leave out one of the parentheses, or both?*\n",
    "\n",
    "\n",
    "```{Python}\n",
    "print(\"This will throw an error\"\n",
    "\n",
    "File \"<ipython-input-1-1a6e35ead3e6>\", line 1\n",
    "    print(\"This will throw an error\"\n",
    "                                    ^\n",
    "SyntaxError: unexpected EOF while parsing\n",
    "```\n"
   ]
  },
  {
   "cell_type": "markdown",
   "metadata": {},
   "source": [
    "2. *If you are trying to print a string, what happens if you leave out one of the quotation marks, or both?*\n",
    "\n",
    "```{Python}\n",
    "print(\"This will also throw an error)\n",
    "\n",
    "File \"<ipython-input-3-30bff0228694>\", line 1\n",
    "    print(\"This will also throw an error)\n",
    "                                         ^\n",
    "SyntaxError: EOL while scanning string literal\n",
    "```"
   ]
  },
  {
   "cell_type": "markdown",
   "metadata": {},
   "source": [
    "3. *You can use a minus sign to make a negative number like -2. What happens if you put a plus sign before a number? What about 2++2?*"
   ]
  },
  {
   "cell_type": "code",
   "execution_count": 1,
   "metadata": {},
   "outputs": [
    {
     "data": {
      "text/plain": [
       "-2"
      ]
     },
     "execution_count": 1,
     "metadata": {},
     "output_type": "execute_result"
    }
   ],
   "source": [
    "-2"
   ]
  },
  {
   "cell_type": "code",
   "execution_count": 2,
   "metadata": {},
   "outputs": [
    {
     "data": {
      "text/plain": [
       "2"
      ]
     },
     "execution_count": 2,
     "metadata": {},
     "output_type": "execute_result"
    }
   ],
   "source": [
    "+2"
   ]
  },
  {
   "cell_type": "code",
   "execution_count": 3,
   "metadata": {},
   "outputs": [
    {
     "data": {
      "text/plain": [
       "4"
      ]
     },
     "execution_count": 3,
     "metadata": {},
     "output_type": "execute_result"
    }
   ],
   "source": [
    "2 ++ 2"
   ]
  },
  {
   "cell_type": "markdown",
   "metadata": {},
   "source": [
    "4. *In math notation, leading zeros are ok, as in 09. What happens if you try this in Python? What about 011?*\n",
    "\n",
    "```{Python}\n",
    "09\n",
    "\n",
    "File \"<ipython-input-7-9bb4877861be>\", line 1\n",
    "    09\n",
    "     ^\n",
    "SyntaxError: invalid token\n",
    "```"
   ]
  },
  {
   "cell_type": "markdown",
   "metadata": {},
   "source": [
    "```{Python}\n",
    "011\n",
    "\n",
    "File \"<ipython-input-8-2e9780ecac58>\", line 1\n",
    "    011\n",
    "      ^\n",
    "SyntaxError: invalid token\n",
    "```"
   ]
  },
  {
   "cell_type": "markdown",
   "metadata": {},
   "source": [
    "\n",
    "\n",
    "\n",
    "\n",
    "\n",
    "\n",
    "5. *What happens if you have two values with no operator between them?*\n",
    "\n",
    "```{Python}\n",
    "6 9\n",
    "\n",
    "File \"<ipython-input-9-222927da533e>\", line 1\n",
    "    6 9\n",
    "      ^\n",
    "SyntaxError: invalid syntax\n",
    "```"
   ]
  },
  {
   "cell_type": "markdown",
   "metadata": {},
   "source": [
    "#### Exercise 2  \n",
    "\n",
    "*Start the Python interpreter and use it as a calculator.*\n",
    "\n",
    "1. *How many seconds are there in 42 minutes 42 seconds?*\n",
    "\n"
   ]
  },
  {
   "cell_type": "code",
   "execution_count": 4,
   "metadata": {},
   "outputs": [
    {
     "data": {
      "text/plain": [
       "2562"
      ]
     },
     "execution_count": 4,
     "metadata": {},
     "output_type": "execute_result"
    }
   ],
   "source": [
    "(42 * 60) + 42 "
   ]
  },
  {
   "cell_type": "markdown",
   "metadata": {},
   "source": [
    "2. *How many miles are there in 10 kilometers? Hint: there are 1.61 kilometers in a mile.*\n",
    "\n"
   ]
  },
  {
   "cell_type": "code",
   "execution_count": 5,
   "metadata": {},
   "outputs": [
    {
     "data": {
      "text/plain": [
       "6.211180124223602"
      ]
     },
     "execution_count": 5,
     "metadata": {},
     "output_type": "execute_result"
    }
   ],
   "source": [
    "10 / 1.61"
   ]
  },
  {
   "cell_type": "markdown",
   "metadata": {},
   "source": [
    "3. *If you run a 10 kilometer race in 42 minutes 42 seconds, what is your average pace (time per mile in minutes and seconds)? What is your average speed in miles per hour?*"
   ]
  },
  {
   "cell_type": "code",
   "execution_count": 6,
   "metadata": {},
   "outputs": [
    {
     "data": {
      "text/plain": [
       "412.482"
      ]
     },
     "execution_count": 6,
     "metadata": {},
     "output_type": "execute_result"
    }
   ],
   "source": [
    "# seconds per mile\n",
    "\n",
    "spm = 2562 / (10 / 1.61)\n",
    "spm"
   ]
  },
  {
   "cell_type": "code",
   "execution_count": 7,
   "metadata": {},
   "outputs": [
    {
     "data": {
      "text/plain": [
       "6.0"
      ]
     },
     "execution_count": 7,
     "metadata": {},
     "output_type": "execute_result"
    }
   ],
   "source": [
    "minutes = spm // 60\n",
    "minutes"
   ]
  },
  {
   "cell_type": "code",
   "execution_count": 8,
   "metadata": {},
   "outputs": [
    {
     "data": {
      "text/plain": [
       "52.48200000000003"
      ]
     },
     "execution_count": 8,
     "metadata": {},
     "output_type": "execute_result"
    }
   ],
   "source": [
    "seconds = spm % 60\n",
    "seconds"
   ]
  },
  {
   "cell_type": "markdown",
   "metadata": {},
   "source": [
    "`.format` has not yet been presented in <b><i>Think Python 2e</i></b>, but I'm using it here because it makes the output much easier on the eyes.  I'm also using it here as a refresher for myself, since I find myself often forgetting the syntax for it in Python."
   ]
  },
  {
   "cell_type": "code",
   "execution_count": 9,
   "metadata": {},
   "outputs": [
    {
     "name": "stdout",
     "output_type": "stream",
     "text": [
      "Your average pace per mile is 6 minutes 52.5 seconds.\n"
     ]
    }
   ],
   "source": [
    "print(\"Your average pace per mile is {0} minutes {1:.3} seconds.\".format(int(minutes), seconds))"
   ]
  },
  {
   "cell_type": "code",
   "execution_count": 10,
   "metadata": {},
   "outputs": [
    {
     "data": {
      "text/plain": [
       "8.727653570337614"
      ]
     },
     "execution_count": 10,
     "metadata": {},
     "output_type": "execute_result"
    }
   ],
   "source": [
    "(60 * 60) / spm"
   ]
  }
 ],
 "metadata": {
  "kernelspec": {
   "display_name": "Python 3",
   "language": "python",
   "name": "python3"
  },
  "language_info": {
   "codemirror_mode": {
    "name": "ipython",
    "version": 3
   },
   "file_extension": ".py",
   "mimetype": "text/x-python",
   "name": "python",
   "nbconvert_exporter": "python",
   "pygments_lexer": "ipython3",
   "version": "3.6.4"
  }
 },
 "nbformat": 4,
 "nbformat_minor": 2
}
