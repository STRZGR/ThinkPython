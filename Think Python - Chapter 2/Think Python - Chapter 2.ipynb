{
 "cells": [
  {
   "cell_type": "markdown",
   "metadata": {},
   "source": [
    "# Think Python\n",
    "\n",
    "## Chapter 2 - Variables, expressions and statements\n",
    "\n",
    "HTML version is available [here](http://greenteapress.com/thinkpython2/html/thinkpython2003.html \"Chpt 2\").\n",
    "\n",
    "### 2.1 Assignment statements\n",
    "\n",
    "*No notes*\n",
    "\n",
    "### 2.2 Variable names\n",
    "\n",
    "*Python3 keywords:*\n",
    "\n",
    "```{Python}\n",
    "\n",
    "False      class      finally    is         return\n",
    "None       continue   for        lambda     try\n",
    "True       def        from       nonlocal   while\n",
    "and        del        global     not        with\n",
    "as         elif       if         or         yield\n",
    "assert     else       import     pass\n",
    "break      except     in         raise\n",
    "```\n",
    "\n",
    "### 2.3 Expressions and statements\n",
    "\n",
    "*No notes*\n",
    "\n",
    "### 2.4 Script mode\n",
    "\n",
    "*No notes*\n",
    "\n",
    "### 2.5 Order of operations\n",
    "\n",
    "*Use __PEMDAS__.*\n",
    "\n",
    "### 2.6 String operations\n",
    "\n",
    "*Be aware of string addition and multiplication:*\n"
   ]
  },
  {
   "cell_type": "code",
   "execution_count": 1,
   "metadata": {},
   "outputs": [
    {
     "data": {
      "text/plain": [
       "'throatwarbler'"
      ]
     },
     "execution_count": 1,
     "metadata": {},
     "output_type": "execute_result"
    }
   ],
   "source": [
    "first, second = \"throat\", \"warbler\"\n",
    "first + second"
   ]
  },
  {
   "cell_type": "code",
   "execution_count": 2,
   "metadata": {},
   "outputs": [
    {
     "data": {
      "text/plain": [
       "'spamspamspam'"
      ]
     },
     "execution_count": 2,
     "metadata": {},
     "output_type": "execute_result"
    }
   ],
   "source": [
    "\"spam\" * 3"
   ]
  },
  {
   "cell_type": "markdown",
   "metadata": {},
   "source": [
    "### 2.7 Comments\n",
    "\n",
    "*No notes*\n",
    "\n",
    "### 2.8 Debugging\n",
    "\n",
    "*Three kinds of errors:*\n",
    "\n",
    "1. __Syntax error:__ *E.g., missing parentheses.  The code won't run at all if there's a syntax error.*\n",
    "\n",
    "1. __Runtime error:__ *These don't appear until after the code has started running.*\n",
    "\n",
    "1. __Semantic error:__ *There aren't any error messages, but the program didn't perform as expected.*"
   ]
  },
  {
   "cell_type": "markdown",
   "metadata": {},
   "source": [
    "### 2.10  Exercises\n",
    "\n",
    "#### Exercise 1  \n",
    "\n",
    "*Repeating my advice from the previous chapter, whenever you learn a new feature, you should try it out in interactive mode and make errors on purpose to see what goes wrong.*\n",
    "\n",
    "+ *We’ve seen that `n = 42` is legal. What about `42 = n`?*"
   ]
  },
  {
   "cell_type": "markdown",
   "metadata": {},
   "source": [
    "*__That would be equivalent to assigning the value `n` to the integer `42`, which obviously would never fly...__*\n",
    "\n",
    "```{Python}\n",
    "42 = n\n",
    "\n",
    " File \"<ipython-input-3-f0c37ed646fc>\", line 1\n",
    "    42 = n\n",
    "          ^\n",
    "SyntaxError: can't assign to literal\n",
    "```"
   ]
  },
  {
   "cell_type": "markdown",
   "metadata": {},
   "source": [
    "\n",
    "+ *How about x = y = 1?*\n",
    "\n",
    "*__That's groovy.__*\n"
   ]
  },
  {
   "cell_type": "code",
   "execution_count": 3,
   "metadata": {},
   "outputs": [],
   "source": [
    "x = y = 1"
   ]
  },
  {
   "cell_type": "markdown",
   "metadata": {},
   "source": [
    "+ *In some languages every statement ends with a semi-colon, `;`. What happens if you put a semi-colon at the end of a Python statement?*\n",
    "\n",
    "*__Nothing.  In fact, we can use it to put several statements on one line:__*"
   ]
  },
  {
   "cell_type": "code",
   "execution_count": 4,
   "metadata": {},
   "outputs": [],
   "source": [
    "x = 42; y = 17; z = 469;"
   ]
  },
  {
   "cell_type": "code",
   "execution_count": 5,
   "metadata": {},
   "outputs": [
    {
     "name": "stdout",
     "output_type": "stream",
     "text": [
      "42 17 469\n"
     ]
    }
   ],
   "source": [
    "print(x, y, z)"
   ]
  },
  {
   "cell_type": "markdown",
   "metadata": {},
   "source": [
    "+ *What if you put a period at the end of a statement?*\n",
    "\n",
    "*__In this case, Python will treat the period as a decimal and convert an integer into a float.__*"
   ]
  },
  {
   "cell_type": "code",
   "execution_count": 6,
   "metadata": {},
   "outputs": [],
   "source": [
    "x = 42."
   ]
  },
  {
   "cell_type": "code",
   "execution_count": 7,
   "metadata": {},
   "outputs": [
    {
     "name": "stdout",
     "output_type": "stream",
     "text": [
      "42.0\n"
     ]
    }
   ],
   "source": [
    "print(x)"
   ]
  },
  {
   "cell_type": "markdown",
   "metadata": {},
   "source": [
    "\n",
    "+ *In math notation you can multiply $x$ and $y$ like this: $x y$. What happens if you try that in Python?*"
   ]
  },
  {
   "cell_type": "markdown",
   "metadata": {},
   "source": [
    "*__Python would treat `xy` as a new variable and try to find a value for it:__*\n",
    "\n",
    "```{Python}\n",
    "x = 10; y = 5;\n",
    "xy\n",
    "\n",
    "---------------------------------------------------------------------------\n",
    "NameError                                 Traceback (most recent call last)\n",
    "<ipython-input-10-2dd067f94277> in <module>\n",
    "      1 x = 10; y = 5;\n",
    "----> 2 xy\n",
    "\n",
    "NameError: name 'xy' is not defined\n",
    "```"
   ]
  },
  {
   "cell_type": "markdown",
   "metadata": {},
   "source": [
    "#### Exercise 2  \n",
    "\n",
    "Practice using the Python interpreter as a calculator:\n",
    "\n",
    "1. *The volume of a sphere with radius r is $\\frac{4}{3} \pi r^3$. What is the volume of a sphere with radius 5?*\n",
    "\n"
   ]
  },
  {
   "cell_type": "code",
   "execution_count": 8,
   "metadata": {},
   "outputs": [
    {
     "data": {
      "text/plain": [
       "523.5987755982989"
      ]
     },
     "execution_count": 8,
     "metadata": {},
     "output_type": "execute_result"
    }
   ],
   "source": [
    "pi = 3.1415926535897932\n",
    "\n",
    "(4/3) * pi * (5**3)"
   ]
  },
  {
   "cell_type": "markdown",
   "metadata": {},
   "source": [
    "*The math module hasn't been introduced yet, but this is how we'd use it:*"
   ]
  },
  {
   "cell_type": "code",
   "execution_count": 9,
   "metadata": {},
   "outputs": [
    {
     "data": {
      "text/plain": [
       "523.5987755982989"
      ]
     },
     "execution_count": 9,
     "metadata": {},
     "output_type": "execute_result"
    }
   ],
   "source": [
    "import math\n",
    "\n",
    "(4/3) * math.pi * (5**3)"
   ]
  },
  {
   "cell_type": "markdown",
   "metadata": {},
   "source": [
    "2. *Suppose the cover price of a book is \\\\$24.95, but bookstores get a 40% discount. Shipping costs \\\\$3 for the first copy and 75 cents for each additional copy. What is the total wholesale cost for 60 copies?*\n",
    "\n"
   ]
  },
  {
   "cell_type": "code",
   "execution_count": 10,
   "metadata": {},
   "outputs": [
    {
     "data": {
      "text/plain": [
       "945.45"
      ]
     },
     "execution_count": 10,
     "metadata": {},
     "output_type": "execute_result"
    }
   ],
   "source": [
    "copies = 60\n",
    "price = 24.95 * (1 - 0.40)\n",
    "shipping = 3 + (copies - 1) * 0.75\n",
    "round(copies * price + shipping, 2)"
   ]
  },
  {
   "cell_type": "markdown",
   "metadata": {},
   "source": [
    "3. *If I leave my house at 6:52 am and run 1 mile at an easy pace (8:15 per mile), then 3 miles at tempo (7:12 per mile) and 1 mile at easy pace again, what time do I get home for breakfast?*"
   ]
  },
  {
   "cell_type": "code",
   "execution_count": 11,
   "metadata": {},
   "outputs": [
    {
     "name": "stdout",
     "output_type": "stream",
     "text": [
      "You'll get home for breakast at 7:30.06.\n"
     ]
    }
   ],
   "source": [
    "# tempi in seconds\n",
    "easy_tempo = (8 * 60) + 15\n",
    "at_tempo = (7 * 60) + 12\n",
    "total_time = (easy_tempo * 2) + (at_tempo * 3)\n",
    "\n",
    "# use floor division to get minutes\n",
    "total_time_min = total_time // 60\n",
    "\n",
    "# use modulo division to get seconds\n",
    "total_time_secs = total_time % 60\n",
    "\n",
    "# departure time in minutes\n",
    "departure_time = (6 * 60) + 52\n",
    "\n",
    "breakfast_hour = (departure_time + total_time_min) // 60\n",
    "breakfast_minute = (departure_time + total_time_min) % 60\n",
    "\n",
    "print(\"You'll get home for breakast at {}:{}.{:02d}.\".format(breakfast_hour,\n",
    "                                            breakfast_minute, total_time_secs))\n",
    "\n"
   ]
  },
  {
   "cell_type": "markdown",
   "metadata": {},
   "source": [
    "*As was the case in my solutions for Chapter 1, I used `.format()` in my solution even though it hasn't yet been introduced in <b><i>Think Python 2e</i></b>.*"
   ]
  }
 ],
 "metadata": {
  "kernelspec": {
   "display_name": "Python 3",
   "language": "python",
   "name": "python3"
  },
  "language_info": {
   "codemirror_mode": {
    "name": "ipython",
    "version": 3
   },
   "file_extension": ".py",
   "mimetype": "text/x-python",
   "name": "python",
   "nbconvert_exporter": "python",
   "pygments_lexer": "ipython3",
   "version": "3.6.4"
  }
 },
 "nbformat": 4,
 "nbformat_minor": 2
}
