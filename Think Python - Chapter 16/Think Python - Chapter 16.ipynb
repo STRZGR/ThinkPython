{
 "cells": [
  {
   "cell_type": "markdown",
   "metadata": {},
   "source": [
    "# Think Python\n",
    "\n",
    "## Chapter 16 - Classes and functions\n",
    "\n",
    "### 16.1 Time\n",
    "\n",
    "*HTML of this chapter in \"Think Python 2e\" can be found [here](http://greenteapress.com/thinkpython2/html/thinkpython2017.html \"Chapter 16\").*\n",
    "\n",
    "\n",
    "\n",
    "\n"
   ]
  },
  {
   "cell_type": "code",
   "execution_count": 1,
   "metadata": {},
   "outputs": [],
   "source": [
    "class Time:\n",
    "    \"\"\"\n",
    "    Represents the time of day.\n",
    "    \n",
    "    attributes: hour, minute, second\n",
    "    \"\"\"\n",
    "    \n",
    "time = Time()\n",
    "time.hour = 11\n",
    "time.minute = 59\n",
    "time.second = 30"
   ]
  },
  {
   "cell_type": "markdown",
   "metadata": {},
   "source": [
    "*As an exercise, write a function called `print_time` that takes a `Time` object and prints it in the form `hour:minute:second`.*\n",
    "\n",
    "*__Since `%` is being deprecated, I'll use `.format`.  Also not an issue now, but in the exercises we'll be dealing with values that can be floats.  I'm also including the possibility of displaying thousandths of a second with the argument `thousandths`.__*"
   ]
  },
  {
   "cell_type": "code",
   "execution_count": 2,
   "metadata": {},
   "outputs": [],
   "source": [
    "def print_time(time, thousandths = False):\n",
    "    if thousandths:\n",
    "        print(\"{:02.0f}:{:02.0f}:{:06.3f}\".format(time.hour, time.minute, time.second))\n",
    "    else:\n",
    "        print(\"{:02.0f}:{:02.0f}:{:02.0f}\".format(time.hour, time.minute, time.second))"
   ]
  },
  {
   "cell_type": "code",
   "execution_count": 3,
   "metadata": {},
   "outputs": [
    {
     "name": "stdout",
     "output_type": "stream",
     "text": [
      "11:59:30\n"
     ]
    }
   ],
   "source": [
    "print_time(time)"
   ]
  },
  {
   "cell_type": "code",
   "execution_count": 4,
   "metadata": {},
   "outputs": [],
   "source": [
    "time = Time()\n",
    "time.hour = 1\n",
    "time.minute = 59\n",
    "time.second = 30"
   ]
  },
  {
   "cell_type": "code",
   "execution_count": 5,
   "metadata": {},
   "outputs": [
    {
     "name": "stdout",
     "output_type": "stream",
     "text": [
      "01:59:30\n"
     ]
    }
   ],
   "source": [
    "print_time(time)"
   ]
  },
  {
   "cell_type": "markdown",
   "metadata": {},
   "source": [
    "*Write a boolean function called `is_after` that takes two `Time` objects, `t1` and `t2`, and returns `True` if `t1` follows `t2` chronologically and `False` otherwise. Challenge: don’t use an `if` statement.*"
   ]
  },
  {
   "cell_type": "code",
   "execution_count": 6,
   "metadata": {},
   "outputs": [],
   "source": [
    "def number_seconds(time):\n",
    "    \"\"\"\n",
    "    Returns the number of seconds in \n",
    "    Time object time.\n",
    "    \"\"\"\n",
    "    # 3,600 seconds in an hour\n",
    "    number_seconds = time.hour * 3600\n",
    "    number_seconds += time.minute * 60\n",
    "    number_seconds += time.second\n",
    "    \n",
    "    return number_seconds"
   ]
  },
  {
   "cell_type": "code",
   "execution_count": 7,
   "metadata": {},
   "outputs": [],
   "source": [
    "def is_after(t1, t2):\n",
    "    \"\"\"\n",
    "    Returns True if Time object t1 \n",
    "    follows Time object t2 chronologically.\n",
    "    \"\"\"\n",
    "    \n",
    "    ns1 = number_seconds(t1)\n",
    "    ns2 = number_seconds(t2)\n",
    "    \n",
    "    return ns1 > ns2"
   ]
  },
  {
   "cell_type": "code",
   "execution_count": 8,
   "metadata": {},
   "outputs": [
    {
     "data": {
      "text/plain": [
       "True"
      ]
     },
     "execution_count": 8,
     "metadata": {},
     "output_type": "execute_result"
    }
   ],
   "source": [
    "time1 = Time()\n",
    "time1.hour = 11\n",
    "time1.minute = 59\n",
    "time1.second = 2\n",
    "\n",
    "time2 = Time()\n",
    "time2.hour = 11\n",
    "time2.minute = 59\n",
    "time2.second = 1\n",
    "\n",
    "is_after(time1, time2)"
   ]
  },
  {
   "cell_type": "code",
   "execution_count": 9,
   "metadata": {},
   "outputs": [
    {
     "data": {
      "text/plain": [
       "False"
      ]
     },
     "execution_count": 9,
     "metadata": {},
     "output_type": "execute_result"
    }
   ],
   "source": [
    "is_after(time2, time1)"
   ]
  },
  {
   "cell_type": "markdown",
   "metadata": {},
   "source": [
    "### 16.2 Pure functions\n",
    "\n",
    "*__Prototype of `add_time`:__*"
   ]
  },
  {
   "cell_type": "code",
   "execution_count": 10,
   "metadata": {},
   "outputs": [],
   "source": [
    "def add_time(t1, t2):\n",
    "    sum = Time()\n",
    "    sum.hour = t1.hour + t2.hour\n",
    "    sum.minute = t1.minute + t2.minute\n",
    "    sum.second = t1.second + t2.second\n",
    "    return sum"
   ]
  },
  {
   "cell_type": "code",
   "execution_count": 11,
   "metadata": {},
   "outputs": [
    {
     "name": "stdout",
     "output_type": "stream",
     "text": [
      "10:80:00\n"
     ]
    }
   ],
   "source": [
    "start = Time()\n",
    "start.hour = 9\n",
    "start.minute = 45\n",
    "start.second = 0\n",
    "\n",
    "duration = Time()\n",
    "duration.hour = 1\n",
    "duration.minute = 35\n",
    "duration.second = 0\n",
    "\n",
    "done = add_time(start, duration)\n",
    "print_time(done)"
   ]
  },
  {
   "cell_type": "markdown",
   "metadata": {},
   "source": [
    "*__Improved version:__*"
   ]
  },
  {
   "cell_type": "code",
   "execution_count": 12,
   "metadata": {},
   "outputs": [],
   "source": [
    "def add_time(t1, t2):\n",
    "    sum = Time()\n",
    "    sum.hour = t1.hour + t2.hour\n",
    "    sum.minute = t1.minute + t2.minute\n",
    "    sum.second = t1.second + t2.second\n",
    "\n",
    "    if sum.second >= 60:\n",
    "        sum.second -= 60\n",
    "        sum.minute += 1\n",
    "\n",
    "    if sum.minute >= 60:\n",
    "        sum.minute -= 60\n",
    "        sum.hour += 1\n",
    "\n",
    "    return sum"
   ]
  },
  {
   "cell_type": "code",
   "execution_count": 13,
   "metadata": {},
   "outputs": [
    {
     "name": "stdout",
     "output_type": "stream",
     "text": [
      "11:20:00\n"
     ]
    }
   ],
   "source": [
    "done = add_time(start, duration)\n",
    "print_time(done)\n"
   ]
  },
  {
   "cell_type": "markdown",
   "metadata": {},
   "source": [
    "### 16.3 Modifiers\n",
    "\n"
   ]
  },
  {
   "cell_type": "code",
   "execution_count": 14,
   "metadata": {},
   "outputs": [],
   "source": [
    "def increment(time, seconds):\n",
    "    time.second += seconds\n",
    "    \n",
    "    if time.second >= 60:\n",
    "        time.second -= 60\n",
    "        time.minute += 1\n",
    "        \n",
    "    if time.minute >= 60:\n",
    "        time.minute -= 60\n",
    "        time.hour += 1"
   ]
  },
  {
   "cell_type": "code",
   "execution_count": 15,
   "metadata": {},
   "outputs": [
    {
     "name": "stdout",
     "output_type": "stream",
     "text": [
      "02:00:30\n"
     ]
    }
   ],
   "source": [
    "time = Time()\n",
    "time.hour = 1\n",
    "time.minute = 59\n",
    "time.second = 30\n",
    "\n",
    "increment(time, 60)\n",
    "\n",
    "print_time(time)"
   ]
  },
  {
   "cell_type": "code",
   "execution_count": 16,
   "metadata": {},
   "outputs": [
    {
     "name": "stdout",
     "output_type": "stream",
     "text": [
      "02:01:61\n"
     ]
    }
   ],
   "source": [
    "# does not work for large values of seconds\n",
    "\n",
    "increment(time, 91)\n",
    "\n",
    "print_time(time)"
   ]
  },
  {
   "cell_type": "markdown",
   "metadata": {},
   "source": [
    "*As an exercise, write a correct version of `increment` that doesn’t contain any loops.*"
   ]
  },
  {
   "cell_type": "code",
   "execution_count": 17,
   "metadata": {},
   "outputs": [],
   "source": [
    "def increment(time, seconds):\n",
    "    \"\"\"\n",
    "    Adds seconds to Time object time.\n",
    "    \"\"\"\n",
    "    # There are 86,400 seconds in a day.\n",
    "    # Time objects can't handle days, so\n",
    "    # for now we'll print a warning and modify \n",
    "    # the time by the remaining number of seconds\n",
    "    # from modulo division.\n",
    "    \n",
    "    days = 0\n",
    "    \n",
    "    if seconds >= 86400:\n",
    "        days, updated_seconds = divmod(seconds, 86400)\n",
    "        seconds = updated_seconds\n",
    "        \n",
    "    \n",
    "    time.second += seconds\n",
    "    \n",
    "    # use divmod in case seconds ends up over 120\n",
    "    if time.second >= 60:\n",
    "        minutes, seconds = divmod(time.second, 60)\n",
    "        time.second = seconds\n",
    "        time.minute += minutes\n",
    "        \n",
    "    # if seconds is large enough, time.minutes\n",
    "    # could go over 60\n",
    "    if time.minute >= 60:\n",
    "        hours, minutes = divmod(time.minute, 60)\n",
    "        time.minute = minutes \n",
    "        time.hour += hours\n",
    "        \n",
    "    # Although the first conditional will catch instances\n",
    "    # where a massive number of seconds will move us\n",
    "    # several days forward, it's still possible that a \n",
    "    # less massive number of seconds will progressively \n",
    "    # increment time.hour past 23\n",
    "    \n",
    "    if time.hour >= 24:\n",
    "        #updated_days, hours = divmod(time.hour, 24)\n",
    "        #time.hour = hours\n",
    "        #days += updated_days\n",
    "        days += 1\n",
    "        time.hour -= 24\n",
    "        \n",
    "        \n",
    "    if days > 0:\n",
    "        print(\"The number of seconds is very large and the incremented time\")\n",
    "        if days == 1:\n",
    "            print(\"would be {} day ahead.\".format(days))\n",
    "        else:\n",
    "            print(\"would be {} days ahead.\".format(days))\n",
    "        \n",
    "    "
   ]
  },
  {
   "cell_type": "code",
   "execution_count": 18,
   "metadata": {},
   "outputs": [
    {
     "name": "stdout",
     "output_type": "stream",
     "text": [
      "02:09:30\n"
     ]
    }
   ],
   "source": [
    "time = Time()\n",
    "time.hour = 1\n",
    "time.minute = 59\n",
    "time.second = 30\n",
    "\n",
    "increment(time, 600)\n",
    "\n",
    "print_time(time)"
   ]
  },
  {
   "cell_type": "code",
   "execution_count": 19,
   "metadata": {},
   "outputs": [
    {
     "name": "stdout",
     "output_type": "stream",
     "text": [
      "03:39:30\n"
     ]
    }
   ],
   "source": [
    "time = Time()\n",
    "time.hour = 1\n",
    "time.minute = 59\n",
    "time.second = 30\n",
    "\n",
    "increment(time, 6000)\n",
    "\n",
    "print_time(time)"
   ]
  },
  {
   "cell_type": "code",
   "execution_count": 20,
   "metadata": {},
   "outputs": [
    {
     "name": "stdout",
     "output_type": "stream",
     "text": [
      "23:59:30\n"
     ]
    }
   ],
   "source": [
    "time = Time()\n",
    "time.hour = 1\n",
    "time.minute = 59\n",
    "time.second = 30\n",
    "\n",
    "increment(time, 79200)\n",
    "\n",
    "print_time(time)"
   ]
  },
  {
   "cell_type": "code",
   "execution_count": 21,
   "metadata": {},
   "outputs": [
    {
     "name": "stdout",
     "output_type": "stream",
     "text": [
      "The number of seconds is very large and the incremented time\n",
      "would be 1 day ahead.\n",
      "00:04:30\n"
     ]
    }
   ],
   "source": [
    "time = Time()\n",
    "time.hour = 1\n",
    "time.minute = 59\n",
    "time.second = 30\n",
    "\n",
    "increment(time, 79500)\n",
    "\n",
    "print_time(time)"
   ]
  },
  {
   "cell_type": "code",
   "execution_count": 22,
   "metadata": {},
   "outputs": [
    {
     "name": "stdout",
     "output_type": "stream",
     "text": [
      "The number of seconds is very large and the incremented time\n",
      "would be 1 day ahead.\n",
      "01:36:10\n"
     ]
    }
   ],
   "source": [
    "time = Time()\n",
    "time.hour = 1\n",
    "time.minute = 59\n",
    "time.second = 30\n",
    "\n",
    "increment(time, 85000)\n",
    "\n",
    "print_time(time)"
   ]
  },
  {
   "cell_type": "code",
   "execution_count": 23,
   "metadata": {},
   "outputs": [
    {
     "name": "stdout",
     "output_type": "stream",
     "text": [
      "The number of seconds is very large and the incremented time\n",
      "would be 7 days ahead.\n",
      "00:39:30\n"
     ]
    }
   ],
   "source": [
    "time = Time()\n",
    "time.hour = 1\n",
    "time.minute = 59\n",
    "time.second = 30\n",
    "\n",
    "increment(time, 600000)\n",
    "\n",
    "print_time(time)"
   ]
  },
  {
   "cell_type": "markdown",
   "metadata": {},
   "source": [
    "*As an exercise, write a “pure” version of `increment` that creates and returns a new `Time` object rather than modifying the parameter.*"
   ]
  },
  {
   "cell_type": "code",
   "execution_count": 24,
   "metadata": {},
   "outputs": [],
   "source": [
    "def pure_increment(time, seconds):\n",
    "    \"\"\"\n",
    "    Returns time object new_time, \n",
    "    which represent seconds added to Time object time.\n",
    "    \"\"\"\n",
    "    # There are 86,400 seconds in a day.\n",
    "    # time objects can't handle days, so\n",
    "    # for now we'll print a warning and modify \n",
    "    # the time by the remaining number of seconds\n",
    "    # from modulo division.\n",
    "    \n",
    "    days = 0\n",
    "    \n",
    "    if seconds >= 86400:\n",
    "        days, updated_seconds = divmod(seconds, 86400)\n",
    "        seconds = updated_seconds\n",
    "      \n",
    "    new_time = Time()\n",
    "    new_time.hour = time.hour\n",
    "    new_time.minute = time.minute\n",
    "    new_time.second = time.second\n",
    "    \n",
    "    new_time.second += seconds\n",
    "    \n",
    "    # use divmod in case seconds ends up over 120\n",
    "    if new_time.second >= 60:\n",
    "        minutes, seconds = divmod(new_time.second, 60)\n",
    "        new_time.second = seconds\n",
    "        new_time.minute += minutes\n",
    "        \n",
    "    # if seconds is large enough, new_time.minutes\n",
    "    # could go over 60\n",
    "    if new_time.minute >= 60:\n",
    "        hours, minutes = divmod(new_time.minute, 60)\n",
    "        new_time.minute = minutes \n",
    "        new_time.hour += hours\n",
    "        \n",
    "    # Although the first conditional will catch instances\n",
    "    # where a massive number of seconds will move us\n",
    "    # several days forward, it's still possible that a \n",
    "    # less massive number of seconds will progressively \n",
    "    # increment new_time.hour past 23\n",
    "    \n",
    "    if new_time.hour >= 24:\n",
    "        #updated_days, hours = divmod(new_time.hour, 24)\n",
    "        #new_time.hour = hours\n",
    "        #days += updated_days\n",
    "        days += 1\n",
    "        new_time.hour -= 24\n",
    "        \n",
    "        \n",
    "    if days > 0:\n",
    "        print(\"The number of seconds is very large and the incremented new_time\")\n",
    "        if days == 1:\n",
    "            print(\"would be {} day ahead.\".format(days))\n",
    "        else:\n",
    "            print(\"would be {} days ahead.\".format(days))\n",
    "    \n",
    "            \n",
    "    return new_time\n",
    "        \n",
    "    "
   ]
  },
  {
   "cell_type": "code",
   "execution_count": 25,
   "metadata": {},
   "outputs": [
    {
     "name": "stdout",
     "output_type": "stream",
     "text": [
      "The number of seconds is very large and the incremented new_time\n",
      "would be 7 days ahead.\n",
      "00:39:30\n"
     ]
    }
   ],
   "source": [
    "time = Time()\n",
    "time.hour = 1\n",
    "time.minute = 59\n",
    "time.second = 30\n",
    "\n",
    "nt = pure_increment(time, 600000)\n",
    "\n",
    "print_time(nt)"
   ]
  },
  {
   "cell_type": "markdown",
   "metadata": {},
   "source": [
    "### 16.4 Prototyping versus planning"
   ]
  },
  {
   "cell_type": "code",
   "execution_count": 26,
   "metadata": {},
   "outputs": [],
   "source": [
    "# code from book\n",
    "\n",
    "def time_to_int(time):\n",
    "    minutes = time.hour * 60 + time.minute\n",
    "    seconds = minutes * 60 + time.second\n",
    "    return seconds\n",
    "\n",
    "def int_to_time(seconds):\n",
    "    time = Time()\n",
    "    minutes, time.second = divmod(seconds, 60)\n",
    "    time.hour, time.minute = divmod(minutes, 60)\n",
    "    return time"
   ]
  },
  {
   "cell_type": "markdown",
   "metadata": {},
   "source": [
    "*__`time_to_int` is essentially the same as the function I wrote above: `number_seconds`.  The way the two functions determine the number of seconds is slightly different, but the results are the same.__*"
   ]
  },
  {
   "cell_type": "code",
   "execution_count": 27,
   "metadata": {},
   "outputs": [
    {
     "data": {
      "text/plain": [
       "7170"
      ]
     },
     "execution_count": 27,
     "metadata": {},
     "output_type": "execute_result"
    }
   ],
   "source": [
    "time = Time()\n",
    "time.hour = 1\n",
    "time.minute = 59\n",
    "time.second = 30\n",
    "\n",
    "time_to_int(time)"
   ]
  },
  {
   "cell_type": "code",
   "execution_count": 28,
   "metadata": {},
   "outputs": [
    {
     "data": {
      "text/plain": [
       "7170"
      ]
     },
     "execution_count": 28,
     "metadata": {},
     "output_type": "execute_result"
    }
   ],
   "source": [
    "number_seconds(time)"
   ]
  },
  {
   "cell_type": "code",
   "execution_count": 29,
   "metadata": {},
   "outputs": [],
   "source": [
    "# code from book\n",
    "\n",
    "def add_time(t1, t2):\n",
    "    seconds = time_to_int(t1) + time_to_int(t2)\n",
    "    return int_to_time(seconds)"
   ]
  },
  {
   "cell_type": "code",
   "execution_count": 30,
   "metadata": {},
   "outputs": [
    {
     "name": "stdout",
     "output_type": "stream",
     "text": [
      "11:20:00\n"
     ]
    }
   ],
   "source": [
    "start = Time()\n",
    "start.hour = 9\n",
    "start.minute = 45\n",
    "start.second = 0\n",
    "\n",
    "duration = Time()\n",
    "duration.hour = 1\n",
    "duration.minute = 35\n",
    "duration.second = 0\n",
    "\n",
    "done = add_time(start, duration)\n",
    "print_time(done)"
   ]
  },
  {
   "cell_type": "markdown",
   "metadata": {},
   "source": [
    "*__As an exercise, rewrite `increment` using `time_to_int` and `int_to_time`.__*"
   ]
  },
  {
   "cell_type": "code",
   "execution_count": 31,
   "metadata": {},
   "outputs": [],
   "source": [
    "def increment(time, seconds):\n",
    "    \"\"\"\n",
    "    Adds int seconds to Time object time.\n",
    "    \"\"\"\n",
    "    return int_to_time(time_to_int(time) + seconds)"
   ]
  },
  {
   "cell_type": "code",
   "execution_count": 32,
   "metadata": {},
   "outputs": [
    {
     "name": "stdout",
     "output_type": "stream",
     "text": [
      "02:09:30\n"
     ]
    }
   ],
   "source": [
    "time = Time()\n",
    "time.hour = 1\n",
    "time.minute = 59\n",
    "time.second = 30\n",
    "\n",
    "time = increment(time, 600)\n",
    "\n",
    "print_time(time)"
   ]
  },
  {
   "cell_type": "markdown",
   "metadata": {},
   "source": [
    "*__`increment` is now much, much shorter, but it doesn't handle large numbers of seconds well:__*"
   ]
  },
  {
   "cell_type": "code",
   "execution_count": 33,
   "metadata": {},
   "outputs": [
    {
     "name": "stdout",
     "output_type": "stream",
     "text": [
      "24:04:30\n"
     ]
    }
   ],
   "source": [
    "time = Time()\n",
    "time.hour = 1\n",
    "time.minute = 59\n",
    "time.second = 30\n",
    "\n",
    "time = increment(time, 79500)\n",
    "\n",
    "print_time(time)"
   ]
  },
  {
   "cell_type": "code",
   "execution_count": 34,
   "metadata": {},
   "outputs": [],
   "source": [
    "def increment(time, seconds, print_days = False):\n",
    "    \"\"\"\n",
    "    Adds int seconds to Time object time.\n",
    "    If the new time is greater than 23:59:59\n",
    "    and print_days = True, the number of days\n",
    "    ahead will be printed.\n",
    "    \"\"\"\n",
    "    \n",
    "    new_time = int_to_time(time_to_int(time) + seconds)\n",
    "    if new_time.hour >= 24:\n",
    "        days, new_time.hour = divmod(new_time.hour, 24)\n",
    "        if print_days:\n",
    "            if days == 1:\n",
    "                print(\"The new time would be {} day ahead.\\n\".format(days))\n",
    "            elif days >= 2:\n",
    "                print(\"The new time would be {} days ahead.\\n\".format(days))\n",
    "    return new_time"
   ]
  },
  {
   "cell_type": "code",
   "execution_count": 35,
   "metadata": {},
   "outputs": [
    {
     "name": "stdout",
     "output_type": "stream",
     "text": [
      "01:36:10\n"
     ]
    }
   ],
   "source": [
    "time = Time()\n",
    "time.hour = 1\n",
    "time.minute = 59\n",
    "time.second = 30\n",
    "\n",
    "time = increment(time, 85000)\n",
    "\n",
    "print_time(time)"
   ]
  },
  {
   "cell_type": "code",
   "execution_count": 36,
   "metadata": {},
   "outputs": [
    {
     "name": "stdout",
     "output_type": "stream",
     "text": [
      "The new time would be 7 days ahead.\n",
      "\n",
      "01:59:30\n"
     ]
    }
   ],
   "source": [
    "time = Time()\n",
    "time.hour = 1\n",
    "time.minute = 59\n",
    "time.second = 30\n",
    "\n",
    "increment(time, 600000, print_days=True)\n",
    "\n",
    "print_time(time)"
   ]
  },
  {
   "cell_type": "markdown",
   "metadata": {},
   "source": [
    "### 16.5 Debugging"
   ]
  },
  {
   "cell_type": "code",
   "execution_count": 37,
   "metadata": {},
   "outputs": [],
   "source": [
    "# (mostly) code from book\n",
    "\n",
    "def valid_time(time):\n",
    "    if time.hour < 0 or time.minute < 0 or time.second < 0:\n",
    "        return False\n",
    "    \n",
    "    # hours greater than 23 will be rejected\n",
    "    if time.hour >= 24 or time.minute >= 60 or time.second >= 60:\n",
    "        return False\n",
    "    return True\n",
    "\n",
    "def add_time(t1, t2):\n",
    "    if not valid_time(t1) or not valid_time(t2):\n",
    "        raise ValueError('invalid Time object in add_time')\n",
    "    \n",
    "    seconds = time_to_int(t1) + time_to_int(t2)\n",
    "    return int_to_time(seconds)"
   ]
  },
  {
   "cell_type": "markdown",
   "metadata": {},
   "source": [
    "### 16.7 Exercises\n",
    "\n",
    "#### Exercise 1\n",
    "\n",
    "*Write a function called `mul_time` that takes a `Time` object and a number and returns a new `Time` object that contains the product of the original `Time` and the number.*\n",
    "\n",
    "\n"
   ]
  },
  {
   "cell_type": "code",
   "execution_count": 38,
   "metadata": {},
   "outputs": [],
   "source": [
    "def mul_time(time, number):\n",
    "    if not valid_time(time):\n",
    "        raise ValueError('invalid Time object in mul_time')\n",
    "    return int_to_time(time_to_int(time) * number)"
   ]
  },
  {
   "cell_type": "code",
   "execution_count": 39,
   "metadata": {},
   "outputs": [
    {
     "name": "stdout",
     "output_type": "stream",
     "text": [
      "04:30:00\n"
     ]
    }
   ],
   "source": [
    "time = Time()\n",
    "time.hour = 1\n",
    "time.minute = 30\n",
    "time.second = 0\n",
    "\n",
    "print_time(mul_time(time, 3))"
   ]
  },
  {
   "cell_type": "markdown",
   "metadata": {},
   "source": [
    "*Then use `mul_time` to write a function that takes a `Time` object that represents the finishing time in a race, and a number that represents the distance, and returns a `Time` object that represents the average pace (time per mile).*"
   ]
  },
  {
   "cell_type": "code",
   "execution_count": 40,
   "metadata": {},
   "outputs": [],
   "source": [
    "def find_split_time(time, distance):\n",
    "    return mul_time(time, 1/distance)"
   ]
  },
  {
   "cell_type": "code",
   "execution_count": 41,
   "metadata": {},
   "outputs": [],
   "source": [
    "def print_time(time, thousandths = False):\n",
    "    if thousandths:\n",
    "        print(\"{:02.0f}:{:02.0f}:{:06.3f}\".format(time.hour, time.minute, time.second))\n",
    "    else:\n",
    "        print(\"{:02.0f}:{:02.0f}:{:02.0f}\".format(time.hour, time.minute, time.second))"
   ]
  },
  {
   "cell_type": "code",
   "execution_count": 42,
   "metadata": {},
   "outputs": [
    {
     "name": "stdout",
     "output_type": "stream",
     "text": [
      "00:04:36.923\n"
     ]
    }
   ],
   "source": [
    "time = Time()\n",
    "time.hour = 1\n",
    "time.minute = 0\n",
    "time.second = 0\n",
    "\n",
    "split_time = find_split_time(time, 13)\n",
    "print_time(split_time, thousandths=True)\n",
    "#print(\"{}:{}:{}\".format(split_time.hour, split_time.minute, split_time.second))"
   ]
  },
  {
   "cell_type": "markdown",
   "metadata": {},
   "source": [
    "#### Exercise 2  \n",
    "\n",
    "*The `datetime` module provides `time` objects that are similar to the Time objects in this chapter, but they provide a rich set of methods and operators. Read the documentation at http://docs.python.org/3/library/datetime.html.*\n",
    "\n",
    "\n",
    "<ol>\n",
    "    1.<i>Use the <code>datetime</code> module to write a program that gets the current date and prints the day of the week.</i>\n",
    "    </ol\n",
    "    \n",
    "<br>\n",
    "<br>\n",
    "\n",
    "*__Using the method `.strftime()`.  Documentation is [here](https://docs.python.org/3.7/library/datetime.html#strftime-and-strptime-behavior \".strftime()\").__*"
   ]
  },
  {
   "cell_type": "code",
   "execution_count": 43,
   "metadata": {},
   "outputs": [],
   "source": [
    "from datetime import datetime\n",
    "\n",
    "def print_current_day_of_week():\n",
    "\n",
    "    print(datetime.today().strftime('%A'))\n",
    "\n"
   ]
  },
  {
   "cell_type": "code",
   "execution_count": 44,
   "metadata": {},
   "outputs": [
    {
     "name": "stdout",
     "output_type": "stream",
     "text": [
      "Saturday\n"
     ]
    }
   ],
   "source": [
    "print_current_day_of_week()"
   ]
  },
  {
   "cell_type": "markdown",
   "metadata": {},
   "source": [
    "<ul>\n",
    "    2.<i>Write a program that takes a birthday as input and prints the user’s age and the number of days, hours, minutes and seconds until their next birthday.</i></ul>\n"
   ]
  },
  {
   "cell_type": "code",
   "execution_count": 45,
   "metadata": {},
   "outputs": [],
   "source": [
    "def make_birthday_countdown(byear, bmonth, bday):\n",
    "    \"\"\"\n",
    "    Prints out user's age and number of days, hours, minutes\n",
    "    and seconds until his/her next birthdya.\n",
    "    \"\"\"\n",
    "    \n",
    "    now = datetime.now()\n",
    "    \n",
    "    # next birthday is this year\n",
    "    if (now.month < bmonth) or (bmonth == now.month and now.day < bday):\n",
    "        next_bday = datetime(now.year, bmonth, bday)\n",
    "        age = now.year - byear - 1\n",
    "    # next birthday is next year\n",
    "    else:\n",
    "        next_bday = datetime(now.year + 1, bmonth, bday)\n",
    "        age = now.year - byear\n",
    "        \n",
    "    # calculate difference    \n",
    "    diff = next_bday - now\n",
    "    \n",
    "    # convert seconds to time\n",
    "    time = int_to_time(diff.seconds)\n",
    "    \n",
    "    print(\"You are {} years old and there are {} day(s), {} hour(s), {} minute(s), and {} second(s) till your next birthday.\".format(age, diff.days, time.hour, time.minute, time.second)) \n",
    "          \n",
    "        \n",
    "    "
   ]
  },
  {
   "cell_type": "code",
   "execution_count": 46,
   "metadata": {},
   "outputs": [
    {
     "name": "stdout",
     "output_type": "stream",
     "text": [
      "You are 43 years old and there are 23 day(s), 1 hour(s), 14 minute(s), and 32 second(s) till your next birthday.\n"
     ]
    }
   ],
   "source": [
    "make_birthday_countdown(1975, 10, 1)"
   ]
  },
  {
   "cell_type": "markdown",
   "metadata": {},
   "source": [
    "<ul>\n",
    "    3.<i>For two people born on different days, there is a day when one is twice as old as the other. That’s their Double Day. Write a program that takes two birth dates and computes their Double Day.</i>\n"
   ]
  },
  {
   "cell_type": "code",
   "execution_count": 49,
   "metadata": {},
   "outputs": [],
   "source": [
    "from datetime import timedelta\n",
    "\n",
    "def find_doubleday(Abyear, Abmonth, Abday, Bbyear, Bbmonth, Bbday):\n",
    "    \n",
    "    A_birthday = datetime(Abyear, Abmonth, Abday)\n",
    "    B_birthday = datetime(Bbyear, Bbmonth, Bbday)\n",
    "    \n",
    "    if A_birthday < B_birthday:\n",
    "        earlier_bday, later_bday = A_birthday, B_birthday\n",
    "    else:\n",
    "        earlier_bday, later_bday = B_birthday, A_birthday\n",
    "        \n",
    "    double_day = later_bday + timedelta((later_bday - earlier_bday).days)\n",
    "    \n",
    "    print(\"The 'double day' is {} {}, {}.\".format(double_day.strftime('%B'), double_day.day, double_day.year))\n",
    "        "
   ]
  },
  {
   "cell_type": "code",
   "execution_count": 50,
   "metadata": {},
   "outputs": [
    {
     "name": "stdout",
     "output_type": "stream",
     "text": [
      "The 'double day' is September 19, 2044.\n"
     ]
    }
   ],
   "source": [
    "find_doubleday(1975, 4, 21, 2010, 1, 4)"
   ]
  },
  {
   "cell_type": "markdown",
   "metadata": {},
   "source": [
    "<ul>\n",
    "    4.<i>For a little more challenge, write the more general version that computes the day when one person is n times older than the other.</i>"
   ]
  },
  {
   "cell_type": "code",
   "execution_count": 51,
   "metadata": {},
   "outputs": [],
   "source": [
    "def find_n_times_day(Abyear, Abmonth, Abday, Bbyear, Bbmonth, Bbday, n):\n",
    "    \n",
    "    A_birthday = datetime(Abyear, Abmonth, Abday)\n",
    "    B_birthday = datetime(Bbyear, Bbmonth, Bbday)\n",
    "    \n",
    "    if A_birthday < B_birthday:\n",
    "        earlier_bday, later_bday = A_birthday, B_birthday\n",
    "    else:\n",
    "        earlier_bday, later_bday = B_birthday, A_birthday\n",
    "        \n",
    "    day_diff = (later_bday - earlier_bday).days\n",
    "    \n",
    "         \n",
    "    n_day = later_bday + timedelta(day_diff/(n - 1))\n",
    "    \n",
    "    print(\"{} {}, {} is the day when the older person is {} times older than the younger.\".format(n_day.strftime('%B'), n_day.day, n_day.year, n))\n",
    "        \n",
    "    \n",
    "    \n",
    "    \n",
    "        "
   ]
  },
  {
   "cell_type": "code",
   "execution_count": 52,
   "metadata": {},
   "outputs": [
    {
     "name": "stdout",
     "output_type": "stream",
     "text": [
      "July 30, 2021 is the day when the older person is 4 times older than the younger.\n"
     ]
    }
   ],
   "source": [
    "find_n_times_day(1975, 4, 21, 2010, 1, 4, 4)"
   ]
  }
 ],
 "metadata": {
  "kernelspec": {
   "display_name": "Python 3",
   "language": "python",
   "name": "python3"
  },
  "language_info": {
   "codemirror_mode": {
    "name": "ipython",
    "version": 3
   },
   "file_extension": ".py",
   "mimetype": "text/x-python",
   "name": "python",
   "nbconvert_exporter": "python",
   "pygments_lexer": "ipython3",
   "version": "3.7.3"
  }
 },
 "nbformat": 4,
 "nbformat_minor": 2
}
