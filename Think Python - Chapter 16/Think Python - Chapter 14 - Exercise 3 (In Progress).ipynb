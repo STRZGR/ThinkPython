{
 "cells": [
  {
   "cell_type": "markdown",
   "metadata": {},
   "source": [
    "#### Exercise 3  \n",
    "\n",
    "*In a large collection of MP3 files, there may be more than one copy of the same song, stored in different directories or with different file names. The goal of this exercise is to search for duplicates.*\n",
    "\n",
    "<ol>\n",
    "    <li><i>Write a program that searches a directory and all of its subdirectories, recursively, and returns a list of complete paths for all files with a given suffix (like .mp3). Hint: os.path provides several useful functions for manipulating file and path names.</li></i>\n",
    "    <li><i>To recognize duplicates, you can use md5sum to compute a “checksum” for each files. If two files have the same checksum, they probably have the same contents.</li></i>\n",
    "    <li><i>To double-check, you can use the Unix command diff.</li></i>\n",
    "</ol>"
   ]
  },
  {
   "cell_type": "code",
   "execution_count": 2,
   "metadata": {},
   "outputs": [],
   "source": [
    "import hashlib\n",
    "import os"
   ]
  },
  {
   "cell_type": "markdown",
   "metadata": {},
   "source": [
    "*__The following four cells calculate the checksum of the contents of the files, which is what we want.  The code I had been using up to now just calculated the checksum of the names of the files, which is something much different.__*"
   ]
  },
  {
   "cell_type": "code",
   "execution_count": 34,
   "metadata": {},
   "outputs": [],
   "source": [
    "path = \"D:\\\\ThinkPython-master\\\\ThinkPython-master\\\\Chapter 14\\\\folder1\"\n",
    "# os.chdir(path)"
   ]
  },
  {
   "cell_type": "code",
   "execution_count": 36,
   "metadata": {},
   "outputs": [
    {
     "name": "stdout",
     "output_type": "stream",
     "text": [
      "9212f2d2fdeda712c2f5e0b3b32e159b\n"
     ]
    }
   ],
   "source": [
    "# cf. https://stackoverflow.com/questions/16874598/how-do-i-calculate-the-md5-checksum-of-a-file-in-python\n",
    "\n",
    "for name in os.listdir(path):\n",
    "        newpath = os.path.join(path, name)\n",
    "        \n",
    "        if os.path.isfile(newpath):  \n",
    "            if newpath.endswith('mp3'):\n",
    "                print(hashlib.md5(open(newpath,'rb').read()).hexdigest())"
   ]
  },
  {
   "cell_type": "code",
   "execution_count": 40,
   "metadata": {},
   "outputs": [],
   "source": [
    "path = \"D:\\\\ThinkPython-master\\\\ThinkPython-master\\\\Chapter 14\\\\folder2\"\n",
    "# os.chdir(path)"
   ]
  },
  {
   "cell_type": "code",
   "execution_count": 41,
   "metadata": {},
   "outputs": [
    {
     "name": "stdout",
     "output_type": "stream",
     "text": [
      "9212f2d2fdeda712c2f5e0b3b32e159b\n"
     ]
    }
   ],
   "source": [
    "for name in os.listdir(path):\n",
    "        newpath = os.path.join(path, name)\n",
    "        \n",
    "        if os.path.isfile(newpath):\n",
    "            if newpath.endswith('mp3'):\n",
    "                print(hashlib.md5(open(newpath,'rb').read()).hexdigest())\n",
    "            "
   ]
  },
  {
   "cell_type": "code",
   "execution_count": null,
   "metadata": {},
   "outputs": [],
   "source": [
    "# author's code\n",
    "\n",
    "import os\n",
    "\n",
    "def walk(dirname):\n",
    "    for name in os.listdir(dirname):\n",
    "        path = os.path.join(dirname, name)\n",
    "        \n",
    "        if os.path.isfile(path):\n",
    "            print(path)\n",
    "        else:\n",
    "            walk(path)"
   ]
  },
  {
   "cell_type": "markdown",
   "metadata": {},
   "source": [
    "TO DO: use walk (from the book) to get a list of file names.  Make one function that will create md5 checksums, and another one that will create a dictionary by calling the previous function for files that end with a given suffix.  "
   ]
  },
  {
   "cell_type": "code",
   "execution_count": null,
   "metadata": {},
   "outputs": [],
   "source": []
  }
 ],
 "metadata": {
  "kernelspec": {
   "display_name": "Python 3",
   "language": "python",
   "name": "python3"
  },
  "language_info": {
   "codemirror_mode": {
    "name": "ipython",
    "version": 3
   },
   "file_extension": ".py",
   "mimetype": "text/x-python",
   "name": "python",
   "nbconvert_exporter": "python",
   "pygments_lexer": "ipython3",
   "version": "3.7.3"
  }
 },
 "nbformat": 4,
 "nbformat_minor": 2
}
