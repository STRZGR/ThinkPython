{
 "cells": [
  {
   "cell_type": "markdown",
   "metadata": {},
   "source": [
    "# Think Python\n",
    "\n",
    "## Chapter 9 Case study: word play\n",
    "\n",
    "*HTML version of this chapter in \"Think Python 2e\" can be found [here](http://greenteapress.com/thinkpython2/html/thinkpython2010.html \"Chpt 9\").*\n",
    "\n",
    "### 9.1 Reading word lists\n",
    "\n",
    "*Importing the word list from [this link](http://thinkpython2.com/code/words.txt \"words.txt\"), and using `open()` to open the file:*"
   ]
  },
  {
   "cell_type": "markdown",
   "metadata": {},
   "source": [
    "*`.readline()` reads characters until it gets to a newline, and then returns the result as a string:*"
   ]
  },
  {
   "cell_type": "code",
   "execution_count": 2,
   "metadata": {},
   "outputs": [
    {
     "data": {
      "text/plain": [
       "'aa\\n'"
      ]
     },
     "execution_count": 2,
     "metadata": {},
     "output_type": "execute_result"
    }
   ],
   "source": [
    "fin.readline()"
   ]
  },
  {
   "cell_type": "markdown",
   "metadata": {},
   "source": [
    "*`.readline()` will remember our place in the file:*\n"
   ]
  },
  {
   "cell_type": "code",
   "execution_count": 3,
   "metadata": {},
   "outputs": [
    {
     "data": {
      "text/plain": [
       "'aah\\n'"
      ]
     },
     "execution_count": 3,
     "metadata": {},
     "output_type": "execute_result"
    }
   ],
   "source": [
    "fin.readline()"
   ]
  },
  {
   "cell_type": "markdown",
   "metadata": {},
   "source": [
    "*Using `.strip()` to get rid of the newline character:*"
   ]
  },
  {
   "cell_type": "code",
   "execution_count": 4,
   "metadata": {},
   "outputs": [
    {
     "data": {
      "text/plain": [
       "'aahed'"
      ]
     },
     "execution_count": 4,
     "metadata": {},
     "output_type": "execute_result"
    }
   ],
   "source": [
    "fin.readline().strip()"
   ]
  },
  {
   "cell_type": "markdown",
   "metadata": {},
   "source": [
    "*Here's a `for`-loop that will read each word in `words.txt` and print it, one word per line:*\n",
    "\n",
    "```\n",
    "fin = open('words.txt')\n",
    "for line in fin:\n",
    "    print(line.strip())\n",
    "```\n",
    "\n",
    "*It takes quite a while for the iPython interpreter at GitHub to iterate through all the words in the list, so for the sake of speed and space, the next cell uses a `for` loop to go through just the first 30.*"
   ]
  },
  {
   "cell_type": "code",
   "execution_count": 5,
   "metadata": {},
   "outputs": [
    {
     "name": "stdout",
     "output_type": "stream",
     "text": [
      "aa\n",
      "aah\n",
      "aahed\n",
      "aahing\n",
      "aahs\n",
      "aal\n",
      "aalii\n",
      "aaliis\n",
      "aals\n",
      "aardvark\n",
      "aardvarks\n",
      "aardwolf\n",
      "aardwolves\n",
      "aas\n",
      "aasvogel\n",
      "aasvogels\n",
      "aba\n",
      "abaca\n",
      "abacas\n",
      "abaci\n",
      "aback\n",
      "abacus\n",
      "abacuses\n",
      "abaft\n",
      "abaka\n",
      "abakas\n",
      "abalone\n",
      "abalones\n",
      "abamp\n",
      "abampere\n"
     ]
    }
   ],
   "source": [
    "fin = open('words.txt')\n",
    "i = 0\n",
    "for line in fin:   \n",
    "    if i < 30:\n",
    "        print(line.strip())\n",
    "    i += 1\n"
   ]
  },
  {
   "cell_type": "markdown",
   "metadata": {},
   "source": [
    "### 9.2  Exercises\n",
    "*There are solutions to these exercises in the next section. You should at least attempt each one before you read the solutions.*\n",
    "\n",
    "#### Exercise 1   \n",
    "\n",
    "*Write a program that reads `words.txt` and prints only the words with more than 20 characters (not counting whitespace).*"
   ]
  },
  {
   "cell_type": "code",
   "execution_count": 6,
   "metadata": {},
   "outputs": [
    {
     "name": "stdout",
     "output_type": "stream",
     "text": [
      "counterdemonstrations\n",
      "hyperaggressivenesses\n",
      "microminiaturizations\n"
     ]
    }
   ],
   "source": [
    "fin = open('words.txt')\n",
    "for line in fin:\n",
    "    word = line.strip()\n",
    "    if len(word) > 20:\n",
    "        print(word)"
   ]
  },
  {
   "cell_type": "markdown",
   "metadata": {},
   "source": [
    "#### Exercise 2  \n",
    "\n",
    "*In 1939 Ernest Vincent Wright published a 50,000 word novel called Gadsby that does not contain the letter “e”. Since “e” is the most common letter in English, that’s not easy to do.*\n",
    "\n",
    "*In fact, it is difficult to construct a solitary thought without using that most common symbol. It is slow going at first, but with caution and hours of training you can gradually gain facility.*\n",
    "\n",
    "*All right, I’ll stop now.*\n",
    "\n",
    "*Write a function called `has_no_e` that returns `True` if the given word doesn’t have the letter “e” in it.*\n",
    "\n",
    "*Write a program that reads `words.txt` and prints only the words that have no “e”. Compute the percentage of words in the list that have no “e”.*\n"
   ]
  },
  {
   "cell_type": "code",
   "execution_count": 7,
   "metadata": {},
   "outputs": [],
   "source": [
    "def has_no_e(word):\n",
    "    \"\"\"\n",
    "    Returns False if word contains the character 'e'.\n",
    "    \"\"\"\n",
    "    \n",
    "    if \"e\" in word:\n",
    "        return False\n",
    "    return True"
   ]
  },
  {
   "cell_type": "code",
   "execution_count": 8,
   "metadata": {},
   "outputs": [
    {
     "data": {
      "text/plain": [
       "True"
      ]
     },
     "execution_count": 8,
     "metadata": {},
     "output_type": "execute_result"
    }
   ],
   "source": [
    "has_no_e(\"banana\")"
   ]
  },
  {
   "cell_type": "code",
   "execution_count": 9,
   "metadata": {},
   "outputs": [
    {
     "data": {
      "text/plain": [
       "False"
      ]
     },
     "execution_count": 9,
     "metadata": {},
     "output_type": "execute_result"
    }
   ],
   "source": [
    "has_no_e(\"grape\")"
   ]
  },
  {
   "cell_type": "code",
   "execution_count": 10,
   "metadata": {},
   "outputs": [
    {
     "name": "stdout",
     "output_type": "stream",
     "text": [
      "aa\n",
      "aah\n",
      "aahing\n",
      "aahs\n",
      "aal\n",
      "aalii\n",
      "aaliis\n",
      "aals\n",
      "aardvark\n",
      "aardvarks\n",
      "aardwolf\n",
      "aas\n",
      "aba\n",
      "abaca\n",
      "abacas\n",
      "abaci\n",
      "aback\n",
      "abacus\n",
      "abaft\n",
      "abaka\n",
      "abakas\n",
      "abamp\n",
      "abamps\n",
      "abandon\n",
      "abandoning\n",
      "abandons\n",
      "abas\n",
      "abash\n",
      "abashing\n",
      "abasing\n"
     ]
    },
    {
     "data": {
      "text/plain": [
       "37641"
      ]
     },
     "execution_count": 10,
     "metadata": {},
     "output_type": "execute_result"
    }
   ],
   "source": [
    "fin = open('words.txt')\n",
    "\n",
    "# Tallying and printing words in words.txt without 'e'\n",
    "\n",
    "no_e_tally = 0\n",
    "i = 0\n",
    "\n",
    "# As was the case above, this list returns only the first\n",
    "# 30 results\n",
    "for line in fin:\n",
    "    word = line.strip()\n",
    "    if has_no_e(word):\n",
    "        if i < 30:\n",
    "            print(word)\n",
    "            i += 1\n",
    "        no_e_tally += 1\n",
    "        \n",
    "no_e_tally"
   ]
  },
  {
   "cell_type": "code",
   "execution_count": 11,
   "metadata": {},
   "outputs": [
    {
     "name": "stdout",
     "output_type": "stream",
     "text": [
      "33.0738% of the words in 'words.txt' do not have the letter 'e'.\n"
     ]
    }
   ],
   "source": [
    "# Tallying number of words in words.txt\n",
    "\n",
    "fin = open('words.txt')\n",
    "tally = 0\n",
    "for line in fin:\n",
    "    tally += 1\n",
    "\n",
    "# Calculating and printing the percentage of words without 'e'\n",
    "    \n",
    "print(\"{0:.6}% of the words in 'words.txt' do not have the letter 'e'.\".format((no_e_tally/tally) * 100))"
   ]
  },
  {
   "cell_type": "markdown",
   "metadata": {},
   "source": [
    "#### Exercise 3  \n",
    "*Write a function named `avoids` that takes a word and a string of forbidden letters, and that returns `True` if the word doesn’t use any of the forbidden letters.*\n",
    "\n",
    "*Write a program that prompts the user to enter a string of forbidden letters and then prints the number of words that don’t contain any of them. Can you find a combination of 5 forbidden letters that excludes the smallest number of words?*\n"
   ]
  },
  {
   "cell_type": "code",
   "execution_count": 54,
   "metadata": {},
   "outputs": [],
   "source": [
    "def avoids(forbidden, word):\n",
    "    \"\"\"\n",
    "    Returns False if word contains one of \n",
    "    the characters in the forbidden string.\n",
    "    \"\"\"\n",
    "    for character in forbidden:\n",
    "        if character in word:\n",
    "            return False\n",
    "    return True"
   ]
  },
  {
   "cell_type": "code",
   "execution_count": 13,
   "metadata": {},
   "outputs": [
    {
     "data": {
      "text/plain": [
       "False"
      ]
     },
     "execution_count": 13,
     "metadata": {},
     "output_type": "execute_result"
    }
   ],
   "source": [
    "forbidden = \"abcde\"\n",
    "word = \"grape\"\n",
    "avoids(forbidden, word)"
   ]
  },
  {
   "cell_type": "code",
   "execution_count": 14,
   "metadata": {},
   "outputs": [
    {
     "data": {
      "text/plain": [
       "True"
      ]
     },
     "execution_count": 14,
     "metadata": {},
     "output_type": "execute_result"
    }
   ],
   "source": [
    "forbidden = \"abcde\"\n",
    "word = \"stuff\"\n",
    "avoids(forbidden, word)"
   ]
  },
  {
   "cell_type": "markdown",
   "metadata": {},
   "source": [
    "*__There are $26 \\choose 5$ - or 65,780 - different ways of choosing five letters from the alphabet. The most efficient way of selecting the five letters that exclude the fewest words might be to look at a list of letter frequency (e.g., [this one from Wikipedia](https://en.wikipedia.org/wiki/Letter_frequency \"letter frequency\")), and choose the five least common letters:__*"
   ]
  },
  {
   "cell_type": "code",
   "execution_count": 15,
   "metadata": {},
   "outputs": [
    {
     "data": {
      "text/plain": [
       "17945"
      ]
     },
     "execution_count": 15,
     "metadata": {},
     "output_type": "execute_result"
    }
   ],
   "source": [
    "# Tallying and printing words in words.txt without 'zqxjk'\n",
    "\n",
    "fin = open('words.txt')\n",
    "forbidden = \"zqxjk\"\n",
    "avoids_tally = tally\n",
    "for line in fin:\n",
    "    if avoids(forbidden, line.strip()):\n",
    "        avoids_tally -= 1\n",
    "    \n",
    "avoids_tally"
   ]
  },
  {
   "cell_type": "markdown",
   "metadata": {},
   "source": [
    "*__While this may seem a logical way to approach the problem, it unfortunately does not generate the correct answer.  For the sake of completeness, I created an algorithm that generated all 65,780 possible five-letter combinations, and tested all of them with the function `avoids`.  The algorithm that generated the combinations is fairly verbose, but it uses only functions that have been introduced in the book so far:__*"
   ]
  },
  {
   "cell_type": "code",
   "execution_count": 16,
   "metadata": {},
   "outputs": [
    {
     "name": "stdout",
     "output_type": "stream",
     "text": [
      "abcde\n",
      "abcdf\n",
      "abcdg\n",
      "abcdh\n",
      "abcdi\n",
      "abcdj\n",
      "abcdk\n",
      "abcdl\n",
      "abcdm\n",
      "abcdn\n",
      "abcdo\n",
      "abcdp\n",
      "abcdq\n",
      "abcdr\n",
      "abcds\n",
      "abcdt\n",
      "abcdu\n",
      "abcdv\n",
      "abcdw\n",
      "abcdx\n",
      "abcdy\n",
      "abcdz\n",
      "abcef\n",
      "abceg\n",
      "abceh\n",
      "abcei\n",
      "abcej\n",
      "abcek\n",
      "abcel\n",
      "abcem\n",
      "...\n",
      "The total number of combinations would be: 65780\n"
     ]
    }
   ],
   "source": [
    "# create a string with all of the letters of the alphabet\n",
    "\n",
    "alphabet = \"\"\n",
    "for i in range(ord('a'), ord('z') + 1):\n",
    "    alphabet += chr(i)\n",
    "    \n",
    "# Use that string to generate all the possible combinations\n",
    "n = 0\n",
    "p1 = n\n",
    "\n",
    "# Again we're limiting results to the first 30\n",
    "i = 0\n",
    "tally = 0\n",
    "while p1 < len(alphabet):\n",
    "    p2 = p1 + 1\n",
    "    while p2 < len(alphabet):\n",
    "        p3 = p2 + 1\n",
    "        while p3 < len(alphabet):\n",
    "            p4 = p3 + 1\n",
    "            while p4 < len(alphabet):\n",
    "                p5 = p4 + 1\n",
    "                while p5 < len(alphabet):\n",
    "                    letter_seq = (alphabet[p1] + alphabet[p2] + alphabet[p3] +\n",
    "                                 alphabet[p4] + alphabet[p5])\n",
    "                    if i < 30:\n",
    "                        print(letter_seq)\n",
    "                        i += 1\n",
    "                    tally += 1\n",
    "                    p5 += 1\n",
    "                p4 += 1\n",
    "            p3 += 1\n",
    "        p2 += 1\n",
    "    p1 += 1\n",
    "    \n",
    "print(\"...\\nThe total number of combinations would be:\", tally)"
   ]
  },
  {
   "cell_type": "markdown",
   "metadata": {},
   "source": [
    "*__There are recursive functions that generate the same combinations - cf. [here](http://amjith.blogspot.com/2011/10/picking-items-from-list-of-recursion.html \"recursive function to generate combinations\"); but these use `lists`, which have not yet been covered in \"Think Python 2e\".  Furthermore, recursive functions tend to be slow.__*"
   ]
  },
  {
   "cell_type": "code",
   "execution_count": 17,
   "metadata": {},
   "outputs": [],
   "source": [
    "# from http://amjith.blogspot.com/2011/10/picking-items-from-list-of-recursion.html\n",
    "\n",
    "def combo(w, l):\n",
    "    lst = []\n",
    "    for i in range(len(w)):\n",
    "        if l == 1:\n",
    "            lst.append(w[i])\n",
    "        for c in combo(w[i+1:], l-1):\n",
    "            lst.append(w[i] + c)\n",
    "    return lst\n",
    "\n"
   ]
  },
  {
   "cell_type": "code",
   "execution_count": 46,
   "metadata": {},
   "outputs": [
    {
     "data": {
      "text/plain": [
       "['abcde',\n",
       " 'abcdf',\n",
       " 'abcdg',\n",
       " 'abcdh',\n",
       " 'abcdi',\n",
       " 'abcdj',\n",
       " 'abcdk',\n",
       " 'abcdl',\n",
       " 'abcdm',\n",
       " 'abcdn',\n",
       " 'abcdo',\n",
       " 'abcdp',\n",
       " 'abcdq',\n",
       " 'abcdr',\n",
       " 'abcds',\n",
       " 'abcdt',\n",
       " 'abcdu',\n",
       " 'abcdv',\n",
       " 'abcdw',\n",
       " 'abcdx',\n",
       " 'abcdy',\n",
       " 'abcdz',\n",
       " 'abcef',\n",
       " 'abceg',\n",
       " 'abceh',\n",
       " 'abcei',\n",
       " 'abcej',\n",
       " 'abcek',\n",
       " 'abcel',\n",
       " 'abcem']"
      ]
     },
     "execution_count": 46,
     "metadata": {},
     "output_type": "execute_result"
    }
   ],
   "source": [
    "combo_list = combo(alphabet, 5)\n",
    "combo_list[:30]"
   ]
  },
  {
   "cell_type": "markdown",
   "metadata": {},
   "source": [
    "*__I tested all the combinations on a fairly fast machine (Core i7 processor, 8GB RAM), but the following code was very slow and took nearly two hours to run. If you have a couple of hours to kill, the code can be found [here](https://github.com/Sturzgefahr/ThinkPython/blob/master/Think%20Python%20-%20Chapter%2009/least_frequent_combo.py \"least_frequent_combo.py\").__*\n",
    "\n",
    "\n",
    "```\n",
    "# Tallying and printing words in words.txt without every five letter combination\n",
    "\n",
    "fin = open('words.txt')\n",
    "\n",
    "# Tallying number of words in words.txt\n",
    "\n",
    "tally = 0\n",
    "for line in fin:\n",
    "    tally += 1\n",
    "    \n",
    "# initializing the tally and setting the least_freq_combo\n",
    "\n",
    "least_freq_tally = 0\n",
    "least_freq_combo = \"\"\n",
    "\n",
    "# creating all possible combinations \n",
    "\n",
    "n = 0\n",
    "p1 = n\n",
    "while p1 < len(alphabet):\n",
    "    p2 = p1 + 1\n",
    "    while p2 < len(alphabet):\n",
    "        p3 = p2 + 1\n",
    "        while p3 < len(alphabet):\n",
    "            p4 = p3 + 1\n",
    "            while p4 < len(alphabet):\n",
    "                p5 = p4 + 1\n",
    "                while p5 < len(alphabet):\n",
    "                    forbidden = (alphabet[p1] + alphabet[p2] + alphabet[p3] +\n",
    "                                 alphabet[p4] + alphabet[p5])\n",
    "                    avoids_tally = tally\n",
    "                    fin = open('words.txt')\n",
    "                    \n",
    "                    # testing the new combination\n",
    "                    \n",
    "                    for line in fin:\n",
    "                        if avoids(forbidden, line.strip()):\n",
    "                            avoids_tally -=1\n",
    "                    \n",
    "                    # updating the tally and least_freq_combo\n",
    "                    \n",
    "                    if avoids_tally > least_freq_tally:\n",
    "                        least_freq_tally = avoids_tally\n",
    "                        least_freq_combo = forbidden\n",
    "                    \n",
    "                    p5 += 1\n",
    "                p4 += 1\n",
    "            p3 += 1\n",
    "        p2 += 1\n",
    "    p1 += 1\n",
    "    \n",
    "print(least_freq_combo)\n",
    "print(least_freq_tally)\n",
    "```"
   ]
  },
  {
   "cell_type": "markdown",
   "metadata": {},
   "source": [
    "*__After about two hours, I got my result: `jqwxz` excluded the fewest words: 17384, or about 600 fewer that just using the five least common letters in English:__*"
   ]
  },
  {
   "cell_type": "code",
   "execution_count": 56,
   "metadata": {},
   "outputs": [
    {
     "data": {
      "text/plain": [
       "17384"
      ]
     },
     "execution_count": 56,
     "metadata": {},
     "output_type": "execute_result"
    }
   ],
   "source": [
    "fin = open('words.txt')\n",
    "tally = 0\n",
    "for line in fin:\n",
    "    tally += 1\n",
    "\n",
    "fin = open('words.txt')\n",
    "forbidden = \"jqwxz\"\n",
    "avoids_tally = tally\n",
    "for line in fin:\n",
    "    if avoids(forbidden, line.strip()):\n",
    "        avoids_tally -= 1\n",
    "    \n",
    "avoids_tally"
   ]
  },
  {
   "cell_type": "markdown",
   "metadata": {},
   "source": [
    "*__For the sake of comparison I tried to run through the different combinations once more, this time using those produced by the recursive algorithm.  The differences in time to complete were negligible (85 mins. vs. 89 mins.), and the two programs produced the same result. The code is also available [here](https://github.com/Sturzgefahr/ThinkPython/blob/master/Think%20Python%20-%20Chapter%2009/least_frequent_combo_from_list.py \"least_frequent_combo_from_list.py\").__* \n",
    "\n",
    "```\n",
    "# Tallying and printing words in words.txt without every five letter combination\n",
    "\n",
    "fin = open('words.txt')\n",
    "\n",
    "# Tallying number of words in words.txt\n",
    "\n",
    "tally = 0\n",
    "for line in fin:\n",
    "    tally += 1\n",
    "    \n",
    "# initializing the tally and setting the least_freq_combo\n",
    "\n",
    "least_freq_tally = tally\n",
    "least_freq_combo = \"\"\n",
    "\n",
    "for c in combo_list:\n",
    "    avoids_tally = tally\n",
    "    fin = open('words.txt')\n",
    "    for line in fin:\n",
    "        if avoids(c, line.strip()):\n",
    "            avoids_tally -=1\n",
    "\n",
    "    if avoids_tally < least_freq_tally:\n",
    "        least_freq_tally = avoids_tally\n",
    "        least_freq_combo = c\n",
    "```\n",
    "\n",
    "```\n",
    "print(least_freq_combo)\n",
    "print(least_freq_tally)\n",
    "\n",
    "jqwxz\n",
    "17384\n",
    "```"
   ]
  },
  {
   "cell_type": "markdown",
   "metadata": {},
   "source": [
    "#### Exercise 4  \n",
    "\n",
    "*Write a function named `uses_only` that takes a word and a string of letters, and that returns `True` if the word contains only letters in the list. Can you make a sentence using only the letters `acefhlo`? Other than “Hoe alfalfa”?*"
   ]
  },
  {
   "cell_type": "markdown",
   "metadata": {},
   "source": [
    "*__Here are three ways we could write the function.  The first uses the index location to traverse `word`:__*"
   ]
  },
  {
   "cell_type": "code",
   "execution_count": 20,
   "metadata": {},
   "outputs": [],
   "source": [
    "def uses_only(word, string):\n",
    "    \"\"\"\n",
    "    Returns True if word contains only\n",
    "    characters also found in string\n",
    "    \"\"\"\n",
    "    i = 0\n",
    "    while i < len(word):\n",
    "        if word[i] in string:\n",
    "            i += 1\n",
    "        else:\n",
    "            return False\n",
    "    return True\n",
    "        "
   ]
  },
  {
   "cell_type": "markdown",
   "metadata": {},
   "source": [
    "*__The second uses a rather inelegant combination of `in` and `pass` to eliminate words with characters not in the string:__*"
   ]
  },
  {
   "cell_type": "code",
   "execution_count": 21,
   "metadata": {},
   "outputs": [],
   "source": [
    "def uses_only(word, string):\n",
    "    \"\"\"\n",
    "    Returns True if word contains only\n",
    "    characters also found in string\n",
    "    \"\"\"\n",
    "    i = 0\n",
    "    for char in word:\n",
    "        if char in string:\n",
    "            pass\n",
    "        else:\n",
    "            return False\n",
    "    return True"
   ]
  },
  {
   "cell_type": "markdown",
   "metadata": {},
   "source": [
    "*__The third is more concise, but uses `not`, which I believe has not yet been introduced:__*"
   ]
  },
  {
   "cell_type": "code",
   "execution_count": 22,
   "metadata": {},
   "outputs": [],
   "source": [
    "def uses_only(word, string):\n",
    "    \"\"\"\n",
    "    Returns True if word contains only\n",
    "    characters also found in string\n",
    "    \"\"\"\n",
    "    i = 0\n",
    "    for char in word:\n",
    "        if char not in string:\n",
    "            return False\n",
    "    return True"
   ]
  },
  {
   "cell_type": "code",
   "execution_count": 23,
   "metadata": {},
   "outputs": [
    {
     "data": {
      "text/plain": [
       "False"
      ]
     },
     "execution_count": 23,
     "metadata": {},
     "output_type": "execute_result"
    }
   ],
   "source": [
    "uses_only('aahed', 'acefhlo')"
   ]
  },
  {
   "cell_type": "code",
   "execution_count": 24,
   "metadata": {},
   "outputs": [
    {
     "name": "stdout",
     "output_type": "stream",
     "text": [
      "aa\n",
      "aah\n",
      "aal\n",
      "ace\n",
      "ache\n",
      "achoo\n",
      "ae\n",
      "aff\n",
      "ah\n",
      "aha\n",
      "ahchoo\n",
      "ala\n",
      "alae\n",
      "alcohol\n",
      "ale\n",
      "alec\n",
      "alee\n",
      "alef\n",
      "alfa\n",
      "alfalfa\n",
      "all\n",
      "allele\n",
      "allheal\n",
      "aloe\n",
      "aloha\n",
      "aloof\n",
      "cacao\n",
      "cache\n",
      "caeca\n",
      "caecal\n",
      "...\n",
      "The final tally would be: 188\n"
     ]
    }
   ],
   "source": [
    "fin = open('words.txt')\n",
    "\n",
    "i = 0\n",
    "tally = 0 \n",
    "for line in fin:\n",
    "    word = line.strip()\n",
    "    if uses_only(word, 'acefhlo'):\n",
    "        \n",
    "        # As before, only printing the first 30 results\n",
    "        if i < 30:\n",
    "            print(word)\n",
    "            i += 1\n",
    "        tally += 1\n",
    "        \n",
    "print(\"...\\nThe final tally would be:\", tally)"
   ]
  },
  {
   "cell_type": "markdown",
   "metadata": {},
   "source": [
    "*__I'm not terribly interested in the second challenge of this exercise, but just for shits & giggles: \"each cacao leaf fell, achoo!\"__*"
   ]
  },
  {
   "cell_type": "markdown",
   "metadata": {},
   "source": [
    "#### Exercise 5  \n",
    "\n",
    "*Write a function named `uses_all` that takes a word and a string of required letters, and that returns `True` if the word uses all the required letters at least once. How many words are there that use all the vowels `aeiou`? How about `aeiouy`?*"
   ]
  },
  {
   "cell_type": "markdown",
   "metadata": {},
   "source": [
    "*__As with `uses_only`, there are three ways we could write the function.  The first way:__*"
   ]
  },
  {
   "cell_type": "code",
   "execution_count": 25,
   "metadata": {},
   "outputs": [],
   "source": [
    "def uses_all(word, string):\n",
    "    \"\"\"\n",
    "    Returns True if word uses all\n",
    "    characters in string\n",
    "    \"\"\"\n",
    "    i = 0\n",
    "    while i < len(string):\n",
    "        if string[i] in word:\n",
    "            i += 1\n",
    "        else:\n",
    "            return False\n",
    "    return True\n",
    "        "
   ]
  },
  {
   "cell_type": "markdown",
   "metadata": {},
   "source": [
    "*__The second:__*"
   ]
  },
  {
   "cell_type": "code",
   "execution_count": 26,
   "metadata": {},
   "outputs": [],
   "source": [
    "def uses_all(word, string):\n",
    "    \"\"\"\n",
    "    Returns True if word uses all\n",
    "    characters in string\n",
    "    \"\"\"\n",
    "    i = 0\n",
    "    for char in string:\n",
    "        if char in word:\n",
    "            pass\n",
    "        else:\n",
    "            return False\n",
    "    return True"
   ]
  },
  {
   "cell_type": "markdown",
   "metadata": {},
   "source": [
    "*__The third:__*"
   ]
  },
  {
   "cell_type": "code",
   "execution_count": 27,
   "metadata": {},
   "outputs": [],
   "source": [
    "def uses_all(word, string):\n",
    "    \"\"\"\n",
    "    Returns True if word uses all\n",
    "    characters in string\n",
    "    \"\"\"\n",
    "    i = 0\n",
    "    for char in string:\n",
    "        if char not in word:\n",
    "            return False\n",
    "    return True"
   ]
  },
  {
   "cell_type": "code",
   "execution_count": 28,
   "metadata": {},
   "outputs": [
    {
     "data": {
      "text/plain": [
       "True"
      ]
     },
     "execution_count": 28,
     "metadata": {},
     "output_type": "execute_result"
    }
   ],
   "source": [
    "uses_all('eulogia', 'aeiou')"
   ]
  },
  {
   "cell_type": "code",
   "execution_count": 29,
   "metadata": {},
   "outputs": [
    {
     "data": {
      "text/plain": [
       "False"
      ]
     },
     "execution_count": 29,
     "metadata": {},
     "output_type": "execute_result"
    }
   ],
   "source": [
    "uses_all('eulogy', 'aeiou')"
   ]
  },
  {
   "cell_type": "code",
   "execution_count": 30,
   "metadata": {},
   "outputs": [
    {
     "name": "stdout",
     "output_type": "stream",
     "text": [
      "aboideau\n",
      "aboideaus\n",
      "aboideaux\n",
      "aboiteau\n",
      "aboiteaus\n",
      "aboiteaux\n",
      "abstemious\n",
      "abstemiously\n",
      "accentuation\n",
      "accentuations\n",
      "accountabilities\n",
      "accountancies\n",
      "accoutering\n",
      "adulteration\n",
      "adulterations\n",
      "adventitious\n",
      "adventitiously\n",
      "adventitiousness\n",
      "adventitiousnesses\n",
      "aerobium\n",
      "aeronautic\n",
      "aeronautical\n",
      "aeronautically\n",
      "aeronautics\n",
      "agouties\n",
      "ambidextrous\n",
      "ambidextrously\n",
      "antibourgeois\n",
      "anticonsumer\n",
      "antievolution\n",
      "...\n",
      "The final tally would be 598 words in the list use all five vowels.\n"
     ]
    }
   ],
   "source": [
    "# Words that use all vowels at least once:\n",
    "\n",
    "fin = open('words.txt')\n",
    "\n",
    "# As before, we'll print a partial list and keep a tally to show the size of \n",
    "# the full list\n",
    "i = 0\n",
    "tally = 0\n",
    "\n",
    "for line in fin:\n",
    "    word = line.strip()\n",
    "    if uses_all(word, 'aeiou'):\n",
    "        if i < 30:\n",
    "            print(word)\n",
    "            i += 1\n",
    "        tally += 1\n",
    "        \n",
    "print(\"...\\nThe final tally would be\", tally, \n",
    "      \"words in the list use all five vowels.\")"
   ]
  },
  {
   "cell_type": "code",
   "execution_count": 31,
   "metadata": {},
   "outputs": [
    {
     "name": "stdout",
     "output_type": "stream",
     "text": [
      "abstemiously\n",
      "adventitiously\n",
      "aeronautically\n",
      "ambidextrously\n",
      "antievolutionary\n",
      "antirevolutionary\n",
      "antiunemployment\n",
      "authoritatively\n",
      "autotypies\n",
      "buoyancies\n",
      "counterinflationary\n",
      "evolutionary\n",
      "extracommunity\n",
      "facetiously\n",
      "genitourinary\n",
      "gregariously\n",
      "hyperanxious\n",
      "hypercautious\n",
      "hyperfastidious\n",
      "inconsequentially\n",
      "instantaneously\n",
      "intravenously\n",
      "mendaciously\n",
      "miscellaneously\n",
      "nefariously\n",
      "neurologically\n",
      "neurotically\n",
      "ostentatiously\n",
      "outwearying\n",
      "postrevolutionary\n",
      "precariously\n",
      "precautionary\n",
      "prerevolutionary\n",
      "revolutionary\n",
      "sacrilegiously\n",
      "simultaneously\n",
      "tenaciously\n",
      "uncomplimentary\n",
      "unconventionally\n",
      "unequivocally\n",
      "unintentionally\n",
      "unquestionably\n"
     ]
    }
   ],
   "source": [
    "# Words that use all vowels and 'y' at least once:\n",
    "\n",
    "fin = open('words.txt')\n",
    "for line in fin:\n",
    "    word = line.strip()\n",
    "    if uses_all(word, 'aeiouy'):\n",
    "        print(word)"
   ]
  },
  {
   "cell_type": "markdown",
   "metadata": {},
   "source": [
    "#### Exercise 6  \n",
    "\n",
    "*Write a function called `is_abecedarian` that returns `True` if the letters in a word appear in alphabetical order (double letters are ok). How many abecedarian words are there?*"
   ]
  },
  {
   "cell_type": "code",
   "execution_count": 32,
   "metadata": {},
   "outputs": [],
   "source": [
    "def is_abecedarian(word):\n",
    "    i = 0\n",
    "    while i < len(word) - 1:\n",
    "        if word[i] <= word[i + 1]:\n",
    "            i += 1\n",
    "        else:\n",
    "            return False\n",
    "    return True\n"
   ]
  },
  {
   "cell_type": "code",
   "execution_count": 33,
   "metadata": {},
   "outputs": [
    {
     "data": {
      "text/plain": [
       "False"
      ]
     },
     "execution_count": 33,
     "metadata": {},
     "output_type": "execute_result"
    }
   ],
   "source": [
    "is_abecedarian(\"about\")"
   ]
  },
  {
   "cell_type": "code",
   "execution_count": 34,
   "metadata": {},
   "outputs": [
    {
     "data": {
      "text/plain": [
       "True"
      ]
     },
     "execution_count": 34,
     "metadata": {},
     "output_type": "execute_result"
    }
   ],
   "source": [
    "is_abecedarian(\"abbot\")"
   ]
  },
  {
   "cell_type": "markdown",
   "metadata": {},
   "source": [
    "*__Technically, looping with indices isn't introduced until the next section of this chapter; but the alternatives (which are presented in 9.4) seem clunky in comparison.__*"
   ]
  },
  {
   "cell_type": "code",
   "execution_count": 35,
   "metadata": {},
   "outputs": [
    {
     "name": "stdout",
     "output_type": "stream",
     "text": [
      "aa\n",
      "aah\n",
      "aahs\n",
      "aal\n",
      "aals\n",
      "aas\n",
      "abbe\n",
      "abbes\n",
      "abbess\n",
      "abbey\n",
      "abbot\n",
      "abet\n",
      "abhor\n",
      "abhors\n",
      "ably\n",
      "abo\n",
      "abort\n",
      "abos\n",
      "abuzz\n",
      "aby\n",
      "accent\n",
      "accept\n",
      "access\n",
      "accost\n",
      "ace\n",
      "acers\n",
      "aces\n",
      "achoo\n",
      "achy\n",
      "act\n",
      "...\n",
      "There are 596 abecedarian words in the list.\n"
     ]
    }
   ],
   "source": [
    "# find abecedarian words:\n",
    "\n",
    "fin = open('words.txt')\n",
    "\n",
    "abc_tally = 0\n",
    "i = 0\n",
    "\n",
    "for line in fin:\n",
    "    word = line.strip()\n",
    "    if is_abecedarian(word):\n",
    "        # As above, printing only the first 30 words\n",
    "        if i < 30:\n",
    "            print(word)\n",
    "            i += 1\n",
    "        abc_tally += 1\n",
    "        \n",
    "print(\"...\\nThere are\", abc_tally, \"abecedarian words in the list.\")"
   ]
  },
  {
   "cell_type": "markdown",
   "metadata": {},
   "source": [
    "### 9.3 Search\n",
    "\n",
    "__Reduction to a previously solved problem:__ `uses_all` could have been written using `uses_only`:\n",
    "\n"
   ]
  },
  {
   "cell_type": "code",
   "execution_count": 36,
   "metadata": {},
   "outputs": [],
   "source": [
    "def uses_all(word, required):\n",
    "    return uses_only(required, word)"
   ]
  },
  {
   "cell_type": "code",
   "execution_count": 37,
   "metadata": {},
   "outputs": [
    {
     "name": "stdout",
     "output_type": "stream",
     "text": [
      "abstemiously\n",
      "adventitiously\n",
      "aeronautically\n",
      "ambidextrously\n",
      "antievolutionary\n",
      "antirevolutionary\n",
      "antiunemployment\n",
      "authoritatively\n",
      "autotypies\n",
      "buoyancies\n",
      "counterinflationary\n",
      "evolutionary\n",
      "extracommunity\n",
      "facetiously\n",
      "genitourinary\n",
      "gregariously\n",
      "hyperanxious\n",
      "hypercautious\n",
      "hyperfastidious\n",
      "inconsequentially\n",
      "instantaneously\n",
      "intravenously\n",
      "mendaciously\n",
      "miscellaneously\n",
      "nefariously\n",
      "neurologically\n",
      "neurotically\n",
      "ostentatiously\n",
      "outwearying\n",
      "postrevolutionary\n",
      "precariously\n",
      "precautionary\n",
      "prerevolutionary\n",
      "revolutionary\n",
      "sacrilegiously\n",
      "simultaneously\n",
      "tenaciously\n",
      "uncomplimentary\n",
      "unconventionally\n",
      "unequivocally\n",
      "unintentionally\n",
      "unquestionably\n"
     ]
    }
   ],
   "source": [
    "# Words that use all vowels and 'y' at least once:\n",
    "\n",
    "fin = open('words.txt')\n",
    "for line in fin:\n",
    "    word = line.strip()\n",
    "    if uses_all(word, 'aeiouy'):\n",
    "        print(word)"
   ]
  },
  {
   "cell_type": "markdown",
   "metadata": {},
   "source": [
    "### 9.4 Looping with indices\n",
    "\n",
    "*__No notes.__*\n",
    "\n",
    "### 9.5 Debugging\n",
    "\n",
    "*__No notes.__*\n",
    "\n",
    "### 9.6 Glossary\n",
    "\n",
    "*__No notes.__*\n",
    "\n",
    "### 9.7 Exercises\n",
    "\n",
    "#### Exercise 7  \n",
    "\n",
    "*This question is based on a Puzzler that was broadcast on the radio program Car Talk (http://www.cartalk.com/content/puzzlers):*\n",
    "\n",
    "> *Give me a word with three consecutive double letters. I’ll give you a couple of words that almost qualify, but don’t. For example, the word committee, c-o-m-m-i-t-t-e-e. It would be great except for the ‘i’ that sneaks in there. Or Mississippi: M-i-s-s-i-s-s-i-p-p-i. If you could take out those i’s it would work. But there is a word that has three consecutive pairs of letters and to the best of my knowledge this may be the only word. Of course there are probably 500 more but I can only think of one. What is the word?*\n",
    "\n",
    "*Write a program to find it.*"
   ]
  },
  {
   "cell_type": "code",
   "execution_count": 38,
   "metadata": {},
   "outputs": [],
   "source": [
    "def has_three_consecutive_double_letters(w):\n",
    "    i = 0\n",
    "    while i < (len(w) - 5):\n",
    "        if w[i] == w[i + 1] and w[i + 2] == w[i + 3] and w[i + 4] == w[i + 5]:\n",
    "            return True\n",
    "        i += 1\n",
    "    return False\n",
    "        \n",
    "        "
   ]
  },
  {
   "cell_type": "code",
   "execution_count": 39,
   "metadata": {},
   "outputs": [
    {
     "data": {
      "text/plain": [
       "False"
      ]
     },
     "execution_count": 39,
     "metadata": {},
     "output_type": "execute_result"
    }
   ],
   "source": [
    "has_three_consecutive_double_letters('sesquipedalian')"
   ]
  },
  {
   "cell_type": "code",
   "execution_count": 40,
   "metadata": {},
   "outputs": [
    {
     "data": {
      "text/plain": [
       "True"
      ]
     },
     "execution_count": 40,
     "metadata": {},
     "output_type": "execute_result"
    }
   ],
   "source": [
    "has_three_consecutive_double_letters('abcdeffgghh')"
   ]
  },
  {
   "cell_type": "code",
   "execution_count": 41,
   "metadata": {},
   "outputs": [
    {
     "name": "stdout",
     "output_type": "stream",
     "text": [
      "bookkeeper\n",
      "bookkeepers\n",
      "bookkeeping\n",
      "bookkeepings\n"
     ]
    }
   ],
   "source": [
    "# Words with three consecutive double letters:\n",
    "\n",
    "fin = open('words.txt')\n",
    "for line in fin:\n",
    "    word = line.strip()\n",
    "    if has_three_consecutive_double_letters(word):\n",
    "        print(word)"
   ]
  },
  {
   "cell_type": "markdown",
   "metadata": {},
   "source": [
    "#### Exercise 8   Here’s another Car Talk Puzzler (http://www.cartalk.com/content/puzzlers):\n",
    "\n",
    "> *“I was driving on the highway the other day and I happened to notice my odometer. Like most odometers, it shows six digits, in whole miles only. So, if my car had 300,000 miles, for example, I’d see 3-0-0-0-0-0.\n",
    "“Now, what I saw that day was very interesting. I noticed that the last 4 digits were palindromic; that is, they read the same forward as backward. For example, 5-4-4-5 is a palindrome, so my odometer could have read 3-1-5-4-4-5.*\n",
    "\n",
    "> *“One mile later, the last 5 numbers were palindromic. For example, it could have read 3-6-5-4-5-6. One mile after that, the middle 4 out of 6 numbers were palindromic. And you ready for this? One mile later, all 6 were palindromic!*\n",
    "\n",
    "> *“The question is, what was on the odometer when I first looked?”*\n",
    "\n",
    "*Write a Python program that tests all the six-digit numbers and prints any numbers that satisfy these requirements.* "
   ]
  },
  {
   "cell_type": "code",
   "execution_count": 42,
   "metadata": {},
   "outputs": [],
   "source": [
    "def is_palindrome(word):\n",
    "    \"\"\"\n",
    "    Returns True if word is palindromic.\n",
    "    \"\"\"\n",
    "    return word == word[::-1]"
   ]
  },
  {
   "cell_type": "code",
   "execution_count": 43,
   "metadata": {},
   "outputs": [
    {
     "name": "stdout",
     "output_type": "stream",
     "text": [
      "198888\n",
      "199999\n"
     ]
    }
   ],
   "source": [
    "for i in range(100000, 999999):\n",
    "    if is_palindrome(str(i)[2:]):\n",
    "        if is_palindrome(str(i + 1)[1:]):\n",
    "            if is_palindrome(str(i + 2)[1:5]):\n",
    "                if is_palindrome(str(i + 3)):\n",
    "                    print(i)"
   ]
  },
  {
   "cell_type": "markdown",
   "metadata": {},
   "source": [
    "*__While both 198888 and 199999 satisfy the requirements of the puzzle, it seems that 198888 is the better answer.  In 198888 the last four digits are palindromic; in 198889 the last five are; in 198890 the middle four are; and in 198891 all six are.  However, in 199999, the last five - not four - digits - are palindromic, and it seems the creator of the puzzle would have specified this if that is what he was looking for.__*"
   ]
  },
  {
   "cell_type": "markdown",
   "metadata": {},
   "source": [
    "#### Exercise 9   Here’s another Car Talk Puzzler you can solve with a search (http://www.cartalk.com/content/puzzlers):\n",
    "\n",
    "> *“Recently I had a visit with my mom and we realized that the two digits that make up my age when reversed resulted in her age. For example, if she’s 73, I’m 37. We wondered how often this has happened over the years but we got sidetracked with other topics and we never came up with an answer.\n",
    "“When I got home I figured out that the digits of our ages have been reversible six times so far. I also figured out that if we’re lucky it would happen again in a few years, and if we’re really lucky it would happen one more time after that. In other words, it would have happened 8 times over all. So the question is, how old am I now?”*\n",
    "\n",
    "*Write a Python program that searches for solutions to this Puzzler. Hint: you might find the string method `zfill` useful.*"
   ]
  },
  {
   "cell_type": "code",
   "execution_count": 44,
   "metadata": {},
   "outputs": [
    {
     "name": "stdout",
     "output_type": "stream",
     "text": [
      "The age difference with the most reversed ages: 18\n",
      "Number of reversed ages: 8\n"
     ]
    }
   ],
   "source": [
    "def are_palindromes(word1, word2):\n",
    "    \"\"\"\n",
    "    Returns True if word1 and word2 are palindromic.\n",
    "    \"\"\"\n",
    "    return word1 == word2[::-1]\n",
    "\n",
    "# Initialize counts at zero\n",
    "\n",
    "num_reversed_ages = 0\n",
    "age_difference_with_most_reversed_ages = 0\n",
    "\n",
    "# Search for occurrences of reversed ages for a reasonable range\n",
    "# of age differences, e.g. 10 - 55 (i.e., it's crazy to think \n",
    "# his mother was younger than 9 or older than 56 when she had him).\n",
    "\n",
    "for age_difference in range(10, 55):\n",
    "    reversed_ages = 0\n",
    "    \n",
    "    # tally the number of reversed ages for this age difference\n",
    "    for my_age in range(0, 99):\n",
    "        moms_age = my_age + age_difference\n",
    "        \n",
    "        # this riddle won't work for triple-digit ages\n",
    "        if moms_age < 100:\n",
    "            if are_palindromes(str(my_age).zfill(2), str(moms_age)):\n",
    "                reversed_ages += 1\n",
    "    \n",
    "    # reset counts if we have a new maximum\n",
    "    if reversed_ages > num_reversed_ages:\n",
    "        num_reversed_ages = reversed_ages\n",
    "        age_difference_with_most_reversed_ages = age_difference\n",
    "        reversed_ages = 0\n",
    "        \n",
    "print(\"The age difference with the most reversed ages:\",\n",
    "      age_difference_with_most_reversed_ages)\n",
    "print(\"Number of reversed ages:\", num_reversed_ages)"
   ]
  },
  {
   "cell_type": "code",
   "execution_count": 45,
   "metadata": {},
   "outputs": [
    {
     "name": "stdout",
     "output_type": "stream",
     "text": [
      "02   20\n",
      "13   31\n",
      "24   42\n",
      "35   53\n",
      "46   64\n",
      "57   75\n",
      "68   86\n",
      "79   97\n"
     ]
    }
   ],
   "source": [
    "# print out reversed ages for this difference\n",
    "\n",
    "for my_age in range(0, 99):\n",
    "    age_difference = 18\n",
    "    moms_age = my_age + age_difference\n",
    "    if moms_age < 100:\n",
    "        if are_palindromes(str(my_age).zfill(2), str(moms_age)):\n",
    "            print(str(my_age).zfill(2), \" \", str(moms_age))"
   ]
  }
 ],
 "metadata": {
  "kernelspec": {
   "display_name": "Python 3",
   "language": "python",
   "name": "python3"
  },
  "language_info": {
   "codemirror_mode": {
    "name": "ipython",
    "version": 3
   },
   "file_extension": ".py",
   "mimetype": "text/x-python",
   "name": "python",
   "nbconvert_exporter": "python",
   "pygments_lexer": "ipython3",
   "version": "3.7.3"
  }
 },
 "nbformat": 4,
 "nbformat_minor": 2
}
