{
 "cells": [
  {
   "cell_type": "markdown",
   "metadata": {},
   "source": [
    "# Think Python\n",
    "\n",
    "## Chapter 7 - Iteration\n",
    "\n",
    "HTML version is available [here](http://greenteapress.com/thinkpython2/html/thinkpython2008.html \"Chpt 7\").\n",
    "\n",
    "\n",
    "### 7.1 Reassignment \n",
    "\n",
    "*No notes.*\n",
    "\n",
    "### 7.2 Updating variables\n",
    "\n",
    "*No notes.*\n",
    "\n",
    "### 7.3 The `while` statement\n",
    "\n",
    "*As an exercise, rewrite the function `print_n` from Section 5.8 using iteration instead of recursion.*"
   ]
  },
  {
   "cell_type": "code",
   "execution_count": 1,
   "metadata": {},
   "outputs": [],
   "source": [
    "def print_n(s, n):\n",
    "    while n > 0:\n",
    "        print(s)\n",
    "        n -= 1"
   ]
  },
  {
   "cell_type": "code",
   "execution_count": 2,
   "metadata": {},
   "outputs": [
    {
     "name": "stdout",
     "output_type": "stream",
     "text": [
      "Snugglebunnies!\n",
      "\n",
      "Snugglebunnies!\n",
      "\n",
      "Snugglebunnies!\n",
      "\n",
      "Snugglebunnies!\n",
      "\n",
      "Snugglebunnies!\n",
      "\n"
     ]
    }
   ],
   "source": [
    "print_n(\"Snugglebunnies!\\n\", 5)"
   ]
  },
  {
   "cell_type": "markdown",
   "metadata": {},
   "source": [
    "### 7.4 `break`\n",
    "\n",
    "*No notes.*\n",
    "\n",
    "### 7.5 Square roots\n",
    "\n",
    "*No notes.*\n",
    "\n",
    "### 7.6 Algorithms\n",
    "\n",
    "*No notes.*\n",
    "\n",
    "### 7.7 Debugging\n",
    "\n",
    "*No notes.*\n",
    "\n",
    "### 7.8 Glossary\n",
    "\n",
    "*No notes.*\n",
    "\n",
    "### 7.9 Exercises\n",
    "\n",
    "#### Exercise 1\n",
    "\n",
    "*Copy the loop from Section 7.5 and encapsulate it in a function called `mysqrt` that takes a as a parameter, chooses a reasonable value of `x`, and returns an estimate of the square root of `a`.*\n",
    "\n",
    "*To test it, write a function named `test_square_root` that prints a table like this:*\n",
    "\n",
    "```{Python}\n",
    "\n",
    "a   mysqrt(a)     math.sqrt(a)  diff\n",
    "-   ---------     ------------  ----\n",
    "1.0 1.0           1.0           0.0\n",
    "2.0 1.41421356237 1.41421356237 2.22044604925e-16\n",
    "3.0 1.73205080757 1.73205080757 0.0\n",
    "4.0 2.0           2.0           0.0\n",
    "5.0 2.2360679775  2.2360679775  0.0\n",
    "6.0 2.44948974278 2.44948974278 0.0\n",
    "7.0 2.64575131106 2.64575131106 0.0\n",
    "8.0 2.82842712475 2.82842712475 4.4408920985e-16\n",
    "9.0 3.0           3.0           0.0\n",
    "```\n",
    "\n",
    "*The first column is a number, a; the second column is the square root of a computed with `mysqrt`; the third column is the square root computed by `math.sqrt`; the fourth column is the absolute value of the difference between the two estimates.*"
   ]
  },
  {
   "cell_type": "code",
   "execution_count": 3,
   "metadata": {},
   "outputs": [],
   "source": [
    "def mysqrt(a):\n",
    "    \"\"\"\n",
    "    Iteratively refines the estimate of the square root of a, using\n",
    "    Newton's method.  The functions will stop when the difference between\n",
    "    iterations is less than epsilon.\n",
    "    \"\"\"\n",
    "    x = a / 2\n",
    "    epsilon = 0.0000000000001\n",
    "    while True:\n",
    "        y = (x + a/x) / 2\n",
    "        if abs(y - x) < epsilon:\n",
    "            return x\n",
    "        x = y"
   ]
  },
  {
   "cell_type": "code",
   "execution_count": 4,
   "metadata": {},
   "outputs": [
    {
     "name": "stdout",
     "output_type": "stream",
     "text": [
      "a   mysqrt(a) \t  math.sqrt(a)\t diff\n",
      "-   --------- \t  ------------\t ----\n",
      "1.0 1.00000000000 1.0000000000 \t 1.1102230246251565e-15\n",
      "2.0 1.41421356237 1.4142135624 \t 2.220446049250313e-16\n",
      "3.0 1.73205080757 1.7320508076 \t 0.0\n",
      "4.0 2.00000000000 2.0000000000 \t 0.0\n",
      "5.0 2.23606797750 2.2360679775 \t 0.0\n",
      "6.0 2.44948974278 2.4494897428 \t 8.881784197001252e-16\n",
      "7.0 2.64575131106 2.6457513111 \t 0.0\n",
      "8.0 2.82842712475 2.8284271247 \t 4.440892098500626e-16\n",
      "9.0 3.00000000000 3.0000000000 \t 0.0\n"
     ]
    }
   ],
   "source": [
    "import math\n",
    "\n",
    "print(\"a   mysqrt(a) \\t  math.sqrt(a)\\t diff\")\n",
    "print(\"-   --------- \\t  ------------\\t ----\")\n",
    "\n",
    "a = 1.0\n",
    "while a < 10:\n",
    "    mys = mysqrt(a)\n",
    "    mths = math.sqrt(a)\n",
    "    diff = abs(mys - mths)\n",
    "    print(\"{0:.1f} {1:.11f} {2:.10f} \\t {3}\".format(a, mys, mths, diff))\n",
    "    a += 1"
   ]
  },
  {
   "cell_type": "markdown",
   "metadata": {},
   "source": [
    "*__N.B.:__ Numbers are slightly different because of my choice of epsilon.*\n",
    "\n",
    "#### Exercise 2  \n",
    "\n",
    "*The built-in function `eval` takes a string and evaluates it using the Python interpreter. For example:*\n",
    "\n",
    "```{Python}\n",
    "\n",
    ">>> eval('1 + 2 * 3')\n",
    "7\n",
    ">>> import math\n",
    ">>> eval('math.sqrt(5)')\n",
    "2.2360679774997898\n",
    ">>> eval('type(math.pi)')\n",
    "<class 'float'>\n",
    "```\n",
    "\n",
    "*Write a function called `eval_loop` that iteratively prompts the user, takes the resulting input and evaluates it using `eval`, and prints the result.*\n",
    "\n",
    "*It should continue until the user enters `'done'`, and then return the value of the last expression it evaluated.*"
   ]
  },
  {
   "cell_type": "code",
   "execution_count": 5,
   "metadata": {},
   "outputs": [],
   "source": [
    "import math\n",
    "\n",
    "def eval_loop():\n",
    "    \"\"\"\n",
    "    Evaluates user input with the function eval.  Terminates when\n",
    "    user inputs 'done'.\n",
    "    \"\"\"\n",
    "    while True:\n",
    "        line = input(\"What should I evaluate? \")\n",
    "        if line == \"done\":\n",
    "            break\n",
    "        last = eval(line)\n",
    "        print(last)\n",
    "    \n",
    "    return last\n",
    "    "
   ]
  },
  {
   "cell_type": "code",
   "execution_count": 6,
   "metadata": {},
   "outputs": [
    {
     "name": "stdout",
     "output_type": "stream",
     "text": [
      "What should I evaluate? 6**9\n",
      "10077696\n",
      "What should I evaluate? type(math.pi)\n",
      "<class 'float'>\n",
      "What should I evaluate? done\n"
     ]
    },
    {
     "data": {
      "text/plain": [
       "float"
      ]
     },
     "execution_count": 6,
     "metadata": {},
     "output_type": "execute_result"
    }
   ],
   "source": [
    "eval_loop()"
   ]
  },
  {
   "cell_type": "markdown",
   "metadata": {},
   "source": [
    "#### Exercise 3  \n",
    "\n",
    "*The mathematician Srinivasa Ramanujan found an infinite series that can be used to generate a numerical approximation of 1 / π:*\n",
    "\n",
    "$$\\frac{1}{\\pi} = \\frac{2\\sqrt{2}}{9801} \\sum_{k=0}^\\infty \\frac{(4k)!(1103 + 26390k)}{(k!)^4 396^{4k}}$$\n",
    "\n",
    "*Write a function called `estimate_pi` that uses this formula to compute and return an estimate of π. It should use a `while` loop to compute terms of the summation until the last term is smaller than `1e-15` (which is Python notation for 10−15). You can check the result by comparing it to `math.pi`.*\n",
    "\n"
   ]
  },
  {
   "cell_type": "code",
   "execution_count": 7,
   "metadata": {},
   "outputs": [],
   "source": [
    "import math\n",
    "\n",
    "def factorial(n):\n",
    "    \"\"\"\n",
    "    Returns the factorial of n.\n",
    "    \"\"\"\n",
    "    if n == 0:\n",
    "        return 1\n",
    "    else:\n",
    "        return n * factorial(n - 1)\n",
    "    \n",
    "    \n",
    "def estimate_pi():\n",
    "    \"\"\"\n",
    "    Returns an estimate of pi using an infinite series\n",
    "    found by Srinivasa Ramanujan.  Terminates when the last term is\n",
    "    smaller than 1e-15.\"\"\"\n",
    "    \n",
    "    k = 0\n",
    "    sum = 0\n",
    "    last = 1\n",
    "    left = (2 * math.sqrt(2))/9801\n",
    "    \n",
    "    epsilon = 1e-15\n",
    "    \n",
    "    while(last > epsilon):\n",
    "        num = factorial(4 * k) * (1103 + 26390 * k)\n",
    "        den = (factorial(k))**4 * 396 ** (4 * k)\n",
    "        last = num/den\n",
    "        sum += last\n",
    "        k += 1\n",
    "    \n",
    "    return 1 / (left * sum)\n",
    "    "
   ]
  },
  {
   "cell_type": "code",
   "execution_count": 8,
   "metadata": {},
   "outputs": [
    {
     "data": {
      "text/plain": [
       "3.141592653589793"
      ]
     },
     "execution_count": 8,
     "metadata": {},
     "output_type": "execute_result"
    }
   ],
   "source": [
    "estimate_pi()"
   ]
  },
  {
   "cell_type": "code",
   "execution_count": 9,
   "metadata": {},
   "outputs": [
    {
     "data": {
      "text/plain": [
       "3.141592653589793"
      ]
     },
     "execution_count": 9,
     "metadata": {},
     "output_type": "execute_result"
    }
   ],
   "source": [
    "math.pi"
   ]
  }
 ],
 "metadata": {
  "kernelspec": {
   "display_name": "Python 3",
   "language": "python",
   "name": "python3"
  },
  "language_info": {
   "codemirror_mode": {
    "name": "ipython",
    "version": 3
   },
   "file_extension": ".py",
   "mimetype": "text/x-python",
   "name": "python",
   "nbconvert_exporter": "python",
   "pygments_lexer": "ipython3",
   "version": "3.6.4"
  }
 },
 "nbformat": 4,
 "nbformat_minor": 2
}
