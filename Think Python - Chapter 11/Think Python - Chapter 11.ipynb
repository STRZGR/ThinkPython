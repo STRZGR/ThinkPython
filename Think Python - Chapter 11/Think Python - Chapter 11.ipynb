{
 "cells": [
  {
   "cell_type": "markdown",
   "metadata": {},
   "source": [
    "# Think Python\n",
    "\n",
    "## Chapter 11 Dictionaries\n",
    "\n",
    "HTML version can be found [here](http://greenteapress.com/thinkpython2/html/thinkpython2012.html \"Chpt 11\").\n",
    "\n",
    "### 11.1 A dictionary is mapping\n",
    "\n",
    "*__We need to use the method `values` to search for values in a dictionary:__*"
   ]
  },
  {
   "cell_type": "code",
   "execution_count": null,
   "metadata": {},
   "outputs": [],
   "source": [
    "eng2sp = {'one': 'uno', 'two': 'dos', 'three': 'tres'}\n",
    "\n",
    "'one' in eng2sp"
   ]
  },
  {
   "cell_type": "code",
   "execution_count": null,
   "metadata": {},
   "outputs": [],
   "source": [
    "'uno' in eng2sp"
   ]
  },
  {
   "cell_type": "code",
   "execution_count": null,
   "metadata": {},
   "outputs": [],
   "source": [
    "vals = eng2sp.values()\n",
    "'uno' in vals"
   ]
  },
  {
   "cell_type": "markdown",
   "metadata": {},
   "source": [
    "### 11.2 Dictionary as a collection of counters\n",
    "\n",
    "*__I did this earlier when I went through \"Think Julia\", but just as a refresher:__*"
   ]
  },
  {
   "cell_type": "code",
   "execution_count": null,
   "metadata": {},
   "outputs": [],
   "source": [
    "def histogram(s):\n",
    "    d = dict()\n",
    "    for c in s:\n",
    "        if c not in d:\n",
    "            d[c] = 1\n",
    "        else:\n",
    "            d[c] += 1\n",
    "    return d"
   ]
  },
  {
   "cell_type": "code",
   "execution_count": null,
   "metadata": {},
   "outputs": [],
   "source": [
    "h = histogram(\"Donaudampfschiffahrtselektrizitätenhauptbetriebswerkbauunterbeamtengesellschaft\")\n",
    "h"
   ]
  },
  {
   "cell_type": "markdown",
   "metadata": {},
   "source": [
    "*As an exercise, use `get` to write `histogram` more concisely. You should be able to eliminate the if statement.*"
   ]
  },
  {
   "cell_type": "code",
   "execution_count": null,
   "metadata": {},
   "outputs": [],
   "source": [
    "def histogram(s):\n",
    "    d = dict()\n",
    "    for c in s:\n",
    "        d[c] = 1 + d.get(c, 0)\n",
    "\n",
    "    return d"
   ]
  },
  {
   "cell_type": "code",
   "execution_count": null,
   "metadata": {},
   "outputs": [],
   "source": [
    "h = histogram(\"Donaudampfschiffahrtselektrizitätenhauptbetriebswerkbauunterbeamtengesellschaft\")\n",
    "h"
   ]
  },
  {
   "cell_type": "markdown",
   "metadata": {},
   "source": [
    "### 11.3 Looping and dictionaries\n",
    "\n",
    "*__No notes.__*\n",
    "\n",
    "### 11.4 Reverse lookup\n",
    "\n",
    "*__No notes.__*\n",
    "\n",
    "### 11.5 Dictionaries and lists\n",
    "\n",
    "*__No notes.__*\n",
    "\n",
    "### 11.6 Memos\n",
    "\n",
    "*__I did this earlier when I went through \"Think Julia\", but just as a refresher I'll do the \"memoized\" version of `fibonacci` again:__*"
   ]
  },
  {
   "cell_type": "code",
   "execution_count": null,
   "metadata": {},
   "outputs": [],
   "source": [
    "known = {0:0, 1:1}\n",
    "\n",
    "def fibonacci(n):\n",
    "    if n in known:\n",
    "        return known[n]\n",
    "    \n",
    "    res = fibonacci(n - 1) + fibonacci(n - 2)\n",
    "    known[n] = res\n",
    "    return res"
   ]
  },
  {
   "cell_type": "code",
   "execution_count": null,
   "metadata": {},
   "outputs": [],
   "source": [
    "fibonacci(50)"
   ]
  },
  {
   "cell_type": "markdown",
   "metadata": {},
   "source": [
    "### 11.7 Global variables\n",
    "\n",
    "*__If we'd like to reassign a global variable from inside a function, we need to declare `global variable_name` before using it.__*\n",
    "\n",
    "### 11.8 Debugging\n",
    "\n",
    "*__No notes.__*\n",
    "\n",
    "### 11.9 Glossary\n",
    "\n",
    "*__No notes.__*\n",
    "\n",
    "### 11.10 Exercises\n",
    "\n",
    "#### Exercise 1  \n",
    "\n",
    "*Write a function that reads the words in `words.txt` and stores them as keys in a dictionary. It doesn’t matter what the values are. Then you can use the `in` operator as a fast way to check whether a string is in the dictionary.*\n",
    "\n",
    "*If you did Exercise 10, you can compare the speed of this implementation with the list in operator and the bisection search.*\n",
    "\n"
   ]
  },
  {
   "cell_type": "code",
   "execution_count": null,
   "metadata": {},
   "outputs": [],
   "source": [
    "import os\n",
    "path = \"C:\\\\Users\\\\mjcor\\\\Desktop\\\\ProgrammingStuff\\\\ThinkPython\"\n",
    "os.chdir(path)\n",
    "fin = open('words.txt')"
   ]
  },
  {
   "cell_type": "code",
   "execution_count": null,
   "metadata": {},
   "outputs": [],
   "source": [
    "def make_word_list_with_append():\n",
    "    \"\"\"\n",
    "    Reads lines from word.txt and \n",
    "    makes a list using append.\n",
    "    \"\"\"\n",
    "    fin = open('words.txt')\n",
    "    t = []\n",
    "\n",
    "    for line in fin:   \n",
    "        t.append(line.strip())\n",
    "    return t\n",
    "\n",
    "def make_dict_from_word_list(t):\n",
    "    \"\"\"\n",
    "    Returns a dict with the strings in \n",
    "    list t as the values.\n",
    "    \"\"\"\n",
    "    \n",
    "    d = dict()\n",
    "    for word in t:\n",
    "        d[word] = d.get(word, \"\")\n",
    "\n",
    "    return d"
   ]
  },
  {
   "cell_type": "code",
   "execution_count": null,
   "metadata": {},
   "outputs": [],
   "source": [
    "my_list = make_word_list_with_append()\n",
    "\n",
    "my_dict = make_dict_from_word_list(my_list)"
   ]
  },
  {
   "cell_type": "code",
   "execution_count": null,
   "metadata": {},
   "outputs": [],
   "source": [
    "from random import randint\n",
    "\n",
    "my_list[randint(0, len(my_list))]"
   ]
  },
  {
   "cell_type": "code",
   "execution_count": null,
   "metadata": {},
   "outputs": [],
   "source": [
    "import time\n",
    "\n",
    "start = time.time()\n",
    "'aiming' in my_dict\n",
    "end = time.time()\n",
    "\n",
    "print(\"It took {0:.22f} seconds to find the word by searching dictionary keys.\".format(end - start))"
   ]
  },
  {
   "cell_type": "code",
   "execution_count": null,
   "metadata": {},
   "outputs": [],
   "source": [
    "def in_bisect(word, t):\n",
    "    \"\"\"\n",
    "    Returns True if string word is in list t.\n",
    "    Uses bisection search.\n",
    "    \"\"\"\n",
    "    \n",
    "    midpoint = len(t)//2\n",
    "       \n",
    "    if len(t) == 0:\n",
    "        return False\n",
    "    \n",
    "    if t[midpoint] == word:\n",
    "        return True\n",
    "    elif word < t[midpoint]:\n",
    "        return in_bisect(word, t[:midpoint])\n",
    "    else:\n",
    "        return in_bisect(word, t[midpoint + 1:])"
   ]
  },
  {
   "cell_type": "code",
   "execution_count": null,
   "metadata": {},
   "outputs": [],
   "source": [
    "import time\n",
    "\n",
    "start = time.time()\n",
    "in_bisect('aiming', my_list)\n",
    "end = time.time()\n",
    "\n",
    "print(\"It took {0:.22f} seconds to find the word by using in_bisect.\".format(end - start))"
   ]
  },
  {
   "cell_type": "markdown",
   "metadata": {},
   "source": [
    "*__Although it's not clear precisely how much time it took to find the word 'perquisites' in the dictionary keys, it's clear to say that it was faster than bisection search.__*"
   ]
  },
  {
   "cell_type": "markdown",
   "metadata": {},
   "source": [
    "#### Exercise 2  \n",
    "\n",
    "*__Read the documentation of the dictionary method `setdefault` and use it to write a more concise version of `invert_dict`.__*"
   ]
  },
  {
   "cell_type": "code",
   "execution_count": null,
   "metadata": {},
   "outputs": [],
   "source": [
    "def invert_dict(d):\n",
    "    \"\"\"\n",
    "    Returns an inverted dictionary, where the values\n",
    "    of dict d are the keys, and the keys of dict d\n",
    "    the values.\n",
    "    \"\"\"\n",
    "    inverse = dict()\n",
    "    for key in d:\n",
    "        val = d[key]\n",
    "        inverse.setdefault(val, []).append(key)\n",
    "    return inverse"
   ]
  },
  {
   "cell_type": "code",
   "execution_count": null,
   "metadata": {},
   "outputs": [],
   "source": [
    "# first thunder word in Finnegan's Wake\n",
    "hist = histogram(\"Bababadalgharaghtakamminarronnkonnbronntonnerronntuonnthunntrovarrhounawnskawntoohoohoordenenthurnuk\")\n",
    "invert_dict(hist)"
   ]
  },
  {
   "cell_type": "markdown",
   "metadata": {},
   "source": [
    "#### Exercise 3   \n",
    "\n",
    "*Memoize the Ackermann function from Exercise 2 and see if memoization makes it possible to evaluate the function with bigger arguments. Hint: no.*\n",
    "\n"
   ]
  },
  {
   "cell_type": "code",
   "execution_count": null,
   "metadata": {},
   "outputs": [],
   "source": [
    "def ack(m, n):\n",
    "    \"\"\"Evaluates the Ackermann function for m and n.  \n",
    "    Will not work for larger values, e.g., > 4.\n",
    "    \"\"\"\n",
    "    if m == 0:\n",
    "        return n + 1\n",
    "    elif m > 0 and n == 0:\n",
    "        return ack(m - 1, 1)\n",
    "    else:\n",
    "        return ack(m - 1, ack(m, n - 1))"
   ]
  },
  {
   "cell_type": "code",
   "execution_count": null,
   "metadata": {},
   "outputs": [],
   "source": [
    "ack(3, 4)"
   ]
  },
  {
   "cell_type": "code",
   "execution_count": null,
   "metadata": {},
   "outputs": [],
   "source": [
    "known = {}\n",
    "\n",
    "def ackermann(m, n):\n",
    "    \"\"\"\n",
    "    Evaluates the Ackermann function for m and n.\n",
    "    \"\"\"\n",
    "    if m in known:\n",
    "        return known[m]\n",
    "    \n",
    "    if n in known:\n",
    "        return known[n]\n",
    "    \n",
    "    if m == 0:\n",
    "        return n + 1\n",
    "    elif m > 0 and n == 0:\n",
    "        return ackermann(m - 1, 1)\n",
    "    else:\n",
    "        return ackermann(m - 1, ackermann(m, n - 1))\n"
   ]
  },
  {
   "cell_type": "code",
   "execution_count": null,
   "metadata": {},
   "outputs": [],
   "source": [
    "ackermann(3, 4)"
   ]
  },
  {
   "cell_type": "markdown",
   "metadata": {},
   "source": [
    "*__As the author implied, using a dictionary will not allow us to evaluate the function with bigger arguments:__*\n",
    "\n",
    "```\n",
    "ackermann(4, 4)\n",
    "\n",
    "---------------------------------------------------------------------------\n",
    "RecursionError                            Traceback (most recent call last)\n",
    "<ipython-input-7-047f948573e7> in <module>\n",
    "----> 1 ackermann(4, 4)\n",
    "\n",
    "<ipython-input-5-5a67f4b78d04> in ackermann(m, n)\n",
    "     16         return ackermann(m - 1, 1)\n",
    "     17     else:\n",
    "---> 18         return ackermann(m - 1, ackermann(m, n - 1))\n",
    "\n",
    "... last 1 frames repeated, from the frame below ...\n",
    "\n",
    "<ipython-input-5-5a67f4b78d04> in ackermann(m, n)\n",
    "     16         return ackermann(m - 1, 1)\n",
    "     17     else:\n",
    "---> 18         return ackermann(m - 1, ackermann(m, n - 1))\n",
    "\n",
    "RecursionError: maximum recursion depth exceeded in comparison\n",
    "```"
   ]
  },
  {
   "cell_type": "markdown",
   "metadata": {},
   "source": [
    "*__And the memoized version is actually a bit slower.  As with previous chapters, I'm using `print(\"\".format())` here for the sake of convenience, even though it hasn't been introduced yet in this book__.*"
   ]
  },
  {
   "cell_type": "code",
   "execution_count": null,
   "metadata": {},
   "outputs": [],
   "source": [
    "import time\n",
    "\n",
    "start = time.time()\n",
    "ack(3, 4)\n",
    "end = time.time()\n",
    "\n",
    "print(\"The non-memoized `ack` function took {:.8f} seconds to execute.\".format(end - start))"
   ]
  },
  {
   "cell_type": "code",
   "execution_count": null,
   "metadata": {},
   "outputs": [],
   "source": [
    "import time\n",
    "\n",
    "start = time.time()\n",
    "ackermann(3, 4)\n",
    "end = time.time()\n",
    "\n",
    "print(\"The memoized `ackermann` function took {:.8f} seconds to execute.\".format(end - start))"
   ]
  },
  {
   "cell_type": "markdown",
   "metadata": {},
   "source": [
    "#### Exercise 4  \n",
    "\n",
    "*If you did Exercise 7, you already have a function named `has_duplicates` that takes a list as a parameter and returns `True` if there is any object that appears more than once in the list.*\n",
    "\n",
    "*Use a dictionary to write a faster, simpler version of `has_duplicates`.*"
   ]
  },
  {
   "cell_type": "code",
   "execution_count": 1,
   "metadata": {},
   "outputs": [],
   "source": [
    "def has_duplicates(s):\n",
    "    \"\"\"\n",
    "    Returns True if any element in s\n",
    "    appears more than once.\n",
    "    s can be a list, string, integer, or float.\n",
    "    Upper and lower case characters are treated \n",
    "    as equivalent.\n",
    "    \"\"\"\n",
    "    \n",
    "    d = dict()\n",
    "    \n",
    "    # Convert integers and floats to strings\n",
    "    if type(s) == int or type(s) == float:\n",
    "        s = str(s)\n",
    "    \n",
    "    # Convert s to lowercase\n",
    "    if type(s) == str:\n",
    "        s = s.lower()\n",
    "    for c in s:\n",
    "        if c not in d:\n",
    "            d[c] = 1\n",
    "        else:\n",
    "            return True\n",
    "    return False"
   ]
  },
  {
   "cell_type": "code",
   "execution_count": null,
   "metadata": {},
   "outputs": [],
   "source": [
    "has_duplicates(123)"
   ]
  },
  {
   "cell_type": "code",
   "execution_count": null,
   "metadata": {},
   "outputs": [],
   "source": [
    "has_duplicates(1231)"
   ]
  },
  {
   "cell_type": "code",
   "execution_count": null,
   "metadata": {},
   "outputs": [],
   "source": [
    "has_duplicates(123.1)"
   ]
  },
  {
   "cell_type": "code",
   "execution_count": null,
   "metadata": {},
   "outputs": [],
   "source": [
    "has_duplicates(\"abc\")"
   ]
  },
  {
   "cell_type": "code",
   "execution_count": null,
   "metadata": {},
   "outputs": [],
   "source": [
    "has_duplicates(\"abca\")"
   ]
  },
  {
   "cell_type": "code",
   "execution_count": null,
   "metadata": {},
   "outputs": [],
   "source": [
    "has_duplicates(\"Abca\")"
   ]
  },
  {
   "cell_type": "code",
   "execution_count": null,
   "metadata": {},
   "outputs": [],
   "source": [
    "has_duplicates([1, 2, 3])"
   ]
  },
  {
   "cell_type": "code",
   "execution_count": null,
   "metadata": {},
   "outputs": [],
   "source": [
    "has_duplicates([1, 2, 3, 1])"
   ]
  },
  {
   "cell_type": "markdown",
   "metadata": {},
   "source": [
    "*__The dictionary version of `has_duplicates` is definitely faster:__*"
   ]
  },
  {
   "cell_type": "code",
   "execution_count": 2,
   "metadata": {},
   "outputs": [
    {
     "name": "stdout",
     "output_type": "stream",
     "text": [
      "The dictionary version of `has_duplicates` took 0.0000000000000000000000 seconds to execute.\n"
     ]
    }
   ],
   "source": [
    "import time\n",
    "\n",
    "start = time.time()\n",
    "has_duplicates('parrot')\n",
    "end = time.time()\n",
    "\n",
    "print(\"The dictionary version of `has_duplicates` took {:.22f} seconds to execute.\".format(end - start))"
   ]
  },
  {
   "cell_type": "code",
   "execution_count": 3,
   "metadata": {},
   "outputs": [],
   "source": [
    "# This is the same as the non-dictionary version I wrote for ex. 10.7.\n",
    "\n",
    "def has_dupes(t):\n",
    "    \"\"\"\n",
    "    Returns True if any element in t\n",
    "    appears more than once.\n",
    "    If t is a string, upper and lower\n",
    "    case characters are treated as equivalent.\n",
    "    \"\"\"\n",
    "    \n",
    "    # Convert t to lowercase if it's a string\n",
    "    if type(t) == str:\n",
    "        sorted_t = sorted(t.lower())\n",
    "    else:\n",
    "        sorted_t = sorted(t)\n",
    "        \n",
    "    i = 0\n",
    "    while i < len(sorted_t) - 1:\n",
    "        if sorted_t[i] == sorted_t[i + 1]:\n",
    "            return True\n",
    "        i += 1\n",
    "    return False"
   ]
  },
  {
   "cell_type": "code",
   "execution_count": 4,
   "metadata": {},
   "outputs": [
    {
     "name": "stdout",
     "output_type": "stream",
     "text": [
      "The non-dictionary version of `has_duplicates` took 0.0000000000000000000000 seconds to execute.\n"
     ]
    }
   ],
   "source": [
    "import time\n",
    "\n",
    "start = time.time()\n",
    "has_dupes('parrot')\n",
    "end = time.time()\n",
    "\n",
    "print(\"The non-dictionary version of `has_duplicates` took {:.22f} seconds to execute.\".format(end - start))"
   ]
  },
  {
   "cell_type": "markdown",
   "metadata": {},
   "source": [
    "#### Exercise 5  \n",
    "\n",
    "*Two words are “rotate pairs” if you can rotate one of them and get the other (see `rotate_word` in Exercise 5).*\n",
    "\n",
    "*Write a program that reads a wordlist and finds all the rotate pairs.*"
   ]
  },
  {
   "cell_type": "code",
   "execution_count": 5,
   "metadata": {},
   "outputs": [],
   "source": [
    "import os \n",
    "path = \"D:\\\\ThinkPython-master\\\\ThinkPython-master\"\n",
    "\n",
    "os.chdir(path)"
   ]
  },
  {
   "cell_type": "code",
   "execution_count": 6,
   "metadata": {},
   "outputs": [],
   "source": [
    "def make_word_list_with_append():\n",
    "    \"\"\"\n",
    "    Reads lines from word.txt and \n",
    "    makes a list using append.\n",
    "    \"\"\"\n",
    "    fin = open('words.txt')\n",
    "    t = []\n",
    "\n",
    "    for line in fin:   \n",
    "        t.append(line.strip())\n",
    "    return t\n",
    "\n"
   ]
  },
  {
   "cell_type": "code",
   "execution_count": 9,
   "metadata": {},
   "outputs": [],
   "source": [
    "word_list = make_word_list_with_append()\n"
   ]
  },
  {
   "cell_type": "code",
   "execution_count": 24,
   "metadata": {},
   "outputs": [
    {
     "data": {
      "text/plain": [
       "{'one': 'uno', 'two': 'dos'}"
      ]
     },
     "execution_count": 24,
     "metadata": {},
     "output_type": "execute_result"
    }
   ],
   "source": [
    "test_dict = {'one': 'uno', 'two': 'dos'}\n",
    "test_dict"
   ]
  },
  {
   "cell_type": "code",
   "execution_count": 26,
   "metadata": {},
   "outputs": [
    {
     "ename": "AttributeError",
     "evalue": "'str' object has no attribute 'value'",
     "output_type": "error",
     "traceback": [
      "\u001b[1;31m---------------------------------------------------------------------------\u001b[0m",
      "\u001b[1;31mAttributeError\u001b[0m                            Traceback (most recent call last)",
      "\u001b[1;32m<ipython-input-26-de0718b8c630>\u001b[0m in \u001b[0;36m<module>\u001b[1;34m\u001b[0m\n\u001b[1;32m----> 1\u001b[1;33m \u001b[0mtest_dict\u001b[0m\u001b[1;33m[\u001b[0m\u001b[1;34m'one'\u001b[0m\u001b[1;33m]\u001b[0m\u001b[1;33m.\u001b[0m\u001b[0mvalue\u001b[0m\u001b[1;33m(\u001b[0m\u001b[1;33m)\u001b[0m\u001b[1;33m\u001b[0m\u001b[1;33m\u001b[0m\u001b[0m\n\u001b[0m",
      "\u001b[1;31mAttributeError\u001b[0m: 'str' object has no attribute 'value'"
     ]
    }
   ],
   "source": [
    "test_dict['one'].value()"
   ]
  },
  {
   "cell_type": "code",
   "execution_count": 28,
   "metadata": {},
   "outputs": [
    {
     "ename": "AttributeError",
     "evalue": "'str' object has no attribute 'append'",
     "output_type": "error",
     "traceback": [
      "\u001b[1;31m---------------------------------------------------------------------------\u001b[0m",
      "\u001b[1;31mAttributeError\u001b[0m                            Traceback (most recent call last)",
      "\u001b[1;32m<ipython-input-28-84f8cb1de7bf>\u001b[0m in \u001b[0;36m<module>\u001b[1;34m\u001b[0m\n\u001b[1;32m----> 1\u001b[1;33m \u001b[0mtest_dict\u001b[0m\u001b[1;33m.\u001b[0m\u001b[0msetdefault\u001b[0m\u001b[1;33m(\u001b[0m\u001b[1;34m'one'\u001b[0m\u001b[1;33m,\u001b[0m \u001b[1;33m[\u001b[0m\u001b[1;33m]\u001b[0m\u001b[1;33m)\u001b[0m\u001b[1;33m.\u001b[0m\u001b[0mappend\u001b[0m\u001b[1;33m(\u001b[0m\u001b[1;33m[\u001b[0m\u001b[1;34m'eins'\u001b[0m\u001b[1;33m]\u001b[0m\u001b[1;33m)\u001b[0m\u001b[1;33m\u001b[0m\u001b[1;33m\u001b[0m\u001b[0m\n\u001b[0m",
      "\u001b[1;31mAttributeError\u001b[0m: 'str' object has no attribute 'append'"
     ]
    }
   ],
   "source": [
    "test_dict.setdefault('one', []).append(['eins'])"
   ]
  },
  {
   "cell_type": "code",
   "execution_count": null,
   "metadata": {},
   "outputs": [],
   "source": []
  }
 ],
 "metadata": {
  "kernelspec": {
   "display_name": "Python 3",
   "language": "python",
   "name": "python3"
  },
  "language_info": {
   "codemirror_mode": {
    "name": "ipython",
    "version": 3
   },
   "file_extension": ".py",
   "mimetype": "text/x-python",
   "name": "python",
   "nbconvert_exporter": "python",
   "pygments_lexer": "ipython3",
   "version": "3.7.3"
  }
 },
 "nbformat": 4,
 "nbformat_minor": 2
}
