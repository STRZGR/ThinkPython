{
 "cells": [
  {
   "cell_type": "markdown",
   "metadata": {},
   "source": [
    "# Think Python\n",
    "\n",
    "## Chapter 11 Dictionaries\n",
    "\n",
    "HTML version can be found [here](http://greenteapress.com/thinkpython2/html/thinkpython2012.html \"Chpt 11\").\n",
    "\n",
    "### 11.1 A dictionary is mapping\n",
    "\n",
    "*__We need to use the method `values` to search for values in a dictionary:__*"
   ]
  },
  {
   "cell_type": "code",
   "execution_count": 1,
   "metadata": {},
   "outputs": [
    {
     "data": {
      "text/plain": [
       "True"
      ]
     },
     "execution_count": 1,
     "metadata": {},
     "output_type": "execute_result"
    }
   ],
   "source": [
    "eng2sp = {'one': 'uno', 'two': 'dos', 'three': 'tres'}\n",
    "\n",
    "'one' in eng2sp"
   ]
  },
  {
   "cell_type": "code",
   "execution_count": 2,
   "metadata": {},
   "outputs": [
    {
     "data": {
      "text/plain": [
       "False"
      ]
     },
     "execution_count": 2,
     "metadata": {},
     "output_type": "execute_result"
    }
   ],
   "source": [
    "'uno' in eng2sp"
   ]
  },
  {
   "cell_type": "code",
   "execution_count": 4,
   "metadata": {},
   "outputs": [
    {
     "data": {
      "text/plain": [
       "True"
      ]
     },
     "execution_count": 4,
     "metadata": {},
     "output_type": "execute_result"
    }
   ],
   "source": [
    "vals = eng2sp.values()\n",
    "'uno' in vals"
   ]
  },
  {
   "cell_type": "markdown",
   "metadata": {},
   "source": [
    "### 11.2 Dictionary as a collection of counters\n",
    "\n",
    "*__I did this earlier when I went through \"Think Julia\", but just as a refresher:__*"
   ]
  },
  {
   "cell_type": "code",
   "execution_count": 5,
   "metadata": {},
   "outputs": [],
   "source": [
    "def histogram(s):\n",
    "    d = dict()\n",
    "    for c in s:\n",
    "        if c not in d:\n",
    "            d[c] = 1\n",
    "        else:\n",
    "            d[c] += 1\n",
    "    return d"
   ]
  },
  {
   "cell_type": "code",
   "execution_count": 25,
   "metadata": {},
   "outputs": [
    {
     "data": {
      "text/plain": [
       "{'D': 1,\n",
       " 'a': 7,\n",
       " 'b': 4,\n",
       " 'c': 2,\n",
       " 'd': 1,\n",
       " 'e': 11,\n",
       " 'f': 4,\n",
       " 'g': 1,\n",
       " 'h': 4,\n",
       " 'i': 4,\n",
       " 'k': 2,\n",
       " 'l': 3,\n",
       " 'm': 2,\n",
       " 'n': 4,\n",
       " 'o': 1,\n",
       " 'p': 2,\n",
       " 'r': 5,\n",
       " 's': 5,\n",
       " 't': 9,\n",
       " 'u': 4,\n",
       " 'w': 1,\n",
       " 'z': 1,\n",
       " 'ä': 1}"
      ]
     },
     "execution_count": 25,
     "metadata": {},
     "output_type": "execute_result"
    }
   ],
   "source": [
    "h = histogram(\"Donaudampfschiffahrtselektrizitätenhauptbetriebswerkbauunterbeamtengesellschaft\")\n",
    "h"
   ]
  },
  {
   "cell_type": "markdown",
   "metadata": {},
   "source": [
    "*As an exercise, use `get` to write `histogram` more concisely. You should be able to eliminate the if statement.*"
   ]
  },
  {
   "cell_type": "code",
   "execution_count": 1,
   "metadata": {},
   "outputs": [],
   "source": [
    "def histogram(s):\n",
    "    d = dict()\n",
    "    for c in s:\n",
    "        d[c] = 1 + d.get(c, 0)\n",
    "\n",
    "    return d"
   ]
  },
  {
   "cell_type": "code",
   "execution_count": 2,
   "metadata": {},
   "outputs": [
    {
     "data": {
      "text/plain": [
       "{'D': 1,\n",
       " 'o': 1,\n",
       " 'n': 4,\n",
       " 'a': 7,\n",
       " 'u': 4,\n",
       " 'd': 1,\n",
       " 'm': 2,\n",
       " 'p': 2,\n",
       " 'f': 4,\n",
       " 's': 5,\n",
       " 'c': 2,\n",
       " 'h': 4,\n",
       " 'i': 4,\n",
       " 'r': 5,\n",
       " 't': 9,\n",
       " 'e': 11,\n",
       " 'l': 3,\n",
       " 'k': 2,\n",
       " 'z': 1,\n",
       " 'ä': 1,\n",
       " 'b': 4,\n",
       " 'w': 1,\n",
       " 'g': 1}"
      ]
     },
     "execution_count": 2,
     "metadata": {},
     "output_type": "execute_result"
    }
   ],
   "source": [
    "h = histogram(\"Donaudampfschiffahrtselektrizitätenhauptbetriebswerkbauunterbeamtengesellschaft\")\n",
    "h"
   ]
  },
  {
   "cell_type": "markdown",
   "metadata": {},
   "source": [
    "### 11.3 Looping and dictionaries\n",
    "\n",
    "*__No notes.__*\n",
    "\n",
    "### 11.4 Reverse lookup\n",
    "\n",
    "*__No notes.__*\n",
    "\n",
    "### 11.5 Dictionaries and lists\n",
    "\n",
    "*__No notes.__*\n",
    "\n",
    "### 11.6 Memos\n",
    "\n",
    "*__I did this earlier when I went through \"Think Julia\", but just as a refresher I'll do the \"memoized\" version of `fibonacci` again:__*"
   ]
  },
  {
   "cell_type": "code",
   "execution_count": 27,
   "metadata": {},
   "outputs": [],
   "source": [
    "known = {0:0, 1:1}\n",
    "\n",
    "def fibonacci(n):\n",
    "    if n in known:\n",
    "        return known[n]\n",
    "    \n",
    "    res = fibonacci(n - 1) + fibonacci(n - 2)\n",
    "    known[n] = res\n",
    "    return res"
   ]
  },
  {
   "cell_type": "code",
   "execution_count": 28,
   "metadata": {},
   "outputs": [
    {
     "data": {
      "text/plain": [
       "12586269025"
      ]
     },
     "execution_count": 28,
     "metadata": {},
     "output_type": "execute_result"
    }
   ],
   "source": [
    "fibonacci(50)"
   ]
  },
  {
   "cell_type": "markdown",
   "metadata": {},
   "source": [
    "### 11.7 Global variables\n",
    "\n",
    "*__If we'd like to reassign a global variable from inside a function, we need to declare `global variable_name` before using it.__*\n",
    "\n",
    "### 11.8 Debugging\n",
    "\n",
    "*__No notes.__*\n",
    "\n",
    "### 11.9 Glossary\n",
    "\n",
    "*__No notes.__*\n",
    "\n",
    "### 11.10 Exercises\n",
    "\n",
    "#### Exercise 1  \n",
    "\n",
    "*Write a function that reads the words in `words.txt` and stores them as keys in a dictionary. It doesn’t matter what the values are. Then you can use the `in` operator as a fast way to check whether a string is in the dictionary.*\n",
    "\n",
    "*If you did Exercise 10, you can compare the speed of this implementation with the list in operator and the bisection search.*\n",
    "\n"
   ]
  },
  {
   "cell_type": "code",
   "execution_count": 3,
   "metadata": {},
   "outputs": [],
   "source": [
    "import os\n",
    "path = \"C:\\\\Users\\\\mjcor\\\\Desktop\\\\ProgrammingStuff\\\\ThinkPython\"\n",
    "os.chdir(path)\n",
    "fin = open('words.txt')"
   ]
  },
  {
   "cell_type": "code",
   "execution_count": 6,
   "metadata": {},
   "outputs": [],
   "source": [
    "def make_word_list_with_append():\n",
    "    \"\"\"\n",
    "    Reads lines from word.txt and \n",
    "    makes a list using append.\n",
    "    \"\"\"\n",
    "    fin = open('words.txt')\n",
    "    t = []\n",
    "\n",
    "    for line in fin:   \n",
    "        t.append(line.strip())\n",
    "    return t\n",
    "\n",
    "def make_dict_from_word_list(t):\n",
    "    \"\"\"\n",
    "    Returns a dict with the strings in \n",
    "    list t as the values.\n",
    "    \"\"\"\n",
    "    \n",
    "    d = dict()\n",
    "    for word in t:\n",
    "        d[word] = d.get(word, \"\")\n",
    "\n",
    "    return d"
   ]
  },
  {
   "cell_type": "code",
   "execution_count": 7,
   "metadata": {},
   "outputs": [],
   "source": [
    "my_list = make_word_list_with_append()\n",
    "\n",
    "my_dict = make_dict_from_word_list(my_list)"
   ]
  },
  {
   "cell_type": "code",
   "execution_count": 8,
   "metadata": {},
   "outputs": [
    {
     "data": {
      "text/plain": [
       "'aiming'"
      ]
     },
     "execution_count": 8,
     "metadata": {},
     "output_type": "execute_result"
    }
   ],
   "source": [
    "from random import randint\n",
    "\n",
    "my_list[randint(0, len(my_list))]"
   ]
  },
  {
   "cell_type": "code",
   "execution_count": 10,
   "metadata": {},
   "outputs": [
    {
     "name": "stdout",
     "output_type": "stream",
     "text": [
      "It took 0.0000000000000000000000 seconds to find the word by searching dictionary keys.\n"
     ]
    }
   ],
   "source": [
    "import time\n",
    "\n",
    "start = time.time()\n",
    "'aiming' in my_dict\n",
    "end = time.time()\n",
    "\n",
    "print(\"It took {0:.22f} seconds to find the word by searching dictionary keys.\".format(end - start))"
   ]
  },
  {
   "cell_type": "code",
   "execution_count": 11,
   "metadata": {},
   "outputs": [],
   "source": [
    "def in_bisect(word, t):\n",
    "    \"\"\"\n",
    "    Returns True if string word is in list t.\n",
    "    Uses bisection search.\n",
    "    \"\"\"\n",
    "    \n",
    "    midpoint = len(t)//2\n",
    "       \n",
    "    if len(t) == 0:\n",
    "        return False\n",
    "    \n",
    "    if t[midpoint] == word:\n",
    "        return True\n",
    "    elif word < t[midpoint]:\n",
    "        return in_bisect(word, t[:midpoint])\n",
    "    else:\n",
    "        return in_bisect(word, t[midpoint + 1:])"
   ]
  },
  {
   "cell_type": "code",
   "execution_count": 12,
   "metadata": {},
   "outputs": [
    {
     "name": "stdout",
     "output_type": "stream",
     "text": [
      "It took 0.0019967555999755859375 seconds to find the word by using in_bisect.\n"
     ]
    }
   ],
   "source": [
    "import time\n",
    "\n",
    "start = time.time()\n",
    "in_bisect('aiming', my_list)\n",
    "end = time.time()\n",
    "\n",
    "print(\"It took {0:.22f} seconds to find the word by using in_bisect.\".format(end - start))"
   ]
  },
  {
   "cell_type": "markdown",
   "metadata": {},
   "source": [
    "*__Although it's not clear precisely how much time it took to find the word 'perquisites' in the dictionary keys, it's clear to say that it was faster than bisection search.__*"
   ]
  },
  {
   "cell_type": "markdown",
   "metadata": {},
   "source": [
    "#### Exercise 2  \n",
    "\n",
    "*__Read the documentation of the dictionary method `setdefault` and use it to write a more concise version of `invert_dict`.__*"
   ]
  },
  {
   "cell_type": "code",
   "execution_count": 13,
   "metadata": {},
   "outputs": [],
   "source": [
    "def invert_dict(d):\n",
    "    \"\"\"\n",
    "    Returns an inverted dictionary, where the values\n",
    "    of dict d are the keys, and the keys of dict d\n",
    "    the values.\n",
    "    \"\"\"\n",
    "    inverse = dict()\n",
    "    for key in d:\n",
    "        val = d[key]\n",
    "        inverse.setdefault(val, []).append(key)\n",
    "    return inverse"
   ]
  },
  {
   "cell_type": "code",
   "execution_count": 14,
   "metadata": {},
   "outputs": [
    {
     "data": {
      "text/plain": [
       "{1: ['B', 'l', 'i', 'v', 's'],\n",
       " 12: ['a'],\n",
       " 3: ['b', 'e'],\n",
       " 2: ['d', 'g', 'm', 'w'],\n",
       " 7: ['h', 't'],\n",
       " 11: ['r'],\n",
       " 4: ['k'],\n",
       " 21: ['n'],\n",
       " 14: ['o'],\n",
       " 5: ['u']}"
      ]
     },
     "execution_count": 14,
     "metadata": {},
     "output_type": "execute_result"
    }
   ],
   "source": [
    "# first thunder word in Finnegan's Wake\n",
    "hist = histogram(\"Bababadalgharaghtakamminarronnkonnbronntonnerronntuonnthunntrovarrhounawnskawntoohoohoordenenthurnuk\")\n",
    "invert_dict(hist)"
   ]
  },
  {
   "cell_type": "code",
   "execution_count": null,
   "metadata": {},
   "outputs": [],
   "source": []
  }
 ],
 "metadata": {
  "kernelspec": {
   "display_name": "Python 3",
   "language": "python",
   "name": "python3"
  },
  "language_info": {
   "codemirror_mode": {
    "name": "ipython",
    "version": 3
   },
   "file_extension": ".py",
   "mimetype": "text/x-python",
   "name": "python",
   "nbconvert_exporter": "python",
   "pygments_lexer": "ipython3",
   "version": "3.7.4"
  }
 },
 "nbformat": 4,
 "nbformat_minor": 2
}
