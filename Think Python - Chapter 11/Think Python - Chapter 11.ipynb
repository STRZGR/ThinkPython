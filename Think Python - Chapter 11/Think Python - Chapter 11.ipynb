{
 "cells": [
  {
   "cell_type": "markdown",
   "metadata": {},
   "source": [
    "# Think Python\n",
    "\n",
    "## Chapter 11 Dictionaries\n",
    "\n",
    "HTML version can be found [here](http://greenteapress.com/thinkpython2/html/thinkpython2012.html \"Chpt 11\").\n",
    "\n",
    "### 11.1 A dictionary is mapping\n",
    "\n",
    "*__We need to use the method `values` to search for values in a dictionary:__*"
   ]
  },
  {
   "cell_type": "code",
   "execution_count": 1,
   "metadata": {},
   "outputs": [
    {
     "data": {
      "text/plain": [
       "True"
      ]
     },
     "execution_count": 1,
     "metadata": {},
     "output_type": "execute_result"
    }
   ],
   "source": [
    "eng2sp = {'one': 'uno', 'two': 'dos', 'three': 'tres'}\n",
    "\n",
    "'one' in eng2sp"
   ]
  },
  {
   "cell_type": "code",
   "execution_count": 2,
   "metadata": {},
   "outputs": [
    {
     "data": {
      "text/plain": [
       "False"
      ]
     },
     "execution_count": 2,
     "metadata": {},
     "output_type": "execute_result"
    }
   ],
   "source": [
    "'uno' in eng2sp"
   ]
  },
  {
   "cell_type": "code",
   "execution_count": 3,
   "metadata": {},
   "outputs": [
    {
     "data": {
      "text/plain": [
       "True"
      ]
     },
     "execution_count": 3,
     "metadata": {},
     "output_type": "execute_result"
    }
   ],
   "source": [
    "vals = eng2sp.values()\n",
    "'uno' in vals"
   ]
  },
  {
   "cell_type": "markdown",
   "metadata": {},
   "source": [
    "### 11.2 Dictionary as a collection of counters\n",
    "\n",
    "*__I did this earlier when I went through \"Think Julia\", but just as a refresher:__*"
   ]
  },
  {
   "cell_type": "code",
   "execution_count": 4,
   "metadata": {},
   "outputs": [],
   "source": [
    "def histogram(s):\n",
    "    d = dict()\n",
    "    for c in s:\n",
    "        if c not in d:\n",
    "            d[c] = 1\n",
    "        else:\n",
    "            d[c] += 1\n",
    "    return d"
   ]
  },
  {
   "cell_type": "code",
   "execution_count": 5,
   "metadata": {},
   "outputs": [
    {
     "data": {
      "text/plain": [
       "{'D': 1,\n",
       " 'o': 1,\n",
       " 'n': 4,\n",
       " 'a': 7,\n",
       " 'u': 4,\n",
       " 'd': 1,\n",
       " 'm': 2,\n",
       " 'p': 2,\n",
       " 'f': 4,\n",
       " 's': 5,\n",
       " 'c': 2,\n",
       " 'h': 4,\n",
       " 'i': 4,\n",
       " 'r': 5,\n",
       " 't': 9,\n",
       " 'e': 11,\n",
       " 'l': 3,\n",
       " 'k': 2,\n",
       " 'z': 1,\n",
       " 'ä': 1,\n",
       " 'b': 4,\n",
       " 'w': 1,\n",
       " 'g': 1}"
      ]
     },
     "execution_count": 5,
     "metadata": {},
     "output_type": "execute_result"
    }
   ],
   "source": [
    "h = histogram(\"Donaudampfschiffahrtselektrizitätenhauptbetriebswerkbauunterbeamtengesellschaft\")\n",
    "h"
   ]
  },
  {
   "cell_type": "markdown",
   "metadata": {},
   "source": [
    "*As an exercise, use `get` to write `histogram` more concisely. You should be able to eliminate the if statement.*"
   ]
  },
  {
   "cell_type": "code",
   "execution_count": 6,
   "metadata": {},
   "outputs": [],
   "source": [
    "def histogram(s):\n",
    "    d = dict()\n",
    "    for c in s:\n",
    "        d[c] = 1 + d.get(c, 0)\n",
    "\n",
    "    return d"
   ]
  },
  {
   "cell_type": "code",
   "execution_count": 7,
   "metadata": {},
   "outputs": [
    {
     "data": {
      "text/plain": [
       "{'D': 1,\n",
       " 'o': 1,\n",
       " 'n': 4,\n",
       " 'a': 7,\n",
       " 'u': 4,\n",
       " 'd': 1,\n",
       " 'm': 2,\n",
       " 'p': 2,\n",
       " 'f': 4,\n",
       " 's': 5,\n",
       " 'c': 2,\n",
       " 'h': 4,\n",
       " 'i': 4,\n",
       " 'r': 5,\n",
       " 't': 9,\n",
       " 'e': 11,\n",
       " 'l': 3,\n",
       " 'k': 2,\n",
       " 'z': 1,\n",
       " 'ä': 1,\n",
       " 'b': 4,\n",
       " 'w': 1,\n",
       " 'g': 1}"
      ]
     },
     "execution_count": 7,
     "metadata": {},
     "output_type": "execute_result"
    }
   ],
   "source": [
    "h = histogram(\"Donaudampfschiffahrtselektrizitätenhauptbetriebswerkbauunterbeamtengesellschaft\")\n",
    "h"
   ]
  },
  {
   "cell_type": "markdown",
   "metadata": {},
   "source": [
    "### 11.3 Looping and dictionaries\n",
    "\n",
    "*__No notes.__*\n",
    "\n",
    "### 11.4 Reverse lookup\n",
    "\n",
    "*__No notes.__*\n",
    "\n",
    "### 11.5 Dictionaries and lists\n",
    "\n",
    "*__No notes.__*\n",
    "\n",
    "### 11.6 Memos\n",
    "\n",
    "*__I did this earlier when I went through \"Think Julia\", but just as a refresher I'll do the \"memoized\" version of `fibonacci` again:__*"
   ]
  },
  {
   "cell_type": "code",
   "execution_count": 8,
   "metadata": {},
   "outputs": [],
   "source": [
    "known = {0:0, 1:1}\n",
    "\n",
    "def fibonacci(n):\n",
    "    if n in known:\n",
    "        return known[n]\n",
    "    \n",
    "    res = fibonacci(n - 1) + fibonacci(n - 2)\n",
    "    known[n] = res\n",
    "    return res"
   ]
  },
  {
   "cell_type": "code",
   "execution_count": 9,
   "metadata": {},
   "outputs": [
    {
     "data": {
      "text/plain": [
       "12586269025"
      ]
     },
     "execution_count": 9,
     "metadata": {},
     "output_type": "execute_result"
    }
   ],
   "source": [
    "fibonacci(50)"
   ]
  },
  {
   "cell_type": "markdown",
   "metadata": {},
   "source": [
    "### 11.7 Global variables\n",
    "\n",
    "*__If we'd like to reassign a global variable from inside a function, we need to declare `global variable_name` before using it.__*\n",
    "\n",
    "### 11.8 Debugging\n",
    "\n",
    "*__No notes.__*\n",
    "\n",
    "### 11.9 Glossary\n",
    "\n",
    "*__No notes.__*\n",
    "\n",
    "### 11.10 Exercises\n",
    "\n",
    "#### Exercise 1  \n",
    "\n",
    "*Write a function that reads the words in `words.txt` and stores them as keys in a dictionary. It doesn’t matter what the values are. Then you can use the `in` operator as a fast way to check whether a string is in the dictionary.*\n",
    "\n",
    "*If you did Exercise 10, you can compare the speed of this implementation with the list in operator and the bisection search.*\n",
    "\n"
   ]
  },
  {
   "cell_type": "code",
   "execution_count": 11,
   "metadata": {},
   "outputs": [],
   "source": [
    "def make_word_list_with_append():\n",
    "    \"\"\"\n",
    "    Reads lines from word.txt and \n",
    "    makes a list using append.\n",
    "    \"\"\"\n",
    "    fin = open('words.txt')\n",
    "    t = []\n",
    "\n",
    "    for line in fin:   \n",
    "        t.append(line.strip())\n",
    "    return t\n",
    "\n",
    "def make_dict_from_word_list(t):\n",
    "    \"\"\"\n",
    "    Returns a dict with the strings in \n",
    "    list t as the values.\n",
    "    \"\"\"\n",
    "    \n",
    "    d = dict()\n",
    "    for word in t:\n",
    "        d[word] = d.get(word, \"\")\n",
    "\n",
    "    return d"
   ]
  },
  {
   "cell_type": "code",
   "execution_count": 12,
   "metadata": {},
   "outputs": [],
   "source": [
    "my_list = make_word_list_with_append()\n",
    "\n",
    "my_dict = make_dict_from_word_list(my_list)"
   ]
  },
  {
   "cell_type": "code",
   "execution_count": 13,
   "metadata": {},
   "outputs": [
    {
     "data": {
      "text/plain": [
       "'reoils'"
      ]
     },
     "execution_count": 13,
     "metadata": {},
     "output_type": "execute_result"
    }
   ],
   "source": [
    "from random import randint\n",
    "\n",
    "random_word = my_list[randint(0, len(my_list))]\n",
    "random_word"
   ]
  },
  {
   "cell_type": "code",
   "execution_count": 14,
   "metadata": {},
   "outputs": [
    {
     "name": "stdout",
     "output_type": "stream",
     "text": [
      "It took 0.0000000000000000000000 seconds to find the word by searching dictionary keys.\n"
     ]
    }
   ],
   "source": [
    "import time\n",
    "\n",
    "start = time.time()\n",
    "random_word in my_dict\n",
    "end = time.time()\n",
    "\n",
    "print(\"It took {0:.22f} seconds to find the word by searching dictionary keys.\".format(end - start))"
   ]
  },
  {
   "cell_type": "code",
   "execution_count": 15,
   "metadata": {},
   "outputs": [],
   "source": [
    "def in_bisect(word, t):\n",
    "    \"\"\"\n",
    "    Returns True if string word is in list t.\n",
    "    Uses bisection search.\n",
    "    \"\"\"\n",
    "    \n",
    "    midpoint = len(t)//2\n",
    "       \n",
    "    if len(t) == 0:\n",
    "        return False\n",
    "    \n",
    "    if t[midpoint] == word:\n",
    "        return True\n",
    "    elif word < t[midpoint]:\n",
    "        return in_bisect(word, t[:midpoint])\n",
    "    else:\n",
    "        return in_bisect(word, t[midpoint + 1:])"
   ]
  },
  {
   "cell_type": "code",
   "execution_count": 16,
   "metadata": {},
   "outputs": [
    {
     "name": "stdout",
     "output_type": "stream",
     "text": [
      "It took 0.0009977817535400390625 seconds to find the word by using in_bisect.\n"
     ]
    }
   ],
   "source": [
    "import time\n",
    "\n",
    "start = time.time()\n",
    "in_bisect(random_word, my_list)\n",
    "end = time.time()\n",
    "\n",
    "print(\"It took {0:.22f} seconds to find the word by using in_bisect.\".format(end - start))"
   ]
  },
  {
   "cell_type": "markdown",
   "metadata": {},
   "source": [
    "*__Although it's not clear precisely how much time it took to find the word in the dictionary keys, it's clear to say that it was faster than bisection search.__*"
   ]
  },
  {
   "cell_type": "markdown",
   "metadata": {},
   "source": [
    "#### Exercise 2  \n",
    "\n",
    "*__Read the documentation of the dictionary method `setdefault` and use it to write a more concise version of `invert_dict`.__*"
   ]
  },
  {
   "cell_type": "code",
   "execution_count": 17,
   "metadata": {},
   "outputs": [],
   "source": [
    "def invert_dict(d):\n",
    "    \"\"\"\n",
    "    Returns an inverted dictionary, where the values\n",
    "    of dict d are the keys, and the keys of dict d\n",
    "    the values.\n",
    "    \"\"\"\n",
    "    inverse = dict()\n",
    "    for key in d:\n",
    "        val = d[key]\n",
    "        inverse.setdefault(val, []).append(key)\n",
    "    return inverse"
   ]
  },
  {
   "cell_type": "code",
   "execution_count": 18,
   "metadata": {},
   "outputs": [
    {
     "data": {
      "text/plain": [
       "{1: ['B', 'l', 'i', 'v', 's'],\n",
       " 12: ['a'],\n",
       " 3: ['b', 'e'],\n",
       " 2: ['d', 'g', 'm', 'w'],\n",
       " 7: ['h', 't'],\n",
       " 11: ['r'],\n",
       " 4: ['k'],\n",
       " 21: ['n'],\n",
       " 14: ['o'],\n",
       " 5: ['u']}"
      ]
     },
     "execution_count": 18,
     "metadata": {},
     "output_type": "execute_result"
    }
   ],
   "source": [
    "# first thunder word in Finnegan's Wake\n",
    "hist = histogram(\"Bababadalgharaghtakamminarronnkonnbronntonnerronntuonnthunntrovarrhounawnskawntoohoohoordenenthurnuk\")\n",
    "invert_dict(hist)"
   ]
  },
  {
   "cell_type": "markdown",
   "metadata": {},
   "source": [
    "#### Exercise 3   \n",
    "\n",
    "*Memoize the Ackermann function from Exercise 2 and see if memoization makes it possible to evaluate the function with bigger arguments. Hint: no.*\n",
    "\n"
   ]
  },
  {
   "cell_type": "code",
   "execution_count": 19,
   "metadata": {},
   "outputs": [],
   "source": [
    "# This is the same function I used in ex. 6.2\n",
    "\n",
    "def ack(m, n):\n",
    "    \"\"\"Evaluates the Ackermann function for m and n.  \n",
    "    Will not work for larger values, e.g., > 4.\n",
    "    \"\"\"\n",
    "    if m == 0:\n",
    "        return n + 1\n",
    "    elif m > 0 and n == 0:\n",
    "        return ack(m - 1, 1)\n",
    "    else:\n",
    "        return ack(m - 1, ack(m, n - 1))"
   ]
  },
  {
   "cell_type": "code",
   "execution_count": 20,
   "metadata": {},
   "outputs": [
    {
     "data": {
      "text/plain": [
       "125"
      ]
     },
     "execution_count": 20,
     "metadata": {},
     "output_type": "execute_result"
    }
   ],
   "source": [
    "ack(3, 4)"
   ]
  },
  {
   "cell_type": "code",
   "execution_count": 21,
   "metadata": {},
   "outputs": [],
   "source": [
    "known = {}\n",
    "\n",
    "def ackermann(m, n):\n",
    "    \"\"\"\n",
    "    Evaluates the Ackermann function for m and n.\n",
    "    Will not work for larger values, e.g., > 4.\n",
    "    \"\"\"\n",
    "    if m in known:\n",
    "        return known[m]\n",
    "    \n",
    "    if n in known:\n",
    "        return known[n]\n",
    "    \n",
    "    if m == 0:\n",
    "        return n + 1\n",
    "    elif m > 0 and n == 0:\n",
    "        return ackermann(m - 1, 1)\n",
    "    else:\n",
    "        return ackermann(m - 1, ackermann(m, n - 1))\n"
   ]
  },
  {
   "cell_type": "code",
   "execution_count": 22,
   "metadata": {},
   "outputs": [
    {
     "data": {
      "text/plain": [
       "125"
      ]
     },
     "execution_count": 22,
     "metadata": {},
     "output_type": "execute_result"
    }
   ],
   "source": [
    "ackermann(3, 4)"
   ]
  },
  {
   "cell_type": "markdown",
   "metadata": {},
   "source": [
    "*__As the author implied, using a dictionary will not allow us to evaluate the function with bigger arguments:__*\n",
    "\n",
    "```\n",
    "ackermann(4, 4)\n",
    "\n",
    "---------------------------------------------------------------------------\n",
    "RecursionError                            Traceback (most recent call last)\n",
    "<ipython-input-7-047f948573e7> in <module>\n",
    "----> 1 ackermann(4, 4)\n",
    "\n",
    "<ipython-input-5-5a67f4b78d04> in ackermann(m, n)\n",
    "     16         return ackermann(m - 1, 1)\n",
    "     17     else:\n",
    "---> 18         return ackermann(m - 1, ackermann(m, n - 1))\n",
    "\n",
    "... last 1 frames repeated, from the frame below ...\n",
    "\n",
    "<ipython-input-5-5a67f4b78d04> in ackermann(m, n)\n",
    "     16         return ackermann(m - 1, 1)\n",
    "     17     else:\n",
    "---> 18         return ackermann(m - 1, ackermann(m, n - 1))\n",
    "\n",
    "RecursionError: maximum recursion depth exceeded in comparison\n",
    "```"
   ]
  },
  {
   "cell_type": "markdown",
   "metadata": {},
   "source": [
    "*__And the memoized version is actually a bit slower.  As with previous chapters, I'm using `print(\"\".format())` here for the sake of convenience, even though it hasn't been introduced yet in this book__.*"
   ]
  },
  {
   "cell_type": "code",
   "execution_count": 23,
   "metadata": {},
   "outputs": [
    {
     "name": "stdout",
     "output_type": "stream",
     "text": [
      "The non-memoized `ack` function took 0.00199604 seconds to execute.\n"
     ]
    }
   ],
   "source": [
    "import time\n",
    "\n",
    "start = time.time()\n",
    "ack(3, 4)\n",
    "end = time.time()\n",
    "\n",
    "print(\"The non-memoized `ack` function took {:.8f} seconds to execute.\".format(end - start))"
   ]
  },
  {
   "cell_type": "code",
   "execution_count": 24,
   "metadata": {},
   "outputs": [
    {
     "name": "stdout",
     "output_type": "stream",
     "text": [
      "The memoized `ackermann` function took 0.00201797 seconds to execute.\n"
     ]
    }
   ],
   "source": [
    "import time\n",
    "\n",
    "start = time.time()\n",
    "ackermann(3, 4)\n",
    "end = time.time()\n",
    "\n",
    "print(\"The memoized `ackermann` function took {:.8f} seconds to execute.\".format(end - start))"
   ]
  },
  {
   "cell_type": "markdown",
   "metadata": {},
   "source": [
    "#### Exercise 4  \n",
    "\n",
    "*If you did Exercise 7, you already have a function named `has_duplicates` that takes a list as a parameter and returns `True` if there is any object that appears more than once in the list.*\n",
    "\n",
    "*Use a dictionary to write a faster, simpler version of `has_duplicates`.*"
   ]
  },
  {
   "cell_type": "code",
   "execution_count": 25,
   "metadata": {},
   "outputs": [],
   "source": [
    "def has_duplicates(s):\n",
    "    \"\"\"\n",
    "    Returns True if any element in s\n",
    "    appears more than once.\n",
    "    s can be a list, string, integer, or float.\n",
    "    Upper and lower case characters are treated \n",
    "    as equivalent.\n",
    "    \"\"\"\n",
    "    \n",
    "    d = dict()\n",
    "    \n",
    "    # Convert integers and floats to strings\n",
    "    if type(s) == int or type(s) == float:\n",
    "        s = str(s)\n",
    "    \n",
    "    # Convert s to lowercase\n",
    "    if type(s) == str:\n",
    "        s = s.lower()\n",
    "    for c in s:\n",
    "        if c not in d:\n",
    "            d[c] = 1\n",
    "        else:\n",
    "            return True\n",
    "    return False"
   ]
  },
  {
   "cell_type": "code",
   "execution_count": 26,
   "metadata": {},
   "outputs": [
    {
     "data": {
      "text/plain": [
       "False"
      ]
     },
     "execution_count": 26,
     "metadata": {},
     "output_type": "execute_result"
    }
   ],
   "source": [
    "has_duplicates(123)"
   ]
  },
  {
   "cell_type": "code",
   "execution_count": 27,
   "metadata": {},
   "outputs": [
    {
     "data": {
      "text/plain": [
       "True"
      ]
     },
     "execution_count": 27,
     "metadata": {},
     "output_type": "execute_result"
    }
   ],
   "source": [
    "has_duplicates(1231)"
   ]
  },
  {
   "cell_type": "code",
   "execution_count": 28,
   "metadata": {},
   "outputs": [
    {
     "data": {
      "text/plain": [
       "True"
      ]
     },
     "execution_count": 28,
     "metadata": {},
     "output_type": "execute_result"
    }
   ],
   "source": [
    "has_duplicates(123.1)"
   ]
  },
  {
   "cell_type": "code",
   "execution_count": 29,
   "metadata": {},
   "outputs": [
    {
     "data": {
      "text/plain": [
       "False"
      ]
     },
     "execution_count": 29,
     "metadata": {},
     "output_type": "execute_result"
    }
   ],
   "source": [
    "has_duplicates(\"abc\")"
   ]
  },
  {
   "cell_type": "code",
   "execution_count": 30,
   "metadata": {},
   "outputs": [
    {
     "data": {
      "text/plain": [
       "True"
      ]
     },
     "execution_count": 30,
     "metadata": {},
     "output_type": "execute_result"
    }
   ],
   "source": [
    "has_duplicates(\"abca\")"
   ]
  },
  {
   "cell_type": "code",
   "execution_count": 31,
   "metadata": {},
   "outputs": [
    {
     "data": {
      "text/plain": [
       "True"
      ]
     },
     "execution_count": 31,
     "metadata": {},
     "output_type": "execute_result"
    }
   ],
   "source": [
    "has_duplicates(\"Abca\")"
   ]
  },
  {
   "cell_type": "code",
   "execution_count": 32,
   "metadata": {},
   "outputs": [
    {
     "data": {
      "text/plain": [
       "False"
      ]
     },
     "execution_count": 32,
     "metadata": {},
     "output_type": "execute_result"
    }
   ],
   "source": [
    "has_duplicates([1, 2, 3])"
   ]
  },
  {
   "cell_type": "code",
   "execution_count": 33,
   "metadata": {},
   "outputs": [
    {
     "data": {
      "text/plain": [
       "True"
      ]
     },
     "execution_count": 33,
     "metadata": {},
     "output_type": "execute_result"
    }
   ],
   "source": [
    "has_duplicates([1, 2, 3, 1])"
   ]
  },
  {
   "cell_type": "markdown",
   "metadata": {},
   "source": [
    "*__Both versions seem to be fast:__*"
   ]
  },
  {
   "cell_type": "code",
   "execution_count": 34,
   "metadata": {},
   "outputs": [
    {
     "name": "stdout",
     "output_type": "stream",
     "text": [
      "The dictionary version of `has_duplicates` took 0.0000000000000000000000 seconds to execute.\n"
     ]
    }
   ],
   "source": [
    "import time\n",
    "\n",
    "start = time.time()\n",
    "has_duplicates(random_word)\n",
    "end = time.time()\n",
    "\n",
    "print(\"The dictionary version of `has_duplicates` took {:.22f} seconds to execute.\".format(end - start))"
   ]
  },
  {
   "cell_type": "code",
   "execution_count": 35,
   "metadata": {},
   "outputs": [],
   "source": [
    "# This is the same as the non-dictionary version I wrote for ex. 10.7.\n",
    "\n",
    "def has_dupes(t):\n",
    "    \"\"\"\n",
    "    Returns True if any element in t\n",
    "    appears more than once.\n",
    "    If t is a string, upper and lower\n",
    "    case characters are treated as equivalent.\n",
    "    \"\"\"\n",
    "    \n",
    "    # Convert t to lowercase if it's a string\n",
    "    if type(t) == str:\n",
    "        sorted_t = sorted(t.lower())\n",
    "    else:\n",
    "        sorted_t = sorted(t)\n",
    "        \n",
    "    i = 0\n",
    "    while i < len(sorted_t) - 1:\n",
    "        if sorted_t[i] == sorted_t[i + 1]:\n",
    "            return True\n",
    "        i += 1\n",
    "    return False"
   ]
  },
  {
   "cell_type": "code",
   "execution_count": 36,
   "metadata": {},
   "outputs": [
    {
     "name": "stdout",
     "output_type": "stream",
     "text": [
      "The non-dictionary version of `has_duplicates` took 0.0000000000000000000000 seconds to execute.\n"
     ]
    }
   ],
   "source": [
    "import time\n",
    "\n",
    "start = time.time()\n",
    "has_dupes(random_word)\n",
    "end = time.time()\n",
    "\n",
    "print(\"The non-dictionary version of `has_duplicates` took {:.22f} seconds to execute.\".format(end - start))"
   ]
  },
  {
   "cell_type": "markdown",
   "metadata": {},
   "source": [
    "#### Exercise 5  \n",
    "\n",
    "*Two words are “rotate pairs” if you can rotate one of them and get the other (see `rotate_word` in Exercise 5).*\n",
    "\n",
    "*Write a program that reads a wordlist and finds all the rotate pairs.*"
   ]
  },
  {
   "cell_type": "code",
   "execution_count": 38,
   "metadata": {},
   "outputs": [],
   "source": [
    "# Recreating wordlist and dict with functions from ex. 11.1\n",
    "\n",
    "my_list = make_word_list_with_append()\n",
    "\n",
    "my_dict = make_dict_from_word_list(my_list)"
   ]
  },
  {
   "cell_type": "code",
   "execution_count": 39,
   "metadata": {},
   "outputs": [],
   "source": [
    "# from ex. 8.5\n",
    "\n",
    "def wraparound(c, lower_limit, upper_limit, i):\n",
    "    \"\"\"Rotates a letter by n places.\n",
    "    Maintains case of letter.\n",
    "    c: char\n",
    "    lower_limit: ASCII start of lower/uppercase letters\n",
    "    upper_limit: ASCII end of lower/uppercase letters\n",
    "    i: spaces to be rotated\n",
    "    \n",
    "    Returns: rotated characters\n",
    "    \"\"\"\n",
    "    new_c = ord(c) + i\n",
    "    if new_c > upper_limit:\n",
    "        new_c -= 26\n",
    "    elif new_c < lower_limit:\n",
    "        new_c += 26\n",
    "    return chr(new_c)\n",
    "\n",
    "def rotate_word(s, i):\n",
    "    \"\"\"Rotates an alphabetic string by i places\n",
    "    \n",
    "    s: word\n",
    "    i: int\n",
    "    \n",
    "    Returns: rotated string\n",
    "    \"\"\"\n",
    "    new_s = \"\"\n",
    "    for c in s:\n",
    "        if 65 <= ord(c) <= 90:\n",
    "            new_c = wraparound(c, 65, 90, i)\n",
    "        elif 97 <= ord(c) <= 122:\n",
    "            new_c = wraparound(c, 97, 122, i)\n",
    "        else:\n",
    "            print(\"String contains non-alphabetic character.\")\n",
    "            return\n",
    "        new_s += new_c\n",
    "    return new_s"
   ]
  },
  {
   "cell_type": "code",
   "execution_count": 40,
   "metadata": {},
   "outputs": [],
   "source": [
    "def find_rotate_pairs(d):\n",
    "    \"\"\"\n",
    "    Returns a new dictionary with 'rotate pairs' of\n",
    "    words in d.\n",
    "    \"\"\"\n",
    "    \n",
    "    pairs_dict = {}\n",
    "    for key in d:\n",
    "        for i in range(1, 26):\n",
    "            candidate = rotate_word(key, i)\n",
    "            if candidate in d:\n",
    "                if key not in pairs_dict:\n",
    "                    pairs_dict[key] = [candidate]\n",
    "                else:\n",
    "                    pairs_dict.setdefault(key, []).append(candidate)\n",
    "            \n",
    "    return pairs_dict"
   ]
  },
  {
   "cell_type": "code",
   "execution_count": 41,
   "metadata": {},
   "outputs": [],
   "source": [
    "start_all_poss = time.time()\n",
    "\n",
    "rotate_pairs_dict = find_rotate_pairs(my_dict)\n",
    "\n",
    "end_all_poss = time.time()"
   ]
  },
  {
   "cell_type": "code",
   "execution_count": 42,
   "metadata": {},
   "outputs": [
    {
     "data": {
      "text/plain": [
       "['wen', 'air', 'gox']"
      ]
     },
     "execution_count": 42,
     "metadata": {},
     "output_type": "execute_result"
    }
   ],
   "source": [
    "rotate_pairs_dict['mud']"
   ]
  },
  {
   "cell_type": "code",
   "execution_count": 43,
   "metadata": {},
   "outputs": [
    {
     "data": {
      "text/plain": [
       "['gox', 'mud', 'wen']"
      ]
     },
     "execution_count": 43,
     "metadata": {},
     "output_type": "execute_result"
    }
   ],
   "source": [
    "rotate_pairs_dict['air']"
   ]
  },
  {
   "cell_type": "code",
   "execution_count": 44,
   "metadata": {},
   "outputs": [
    {
     "name": "stdout",
     "output_type": "stream",
     "text": [
      "It took 10.180794 seconds to find 'rotated pairs' by testing all possible rotated words.\n"
     ]
    }
   ],
   "source": [
    "print(\"It took {:8f} seconds to find 'rotated pairs' by testing all possible rotated words.\".format(end_all_poss - start_all_poss))"
   ]
  },
  {
   "cell_type": "markdown",
   "metadata": {},
   "source": [
    "*__A much faster way is to make a dictionary by using `ord()` to compute the differences between letters in the words, inverting the dictionary, and then making a list of items that have more than two values.  Since we can't invert a dictionary whose values are lists, we'll convert the integers into strings and concatenate them.  However, that could lead to confusion, since some integers are represented with only one digit, and others two.  E.g., both 'def' and 'it' could be represented by '11'.  Therefore, we'll use `zfill` so that the integers are consistently represented by two digits.  Now, 'def' would be '0101', and 'it' would remain '11'.__*"
   ]
  },
  {
   "cell_type": "code",
   "execution_count": 45,
   "metadata": {},
   "outputs": [],
   "source": [
    "def calculate_distance_between_letters(t):\n",
    "    \"\"\"\n",
    "    Returns a dict showing the distance\n",
    "    between the letters in the words in dict t.\n",
    "    Does not work with single letter words.\n",
    "    \"\"\"\n",
    "    \n",
    "    diff_dict = {}\n",
    "    for word in t:\n",
    "        i = 0\n",
    "        \n",
    "        # lists are not hashable, so the values in diff_dict \n",
    "        # will be strings\n",
    "        y = \"\"\n",
    "        while i < len(word) - 1:\n",
    "            diff = ord(word[i + 1]) - ord(word[i])\n",
    "            \n",
    "            # for wraparound cases, i.e., word[i + 1]\n",
    "            # precedes word[i] in the alphabet\n",
    "            if diff < 0:\n",
    "                diff = diff + 26\n",
    "\n",
    "            # using zfill to prevent confusion between \n",
    "            # identical looking strings, e.g.\n",
    "            # 1 & 11 and 11 & 1\n",
    "            y += str(diff).zfill(2)\n",
    "            i += 1   \n",
    "            \n",
    "        diff_dict[word] = y\n",
    "        \n",
    "    return diff_dict\n",
    "            "
   ]
  },
  {
   "cell_type": "code",
   "execution_count": 46,
   "metadata": {},
   "outputs": [
    {
     "name": "stdout",
     "output_type": "stream",
     "text": [
      "['aah', 'eel']\n",
      "['aba', 'tut']\n",
      "['abet', 'hila']\n",
      "['abjurer', 'nowhere']\n",
      "['abo', 'efs', 'nob']\n",
      "['aby', 'deb', 'zax']\n",
      "['ache', 'gink']\n",
      "['act', 'yar']\n",
      "['acts', 'sulk']\n",
      "['ad', 'be', 'eh', 'lo', 'or']\n",
      "['add', 'bee', 'ill', 'loo']\n",
      "['adder', 'beefs']\n",
      "['adds', 'beet']\n",
      "['ado', 'fit', 'orc']\n",
      "['ads', 'bet', 'fix']\n",
      "['adz', 'fie']\n",
      "['ae', 'os']\n",
      "['aff', 'inn', 'zee']\n",
      "['aga', 'eke']\n",
      "['ah', 'bi', 'el', 'ho', 'nu', 'ta']\n",
      "['aha', 'bib', 'nun', 'tat']\n",
      "['ahem', 'holt']\n",
      "['ahoy', 'tahr']\n",
      "['ahull', 'gnarr']\n",
      "['ai', 'em', 'go', 'mu', 'ow', 'we']\n",
      "['ail', 'gor', 'sad']\n",
      "['ails', 'gory']\n",
      "['aim', 'sae']\n",
      "['ain', 'got']\n",
      "['air', 'gox', 'mud', 'wen']\n"
     ]
    }
   ],
   "source": [
    "start_letter_dist = time.time()\n",
    "\n",
    "word_dists = calculate_distance_between_letters(my_list)\n",
    "\n",
    "# using invert_dict from above\n",
    "dist_dict = invert_dict(word_dists)\n",
    "\n",
    "j = 0\n",
    "for k in dist_dict:\n",
    "\n",
    "    if len(dist_dict[k]) > 1:\n",
    "        # restricting printing so that this notebook \n",
    "        # will fit in GitHub.  Will not significantly\n",
    "        # affect run time\n",
    "        if j < 30:\n",
    "            print(dist_dict[k])\n",
    "        j += 1\n",
    "        \n",
    "end_letter_dist = time.time()\n",
    "\n"
   ]
  },
  {
   "cell_type": "code",
   "execution_count": 47,
   "metadata": {},
   "outputs": [
    {
     "name": "stdout",
     "output_type": "stream",
     "text": [
      "It took 0.534568 seconds to find 'rotated pairs' by comparing distance between letters.\n"
     ]
    }
   ],
   "source": [
    "print(\"It took {:8f} seconds to find 'rotated pairs' by comparing distance between letters.\".format(end_letter_dist - start_letter_dist))"
   ]
  },
  {
   "cell_type": "markdown",
   "metadata": {},
   "source": [
    "#### Exercise 6  \n",
    "\n",
    "*Here’s another Puzzler from Car Talk (http://www.cartalk.com/content/puzzlers):*\n",
    "\n",
    "> *This was sent in by a fellow named Dan O’Leary. He came upon a common one-syllable, five-letter word recently that has the following unique property. When you remove the first letter, the remaining letters form a homophone of the original word, that is a word that sounds exactly the same. Replace the first letter, that is, put it back and remove the second letter and the result is yet another homophone of the original word. And the question is, what’s the word?*\n",
    "> *Now I’m going to give you an example that doesn’t work. Let’s look at the five-letter word, ‘wrack.’ W-R-A-C-K, you know like to ‘wrack with pain.’ If I remove the first letter, I am left with a four-letter word, ’R-A-C-K.’ As in, ‘Holy cow, did you see the rack on that buck! It must have been a nine-pointer!’ It’s a perfect homophone. If you put the ‘w’ back, and remove the ‘r,’ instead, you’re left with the word, ‘wack,’ which is a real word, it’s just not a homophone of the other two words.*\n",
    "\n",
    "> *But there is, however, at least one word that Dan and we know of, which will yield two homophones if you remove either of the first two letters to make two, new four-letter words. The question is, what’s the word?*\n",
    "\n",
    "\n",
    "*You can use the dictionary from Exercise 1 to check whether a string is in the word list.*\n",
    "\n",
    "*To check whether two words are homophones, you can use the CMU Pronouncing Dictionary. You can download it from http://www.speech.cs.cmu.edu/cgi-bin/cmudict or from http://thinkpython2.com/code/c06d and you can also download http://thinkpython2.com/code/pronounce.py, which provides a function named read_dictionary that reads the pronouncing dictionary and returns a Python dictionary that maps from each word to a string that describes its primary pronunciation.*\n",
    "\n",
    "*Write a program that lists all the words that solve the Puzzler.*"
   ]
  },
  {
   "cell_type": "code",
   "execution_count": 48,
   "metadata": {},
   "outputs": [],
   "source": [
    "# from http://greenteapress.com/thinkpython2/code/pronounce.py\n",
    "\n",
    "def read_dictionary(filename):\n",
    "    \"\"\"Reads from a file and builds a dictionary that maps from\n",
    "    each word to a string that describes its primary pronunciation.\n",
    "\n",
    "    Secondary pronunciations are added to the dictionary with\n",
    "    a number, in parentheses, at the end of the key, so the\n",
    "    key for the second pronunciation of \"abdominal\" is \"abdominal(2)\".\n",
    "\n",
    "    filename: string\n",
    "    returns: map from string to pronunciation\n",
    "    \"\"\"\n",
    "    d = dict()\n",
    "    \n",
    "    # The next line is commented out to work with my jupter notebook\n",
    "    #fin = open(filename)\n",
    "    for line in fin:\n",
    "\n",
    "        # skip over the comments\n",
    "        if line[0] == '#': continue\n",
    "\n",
    "        t = line.split()\n",
    "        word = t[0].lower()\n",
    "        pron = ' '.join(t[1:])\n",
    "        d[word] = pron\n",
    "\n",
    "    return d"
   ]
  },
  {
   "cell_type": "code",
   "execution_count": 49,
   "metadata": {},
   "outputs": [],
   "source": [
    "fin = open('c06d.txt')\n",
    "pron_dict = read_dictionary(fin)"
   ]
  },
  {
   "cell_type": "markdown",
   "metadata": {},
   "source": [
    "*__As earlier, using `print(\"\").format()` for the sake of convenience:__*"
   ]
  },
  {
   "cell_type": "code",
   "execution_count": 50,
   "metadata": {},
   "outputs": [],
   "source": [
    "def find_five_lettered_homophones(word_list, pron_dict):\n",
    "    \"\"\"\n",
    "    Solves the Car Talk Puzzler in Ex. 11.6 of 'Think Python 2e'.\n",
    "    Finds five-letter words which sound the same even if the\n",
    "    first or second letter is removed.\n",
    "    \"\"\"\n",
    "    \n",
    "    for word in word_list:\n",
    "        if len(word) == 5:\n",
    "            \n",
    "            # removing letters\n",
    "            cand1 = word[1:5]\n",
    "            cand2 = word[0] + word[2:5]\n",
    "            \n",
    "            # need to verify that word and candidates are in the pron_dict\n",
    "            if word in pron_dict and cand1 in pron_dict and cand2 in pron_dict:\n",
    "                \n",
    "                # print out homophones\n",
    "                if pron_dict[cand1] == pron_dict[word] and pron_dict[cand2] == pron_dict[word]:\n",
    "                    print(\"{0}, {1}, {2}\".format(word, cand1, cand2))"
   ]
  },
  {
   "cell_type": "code",
   "execution_count": 51,
   "metadata": {},
   "outputs": [
    {
     "name": "stdout",
     "output_type": "stream",
     "text": [
      "eerie, erie, erie\n",
      "llama, lama, lama\n",
      "llano, lano, lano\n",
      "scent, cent, sent\n"
     ]
    }
   ],
   "source": [
    "find_five_lettered_homophones(my_list, pron_dict)"
   ]
  }
 ],
 "metadata": {
  "kernelspec": {
   "display_name": "Python 3",
   "language": "python",
   "name": "python3"
  },
  "language_info": {
   "codemirror_mode": {
    "name": "ipython",
    "version": 3
   },
   "file_extension": ".py",
   "mimetype": "text/x-python",
   "name": "python",
   "nbconvert_exporter": "python",
   "pygments_lexer": "ipython3",
   "version": "3.7.3"
  }
 },
 "nbformat": 4,
 "nbformat_minor": 2
}
