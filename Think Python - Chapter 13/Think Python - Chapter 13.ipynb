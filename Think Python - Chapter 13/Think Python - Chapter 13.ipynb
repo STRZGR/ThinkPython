{
 "cells": [
  {
   "cell_type": "markdown",
   "metadata": {},
   "source": [
    "# Think Python\n",
    "\n",
    "## Chapter 13 - Case study: data structure selection\n",
    "\n",
    "### 13.1 Word frequency analysis\n",
    "\n",
    "*HTML of this chapter in \"Think Python 2e\" can be found [here](http://greenteapress.com/thinkpython2/html/thinkpython2014.html \"Chapter 13\").*\n",
    "\n",
    "#### Exercise 1  \n",
    "\n",
    "*Write a program that reads a file, breaks each line into words, strips whitespace and punctuation from the words, and converts them to lowercase.*\n",
    "\n",
    "*Hint: The `string` module provides a string named whitespace, which contains space, tab, newline, etc., and `punctuation` which contains the punctuation characters. Let’s see if we can make Python swear:*\n",
    "\n",
    "```\n",
    ">>> import string\n",
    ">>> string.punctuation\n",
    "'!\"#$%&\\'()*+,-./:;<=>?@[\\\\]^_`{|}~'\n",
    "```\n",
    "\n",
    "*Also, you might consider using the string methods `strip`, `replace` and `translate`.*\n"
   ]
  },
  {
   "cell_type": "code",
   "execution_count": 1,
   "metadata": {},
   "outputs": [],
   "source": [
    "import string\n",
    "\n",
    "\n",
    "\n",
    "def get_words_from_file(text, encode = \"utf8\"):\n",
    "    \"\"\"\n",
    "    Returns a list of words from a file.  Words\n",
    "    are stripped of punctuation and converted to lowercase.\n",
    "    Since punctuation is removed, contractions are returned\n",
    "    without apostrophes (e.g., `can't` -> `can t`). Numbers\n",
    "    are also removed from the returned list\n",
    "    \n",
    "    Arguments:\n",
    "    \n",
    "    text: name of file\n",
    "    encode: text encoding used in file.  Default is UTF-8\n",
    "    \"\"\"\n",
    "    punct = string.punctuation\n",
    "\n",
    "    # Some PG texts use non-ASCII characters, so we'll add these manually.\n",
    "    punct += '‘’“”—'\n",
    "\n",
    "    # Some PG texts also have line numbers, so let's remove all numbers:\n",
    "    punct += string.digits\n",
    "\n",
    "    out = \" \" * len(punct)\n",
    "    \n",
    "    opened_text = open(text, 'r', encoding = encode)\n",
    "    t = []\n",
    "    for line in opened_text:\n",
    "        translation = line.maketrans(punct, out)\n",
    "        for word in line.translate(translation).split():\n",
    "            t.append(word.strip().lower())\n",
    "            \n",
    "    return t"
   ]
  },
  {
   "cell_type": "code",
   "execution_count": 3,
   "metadata": {},
   "outputs": [
    {
     "data": {
      "text/plain": [
       "['through',\n",
       " 'the',\n",
       " 'looking',\n",
       " 'glass',\n",
       " 'by',\n",
       " 'lewis',\n",
       " 'carroll',\n",
       " 'chapter',\n",
       " 'i',\n",
       " 'looking',\n",
       " 'glass',\n",
       " 'house',\n",
       " 'one',\n",
       " 'thing',\n",
       " 'was',\n",
       " 'certain',\n",
       " 'that',\n",
       " 'the',\n",
       " 'white',\n",
       " 'kitten',\n",
       " 'had',\n",
       " 'had',\n",
       " 'nothing',\n",
       " 'to']"
      ]
     },
     "execution_count": 3,
     "metadata": {},
     "output_type": "execute_result"
    }
   ],
   "source": [
    "ma = get_words_from_file('alice.txt')\n",
    "ma[1:25]"
   ]
  },
  {
   "cell_type": "markdown",
   "metadata": {},
   "source": [
    "#### Exercise 2  \n",
    "\n",
    "*Go to Project Gutenberg (http://gutenberg.org) and download your favorite out-of-copyright book in plain text format.*\n",
    "\n",
    "*Modify your program from the previous exercise to read the book you downloaded, skip over the header information at the beginning of the file, and process the rest of the words as before.*\n",
    "\n",
    "*Then modify the program to count the total number of words in the book, and the number of times each word is used.*\n",
    "\n",
    "*Print the number of different words used in the book. Compare different books by different authors, written in different eras. Which author uses the most extensive vocabulary?*"
   ]
  },
  {
   "cell_type": "markdown",
   "metadata": {},
   "source": [
    "*__I had difficulty removing the boilerplate at the beginning of Project Gutenberg texts, as I felt that the book didn't do an adequate job in showing us how to remove headers and footers.  So I went online to see how other people dealt with this problem.  At [this blog](https://epequeno.wordpress.com/2012/05/06/exercise-13-2/ \"Removing headers from PG texts\") I found some interesting code for removing the header of PG texts; but the creator of the code had yet to deal with the footer, so I made a few changes to deal with that.__*\n",
    "\n",
    "*__In addition, as I worked my way through the chapter and analyzed various PG texts, I noticed there is tremendous variance in how authors used punctuation, especially inside words.  I therefore added some code to `clean_pg_text` to allow the user some choice in how to handle 'internal punctuation' - i.e., punctuation marks inside strings that are not removed by `str.strip()`. `remove_internal` is an optional argument that allows the user to designate characters inside strings that should be removed. `remove_internal` is paired with `replace_internal`, a list of characters to replace the removed characters. Both `remove_internal` and `replace_internal` have to have the same length. This function uses `assert`, which has yet to be introduced.__*"
   ]
  },
  {
   "cell_type": "code",
   "execution_count": 4,
   "metadata": {},
   "outputs": [],
   "source": [
    "import string\n",
    "\n",
    "\n",
    "\n",
    "def clean_pg_text(text, encode = \"utf8\", remove_internal = [], \n",
    "                  replace_internal = []):\n",
    "    \"\"\"\n",
    "    Returns a list of words from a Project Gutenberg text.  \n",
    "    Headers and footers are removed from texts. Words\n",
    "    are stripped of punctuation and converted to lowercase.\n",
    "    Punctuation inside words is preserved, except those\n",
    "    characters specified in remove_internal. \n",
    "    Numbers are also removed from the returned list\n",
    "    \n",
    "    Arguments:\n",
    "    \n",
    "    text: name of file\n",
    "    encode: text encoding used in file. Default is UTF-8\n",
    "    remove_internal: user-defined internal characters to be replaced. \n",
    "        `word.strip` will not remove punctuation inside strings,\n",
    "        so these are cleaned in a separate step. Default is an empty list.\n",
    "    replace_internal: user-defined characters to replace the characters\n",
    "        in remove_internal.  Default is an empty list.  replace_internal\n",
    "        and remove_internal must have the same length.\n",
    "    \"\"\"\n",
    "    assert len(remove_internal) == len(replace_internal), \"remove_internal and replace_internal must have the same number of items\"\n",
    "    \n",
    "    stripped = string.punctuation\n",
    "\n",
    "    # Some PG texts use non-ASCII quotes, so we'll add these manually.\n",
    "    stripped += '‘’“”'\n",
    "\n",
    "    # Some PG texts also have line numbers, so let's remove all numbers:\n",
    "    stripped += string.digits\n",
    "\n",
    "    # And we won't need whitespace\n",
    "    stripped += string.whitespace\n",
    "    \n",
    "    opened_text = open(text, 'r', encoding = encode)\n",
    "    cleaned_text = []\n",
    "    flag = False\n",
    "    start = \"*** START OF\"\n",
    "    end = \"*** END OF\"\n",
    "\n",
    "    # some PG texts don't use spaces to designate start/end of text\n",
    "    alt_start = \"***START OF\"\n",
    "    alt_end = \"***END OF\"\n",
    "    \n",
    "    for line in opened_text:\n",
    "        \n",
    "        # start reading in lines after boilerplate\n",
    "        if ((start in line) or (alt_start in line)) and flag == False:\n",
    "            flag = True\n",
    "        \n",
    "        # return word list once boilerplate has been reached\n",
    "        elif ((end in line) or (alt_end in line)) and flag == True:\n",
    "            return cleaned_text\n",
    "        elif flag == True:\n",
    "                \n",
    "                # replacing user designated characters\n",
    "                # this is done before the line is split, since \n",
    "                # most words joined by hyphens are two separate words\n",
    "                for char1, char2 in zip(remove_internal, replace_internal):\n",
    "                    line = line.replace(char1, char2)\n",
    "                for word in line.split():\n",
    "                    word = word.strip(stripped).lower()\n",
    "                    cleaned_text.append(word)\n",
    "                \n",
    "        else:\n",
    "            pass\n",
    "    \n",
    "    return cleaned_text"
   ]
  },
  {
   "cell_type": "code",
   "execution_count": 5,
   "metadata": {},
   "outputs": [],
   "source": [
    "def tally_words(text_list):\n",
    "    \"\"\"\n",
    "    Returns a tally of the words in text_list.\n",
    "    \"\"\"\n",
    "    total_words = {}\n",
    "\n",
    "    for word in text_list:\n",
    "        total_words[word] = 1 + total_words.get(word, 0)\n",
    "\n",
    "    return total_words"
   ]
  },
  {
   "cell_type": "code",
   "execution_count": 6,
   "metadata": {},
   "outputs": [],
   "source": [
    "texts = ['austen.txt', 'beowulf.txt', 'canterbury.txt', \n",
    "         'hamlet.txt', 'iliad.txt', 'sherlock.txt', 'ulysses.txt']\n",
    "\n",
    "titles = [\"'Pride and Prejudice' by Jane Austen\",\n",
    "          \"'Beowulf' translated by Lesslie Hall\",\n",
    "          \"'The Canterbury Tales' by Geoffrey Chaucer\",\n",
    "          \"'Hamlet' by William Shakespeare\",\n",
    "          \"'The Iliad of Homer', translated by Alexander Pope\",\n",
    "          \"'The Adventures of Sherlock Holmes' by Arthur Conan Doyle\",\n",
    "          \"'Ulysses' by James Joyce\"]"
   ]
  },
  {
   "cell_type": "code",
   "execution_count": 7,
   "metadata": {},
   "outputs": [
    {
     "name": "stdout",
     "output_type": "stream",
     "text": [
      "'Pride and Prejudice' by Jane Austen uses 6,783 words\n",
      "'Beowulf' translated by Lesslie Hall uses 6,715 words\n",
      "'The Canterbury Tales' by Geoffrey Chaucer uses 15,910 words\n",
      "'Hamlet' by William Shakespeare uses 4,920 words\n",
      "'The Iliad of Homer', translated by Alexander Pope uses 13,577 words\n",
      "'The Adventures of Sherlock Holmes' by Arthur Conan Doyle uses 8,401 words\n",
      "'Ulysses' by James Joyce uses 30,468 words\n"
     ]
    }
   ],
   "source": [
    "for text, title in zip(texts, titles):\n",
    "    clean = clean_pg_text(text)\n",
    "    tally = tally_words(clean)\n",
    "    print(\"{} uses {:,} words\".format(title, len(tally)))"
   ]
  },
  {
   "cell_type": "markdown",
   "metadata": {},
   "source": [
    "#### Exercise 3  \n",
    "\n",
    "*Modify the program from the previous exercise to print the 20 most frequently used words in the book.*"
   ]
  },
  {
   "cell_type": "code",
   "execution_count": 8,
   "metadata": {},
   "outputs": [],
   "source": [
    "def n_most_common_words(text, n, encode = \"utf8\", remove_internal = [], \n",
    "                  replace_internal = []):\n",
    "    \"\"\"\n",
    "    Returns a list of the n most common words in a \n",
    "    Project Gutenberg text. encode, remove_internal, and \n",
    "    replace_interal are optional arguments that may be\n",
    "    passed on to the clean_pg_text function.\n",
    "    \"\"\"\n",
    "    \n",
    "    clean = clean_pg_text(text, encode, remove_internal, replace_internal)\n",
    "    tally = tally_words(clean)\n",
    "    \n",
    "    sorted_words = []\n",
    "    \n",
    "    for (y, z) in reversed(sorted(zip(tally.values(), tally.keys()))):\n",
    "        sorted_words.append([z, y])\n",
    "        \n",
    "    return sorted_words[:n]"
   ]
  },
  {
   "cell_type": "code",
   "execution_count": 9,
   "metadata": {},
   "outputs": [
    {
     "data": {
      "text/plain": [
       "[['the', 14838],\n",
       " ['of', 8135],\n",
       " ['and', 7147],\n",
       " ['a', 6462],\n",
       " ['to', 4949],\n",
       " ['in', 4914],\n",
       " ['he', 3996],\n",
       " ['his', 3326],\n",
       " ['that', 2571],\n",
       " ['i', 2553],\n",
       " ['with', 2510],\n",
       " ['it', 2336],\n",
       " ['was', 2125],\n",
       " ['on', 2107],\n",
       " ['for', 1925],\n",
       " ['you', 1845],\n",
       " ['her', 1783],\n",
       " ['him', 1522],\n",
       " ['is', 1409],\n",
       " ['all', 1311]]"
      ]
     },
     "execution_count": 9,
     "metadata": {},
     "output_type": "execute_result"
    }
   ],
   "source": [
    "n_most_common_words('ulysses.txt', 20)"
   ]
  },
  {
   "cell_type": "markdown",
   "metadata": {},
   "source": [
    "#### Exercise 4  \n",
    "\n",
    "*Modify the previous program to read a word list (see Section 9.1) and then print all the words in the book that are not in the word list. How many of them are typos? How many of them are common words that should be in the word list, and how many of them are really obscure?*"
   ]
  },
  {
   "cell_type": "code",
   "execution_count": 10,
   "metadata": {},
   "outputs": [],
   "source": [
    "# modified from code in ex. 12.4\n",
    "\n",
    "def make_word_dict(text):\n",
    "    \"\"\"\n",
    "    Reads lines from text and \n",
    "    returns a dictionary.\n",
    "    \"\"\"\n",
    "    d = {}\n",
    "    for line in text:   \n",
    "        d[line.strip().lower()] = None\n",
    "    to_add = [\"i\", \"a\"]\n",
    "    for ta in to_add:\n",
    "        d[ta] = None\n",
    "    return d\n",
    "\n",
    "def find_words_not_in_dict(text, t, encode = \"utf8\", remove_internal = [], \n",
    "                  replace_internal = []):\n",
    "    \"\"\"\n",
    "    Takes a Project Gutenberg text and a\n",
    "    wordlist and returns a list of words\n",
    "    in the PG text that cannot be found\n",
    "    in the list.\n",
    "    \n",
    "    Arguments:\n",
    "    text: a raw Project Gutenberg text file\n",
    "    t: a raw text word list with one word per line\n",
    "    \n",
    "    encode, remove_internal, and \n",
    "    replace_interal are optional arguments that may be\n",
    "    passed on to the clean_pg_text function.\n",
    "    \"\"\"\n",
    "    check_dict = make_word_dict(t)\n",
    "    clean = clean_pg_text(text, encode, remove_internal, replace_internal)\n",
    "    tally = tally_words(clean)\n",
    "    not_in_dict = []\n",
    "    for word in tally.keys():\n",
    "        if word not in check_dict:\n",
    "            not_in_dict.append(word)\n",
    "\n",
    "    return not_in_dict"
   ]
  },
  {
   "cell_type": "code",
   "execution_count": 11,
   "metadata": {},
   "outputs": [
    {
     "data": {
      "text/plain": [
       "['austen',\n",
       " '',\n",
       " 'neighbourhood',\n",
       " 'mr',\n",
       " 'netherfield',\n",
       " 'mrs',\n",
       " 'england',\n",
       " 'monday',\n",
       " 'michaelmas',\n",
       " 'bingley',\n",
       " 'grown-up',\n",
       " 'william',\n",
       " 'lucas',\n",
       " 'over-scrupulous',\n",
       " 'lizzy',\n",
       " 'good-humoured',\n",
       " 'lydia',\n",
       " 'three-and-twenty',\n",
       " 'elizabeth',\n",
       " \"don't\",\n",
       " \"heaven's\",\n",
       " 'to-morrow',\n",
       " \"fortnight's\",\n",
       " 'neices',\n",
       " 'mary',\n",
       " \"i'm\",\n",
       " \"bennet's\",\n",
       " 'ways--with',\n",
       " 'second-hand',\n",
       " 'neighbour',\n",
       " 'favourable',\n",
       " 'delightful',\n",
       " \"bingley's\",\n",
       " 'etc',\n",
       " 'hertfordshire']"
      ]
     },
     "execution_count": 11,
     "metadata": {},
     "output_type": "execute_result"
    }
   ],
   "source": [
    "fin = open('words.txt')\n",
    "austen_obscura = find_words_not_in_dict('austen.txt', fin)\n",
    "austen_obscura[:35]"
   ]
  },
  {
   "cell_type": "markdown",
   "metadata": {},
   "source": [
    "*__Most of the words not in the word list are proper names.  A number of British spellings also make an appearance, as well as some words that seem common enough that their absence in the wordlist is a bit surprising (e.g., 'monday', 'delightful', 'unreserved', etc...). I believe the word list was compiled for crossword answers, so this fact may explain their absence.   However, in some texts the results were words with punctuation that had not been cleaned by the function `clean_pg_text`.  I therefore went back to the function and added those characters to the list of ones that should be replaced.__*\n",
    "\n",
    "*__Running the code again, this time removing hyphens from inside of words:__*"
   ]
  },
  {
   "cell_type": "code",
   "execution_count": 12,
   "metadata": {},
   "outputs": [
    {
     "data": {
      "text/plain": [
       "['austen',\n",
       " '',\n",
       " 'neighbourhood',\n",
       " 'mr',\n",
       " 'netherfield',\n",
       " 'mrs',\n",
       " 'england',\n",
       " 'monday',\n",
       " 'michaelmas',\n",
       " 'bingley',\n",
       " 'william',\n",
       " 'lucas',\n",
       " 'lizzy',\n",
       " 'lydia',\n",
       " 'elizabeth',\n",
       " \"don't\",\n",
       " \"heaven's\",\n",
       " \"fortnight's\",\n",
       " 'neices',\n",
       " 'mary',\n",
       " \"i'm\",\n",
       " \"bennet's\",\n",
       " 'neighbour',\n",
       " 'favourable',\n",
       " 'delightful',\n",
       " \"bingley's\",\n",
       " 'etc',\n",
       " 'hertfordshire',\n",
       " 'london',\n",
       " 'gentlemanlike',\n",
       " 'hurst',\n",
       " 'darcy',\n",
       " 'derbyshire',\n",
       " 'unreserved',\n",
       " 'behaviour']"
      ]
     },
     "execution_count": 12,
     "metadata": {},
     "output_type": "execute_result"
    }
   ],
   "source": [
    "fin = open('words.txt')\n",
    "austen_obscura = find_words_not_in_dict('austen.txt', fin, \n",
    "                                        remove_internal=['-'],\n",
    "                                        replace_internal=[' '])\n",
    "austen_obscura[:35]"
   ]
  },
  {
   "cell_type": "markdown",
   "metadata": {},
   "source": [
    "#### Exercise 5  \n",
    "\n",
    "*Write a function named `choose_from_hist` that takes a histogram as defined in Section 11.2 and returns a random value from the histogram, chosen with probability in proportion to frequency. For example, for this histogram:*\n",
    "\n",
    "```\n",
    ">>> t = ['a', 'a', 'b']\n",
    ">>> hist = histogram(t)\n",
    ">>> hist\n",
    "{'a': 2, 'b': 1}\n",
    "```\n",
    "\n",
    "*your function should return 'a' with probability 2/3 and 'b' with probability 1/3.*"
   ]
  },
  {
   "cell_type": "code",
   "execution_count": 13,
   "metadata": {},
   "outputs": [],
   "source": [
    "import random\n",
    "\n",
    "# from chapter 11\n",
    "\n",
    "def histogram(s):\n",
    "    d = dict()\n",
    "    for c in s:\n",
    "        d[c] = 1 + d.get(c, 0)\n",
    "\n",
    "    return d\n",
    "\n",
    "def choose_from_hist(h):\n",
    "    \"\"\"\n",
    "    Returns a random item from histogram h.\n",
    "    Probability item will be chosen is based on \n",
    "    frequency within the histogram. \n",
    "    \"\"\"\n",
    "    \n",
    "    t = []\n",
    "    for k, v in h.items():\n",
    "        for i in range(v):\n",
    "            t.append(k)\n",
    "\n",
    "    return random.choice(t)"
   ]
  },
  {
   "cell_type": "code",
   "execution_count": 14,
   "metadata": {},
   "outputs": [],
   "source": [
    "h = histogram(['a', 'a', 'b'])"
   ]
  },
  {
   "cell_type": "code",
   "execution_count": 15,
   "metadata": {},
   "outputs": [
    {
     "name": "stdout",
     "output_type": "stream",
     "text": [
      "b a a a a b a b a a b a "
     ]
    }
   ],
   "source": [
    "for i in range(12):\n",
    "    print(choose_from_hist(h), end = \" \")"
   ]
  },
  {
   "cell_type": "markdown",
   "metadata": {},
   "source": [
    "### 13.3  Word histogram\n",
    "\n",
    "*These are the functions from the book, and the results they would return:*"
   ]
  },
  {
   "cell_type": "code",
   "execution_count": 16,
   "metadata": {},
   "outputs": [
    {
     "name": "stdout",
     "output_type": "stream",
     "text": [
      "Total number of tokens: 162742\n",
      "Number of word types: 7460\n"
     ]
    }
   ],
   "source": [
    "import string\n",
    "\n",
    "def process_file(filename):\n",
    "    hist = dict()\n",
    "    # I added this so we can process newer PG files\n",
    "    fp = open(filename, encoding = \"utf8\")\n",
    "    for line in fp:\n",
    "        process_line(line, hist)\n",
    "    return hist\n",
    "\n",
    "def process_line(line, hist):\n",
    "    line = line.replace('-', ' ')\n",
    "    \n",
    "    for word in line.split():\n",
    "        word = word.strip(string.punctuation + string.whitespace)\n",
    "        word = word.lower()\n",
    "        hist[word] = hist.get(word, 0) + 1\n",
    "        \n",
    "hist = process_file('emma.txt')\n",
    "\n",
    "def total_words(hist):\n",
    "    return sum(hist.values())\n",
    "\n",
    "def different_words(hist):\n",
    "    return len(hist)\n",
    "\n",
    "# technical name for 'total words' is 'tokens'\n",
    "print('Total number of tokens:', total_words(hist))\n",
    "\n",
    "# technical name for 'different words' is 'word types'\n",
    "print('Number of word types:', different_words(hist))"
   ]
  },
  {
   "cell_type": "markdown",
   "metadata": {},
   "source": [
    "*__One problem with the above code is that is doesn't remove the boilerplate at the beginning of the text, and yes, the [text posted on the html version of \"Think Python 2e\"](http://greenteapress.com/thinkpython2/code/emma.txt \"emma.txt\") has boilerplate, at least when I wrote this.  If we download a new version of the plain text format of \"Emma\" and rerun the analysis with the code in this notebook, we'll get different results, as my code will clean out the boilerplate:__*"
   ]
  },
  {
   "cell_type": "code",
   "execution_count": 17,
   "metadata": {},
   "outputs": [
    {
     "name": "stdout",
     "output_type": "stream",
     "text": [
      "Total number of tokens: 157457\n",
      "Number of word types: 10056\n"
     ]
    }
   ],
   "source": [
    "clean = clean_pg_text('emma_new.txt')\n",
    "tally = tally_words(clean)\n",
    "\n",
    "# technical name for this is number of tokens\n",
    "print('Total number of tokens:', total_words(tally))\n",
    "\n",
    "# technical name for this is word types\n",
    "print('Number of word types:', different_words(tally))"
   ]
  },
  {
   "cell_type": "markdown",
   "metadata": {},
   "source": [
    "*__The number of distinct word types is still very high, which I'm hypothesizing is due to the number of hyphenated words.  Let's try it again, replacing internal hyphens with spaces, so that these hyphenated words will be recorded as their constituent parts:__*"
   ]
  },
  {
   "cell_type": "code",
   "execution_count": 18,
   "metadata": {},
   "outputs": [
    {
     "name": "stdout",
     "output_type": "stream",
     "text": [
      "Total number of tokens: 161057\n",
      "Number of word types: 7207\n"
     ]
    }
   ],
   "source": [
    "clean = clean_pg_text('emma_new.txt', remove_internal=['-'], \n",
    "                      replace_internal=[' '])\n",
    "tally = tally_words(clean)\n",
    "\n",
    "# technical name for this is number of tokens\n",
    "print('Total number of tokens:', total_words(tally))\n",
    "\n",
    "# technical name for this is word types\n",
    "print('Number of word types:', different_words(tally))"
   ]
  },
  {
   "cell_type": "markdown",
   "metadata": {},
   "source": [
    "*__This is the result I expected: there are fewer tokens and word types than in the author's analysis, which is due to the fact that I removed the boilerplate from my version.__*"
   ]
  },
  {
   "cell_type": "markdown",
   "metadata": {},
   "source": [
    "### 13.4 Most common words\n",
    "\n",
    "*Code from the book:*"
   ]
  },
  {
   "cell_type": "code",
   "execution_count": 19,
   "metadata": {},
   "outputs": [],
   "source": [
    "def most_common(hist):\n",
    "    t = []\n",
    "    for key, value in hist.items():\n",
    "        t.append((value, key))\n",
    "        \n",
    "    t.sort(reverse = True)\n",
    "    return t"
   ]
  },
  {
   "cell_type": "code",
   "execution_count": 20,
   "metadata": {},
   "outputs": [
    {
     "name": "stdout",
     "output_type": "stream",
     "text": [
      "The most common words are:\n",
      "to\t5295\n",
      "the\t5266\n",
      "and\t4931\n",
      "of\t4339\n",
      "i\t3191\n",
      "a\t3155\n",
      "it\t2546\n",
      "her\t2483\n",
      "was\t2400\n",
      "she\t2364\n"
     ]
    }
   ],
   "source": [
    "t = most_common(hist)\n",
    "print('The most common words are:')\n",
    "for freq, word in t[:10]:\n",
    "    print(word, freq, sep = '\\t')"
   ]
  },
  {
   "cell_type": "markdown",
   "metadata": {},
   "source": [
    "#### Exercise 6  \n",
    "\n",
    "*Python provides a data structure called set that provides many common set operations. You can read about them in Section 19.5, or read the documentation at http://docs.python.org/3/library/stdtypes.html#types-set.*\n",
    "\n",
    "*Write a program that uses set subtraction to find words in the book that are not in the word list.*"
   ]
  },
  {
   "cell_type": "code",
   "execution_count": 21,
   "metadata": {},
   "outputs": [],
   "source": [
    "def subtract(d1, d2):\n",
    "    return set(d1) - set(d2)"
   ]
  },
  {
   "cell_type": "code",
   "execution_count": 22,
   "metadata": {},
   "outputs": [],
   "source": [
    "missing = subtract(hist, fin)"
   ]
  },
  {
   "cell_type": "code",
   "execution_count": 23,
   "metadata": {},
   "outputs": [
    {
     "data": {
      "text/plain": [
       "['',\n",
       " 'sources',\n",
       " 'manners',\n",
       " 'understanding',\n",
       " 'file',\n",
       " 'workbags',\n",
       " 'books',\n",
       " 'obtruding',\n",
       " 'offences',\n",
       " 'recital',\n",
       " 'straightforward',\n",
       " 'discipline',\n",
       " 'candles',\n",
       " 'committed',\n",
       " 'awkward',\n",
       " 'niece',\n",
       " 'unsullied',\n",
       " 'secondary',\n",
       " 'march',\n",
       " 'ensued',\n",
       " 'bandied',\n",
       " 'affix',\n",
       " 'interposed',\n",
       " 'urged',\n",
       " 'remonstrances',\n",
       " 'hannah',\n",
       " 'luckiest',\n",
       " 'confusion',\n",
       " 'teazed',\n",
       " 'afterwards',\n",
       " '158',\n",
       " 'pursuit',\n",
       " 'recollections',\n",
       " 'setting',\n",
       " 'etext92',\n",
       " 'confirmed',\n",
       " 'renounced',\n",
       " 'prevails',\n",
       " 'speeches',\n",
       " 'marriage',\n",
       " 'animating',\n",
       " 'coxe',\n",
       " 'impolite',\n",
       " 'sneers',\n",
       " 'dealings',\n",
       " 'entertaining',\n",
       " 'repetitions',\n",
       " 'vicarage',\n",
       " 'machines',\n",
       " 'preference']"
      ]
     },
     "execution_count": 23,
     "metadata": {},
     "output_type": "execute_result"
    }
   ],
   "source": [
    "list(missing)[:50]"
   ]
  },
  {
   "cell_type": "markdown",
   "metadata": {},
   "source": [
    "*__We get some interesting results if we use this function to compare the text of \"Emma\" from the author's website with a text I downloaded from the Project Gutenberg website.__*"
   ]
  },
  {
   "cell_type": "code",
   "execution_count": 24,
   "metadata": {},
   "outputs": [],
   "source": [
    "hist = process_file('emma.txt')\n",
    "hist_new = process_file('emma_new.txt')"
   ]
  },
  {
   "cell_type": "code",
   "execution_count": 25,
   "metadata": {},
   "outputs": [],
   "source": [
    "missing = subtract(hist, hist_new)"
   ]
  },
  {
   "cell_type": "code",
   "execution_count": 26,
   "metadata": {},
   "outputs": [
    {
     "data": {
      "text/plain": [
       "193"
      ]
     },
     "execution_count": 26,
     "metadata": {},
     "output_type": "execute_result"
    }
   ],
   "source": [
    "len(missing)"
   ]
  },
  {
   "cell_type": "code",
   "execution_count": 27,
   "metadata": {},
   "outputs": [
    {
     "data": {
      "text/plain": [
       "['xxxxx10x.xxx',\n",
       " 'cd',\n",
       " 'illinois',\n",
       " 'p',\n",
       " 'print!**for',\n",
       " 'equivalent',\n",
       " 'titles',\n",
       " 'type',\n",
       " 'cellery',\n",
       " 'etexts**start',\n",
       " 'scrambles',\n",
       " 'dating',\n",
       " 'sue',\n",
       " 'clifton',\n",
       " 'ebcdic',\n",
       " 'emma10.txt',\n",
       " 'benedictine',\n",
       " 'stockings',\n",
       " 'enemies',\n",
       " 'charles',\n",
       " '5093',\n",
       " 'tel',\n",
       " 'kramer',\n",
       " 'teazed',\n",
       " 'midnight',\n",
       " 'deposit',\n",
       " 'aimable',\n",
       " 'sizes',\n",
       " 'ascii',\n",
       " 'conveniences',\n",
       " 'converted',\n",
       " 'humans',\n",
       " 'etext92',\n",
       " 'mysteriously',\n",
       " 'hart@uiucvmd',\n",
       " 'uninterruptedly',\n",
       " 'central',\n",
       " 'contacting',\n",
       " 'audience',\n",
       " 'honor',\n",
       " 'machines',\n",
       " 'attmail',\n",
       " 'text',\n",
       " 'payable',\n",
       " 'your@login',\n",
       " 'readers',\n",
       " 'confidant',\n",
       " 'etext/etext93',\n",
       " 'wretch',\n",
       " 'preliminary']"
      ]
     },
     "execution_count": 27,
     "metadata": {},
     "output_type": "execute_result"
    }
   ],
   "source": [
    "list(missing)[:50]"
   ]
  },
  {
   "cell_type": "markdown",
   "metadata": {},
   "source": [
    "*__Set subtraction only shows us elements in the first set that aren't in the second.  From the list above, we can see that the text at the author's website clearly has some boilerplate, and that the boilerplate attached to the raw text files at PG has changed over time.__*\n",
    "\n",
    "*__What would happen if we reserved the arguments?__*"
   ]
  },
  {
   "cell_type": "code",
   "execution_count": 28,
   "metadata": {},
   "outputs": [
    {
     "data": {
      "text/plain": [
       "1638"
      ]
     },
     "execution_count": 28,
     "metadata": {},
     "output_type": "execute_result"
    }
   ],
   "source": [
    "missing2 = subtract(hist_new, hist)\n",
    "len(missing2)"
   ]
  },
  {
   "cell_type": "code",
   "execution_count": 29,
   "metadata": {},
   "outputs": [
    {
     "data": {
      "text/plain": [
       "['“encouragement',\n",
       " '“_i',\n",
       " 'amiable.”',\n",
       " 'match!”',\n",
       " 'asserted,”',\n",
       " 'heart.”',\n",
       " 'seat;”',\n",
       " 'often.”',\n",
       " 'creature?”',\n",
       " 'us?”',\n",
       " 'entity',\n",
       " '“business',\n",
       " '“most',\n",
       " 'windy.”',\n",
       " 'disagree.”',\n",
       " 'then?”',\n",
       " 'lines!”',\n",
       " 'acquainted?”',\n",
       " \"state's\",\n",
       " 'considerably.”',\n",
       " 'accessed',\n",
       " 'perry,”',\n",
       " 'employ,”',\n",
       " 'dressed.”',\n",
       " 'indeed,”',\n",
       " 'exempt',\n",
       " '“me',\n",
       " 'campbell,”',\n",
       " 'days.”',\n",
       " 'honour,”',\n",
       " 'sure.”',\n",
       " 'head,”',\n",
       " 'office.”',\n",
       " 'favour.”',\n",
       " '1.e',\n",
       " '“a',\n",
       " 'exporting',\n",
       " 'hope,”',\n",
       " 'book”',\n",
       " 'astonishing!”',\n",
       " 'right,”',\n",
       " 'no,”',\n",
       " '“but',\n",
       " '“such',\n",
       " '“almost',\n",
       " 'http://pglaf.org/donate',\n",
       " 'given.”',\n",
       " 'u.s',\n",
       " 'party.”',\n",
       " '1.e.5']"
      ]
     },
     "execution_count": 29,
     "metadata": {},
     "output_type": "execute_result"
    }
   ],
   "source": [
    "list(missing2)[:50]"
   ]
  },
  {
   "cell_type": "markdown",
   "metadata": {},
   "source": [
    "*__It seems clear that newer text versions from PG have more boilerplate than older versions.__*\n",
    "\n",
    "*__Using just the newer PG version of \"Emma\", what are the differences in the results of the author's code and mine?__*"
   ]
  },
  {
   "cell_type": "code",
   "execution_count": 30,
   "metadata": {},
   "outputs": [
    {
     "data": {
      "text/plain": [
       "1746"
      ]
     },
     "execution_count": 30,
     "metadata": {},
     "output_type": "execute_result"
    }
   ],
   "source": [
    "missing3 = subtract(hist_new, tally)\n",
    "len(missing3)"
   ]
  },
  {
   "cell_type": "code",
   "execution_count": 31,
   "metadata": {},
   "outputs": [
    {
     "data": {
      "text/plain": [
       "['file',\n",
       " '“encouragement',\n",
       " '“_i',\n",
       " 'amiable.”',\n",
       " 'match!”',\n",
       " 'asserted,”',\n",
       " 'heart.”',\n",
       " 'seat;”',\n",
       " 'often.”',\n",
       " 'creature?”',\n",
       " 'us?”',\n",
       " 'entity',\n",
       " '“business',\n",
       " '“most',\n",
       " 'windy.”',\n",
       " 'disagree.”',\n",
       " 'then?”',\n",
       " 'lines!”',\n",
       " 'acquainted?”',\n",
       " '158',\n",
       " \"state's\",\n",
       " 'license',\n",
       " 'considerably.”',\n",
       " 'accessed',\n",
       " 'perry,”',\n",
       " 'employ,”',\n",
       " 'dressed.”',\n",
       " 'indeed,”',\n",
       " 'exempt',\n",
       " '“me',\n",
       " 'campbell,”',\n",
       " 'days.”',\n",
       " 'honour,”',\n",
       " 'sure.”',\n",
       " 'head,”',\n",
       " 'office.”',\n",
       " 'favour.”',\n",
       " '1.e',\n",
       " '“a',\n",
       " 'exporting',\n",
       " 'hope,”',\n",
       " 'book”',\n",
       " 'astonishing!”',\n",
       " 'right,”',\n",
       " 'no,”',\n",
       " '“but',\n",
       " '“such',\n",
       " '“almost',\n",
       " 'http://pglaf.org/donate',\n",
       " 'given.”']"
      ]
     },
     "execution_count": 31,
     "metadata": {},
     "output_type": "execute_result"
    }
   ],
   "source": [
    "list(missing3)[:50]"
   ]
  },
  {
   "cell_type": "code",
   "execution_count": 32,
   "metadata": {},
   "outputs": [
    {
     "data": {
      "text/plain": [
       "48"
      ]
     },
     "execution_count": 32,
     "metadata": {},
     "output_type": "execute_result"
    }
   ],
   "source": [
    "# examining the reverse: i.e., words in the result of my code, but not\n",
    "# in the result of the author's\n",
    "\n",
    "missing4 = subtract(tally, hist_new)\n",
    "len(missing4)"
   ]
  },
  {
   "cell_type": "code",
   "execution_count": 33,
   "metadata": {},
   "outputs": [
    {
     "data": {
      "text/plain": [
       "['confidant',\n",
       " 'drugs',\n",
       " 'wretch',\n",
       " \"se'nnight\",\n",
       " 'beheld',\n",
       " 'polish',\n",
       " 'suffers',\n",
       " 'dirt',\n",
       " 'dating',\n",
       " 'nonsensical',\n",
       " 'clifton',\n",
       " 'unmarried',\n",
       " 'york',\n",
       " 'stockings',\n",
       " 'apiece',\n",
       " 'intellect',\n",
       " 'wretches',\n",
       " 'enemies',\n",
       " 'battle',\n",
       " 'abolition',\n",
       " 'mermaids',\n",
       " 'hum',\n",
       " 'th',\n",
       " 'rd',\n",
       " 'midnight',\n",
       " 'middling',\n",
       " 'irksome',\n",
       " 'affords',\n",
       " 'deposit',\n",
       " 'regulated',\n",
       " 'conveniences',\n",
       " 'ox',\n",
       " 'mysteriously',\n",
       " 'oftentimes',\n",
       " 'carries',\n",
       " \"men's\",\n",
       " 'curse',\n",
       " 'uninterruptedly',\n",
       " 'influenza',\n",
       " 'beavers',\n",
       " 'tan',\n",
       " \"do's\",\n",
       " 'gainer',\n",
       " 'dispositions',\n",
       " 'grievously',\n",
       " 'sunshine',\n",
       " 'scoundrel',\n",
       " 'stands']"
      ]
     },
     "execution_count": 33,
     "metadata": {},
     "output_type": "execute_result"
    }
   ],
   "source": [
    "list(missing4)"
   ]
  },
  {
   "cell_type": "code",
   "execution_count": 34,
   "metadata": {},
   "outputs": [
    {
     "data": {
      "text/plain": [
       "False"
      ]
     },
     "execution_count": 34,
     "metadata": {},
     "output_type": "execute_result"
    }
   ],
   "source": [
    "# 'influenza' was not in the results of the author's code run over \n",
    "# a newer version of the text of \"Emma\".\n",
    "\n",
    "'influenza' in hist_new"
   ]
  },
  {
   "cell_type": "code",
   "execution_count": 35,
   "metadata": {},
   "outputs": [
    {
     "data": {
      "text/plain": [
       "True"
      ]
     },
     "execution_count": 35,
     "metadata": {},
     "output_type": "execute_result"
    }
   ],
   "source": [
    "# But it is in the results of the code run over the text available at \n",
    "# the author's website\n",
    "\n",
    "'influenza' in tally"
   ]
  },
  {
   "cell_type": "markdown",
   "metadata": {},
   "source": [
    "*__Since we have the raw text, it is very easy to search for the string in question.  Here is the word \"influenza\" in the text the author provided:__*\n",
    "\n",
    "> \"How sorry I am!  But colds were never so prevalent as they have been\n",
    "this autumn.  Mr. Wingfield told me that he has never known them\n",
    "more general or heavy--except when it has been quite an _influenza_.\"\n",
    "\n",
    "*__And in the version I just downloaded from PG:__*\n",
    "\n",
    "> “How sorry I am! But colds were never so prevalent as they have been\n",
    "this autumn. Mr. Wingfield told me that he has never known them more\n",
    "general or heavy--except when it has been quite an _influenza_.”\n",
    "\n",
    "*__The texts appear to be identical, but if we look closely, we'll notice that the quotes are not the same.  The version on the author's site uses straight double quotes (`\"`), whereas the version I downloaded uses curly double quotes (`”`).__*\n",
    "\n",
    "*__If we do a little more experimenting, it appears that the author's code does not deal well with words that appear next to curly quotes, and leaves them out of the histogram.  I verified this by looking at the number of occurrences of 'season', which ends the next quote in the book:__*"
   ]
  },
  {
   "cell_type": "code",
   "execution_count": 36,
   "metadata": {},
   "outputs": [
    {
     "data": {
      "text/plain": [
       "6"
      ]
     },
     "execution_count": 36,
     "metadata": {},
     "output_type": "execute_result"
    }
   ],
   "source": [
    "hist[\"season\"]"
   ]
  },
  {
   "cell_type": "code",
   "execution_count": 37,
   "metadata": {},
   "outputs": [
    {
     "data": {
      "text/plain": [
       "5"
      ]
     },
     "execution_count": 37,
     "metadata": {},
     "output_type": "execute_result"
    }
   ],
   "source": [
    "hist_new[\"season\"]"
   ]
  },
  {
   "cell_type": "markdown",
   "metadata": {},
   "source": [
    "*__And the number of occurrences of 'middling', which begins a quote several paragraphs down from the paragraph in question (the intervening paragraphs all began with common words, which would not be ideal for analysis):__* "
   ]
  },
  {
   "cell_type": "code",
   "execution_count": 38,
   "metadata": {},
   "outputs": [
    {
     "data": {
      "text/plain": [
       "1"
      ]
     },
     "execution_count": 38,
     "metadata": {},
     "output_type": "execute_result"
    }
   ],
   "source": [
    "hist[\"middling\"]"
   ]
  },
  {
   "cell_type": "markdown",
   "metadata": {},
   "source": [
    "*__As expected, 'middling' did not appear at all in the analysis of the newer version of the text.__* (I will not run the command in the next cell, as it makes it difficult for me to run all of the cells in the notebook.)\n",
    "\n",
    "```\n",
    "hist_new[\"middling\"]\n",
    "\n",
    "---------------------------------------------------------------------------\n",
    "KeyError                                  Traceback (most recent call last)\n",
    "<ipython-input-91-7ff134642164> in <module>\n",
    "----> 1 hist_new[\"middling\"]\n",
    "\n",
    "KeyError: 'middling'\n",
    "```"
   ]
  },
  {
   "cell_type": "markdown",
   "metadata": {},
   "source": [
    "*__Time does not permit me to go back and make adjustments to the author's code.  Let me just say that text wrangling can be a very difficult problem, and the issue of smart quotes vs. dumb quotes appears to be a frequent one.__*\n",
    "\n",
    "### 13.7 Random words\n",
    "\n",
    "#### Exercise 7  \n",
    "\n",
    "*Write a program that uses this algorithm to choose a random word from the book:*\n",
    "\n",
    "<ol>\n",
    "    <li><i>Use `keys` to get a list of the words in the book.</i></li>\n",
    "    <li><i>Build a list that contains the cumulative sum of the word frequencies (see Exercise 2). The last item in this list is the total number of words in the book, $n$.</i></li>\n",
    "    <li><i>Choose a random number from 1 to $n$. Use a bisection search (See Exercise 10) to find the index where the random number would be inserted in the cumulative sum.</i></li>\n",
    "    <li><i>Use the index to find the corresponding word in the word list.</i></li></ol>\n"
   ]
  },
  {
   "cell_type": "code",
   "execution_count": 39,
   "metadata": {},
   "outputs": [],
   "source": [
    "import random\n",
    "\n",
    "def calc_cum_totals_from_hist(h):\n",
    "    \"\"\"\n",
    "    Takes a histogram, calculates the cumulative \n",
    "    sums of the values in the histogram, and \n",
    "    returns a list of tuples of the cumulative \n",
    "    sums and the corresponding words.\n",
    "    \"\"\"\n",
    "    \n",
    "    cum_words = []\n",
    "    cum_value = 0\n",
    "    for k, v in h.items():\n",
    "        cum_value += v\n",
    "        cum_words.append((cum_value, k))\n",
    "        \n",
    "    return cum_words\n",
    "\n",
    "def create_random_position(cum_words):\n",
    "    \"\"\"\n",
    "    Take a cumulatively-summed list of words and returns\n",
    "    a random position within that list.\n",
    "    \"\"\"\n",
    "    \n",
    "    return random.randint(0, cum_words[-1][0])\n",
    "\n",
    "def choose_random_word_with_bisect(cum_words, rand):\n",
    "    \"\"\"\n",
    "    Takes a cumulatively-summed list of words and\n",
    "    a random number and iteratively searches the list\n",
    "    to return the word that would be represented by that\n",
    "    random number.\n",
    "    \"\"\"    \n",
    "    mp = len(cum_words) // 2\n",
    "    \n",
    "    if mp == 1:\n",
    "        return cum_words[0][1]\n",
    "    \n",
    "    \n",
    "    if cum_words[mp - 1][0] < rand < cum_words[mp][0]:\n",
    "        return cum_words[mp-1][1]\n",
    "    elif cum_words[mp][0] < rand < cum_words[mp + 1][0]:\n",
    "        return cum_words[mp][1]\n",
    "    elif rand < cum_words[mp][0]:\n",
    "        return choose_random_word_with_bisect(cum_words[:mp], rand)\n",
    "    else:\n",
    "        return choose_random_word_with_bisect(cum_words[mp + 1:], rand)\n",
    "    \n",
    "def choose_random_word_from_pg_book(text, encode = \"utf8\", \n",
    "                                    remove_internal = [], \n",
    "                                    replace_internal = []):\n",
    "    \"\"\"\n",
    "    Returns a random word from a text.\n",
    "    \n",
    "    Arguments:\n",
    "    text: raw text\n",
    "    encode: optional character encoding of the text\n",
    "    remove_internal: optional parameter that decides how strings\n",
    "                    in the text are divided into words.\n",
    "    replace_internal: optional parameter that designates how \n",
    "                    characters removed with remove_internal are\n",
    "                    replaced. Length of remove_internal and \n",
    "                    replace_internal must be equal, so if \n",
    "                    characters are to be removed with \n",
    "                    remove_internal, there must be one empty\n",
    "                    string ('') in replace_internal for each\n",
    "                    character in remove_internal.\n",
    "                    \n",
    "    \"\"\"\n",
    "    clean = clean_pg_text(text)\n",
    "    tally = tally_words(clean)\n",
    "    cum_words = calc_cum_totals_from_hist(tally)\n",
    "    rand = create_random_position(cum_words)\n",
    "    return choose_random_word_with_bisect(cum_words, rand)"
   ]
  },
  {
   "cell_type": "code",
   "execution_count": 40,
   "metadata": {},
   "outputs": [],
   "source": [
    "clean = clean_pg_text('ulysses.txt')\n",
    "tally = tally_words(clean)\n",
    "cum_words = calc_cum_totals_from_hist(tally)"
   ]
  },
  {
   "cell_type": "code",
   "execution_count": 41,
   "metadata": {},
   "outputs": [
    {
     "data": {
      "text/plain": [
       "(17, 'produced')"
      ]
     },
     "execution_count": 41,
     "metadata": {},
     "output_type": "execute_result"
    }
   ],
   "source": [
    "cum_words[0]"
   ]
  },
  {
   "cell_type": "code",
   "execution_count": 42,
   "metadata": {},
   "outputs": [
    {
     "name": "stdout",
     "output_type": "stream",
     "text": [
      "equine\n",
      "perpetuity\n",
      "editors\n",
      "horsepoliceman\n",
      "brasses\n",
      "darem\n",
      "morning\n",
      "sphincter\n",
      "—come\n",
      "foaming\n"
     ]
    }
   ],
   "source": [
    "for i in range(10):\n",
    "    print(choose_random_word_from_pg_book('ulysses.txt'))"
   ]
  },
  {
   "cell_type": "markdown",
   "metadata": {},
   "source": [
    "### 13.8  Markov analysis"
   ]
  },
  {
   "cell_type": "markdown",
   "metadata": {},
   "source": [
    "#### Exercise 8  \n",
    "\n",
    "*Markov analysis:*\n",
    "\n",
    "<ol>\n",
    "<li><i>Write a program to read a text from a file and perform Markov analysis. The result should be a dictionary that maps from prefixes to a collection of possible suffixes. The collection might be a list, tuple, or dictionary; it is up to you to make an appropriate choice. You can test your program with prefix length two, but you should write the program in a way that makes it easy to try other lengths.</i></li>\n",
    "\n",
    "<li><i>Add a function to the previous program to generate random text based on the Markov analysis. Here is an example from Emma with prefix length 2:</i>\n",
    "\n",
    "> *He was very clever, be it sweetness or be angry, ashamed or only amused, at such a stroke. She had never thought of Hannah till you were never meant for me?\" \"I cannot make speeches, Emma:\" he soon cut it all himself.*\n",
    "\n",
    "\n",
    "<i>For this example, I left the punctuation attached to the words. The result is almost syntactically correct, but not quite. Semantically, it almost makes sense, but not quite.</i>\n",
    "\n",
    "<i>What happens if you increase the prefix length? Does the random text make more sense?</i></li>\n",
    "<br>\n",
    "\n",
    "<li><i>Once your program is working, you might want to try a mash-up: if you combine text from two or more books, the random text you generate will blend the vocabulary and phrases from the sources in interesting ways.</i></li></ol>\n"
   ]
  },
  {
   "cell_type": "markdown",
   "metadata": {},
   "source": [
    "*__First, I made alterations to `clean_pg_text` so that the resulting list would have strings that retained punctuation and capitalization, as this is necessary for a more natural looking text. Then I made a function to compile ngrams, which are groups of words that occurred in the text.  After that, I made a dictionary that would store all possible ngrams that followed the words in the text. Then I wrote a function that would choose one of these ngrams.  Finally, I put it all together into a function that would generate Markov texts.__*"
   ]
  },
  {
   "cell_type": "code",
   "execution_count": 43,
   "metadata": {},
   "outputs": [],
   "source": [
    "# Parts 1 & 2\n",
    "\n",
    "import string, random\n",
    "\n",
    "def parse_PG_text(text):\n",
    "    \"\"\"\n",
    "    Returns a list of words from a Project Gutenberg text.  \n",
    "    Header and footer is removed. \n",
    "    Punctuation and capitalization are preserved. \n",
    "    \"\"\"\n",
    "    \n",
    "    cleaned_text = []\n",
    "    opened_text = open(text, encoding = \"utf8\")\n",
    "    \n",
    "    # to remove legal boilerplate\n",
    "    flag = False\n",
    "    start = \"*** START OF\"\n",
    "    end = \"*** END OF\"\n",
    "\n",
    "    # some PG texts don't use spaces to designate start/end of text\n",
    "    alt_start = \"***START OF\"\n",
    "    alt_end = \"***END OF\"\n",
    "    \n",
    "    for line in opened_text:\n",
    "        \n",
    "        # start reading in lines after boilerplate\n",
    "        if ((start in line) or (alt_start in line)) and flag == False:\n",
    "            flag = True\n",
    "        \n",
    "        # return word list once boilerplate has been reached\n",
    "        elif ((end in line) or (alt_end in line)) and flag == True:\n",
    "            return cleaned_text\n",
    "        elif flag == True:\n",
    "    \n",
    "            for word in line.split():\n",
    "                cleaned_text.append(word.strip(string.whitespace))\n",
    "        else:\n",
    "            pass\n",
    "        \n",
    "    return cleaned_text\n",
    "\n",
    "def make_ngram(array, index, n):\n",
    "    \"\"\"\n",
    "    Returns a list of the n words following\n",
    "    the word at the indexed point in the array.\n",
    "    \"\"\"\n",
    "    ngram = []\n",
    "    for j in range(1, n + 1):\n",
    "        ngram.append(array[index + j])\n",
    "    \n",
    "    return ngram\n",
    "\n",
    "def make_markov_dict(array, n):\n",
    "    \"\"\"\n",
    "    Takes a list of words and returns a dictionary\n",
    "    of all possible ngrams following each word in the array.\n",
    "    \"\"\"\n",
    "    \n",
    "    d = {}\n",
    "    l = len(array)\n",
    "    \n",
    "    # adding padding so function doesn't crash at end of array\n",
    "    array.extend(\" \" * n)\n",
    "    \n",
    "    for e in range(l):\n",
    "        ngram = make_ngram(array, e, n)\n",
    "        if array[e] not in d:\n",
    "            d[array[e]] = ([ngram])\n",
    "        else:\n",
    "            d[array[e]] += ([ngram])\n",
    "        \n",
    "    # dictionary values for items at the end of the array\n",
    "    # will have empty strings, and these need to be the\n",
    "    # same size as the other values to prevent the code\n",
    "    # from throwing an error\n",
    "    \n",
    "    d[\" \"] = \" \" * n\n",
    "    return d\n",
    "\n",
    "def minimarkov(d, word):\n",
    "    \"\"\"\n",
    "    Randomly chooses one ngram from a Markov dictionary.\n",
    "    \"\"\"\n",
    "    return(random.choice(d[word]))\n",
    "\n",
    "def make_markov_text(text, n, length):\n",
    "    \"\"\"\n",
    "    Takes a text, divides it into individual words, and the makes \n",
    "    a Markov dict for each word and all possible ngrams that\n",
    "    follow it.  Then a word is randomly chosen, and of the ngrams\n",
    "    that followed that word in the text, one is selected and \n",
    "    concatenated to the new text.  New text is printed.\n",
    "    \n",
    "    Arguments:\n",
    "    text: a raw text from Project Gutenberg\n",
    "    n: length of ngrams, i.e., words that occur together\n",
    "        in the text.  The higher n, the more natural the \n",
    "        resulting text.\n",
    "    length: number of ngrams to be concatenated. Length of final\n",
    "        text will be 1 + n * length.\n",
    "    \"\"\"\n",
    "    parsed_text = parse_PG_text(text)\n",
    "    d = make_markov_dict(parsed_text, n)\n",
    "    start = random.choice(list(d.keys()))\n",
    "    markov_text = [start]\n",
    "    \n",
    "    for i in range(length):\n",
    "        markov_text.extend(minimarkov(d, markov_text[-1]))\n",
    "    for word in markov_text:\n",
    "        print(word, end = \" \")"
   ]
  },
  {
   "cell_type": "code",
   "execution_count": 44,
   "metadata": {},
   "outputs": [
    {
     "name": "stdout",
     "output_type": "stream",
     "text": [
      "bred.” “Well, then, but I have already in the man who had brought with him. Peterson had strange fads may cause of my week’s work. “When evening came I behind him. But, after the bridal party, alleging that she can lay "
     ]
    }
   ],
   "source": [
    "make_markov_text('sherlock.txt', 2, 20)"
   ]
  },
  {
   "cell_type": "code",
   "execution_count": 45,
   "metadata": {},
   "outputs": [
    {
     "name": "stdout",
     "output_type": "stream",
     "text": [
      "smack! Three gone before I returned to the expense of this black business.” “Really! You surprise as we sat in his big white one over his eyes, sunk upon his breast, buried in the window, he could trace it, and some very bulky boxes driving rapidly "
     ]
    }
   ],
   "source": [
    "make_markov_text('sherlock.txt', 3, 15)"
   ]
  },
  {
   "cell_type": "code",
   "execution_count": 46,
   "metadata": {},
   "outputs": [
    {
     "name": "stdout",
     "output_type": "stream",
     "text": [
      "caved in, a picture of human plans, and the Park. I slipped out, the League was founded on a logical basis with which he unravelled the problems which were a couple of brace of cold woodcock, a step forward. In an "
     ]
    }
   ],
   "source": [
    "make_markov_text('sherlock.txt', 4, 10)"
   ]
  },
  {
   "cell_type": "code",
   "execution_count": 47,
   "metadata": {},
   "outputs": [
    {
     "name": "stdout",
     "output_type": "stream",
     "text": [
      "Lestrade! Good-afternoon, Lestrade! You will find me ready when he comes the country surgeon and Mrs. Etherege, whose husband you found the latch and made my wedding. Mr. Lestrade, of Scotland Yard, is acting already in the garden. There is no further evidence, I suppose, than the official force.” “Oh, if "
     ]
    }
   ],
   "source": [
    "make_markov_text('sherlock.txt', 5, 10)"
   ]
  },
  {
   "cell_type": "code",
   "execution_count": 48,
   "metadata": {},
   "outputs": [
    {
     "name": "stdout",
     "output_type": "stream",
     "text": [
      "feat? I should not ask it of the Duke of Balmoral, and Miss Turner.” “Ah, thereby hangs a rather walk with me in the evening paper in London. One day my hand upon this gang. That he said. “The case is as plain one. One was buttoned only in a tone as though asking a great many scattered papers and note-books "
     ]
    }
   ],
   "source": [
    "make_markov_text('sherlock.txt', 6, 10)"
   ]
  },
  {
   "cell_type": "code",
   "execution_count": 49,
   "metadata": {},
   "outputs": [],
   "source": [
    "# Part three\n",
    "\n",
    "def mashed_markov_text(text1, text2, n, length):\n",
    "    \"\"\"\n",
    "    Takes a text, divides it into individual words, and the makes \n",
    "    a Markov dict for each word and all possible ngrams that\n",
    "    follow it.  Then a word is randomly chosen, and of the ngrams\n",
    "    that followed that word in the text, one is selected and \n",
    "    concatenated to the new text.  New text is printed.\n",
    "    \n",
    "    Arguments:\n",
    "    text: a raw text from Project Gutenberg\n",
    "    n: length of ngrams, i.e., words that occur together\n",
    "        in the text.  The higher n, the more natural the \n",
    "        resulting text.\n",
    "    length: number of ngrams to be concatenated. Length of final\n",
    "        text will be 1 + n * length.\n",
    "    \"\"\"\n",
    "    parsed_text = parse_PG_text(text1)\n",
    "    parsed_text += parse_PG_text(text2)\n",
    "    d = make_markov_dict(parsed_text, n)\n",
    "    start = random.choice(list(d.keys()))\n",
    "    markov_text = [start]\n",
    "    \n",
    "    for i in range(length):\n",
    "        markov_text.extend(minimarkov(d, markov_text[-1]))\n",
    "    for word in markov_text:\n",
    "        print(word, end = \" \")"
   ]
  },
  {
   "cell_type": "code",
   "execution_count": 50,
   "metadata": {},
   "outputs": [
    {
     "name": "stdout",
     "output_type": "stream",
     "text": [
      "negative. But Jane and kindness of Lady Catherine listened to a house which deferred it all. Till I was this seal’d? HAMLET. O wonderful son, come you more mischance On plots and errors happen. The world is only that he had to say by his account then is what is mortal and said: “Aye, that Mrs. Collins and liked her, and he was obliged to say nothing could be like a neutral to strangers.” “Shall we would; for this gallant Had witchcraft of his wit, together with most powerfully and potently believe, yet I consider,” she added that he should not you mind?” “I should not hope that the boys were relieved from their apprehension and anxiety, but Elizabeth felt an account of all the while. “How abominable! I wonder he does not hear a word will be but herself. Mrs. Gardiner could do. But I knew not--I was afraid of "
     ]
    }
   ],
   "source": [
    "mashed_markov_text('hamlet.txt', 'austen.txt', 3, 50)"
   ]
  },
  {
   "cell_type": "markdown",
   "metadata": {},
   "source": [
    "#### Exercise 13-9\n",
    "\n",
    "*The “rank” of a word is its position in an array of words sorted by frequency: the most common word has rank 1, the second most common has rank 2, etc.*\n",
    "\n",
    "*Zipf’s law describes a relationship between the ranks and frequencies of words in natural languages (https://en.wikipedia.org/wiki/Zipf's_law). Specifically, it predicts that the frequency, $f$, of the word with rank $r$ is:*\n",
    "\n",
    "$$f=cr^{−s}$$\n",
    "\n",
    "*where $s$ and $c$ are parameters that depend on the language and the text. If you take the logarithm of both sides of this equation, you get:*\n",
    "\n",
    "$$\\log f=\\log c−s\\log r$$\n",
    "\n",
    "*So if you plot $\\log$ $f$ versus $\\log$ $r$, you should get a straight line with slope $−s$ and intercept $\\log c$.*\n",
    "\n",
    "*Write a program that reads a text from a file, counts word frequencies, and prints one line for each word, in descending order of frequency, with $\\log f$ and $\\log r$.*\n",
    "\n",
    "*__The author's code does not follow the author's instructions.  It says that we're supposed to print log f and log r for each word, but the author just prints r and f.  While he does produce a graph using log scale, that is not quite what his instructions indicated.__*"
   ]
  },
  {
   "cell_type": "code",
   "execution_count": 51,
   "metadata": {},
   "outputs": [],
   "source": [
    "import math\n",
    "\n",
    "def rank_frequencies(text):\n",
    "    \"\"\"\n",
    "    Takes a text, tallys the number of words,\n",
    "    and returns a list of tuples with \n",
    "    the logs of the frequencies and rankings \n",
    "    of these words.\n",
    "    \"\"\"\n",
    "    freq = []\n",
    "    clean = clean_pg_text(text)\n",
    "    tally = tally_words(clean)\n",
    "    r = 1\n",
    "    for y,z in reversed(sorted(zip(tally.values(), tally.keys()))):\n",
    "        freq.append((math.log(y), math.log(r)))\n",
    "        r += 1\n",
    "        \n",
    "    return freq"
   ]
  },
  {
   "cell_type": "code",
   "execution_count": 52,
   "metadata": {},
   "outputs": [],
   "source": [
    "def print_rf(text, n_lines):\n",
    "    \"\"\"\n",
    "    Takes a text tallys the number of words,\n",
    "    and prints out a list of tuples with \n",
    "    the logs of the frequencies and rankings \n",
    "    of these words. n_lines is the number of \n",
    "    lines to be displayed.\n",
    "    \"\"\"    \n",
    "    rf = rank_frequencies(text)\n",
    "\n",
    "    for r, f in rf[:n_lines]:\n",
    "        print(r, f, sep = \"\\t\")"
   ]
  },
  {
   "cell_type": "code",
   "execution_count": 53,
   "metadata": {},
   "outputs": [
    {
     "name": "stdout",
     "output_type": "stream",
     "text": [
      "7.365180126021013\t0.0\n",
      "6.736966958001855\t0.6931471805599453\n",
      "6.62273632394984\t1.0986122886681098\n",
      "6.5722825426940075\t1.3862943611198906\n",
      "6.318968113746434\t1.6094379124341003\n",
      "6.261491684321042\t1.791759469228055\n",
      "6.234410725718371\t1.9459101490553132\n",
      "6.22455842927536\t2.0794415416798357\n",
      "6.186208623900494\t2.1972245773362196\n",
      "6.152732694704104\t2.302585092994046\n",
      "6.059123195581797\t2.3978952727983707\n",
      "6.008813185442595\t2.4849066497880004\n",
      "5.872117789475416\t2.5649493574615367\n",
      "5.739792912179234\t2.6390573296152584\n",
      "5.717027701406222\t2.70805020110221\n",
      "5.602118820879701\t2.772588722239781\n",
      "5.5093883366279774\t2.833213344056216\n",
      "5.429345628954441\t2.8903717578961645\n",
      "5.375278407684165\t2.9444389791664403\n",
      "5.3612921657094255\t2.995732273553991\n",
      "5.293304824724492\t3.044522437723423\n",
      "5.267858159063328\t3.091042453358316\n",
      "5.209486152841421\t3.1354942159291497\n",
      "5.204006687076795\t3.1780538303479458\n",
      "5.176149732573829\t3.2188758248682006\n",
      "5.0238805208462765\t3.258096538021482\n",
      "5.017279836814924\t3.295836866004329\n",
      "4.997212273764115\t3.332204510175204\n",
      "4.990432586778736\t3.367295829986474\n",
      "4.969813299576001\t3.4011973816621555\n"
     ]
    }
   ],
   "source": [
    "print_rf('alice_new.txt', 30)"
   ]
  },
  {
   "cell_type": "code",
   "execution_count": 54,
   "metadata": {},
   "outputs": [],
   "source": [
    "%matplotlib inline\n",
    "import matplotlib.pyplot as plt\n",
    "\n",
    "def plot_zipf(text):\n",
    "    rf = rank_frequencies(text)\n",
    "    x, y = zip(*rf)\n",
    "\n",
    "    plt.plot(x, y, \"k-\")\n",
    "    plt.show()"
   ]
  },
  {
   "cell_type": "code",
   "execution_count": 55,
   "metadata": {},
   "outputs": [
    {
     "data": {
      "image/png": "[encoded data removed]",
      "text/plain": [
       "<Figure size 432x288 with 1 Axes>"
      ]
     },
     "metadata": {
      "needs_background": "light"
     },
     "output_type": "display_data"
    }
   ],
   "source": [
    "plot_zipf('alice_new.txt')"
   ]
  },
  {
   "cell_type": "code",
   "execution_count": 56,
   "metadata": {},
   "outputs": [
    {
     "data": {
      "image/png": "[encoded data removed]",
      "text/plain": [
       "<Figure size 432x288 with 1 Axes>"
      ]
     },
     "metadata": {
      "needs_background": "light"
     },
     "output_type": "display_data"
    }
   ],
   "source": [
    "plot_zipf('ulysses.txt')"
   ]
  },
  {
   "cell_type": "code",
   "execution_count": 57,
   "metadata": {},
   "outputs": [
    {
     "data": {
      "image/png": "[encoded data removed]",
      "text/plain": [
       "<Figure size 432x288 with 1 Axes>"
      ]
     },
     "metadata": {
      "needs_background": "light"
     },
     "output_type": "display_data"
    }
   ],
   "source": [
    "plot_zipf('sherlock.txt')"
   ]
  },
  {
   "cell_type": "code",
   "execution_count": 58,
   "metadata": {},
   "outputs": [
    {
     "data": {
      "image/png": "[encoded data removed]",
      "text/plain": [
       "<Figure size 432x288 with 1 Axes>"
      ]
     },
     "metadata": {
      "needs_background": "light"
     },
     "output_type": "display_data"
    }
   ],
   "source": [
    "plot_zipf('canterbury.txt')"
   ]
  }
 ],
 "metadata": {
  "kernelspec": {
   "display_name": "Python 3",
   "language": "python",
   "name": "python3"
  },
  "language_info": {
   "codemirror_mode": {
    "name": "ipython",
    "version": 3
   },
   "file_extension": ".py",
   "mimetype": "text/x-python",
   "name": "python",
   "nbconvert_exporter": "python",
   "pygments_lexer": "ipython3",
   "version": "3.7.3"
  }
 },
 "nbformat": 4,
 "nbformat_minor": 2
}
