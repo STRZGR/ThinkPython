{
 "cells": [
  {
   "cell_type": "markdown",
   "metadata": {},
   "source": [
    "# Think Python\n",
    "\n",
    "## Chapter 15 - Classes and objects\n",
    "\n",
    "### 15.1 Programmer-defined types\n",
    "\n",
    "*HTML of this chapter in \"Think Python 2e\" can be found [here](http://greenteapress.com/thinkpython2/html/thinkpython2016.html \"Chapter 15\").*\n",
    "\n",
    "*__Creating a new `class`:__*"
   ]
  },
  {
   "cell_type": "code",
   "execution_count": 1,
   "metadata": {},
   "outputs": [],
   "source": [
    "class Point:\n",
    "    \"\"\"Represents a point in 2-D space.\"\"\""
   ]
  },
  {
   "cell_type": "markdown",
   "metadata": {},
   "source": [
    "*As an exercise, write a function called `distance_between_points` that takes two Points as arguments and returns the distance between them.*"
   ]
  },
  {
   "cell_type": "code",
   "execution_count": 2,
   "metadata": {},
   "outputs": [],
   "source": [
    "import math\n",
    "\n",
    "def distance_between_points(a, b):\n",
    "    return math.sqrt((b.x - a.x)**2 + (b.y - a.y)**2)"
   ]
  },
  {
   "cell_type": "code",
   "execution_count": 3,
   "metadata": {},
   "outputs": [
    {
     "data": {
      "text/plain": [
       "5.656854249492381"
      ]
     },
     "execution_count": 3,
     "metadata": {},
     "output_type": "execute_result"
    }
   ],
   "source": [
    "a = Point()\n",
    "a.x, a.y = 4, 4\n",
    "\n",
    "b = Point()\n",
    "b.x, b.y = 0, 0\n",
    "\n",
    "distance_between_points(a, b)"
   ]
  },
  {
   "cell_type": "markdown",
   "metadata": {},
   "source": [
    "### 15.2 Attributes\n",
    "\n"
   ]
  },
  {
   "cell_type": "code",
   "execution_count": 4,
   "metadata": {},
   "outputs": [],
   "source": [
    "def print_point(p):\n",
    "    print('(%g, %g)' % (p.x, p.y))"
   ]
  },
  {
   "cell_type": "markdown",
   "metadata": {},
   "source": [
    "### 15.3 Rectangles"
   ]
  },
  {
   "cell_type": "code",
   "execution_count": 5,
   "metadata": {},
   "outputs": [],
   "source": [
    "class Rectangle:\n",
    "    \"\"\"\n",
    "    Represents a rectangle.\n",
    "    \n",
    "    attributes: width, height, corner\n",
    "    \"\"\""
   ]
  },
  {
   "cell_type": "code",
   "execution_count": 6,
   "metadata": {},
   "outputs": [],
   "source": [
    "box = Rectangle()\n",
    "box.width = 100.0\n",
    "box.height = 200.0\n",
    "box.corner = Point()\n",
    "box.corner.x = 0.0\n",
    "box.corner.y = 0.0"
   ]
  },
  {
   "cell_type": "markdown",
   "metadata": {},
   "source": [
    "### 15.4 Instances as return values"
   ]
  },
  {
   "cell_type": "code",
   "execution_count": 7,
   "metadata": {},
   "outputs": [],
   "source": [
    "def find_center(rect):\n",
    "    p = Point()\n",
    "    p.x = rect.corner.x + rect.width / 2\n",
    "    p.y = rect.corner.y + rect.height / 2\n",
    "    return p"
   ]
  },
  {
   "cell_type": "markdown",
   "metadata": {},
   "source": [
    "### 15.5 Objects are mutable\n",
    "\n"
   ]
  },
  {
   "cell_type": "markdown",
   "metadata": {},
   "source": [
    "*As an exercise, write a function named `move_rectangle` that takes a Rectangle and two numbers named `dx` and `dy`. It should change the location of the rectangle by adding `dx` to the `x` coordinate of corner and adding `dy` to the `y` coordinate of corner.*"
   ]
  },
  {
   "cell_type": "code",
   "execution_count": 8,
   "metadata": {},
   "outputs": [],
   "source": [
    "def move_rectangle(rect, dx, dy):\n",
    "    rect.corner.x += dx\n",
    "    rect.corner.y += dy\n",
    "    return rect"
   ]
  },
  {
   "cell_type": "code",
   "execution_count": 9,
   "metadata": {},
   "outputs": [
    {
     "name": "stdout",
     "output_type": "stream",
     "text": [
      "(150, 200)\n"
     ]
    }
   ],
   "source": [
    "move_rectangle(box, 100, 100)\n",
    "center = find_center(box)\n",
    "print_point(center)"
   ]
  },
  {
   "cell_type": "markdown",
   "metadata": {},
   "source": [
    "### 15.6 Copying\n",
    "\n",
    "\n"
   ]
  },
  {
   "cell_type": "markdown",
   "metadata": {},
   "source": [
    "*As an exercise, write a function named `move_rectangle` that takes a Rectangle and two numbers named `dx` and `dy`. It should change the location of the rectangle by adding `dx` to the `x` coordinate of corner and adding `dy` to the `y` coordinate of corner.*"
   ]
  },
  {
   "cell_type": "code",
   "execution_count": 10,
   "metadata": {},
   "outputs": [],
   "source": [
    "def move_rectangle(rect, dx, dy):\n",
    "    rect.corner.x += dx\n",
    "    rect.corner.y += dy\n",
    "    return rect"
   ]
  },
  {
   "cell_type": "markdown",
   "metadata": {},
   "source": [
    "*As an exercise, write a version of `move_rectangle` that creates and returns a new Rectangle instead of modifying the old one.*"
   ]
  },
  {
   "cell_type": "code",
   "execution_count": 11,
   "metadata": {},
   "outputs": [],
   "source": [
    "import copy\n",
    "\n",
    "def move_new_rectangle(rect, dx, dy):\n",
    "    \n",
    "    new_rect = copy.deepcopy(rect)\n",
    "    new_rect.corner.x += dx\n",
    "    new_rect.corner.y += dy\n",
    "    return new_rect"
   ]
  },
  {
   "cell_type": "markdown",
   "metadata": {},
   "source": [
    "### 15.9  Exercises\n",
    "\n",
    "#### Exercise 1  \n",
    "\n",
    "*Write a definition for a class named `Circle` with attributes `center` and `radius`, where `center` is a `Point` object and radius is a number.*\n",
    "\n",
    "*Instantiate a `Circle` object that represents a circle with its center at (150, 100) and radius 75.*\n",
    "\n"
   ]
  },
  {
   "cell_type": "code",
   "execution_count": 12,
   "metadata": {},
   "outputs": [],
   "source": [
    "class Circle:\n",
    "    \"\"\"\n",
    "    Represents a circle.\n",
    "    \n",
    "    Attributes: radius, center\n",
    "    \"\"\""
   ]
  },
  {
   "cell_type": "code",
   "execution_count": 13,
   "metadata": {},
   "outputs": [],
   "source": [
    "roundy = Circle()\n",
    "roundy.radius = 75\n",
    "roundy.center = Point()\n",
    "roundy.center.x = 150.0\n",
    "roundy.center.y = 100.0"
   ]
  },
  {
   "cell_type": "markdown",
   "metadata": {},
   "source": [
    "*Write a function named `point_in_circle` that takes a `Circle` and a `Point` and returns `True` if the `Point` lies in or on the boundary of the circle.*\n",
    "\n"
   ]
  },
  {
   "cell_type": "code",
   "execution_count": 14,
   "metadata": {},
   "outputs": [],
   "source": [
    "def point_in_circle(circle, point):\n",
    "    \"\"\"\n",
    "    Returns True if Point point lies within or on the \n",
    "    boundary of Circle circle.\n",
    "    \"\"\"\n",
    "    return distance_between_points(circle.center, point) <= circle.radius"
   ]
  },
  {
   "cell_type": "code",
   "execution_count": 15,
   "metadata": {},
   "outputs": [
    {
     "data": {
      "text/plain": [
       "True"
      ]
     },
     "execution_count": 15,
     "metadata": {},
     "output_type": "execute_result"
    }
   ],
   "source": [
    "# point on the boundary\n",
    "\n",
    "test_point_a = Point()\n",
    "test_point_a.x, test_point_a.y = 225.0, 100.0\n",
    "\n",
    "point_in_circle(roundy, test_point_a)"
   ]
  },
  {
   "cell_type": "code",
   "execution_count": 16,
   "metadata": {},
   "outputs": [
    {
     "data": {
      "text/plain": [
       "True"
      ]
     },
     "execution_count": 16,
     "metadata": {},
     "output_type": "execute_result"
    }
   ],
   "source": [
    "# point within the boundary\n",
    "\n",
    "test_point_b = Point()\n",
    "test_point_b.x, test_point_b.y = 150.0, 160.0\n",
    "\n",
    "point_in_circle(roundy, test_point_b)"
   ]
  },
  {
   "cell_type": "code",
   "execution_count": 17,
   "metadata": {},
   "outputs": [
    {
     "data": {
      "text/plain": [
       "False"
      ]
     },
     "execution_count": 17,
     "metadata": {},
     "output_type": "execute_result"
    }
   ],
   "source": [
    "# point outside the boundary\n",
    "\n",
    "test_point_c = Point()\n",
    "test_point_c.x, test_point_c.y= 225.0, 175.0\n",
    "\n",
    "point_in_circle(roundy, test_point_c)"
   ]
  },
  {
   "cell_type": "markdown",
   "metadata": {},
   "source": [
    "*Write a function named `rect_in_circle` that takes a `Circle` and a `Rectangle` and returns `True` if the `Rectangle` lies entirely in or on the boundary of the circle.*\n",
    "\n"
   ]
  },
  {
   "cell_type": "code",
   "execution_count": 18,
   "metadata": {},
   "outputs": [],
   "source": [
    "def find_rect_corners(rect):\n",
    "    \"\"\"\n",
    "    Takes Rectangle rect and returns a list with four \n",
    "    Point objects representing the \n",
    "    coordinate of the corners of rect.\n",
    "    \"\"\"\n",
    "    \n",
    "    bl = rect.corner\n",
    "    tl, tr, br = Point(), Point(), Point()\n",
    "    tl.x, tl.y = rect.corner.x, rect.corner.y + rect.height\n",
    "    tr.x, tr.y = rect.corner.x + rect.width, rect.corner.y + rect.height\n",
    "    br.x, br.y = rect.corner.x + rect.width, rect.corner.y\n",
    "    \n",
    "    return [bl, tl, tr, br]\n",
    "    "
   ]
  },
  {
   "cell_type": "code",
   "execution_count": 19,
   "metadata": {},
   "outputs": [],
   "source": [
    "def rect_in_circle(circle, rect):\n",
    "    \"\"\"\n",
    "    Returns True if Rectangle rect lies\n",
    "    wholly within Circle circle.\n",
    "    \"\"\"\n",
    "    \n",
    "    within_circle = []\n",
    "    for rc in find_rect_corners(rect):\n",
    "        # will append True or False to within_circle for each corner\n",
    "        within_circle.append(point_in_circle(circle, rc))\n",
    "        \n",
    "    # Since True values are represented by the value 1,\n",
    "    # if all four corners are within the circle the sum\n",
    "    # of the values in within_circle will be 4.\n",
    "    \n",
    "    return sum(within_circle) == 4"
   ]
  },
  {
   "cell_type": "code",
   "execution_count": 20,
   "metadata": {},
   "outputs": [],
   "source": [
    "# small_box should easily fit in the circle\n",
    "\n",
    "small_box = Rectangle()\n",
    "small_box.width = 50.0\n",
    "small_box.height = 60.0\n",
    "small_box.corner = Point()\n",
    "small_box.corner.x = 125.0\n",
    "small_box.corner.y = 70.0"
   ]
  },
  {
   "cell_type": "code",
   "execution_count": 21,
   "metadata": {},
   "outputs": [
    {
     "data": {
      "text/plain": [
       "True"
      ]
     },
     "execution_count": 21,
     "metadata": {},
     "output_type": "execute_result"
    }
   ],
   "source": [
    "rect_in_circle(roundy, small_box)"
   ]
  },
  {
   "cell_type": "code",
   "execution_count": 22,
   "metadata": {},
   "outputs": [],
   "source": [
    "# half of big_box circle will be in the circle, half out\n",
    "\n",
    "big_box = Rectangle()\n",
    "big_box.width = 75.0\n",
    "big_box.height = 75.0\n",
    "big_box.corner = Point()\n",
    "big_box.corner.x = 75.0\n",
    "big_box.corner.y = 50.0"
   ]
  },
  {
   "cell_type": "code",
   "execution_count": 23,
   "metadata": {},
   "outputs": [
    {
     "data": {
      "text/plain": [
       "False"
      ]
     },
     "execution_count": 23,
     "metadata": {},
     "output_type": "execute_result"
    }
   ],
   "source": [
    "rect_in_circle(roundy, big_box)"
   ]
  },
  {
   "cell_type": "markdown",
   "metadata": {},
   "source": [
    "*Write a function named `rect_circle_overlap` that takes a `Circle` and a `Rectangle` and returns `True` if any of the corners of the `Rectangle` fall inside the circle. Or as a more challenging version, return `True` if any part of the `Rectangle` falls inside the circle.*"
   ]
  },
  {
   "cell_type": "code",
   "execution_count": 24,
   "metadata": {},
   "outputs": [],
   "source": [
    "def rect_circle_overlap(circle, rect):\n",
    "    \"\"\"\n",
    "    Returns True if any corner of Rectangle rect\n",
    "    lies within Circle circle.\n",
    "    \"\"\"\n",
    "    \n",
    "    within_circle = []\n",
    "    for rc in find_rect_corners(rect):\n",
    "        # will append True or False to within_circle for each corner\n",
    "        within_circle.append(point_in_circle(circle, rc))\n",
    "        \n",
    "    # Since True values are represented by the value 1,\n",
    "    # if at least one corner is within the circle, the sum\n",
    "    # of the values in within_circle will be one or more.\n",
    "    \n",
    "    return sum(within_circle) >= 1"
   ]
  },
  {
   "cell_type": "code",
   "execution_count": 25,
   "metadata": {},
   "outputs": [],
   "source": [
    "# overlap_rect partially overlaps the circle\n",
    "\n",
    "overlap_rect = Rectangle()\n",
    "overlap_rect.width = 100.0\n",
    "overlap_rect.height = 100.0\n",
    "overlap_rect.corner = Point()\n",
    "overlap_rect.corner.x = 180.0\n",
    "overlap_rect.corner.y = 110.0"
   ]
  },
  {
   "cell_type": "code",
   "execution_count": 26,
   "metadata": {},
   "outputs": [
    {
     "data": {
      "text/plain": [
       "True"
      ]
     },
     "execution_count": 26,
     "metadata": {},
     "output_type": "execute_result"
    }
   ],
   "source": [
    "rect_circle_overlap(roundy, overlap_rect)"
   ]
  },
  {
   "cell_type": "code",
   "execution_count": 27,
   "metadata": {},
   "outputs": [],
   "source": [
    "# nonoverlap_rect and circle have no overlapping parts\n",
    "\n",
    "nonoverlap_rect = Rectangle()\n",
    "nonoverlap_rect.width = 100.0\n",
    "nonoverlap_rect.height = 100.0\n",
    "nonoverlap_rect.corner = Point()\n",
    "nonoverlap_rect.corner.x = 280.0\n",
    "nonoverlap_rect.corner.y = 110.0"
   ]
  },
  {
   "cell_type": "code",
   "execution_count": 28,
   "metadata": {},
   "outputs": [
    {
     "data": {
      "text/plain": [
       "False"
      ]
     },
     "execution_count": 28,
     "metadata": {},
     "output_type": "execute_result"
    }
   ],
   "source": [
    "rect_circle_overlap(roundy, nonoverlap_rect)"
   ]
  },
  {
   "cell_type": "markdown",
   "metadata": {},
   "source": [
    "*__The more advanced version: if any part of the rectangle is within the circle, then at least one point of the border of the rectangle will fall within the circle.  So we will create lists of all of the points on the four sides of the rectangle, and iteratively check if any of these points lie within the circle.__*"
   ]
  },
  {
   "cell_type": "code",
   "execution_count": 29,
   "metadata": {},
   "outputs": [],
   "source": [
    "def adv_rect_circle_overlap(circle, rect):\n",
    "    \"\"\"\n",
    "    Returns True if any part of Rectangle rect lies \n",
    "    within Circle circle\n",
    "    \"\"\"\n",
    "    \n",
    "    # lists to hold points respectively for the bottom, top, \n",
    "    # left, and right borders of the rectangle\n",
    "    \n",
    "    bb, tb, lb, rb = [], [], [], []\n",
    "    \n",
    "    # finding all the points for the bottom border:\n",
    "    \n",
    "    for i in range(int(rect.width) + 1):\n",
    "        newbp = Point()\n",
    "        newbp.x = rect.corner.x + i\n",
    "        newbp.y = rect.corner.y\n",
    "        bb.append(newbp)\n",
    "    \n",
    "    # finding all the points for the top border:\n",
    "    \n",
    "    for i in range(int(rect.width) + 1):\n",
    "        newtp = Point()\n",
    "        newtp.x = rect.corner.x + i\n",
    "        newtp.y = rect.corner.y + rect.height\n",
    "        tb.append(newtp)\n",
    "    \n",
    "    # finding all the points for the left border:\n",
    "    \n",
    "    for i in range(int(rect.height) + 1):\n",
    "        newlp = Point()\n",
    "        newlp.x = rect.corner.x \n",
    "        newlp.y = rect.corner.y + i\n",
    "        lb.append(newlp)\n",
    "        \n",
    "    # finding all the points for the right border:\n",
    "    \n",
    "    for i in range(int(rect.height) + 1):\n",
    "        newrp = Point()\n",
    "        newrp.x = rect.corner.x + rect.width\n",
    "        newrp.y = rect.corner.y + i\n",
    "        rb.append(newrp)\n",
    "        \n",
    "    # checking all the points\n",
    "    \n",
    "    allb = [bb, tb, lb, rb]\n",
    "    overlap_points = []\n",
    "    for bo in allb:\n",
    "        for b in bo:\n",
    "            overlap_points.append(point_in_circle(circle, b))\n",
    "    \n",
    "    # Since True values are represented by the value 1,\n",
    "    # if at least one point is within the circle, the sum\n",
    "    # of the values in within_circle will be one or more.   \n",
    "    \n",
    "    return sum(overlap_points) >= 1"
   ]
  },
  {
   "cell_type": "code",
   "execution_count": 30,
   "metadata": {},
   "outputs": [],
   "source": [
    "# slight_overlap should slightly overlap\n",
    "\n",
    "slight_overlap = Rectangle()\n",
    "slight_overlap.width = 76.0\n",
    "slight_overlap.height = 200.0\n",
    "slight_overlap.corner = Point()\n",
    "slight_overlap.corner.x = 0.0\n",
    "slight_overlap.corner.y = 0.0"
   ]
  },
  {
   "cell_type": "code",
   "execution_count": 31,
   "metadata": {},
   "outputs": [
    {
     "data": {
      "text/plain": [
       "True"
      ]
     },
     "execution_count": 31,
     "metadata": {},
     "output_type": "execute_result"
    }
   ],
   "source": [
    "adv_rect_circle_overlap(roundy, slight_overlap)"
   ]
  },
  {
   "cell_type": "code",
   "execution_count": 32,
   "metadata": {},
   "outputs": [],
   "source": [
    "# outside_rect should be entirely outside the circle\n",
    "\n",
    "outside_rect = Rectangle()\n",
    "outside_rect.width = 74.0\n",
    "outside_rect.height = 200.0\n",
    "outside_rect.corner = Point()\n",
    "outside_rect.corner.x = 0.0\n",
    "outside_rect.corner.y = 0.0"
   ]
  },
  {
   "cell_type": "code",
   "execution_count": 33,
   "metadata": {},
   "outputs": [
    {
     "data": {
      "text/plain": [
       "False"
      ]
     },
     "execution_count": 33,
     "metadata": {},
     "output_type": "execute_result"
    }
   ],
   "source": [
    "adv_rect_circle_overlap(roundy, outside_rect)"
   ]
  },
  {
   "cell_type": "markdown",
   "metadata": {},
   "source": [
    "#### Exercise 2  \n",
    "\n",
    "*Write a function called `draw_rect` that takes a `Turtle` object and a `Rectangle` and uses the `Turtle` to draw the `Rectangle`. See Chapter 4 for examples using Turtle objects.*\n",
    "\n",
    "*__As was the case with the exercises in Chapter 4, I can't use the `Turtle` library inside jupyter notebooks, so I wrote the code with VS Code and executed it from the command line.  Below is this code which can be found in my GitHub repo [here](https://github.com/Sturzgefahr/ThinkPython/blob/master/Think%20Python%20-%20Chapter%2015/draw_rect.py \"draw_rect.py\").__*"
   ]
  },
  {
   "cell_type": "markdown",
   "metadata": {},
   "source": [
    "```\n",
    "import turtle\n",
    "bob = turtle.Turtle()\n",
    "\n",
    "class Point:\n",
    "    \"\"\"Represents a point in 2-D space.\"\"\"\n",
    "\n",
    "class Rectangle:\n",
    "    \"\"\"\n",
    "    Represents a rectangle.\n",
    "    \n",
    "    attributes: width, height, corner\n",
    "    \"\"\"\n",
    "\n",
    "    \n",
    "def draw_rect(t, rect, color = \"black\"):\n",
    "    \"\"\"\n",
    "    Takes a Rectangle object and a Turtle object\n",
    "    and draws a rectangle.\n",
    "\n",
    "    arguments:\n",
    "    t:      Turtle object\n",
    "    rect:   Rectangle object\n",
    "    color:  optional color of the Turtle pen.\n",
    "            Default is black.\n",
    "\n",
    "    \"\"\"\n",
    "    \n",
    "    if (rect.corner.x, rect.corner.y) != (0, 0):\n",
    "        t.penup()\n",
    "        t.fd(rect.corner.x)\n",
    "        t.lt(90)\n",
    "        t.fd(rect.corner.y)\n",
    "        t.rt(90)\n",
    "        t.pendown()\n",
    "\n",
    "    for i in range(2):\n",
    "        t.pencolor(color)\n",
    "        t.fd(rect.width)\n",
    "        t.lt(90)\n",
    "        t.fd(rect.height)\n",
    "        t.lt(90)\n",
    "\n",
    "\n",
    "box = Rectangle()\n",
    "box.width = 100.0\n",
    "box.height = 200.0\n",
    "box.corner = Point()\n",
    "box.corner.x = 0.0\n",
    "box.corner.y = 0.0\n",
    "\n",
    "new_box = Rectangle()\n",
    "new_box.width = 100.0\n",
    "new_box.height = 200.0\n",
    "new_box.corner = Point()\n",
    "new_box.corner.x = 100.0\n",
    "new_box.corner.y = 100.0\n",
    "\n",
    "draw_rect(bob, box)\n",
    "\n",
    "draw_rect(bob, new_box, color = \"red\")\n",
    "\n",
    "turtle.mainloop()\n",
    "```"
   ]
  },
  {
   "cell_type": "markdown",
   "metadata": {},
   "source": [
    "*Write a function called `draw_circle` that takes a `Turtle` and a `Circle` and draws the `Circle`.*\n",
    "\n",
    "*__Same notes as above.  Below is this code which can be found in my GitHub repo [here](https://github.com/Sturzgefahr/ThinkPython/blob/master/Think%20Python%20-%20Chapter%2015/draw_circle.py \"draw_circle.py\").__*"
   ]
  },
  {
   "cell_type": "markdown",
   "metadata": {},
   "source": [
    "```\n",
    "import turtle, math\n",
    "bob = turtle.Turtle()\n",
    "\n",
    "class Point:\n",
    "    \"\"\"Represents a point in 2-D space.\"\"\"\n",
    "\n",
    "class Circle:\n",
    "    \"\"\"\n",
    "    Represents a circle.\n",
    "    \n",
    "    Attributes: radius, center\n",
    "    \"\"\"\n",
    "\n",
    "    \n",
    "def draw_circle(t, circle, color = \"black\"):\n",
    "    \"\"\"\n",
    "    Takes a Circle object and a Turtle object\n",
    "    and draws a circle.\n",
    "\n",
    "    arguments:\n",
    "    t:      Turtle object\n",
    "    circle: Circle object\n",
    "    color:  optional color of the Turtle pen.\n",
    "            Default is black.\n",
    "\n",
    "    \"\"\"\n",
    "    \n",
    "    t.penup()\n",
    "    t.fd(circle.center.x)\n",
    "    t.lt(90)\n",
    "    t.fd(circle.center.y + circle.radius)\n",
    "    t.rt(90)\n",
    "    t.pendown()\n",
    "\n",
    "    step = (math.pi * 2 * circle.radius)/360\n",
    "\n",
    "    for i in range(360):\n",
    "        t.pencolor(color)\n",
    "        t.fd(step)\n",
    "        t.rt(1)\n",
    "    \n",
    "\n",
    "\n",
    "roundy = Circle()\n",
    "roundy.radius = 75\n",
    "roundy.center = Point()\n",
    "roundy.center.x = 150.0\n",
    "roundy.center.y = 100.0\n",
    "\n",
    "\n",
    "draw_circle(bob, roundy, color = \"red\")\n",
    "\n",
    "turtle.mainloop()\n",
    "```"
   ]
  }
 ],
 "metadata": {
  "kernelspec": {
   "display_name": "Python 3",
   "language": "python",
   "name": "python3"
  },
  "language_info": {
   "codemirror_mode": {
    "name": "ipython",
    "version": 3
   },
   "file_extension": ".py",
   "mimetype": "text/x-python",
   "name": "python",
   "nbconvert_exporter": "python",
   "pygments_lexer": "ipython3",
   "version": "3.7.3"
  }
 },
 "nbformat": 4,
 "nbformat_minor": 2
}
