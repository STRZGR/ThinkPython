{
 "cells": [
  {
   "cell_type": "markdown",
   "metadata": {},
   "source": [
    "# Think Python\n",
    "\n",
    "## Chapter 17 - Classes and methods\n",
    "\n",
    "### 17.1 Object-oriented features\n",
    "\n",
    "*HTML of this chapter in \"Think Python 2e\" can be found [here](http://greenteapress.com/thinkpython2/html/thinkpython2018.html \"Chapter 17\").*\n",
    "\n",
    "### 17.2 Printing objects\n",
    "\n",
    "*__Moving `print_time`inside the class definition of `Time`:__*"
   ]
  },
  {
   "cell_type": "code",
   "execution_count": 21,
   "metadata": {},
   "outputs": [],
   "source": [
    "class Time:\n",
    "    def print_time(self, thousandths = False):\n",
    "        if thousandths:\n",
    "            print(\"{:02.0f}:{:02.0f}:{:06.3f}\".format(self.hour, self.minute, self.second))\n",
    "        else:\n",
    "            print(\"{:02.0f}:{:02.0f}:{:02.0f}\".format(self.hour, self.minute, self.second))"
   ]
  },
  {
   "cell_type": "code",
   "execution_count": 30,
   "metadata": {},
   "outputs": [
    {
     "name": "stdout",
     "output_type": "stream",
     "text": [
      "09:45:05.000\n"
     ]
    }
   ],
   "source": [
    "start = Time()\n",
    "start.hour = 9\n",
    "start.minute = 45\n",
    "start.second = 5\n",
    "\n",
    "Time.print_time(start, thousandths = True)"
   ]
  },
  {
   "cell_type": "code",
   "execution_count": 23,
   "metadata": {},
   "outputs": [
    {
     "name": "stdout",
     "output_type": "stream",
     "text": [
      "09:45:05.000\n"
     ]
    }
   ],
   "source": [
    "start.print_time(thousandths = True)"
   ]
  },
  {
   "cell_type": "markdown",
   "metadata": {},
   "source": [
    "*As an exercise, rewrite `time_to_int` (from Section 16.4) as a method.*\n",
    "\n",
    "*__All methods in class `Time` have to be included in the new definition of the class.__*"
   ]
  },
  {
   "cell_type": "code",
   "execution_count": 29,
   "metadata": {},
   "outputs": [],
   "source": [
    "class Time:\n",
    "    def print_time(self, thousandths = False):\n",
    "        if thousandths:\n",
    "            print(\"{:02.0f}:{:02.0f}:{:06.3f}\".format(self.hour, self.minute, self.second))\n",
    "        else:\n",
    "            print(\"{:02.0f}:{:02.0f}:{:02.0f}\".format(self.hour, self.minute, self.second))\n",
    "    \n",
    "    def time_to_int(self):\n",
    "        minutes = self.hour * 60 + self.minute\n",
    "        seconds = minutes * 60 + self.second\n",
    "        return seconds"
   ]
  },
  {
   "cell_type": "code",
   "execution_count": 37,
   "metadata": {},
   "outputs": [],
   "source": [
    "# start needs to be re-initialized every time we change the class definition\n",
    "start = Time()\n",
    "start.hour = 9\n",
    "start.minute = 45\n",
    "start.second = 0"
   ]
  },
  {
   "cell_type": "code",
   "execution_count": 38,
   "metadata": {},
   "outputs": [
    {
     "data": {
      "text/plain": [
       "35100"
      ]
     },
     "execution_count": 38,
     "metadata": {},
     "output_type": "execute_result"
    }
   ],
   "source": [
    "start.time_to_int()"
   ]
  },
  {
   "cell_type": "markdown",
   "metadata": {},
   "source": [
    "### 17.3 Another example\n",
    "\n",
    "*__`increment` rewritten as a method:__*"
   ]
  },
  {
   "cell_type": "code",
   "execution_count": 32,
   "metadata": {},
   "outputs": [],
   "source": [
    "class Time:\n",
    "    def print_time(self, thousandths = False):\n",
    "        if thousandths:\n",
    "            print(\"{:02.0f}:{:02.0f}:{:06.3f}\".format(self.hour, self.minute, self.second))\n",
    "        else:\n",
    "            print(\"{:02.0f}:{:02.0f}:{:02.0f}\".format(self.hour, self.minute, self.second))\n",
    "    \n",
    "    def time_to_int(self):\n",
    "        minutes = self.hour * 60 + self.minute\n",
    "        seconds = minutes * 60 + self.second\n",
    "        return seconds\n",
    "    \n",
    "    def increment(self, seconds):\n",
    "        seconds += self.time_to_int()\n",
    "        return int_to_time(seconds)\n",
    "    \n",
    "def int_to_time(seconds):\n",
    "    time = Time()\n",
    "    minutes, time.second = divmod(seconds, 60)\n",
    "    time.hour, time.minute = divmod(minutes, 60)\n",
    "    return time"
   ]
  },
  {
   "cell_type": "code",
   "execution_count": 39,
   "metadata": {},
   "outputs": [
    {
     "name": "stdout",
     "output_type": "stream",
     "text": [
      "09:45:00\n"
     ]
    }
   ],
   "source": [
    "# start needs to be re-initialized every time we change the class definition\n",
    "start = Time()\n",
    "start.hour = 9\n",
    "start.minute = 45\n",
    "start.second = 0\n",
    "\n",
    "start.print_time()"
   ]
  },
  {
   "cell_type": "code",
   "execution_count": 40,
   "metadata": {},
   "outputs": [
    {
     "name": "stdout",
     "output_type": "stream",
     "text": [
      "10:07:17\n"
     ]
    }
   ],
   "source": [
    "end = start.increment(1337)\n",
    "end.print_time()"
   ]
  },
  {
   "cell_type": "markdown",
   "metadata": {},
   "source": [
    "### 17.5 The init method\n",
    "\n",
    "*__init method for the `Time` class:__*"
   ]
  },
  {
   "cell_type": "code",
   "execution_count": 67,
   "metadata": {},
   "outputs": [],
   "source": [
    "class Time:\n",
    "    def __init__(self, hour = 0, minute = 0, second = 0):\n",
    "        self.hour = hour\n",
    "        self.minute = minute\n",
    "        self.second = second\n",
    "    \n",
    "    def print_time(self, thousandths = False):\n",
    "        if thousandths:\n",
    "            print(\"{:02.0f}:{:02.0f}:{:06.3f}\".format(self.hour, self.minute, self.second))\n",
    "        else:\n",
    "            print(\"{:02.0f}:{:02.0f}:{:02.0f}\".format(self.hour, self.minute, self.second))\n",
    "    \n",
    "    def time_to_int(self):\n",
    "        minutes = self.hour * 60 + self.minute\n",
    "        seconds = minutes * 60 + self.second\n",
    "        return seconds\n",
    "    \n",
    "    def increment(self, seconds):\n",
    "        seconds += self.time_to_int()\n",
    "        return int_to_time(seconds)\n",
    "    \n",
    "    \n",
    "def int_to_time(seconds):\n",
    "    time = Time()\n",
    "    minutes, time.second = divmod(seconds, 60)\n",
    "    time.hour, time.minute = divmod(minutes, 60)\n",
    "    return time"
   ]
  },
  {
   "cell_type": "markdown",
   "metadata": {},
   "source": [
    "*As an exercise, write an init method for the `Point` class that takes `x` and `y` as optional parameters and assigns them to the corresponding attributes.*"
   ]
  },
  {
   "cell_type": "code",
   "execution_count": 60,
   "metadata": {},
   "outputs": [],
   "source": [
    "class Point:\n",
    "    \"\"\"Represents a point in 2-D space.\"\"\"\n",
    "    \n",
    "    def __init__(self, x = 0, y = 0):\n",
    "        \n",
    "        self.x = x\n",
    "        self.y = y\n"
   ]
  },
  {
   "cell_type": "markdown",
   "metadata": {},
   "source": [
    "### 17.6 The _str_ method\n",
    "\n",
    "*As an exercise, write a `str` method for the `Point` class. Create a `Point` object and print it.*"
   ]
  },
  {
   "cell_type": "code",
   "execution_count": 62,
   "metadata": {},
   "outputs": [],
   "source": [
    "class Point:\n",
    "    \"\"\"Represents a point in 2-D space.\"\"\"\n",
    "    \n",
    "    def __init__(self, x = 0, y = 0):\n",
    "        \n",
    "        self.x = x\n",
    "        self.y = y\n",
    "        \n",
    "    def __str__(self):\n",
    "        return '({:g}, {:g})'.format(self.x, self.y)"
   ]
  },
  {
   "cell_type": "code",
   "execution_count": 63,
   "metadata": {},
   "outputs": [
    {
     "name": "stdout",
     "output_type": "stream",
     "text": [
      "(45, 0)\n"
     ]
    }
   ],
   "source": [
    "point = Point(45.0)\n",
    "print(point)"
   ]
  },
  {
   "cell_type": "markdown",
   "metadata": {},
   "source": [
    "### 17.7 Operator overloading"
   ]
  },
  {
   "cell_type": "code",
   "execution_count": 70,
   "metadata": {},
   "outputs": [],
   "source": [
    "class Time:\n",
    "    def __init__(self, hour = 0, minute = 0, second = 0):\n",
    "        self.hour = hour\n",
    "        self.minute = minute\n",
    "        self.second = second\n",
    "    \n",
    "    def print_time(self, thousandths = False):\n",
    "        if thousandths:\n",
    "            print(\"{:02.0f}:{:02.0f}:{:06.3f}\".format(self.hour, self.minute, self.second))\n",
    "        else:\n",
    "            print(\"{:02.0f}:{:02.0f}:{:02.0f}\".format(self.hour, self.minute, self.second))\n",
    "    \n",
    "    def time_to_int(self):\n",
    "        minutes = self.hour * 60 + self.minute\n",
    "        seconds = minutes * 60 + self.second\n",
    "        return seconds\n",
    "    \n",
    "    def increment(self, seconds):\n",
    "        seconds += self.time_to_int()\n",
    "        return int_to_time(seconds)\n",
    "    \n",
    "    def __add__(self, other):\n",
    "        seconds = self.time_to_int() + other.time_to_int()\n",
    "        return int_to_time(seconds)\n",
    "    \n",
    "    def __str__(self):\n",
    "        return \"{:02.0f}:{:02.0f}:{:02.0f}\".format(self.hour, self.minute, self.second)\n",
    "    \n",
    "    \n",
    "def int_to_time(seconds):\n",
    "    time = Time()\n",
    "    minutes, time.second = divmod(seconds, 60)\n",
    "    time.hour, time.minute = divmod(minutes, 60)\n",
    "    return time"
   ]
  },
  {
   "cell_type": "code",
   "execution_count": 71,
   "metadata": {},
   "outputs": [
    {
     "name": "stdout",
     "output_type": "stream",
     "text": [
      "11:20:00\n"
     ]
    }
   ],
   "source": [
    "start = Time(9, 45)\n",
    "duration = Time(1, 35)\n",
    "print(start + duration)"
   ]
  },
  {
   "cell_type": "markdown",
   "metadata": {},
   "source": [
    "*As an exercise, write an `add` method for the `Point` class.*"
   ]
  },
  {
   "cell_type": "code",
   "execution_count": 87,
   "metadata": {},
   "outputs": [],
   "source": [
    "class Point:\n",
    "    \"\"\"Represents a point in 2-D space.\"\"\"\n",
    "    \n",
    "    def __init__(self, x = 0, y = 0):\n",
    "        \n",
    "        self.x = x\n",
    "        self.y = y\n",
    "        \n",
    "    def __str__(self):\n",
    "        return '({:g}, {:g})'.format(self.x, self.y)\n",
    "    \n",
    "    def __add__(self, other):\n",
    "        return Point(self.x + other.x, self.y + other.y)"
   ]
  },
  {
   "cell_type": "code",
   "execution_count": 88,
   "metadata": {},
   "outputs": [
    {
     "name": "stdout",
     "output_type": "stream",
     "text": [
      "(55, 10)\n"
     ]
    }
   ],
   "source": [
    "point1 = Point(45, 0)\n",
    "point2 = Point(10, 10)\n",
    "print(point1 + point2)"
   ]
  },
  {
   "cell_type": "markdown",
   "metadata": {},
   "source": [
    "### 17.8 Type-based dispatch"
   ]
  },
  {
   "cell_type": "code",
   "execution_count": 95,
   "metadata": {},
   "outputs": [],
   "source": [
    "class Time:\n",
    "    def __init__(self, hour = 0, minute = 0, second = 0):\n",
    "        self.hour = hour\n",
    "        self.minute = minute\n",
    "        self.second = second\n",
    "    \n",
    "    def print_time(self, thousandths = False):\n",
    "        if thousandths:\n",
    "            print(\"{:02.0f}:{:02.0f}:{:06.3f}\".format(self.hour, self.minute, self.second))\n",
    "        else:\n",
    "            print(\"{:02.0f}:{:02.0f}:{:02.0f}\".format(self.hour, self.minute, self.second))\n",
    "    \n",
    "    def time_to_int(self):\n",
    "        minutes = self.hour * 60 + self.minute\n",
    "        seconds = minutes * 60 + self.second\n",
    "        return seconds\n",
    "       \n",
    "    def __add__(self, other):\n",
    "        if isinstance(other, Time):\n",
    "            return self.add_time(other)\n",
    "        else:\n",
    "            return self.increment(other)\n",
    "        \n",
    "    def add_time(self, other):   \n",
    "        seconds = self.time_to_int() + other.time_to_int()\n",
    "        return int_to_time(seconds)\n",
    "    \n",
    "    def increment(self, seconds):\n",
    "        seconds += self.time_to_int()\n",
    "        return int_to_time(seconds)\n",
    "    \n",
    "    def __str__(self):\n",
    "        return \"{:02.0f}:{:02.0f}:{:02.0f}\".format(self.hour, self.minute, self.second)\n",
    "    \n",
    "    def __radd__(self, other):\n",
    "        return self.__add__(other)\n",
    "    \n",
    "    \n",
    "def int_to_time(seconds):\n",
    "    time = Time()\n",
    "    minutes, time.second = divmod(seconds, 60)\n",
    "    time.hour, time.minute = divmod(minutes, 60)\n",
    "    return time"
   ]
  },
  {
   "cell_type": "code",
   "execution_count": 98,
   "metadata": {},
   "outputs": [
    {
     "name": "stdout",
     "output_type": "stream",
     "text": [
      "11:20:00\n"
     ]
    }
   ],
   "source": [
    "start = Time(9, 45)\n",
    "duration = Time(1, 35)\n",
    "print(start + duration)"
   ]
  },
  {
   "cell_type": "code",
   "execution_count": 99,
   "metadata": {},
   "outputs": [
    {
     "name": "stdout",
     "output_type": "stream",
     "text": [
      "10:07:17\n"
     ]
    }
   ],
   "source": [
    "print(start + 1337)"
   ]
  },
  {
   "cell_type": "code",
   "execution_count": 100,
   "metadata": {},
   "outputs": [
    {
     "name": "stdout",
     "output_type": "stream",
     "text": [
      "10:07:17\n"
     ]
    }
   ],
   "source": [
    "print(1337 + start)"
   ]
  },
  {
   "cell_type": "markdown",
   "metadata": {},
   "source": [
    "*As an exercise, write an `add` method for Points that works with either a `Point` object or a tuple:*\n",
    "\n",
    "<ul>\n",
    "<li><i>If the second operand is a `Point`, the method should return a new `Point` whose $x$ coordinate is the sum of the $x$ coordinates of the operands, and likewise for the $y$ coordinates.</i></li>\n",
    "<li><i>If the second operand is a tuple, the method should add the first element of the tuple to the $x$ coordinate and the second element to the $y$ coordinate, and return a new `Point` with the result.</i></li>\n",
    "    </ul>\n",
    "    \n",
    "<i><b>I glanced at the author's solutions when debugging an earlier exercise, and since I can't unsee what I saw, naturally  my code is inspired by the author's.  However, there was an issue with the author's code: you can't concatenate the return value of `type()` to a string.  It's possible to work around this by using `type().__name__` instead.</b></i>"
   ]
  },
  {
   "cell_type": "code",
   "execution_count": 127,
   "metadata": {},
   "outputs": [],
   "source": [
    "class Point:\n",
    "    \"\"\"Represents a point in 2-D space.\"\"\"\n",
    "    \n",
    "    def __init__(self, x = 0, y = 0):\n",
    "        \n",
    "        self.x = x\n",
    "        self.y = y\n",
    "        \n",
    "    def __str__(self):\n",
    "        return '({:g}, {:g})'.format(self.x, self.y)\n",
    "    \n",
    "    def __add__(self, other):\n",
    "        if isinstance(other, Point):\n",
    "            return Point(self.x + other.x, self.y + other.y)\n",
    "        elif isinstance(other, tuple):\n",
    "            return Point(self.x + other[0], self.y + other[1])\n",
    "        else:\n",
    "            msg = \"Can't add <type \" + type(other).__name__ + \"> to a Point object\"\n",
    "            raise TypeError(msg)"
   ]
  },
  {
   "cell_type": "code",
   "execution_count": 104,
   "metadata": {},
   "outputs": [
    {
     "name": "stdout",
     "output_type": "stream",
     "text": [
      "(55, 10)\n"
     ]
    }
   ],
   "source": [
    "point1 = Point(45, 0)\n",
    "point2 = Point(10, 10)\n",
    "print(point1 + point2)"
   ]
  },
  {
   "cell_type": "code",
   "execution_count": 105,
   "metadata": {},
   "outputs": [
    {
     "name": "stdout",
     "output_type": "stream",
     "text": [
      "(55, 10)\n"
     ]
    }
   ],
   "source": [
    "point1 = Point(45, 0)\n",
    "point2 = (10, 10)\n",
    "print(point1 + point2)"
   ]
  },
  {
   "cell_type": "markdown",
   "metadata": {},
   "source": [
    "*__TypeErrors cause jupyter notebooks to stop, so instead of running this cell, I'll just include the output as markdown:__*\n",
    "\n",
    "\n",
    "\n",
    "```\n",
    "point1 = Point(45, 0)\n",
    "point2 = [10, 10]\n",
    "print(point1 + point2)\n",
    "\n",
    "---------------------------------------------------------------------------\n",
    "TypeError                                 Traceback (most recent call last)\n",
    "<ipython-input-124-7a7298ab0709> in <module>\n",
    "      1 point1 = Point(45, 0)\n",
    "      2 point2 = [10, 10]\n",
    "----> 3 print(point1 + point2)\n",
    "      4 \n",
    "\n",
    "<ipython-input-122-2023a8b37431> in __add__(self, other)\n",
    "     19         else:\n",
    "     20             msg = \"Can't add <type \" + type(other).__name__ + \"> to a Point object\"\n",
    "---> 21             raise TypeError(msg)\n",
    "\n",
    "TypeError: Can't add <type list> to a Point object\n",
    "```"
   ]
  },
  {
   "cell_type": "markdown",
   "metadata": {},
   "source": [
    "### 17.13 Exercises\n",
    "\n",
    "#### Exercise 1  \n",
    "\n",
    "*Download the code from this chapter from http://thinkpython2.com/code/Time2.py. Change the attributes of `Time` to be a single integer representing seconds since midnight. Then modify the methods (and the function `int_to_time`) to work with the new implementation. You should not have to modify the test code in `main`. When you are done, the output should be the same as before.*\n",
    "\n",
    "*__Using most of the code that I wrote above, with a few exceptions:__*"
   ]
  },
  {
   "cell_type": "code",
   "execution_count": 136,
   "metadata": {},
   "outputs": [],
   "source": [
    "class Time:\n",
    "    def __init__(self, hour = 0, minute = 0, second = 0):\n",
    "        self.hour = hour\n",
    "        self.minute = minute\n",
    "        self.second = second\n",
    "    \n",
    "    def print_time(self, thousandths = False):\n",
    "        if thousandths:\n",
    "            print(\"{:02.0f}:{:02.0f}:{:06.3f}\".format(self.hour, self.minute, self.second))\n",
    "        else:\n",
    "            print(str(self))\n",
    "    \n",
    "    def time_to_int(self):\n",
    "        minutes = self.hour * 60 + self.minute\n",
    "        seconds = minutes * 60 + self.second\n",
    "        return seconds\n",
    "       \n",
    "    # not found above\n",
    "    def is_after(self, other):\n",
    "        return self.time_to_int() > other.time_to_int()\n",
    "    \n",
    "    def __add__(self, other):\n",
    "        if isinstance(other, Time):\n",
    "            return self.add_time(other)\n",
    "        else:\n",
    "            return self.increment(other)\n",
    "    \n",
    "    # edited from above\n",
    "    def add_time(self, other):   \n",
    "        assert self.is_valid() and other.is_valid()\n",
    "        seconds = self.time_to_int() + other.time_to_int()\n",
    "        return int_to_time(seconds)\n",
    "    \n",
    "    def increment(self, seconds):\n",
    "        seconds += self.time_to_int()\n",
    "        return int_to_time(seconds)\n",
    "    \n",
    "    # not found above\n",
    "    def is_valid(self):\n",
    "        if self.hour < 0 or self.minute < 0 or self.second < 0:\n",
    "            return False\n",
    "        if self.minute >= 60 or self.second >= 60:\n",
    "            return False\n",
    "        return True\n",
    "    \n",
    "    def __str__(self):\n",
    "        return \"{:02.0f}:{:02.0f}:{:02.0f}\".format(self.hour, self.minute, self.second)\n",
    "    \n",
    "    def __radd__(self, other):\n",
    "        return self.__add__(other)\n",
    "    \n",
    "    \n",
    "def int_to_time(seconds):\n",
    "    time = Time()\n",
    "    minutes, time.second = divmod(seconds, 60)\n",
    "    time.hour, time.minute = divmod(minutes, 60)\n",
    "    return time"
   ]
  },
  {
   "cell_type": "code",
   "execution_count": 129,
   "metadata": {},
   "outputs": [],
   "source": [
    "# using author's code\n",
    "\n",
    "def main():\n",
    "    start = Time(9, 45, 00)\n",
    "    start.print_time()\n",
    "    \n",
    "    end = start.increment(1337)\n",
    "    end.print_time()\n",
    "    \n",
    "    print('Is end after start?')\n",
    "    print(end.is_after(start))\n",
    "    \n",
    "    print('Using __str__')\n",
    "    print(start, end)\n",
    "    \n",
    "    start = Time(9, 45)\n",
    "    duration = Time(1, 35)\n",
    "    print(start + duration)\n",
    "    print(start + 1337)\n",
    "    print(1337 + start)\n",
    "    \n",
    "    print('Example of polymorphism')\n",
    "    t1 = Time(7, 43)\n",
    "    t2 = Time(7, 41)\n",
    "    t3 = Time(7, 37)\n",
    "    total = sum([t1, t2, t3])\n",
    "    print(total)"
   ]
  },
  {
   "cell_type": "code",
   "execution_count": 137,
   "metadata": {},
   "outputs": [
    {
     "name": "stdout",
     "output_type": "stream",
     "text": [
      "09:45:00\n",
      "10:07:17\n",
      "Is end after start?\n",
      "True\n",
      "Using __str__\n",
      "09:45:00 10:07:17\n",
      "11:20:00\n",
      "10:07:17\n",
      "10:07:17\n",
      "Example of polymorphism\n",
      "23:01:00\n"
     ]
    }
   ],
   "source": [
    "main()"
   ]
  },
  {
   "cell_type": "markdown",
   "metadata": {},
   "source": [
    "*__I didn't really understand the goal of this exercise, so I took a look at the solution to see if I could get the gist of it.  As was the case above, once you see something you can't unsee it.  Consequently, the code below is nearly identical to the code in the author's solution.__*"
   ]
  },
  {
   "cell_type": "code",
   "execution_count": 148,
   "metadata": {},
   "outputs": [],
   "source": [
    "class Time:\n",
    "    def __init__(self, hour = 0, minute = 0, second = 0):\n",
    "        minutes = hour * 60 + minute\n",
    "        self.second = 60 * minutes + second\n",
    "    \n",
    "    # simplifying for this exercise\n",
    "    def print_time(self):\n",
    "        print(str(self))\n",
    "    \n",
    "    def time_to_int(self):\n",
    "        return self.second\n",
    "       \n",
    "    # not found above\n",
    "    def is_after(self, other):\n",
    "        return self.second > other.second\n",
    "    \n",
    "    def __add__(self, other):\n",
    "        if isinstance(other, Time):\n",
    "            return self.add_time(other)\n",
    "        else:\n",
    "            return self.increment(other)\n",
    "    \n",
    "    # edited from above\n",
    "    def add_time(self, other):   \n",
    "        assert self.is_valid() and other.is_valid()\n",
    "        seconds = self.second + other.second\n",
    "        return int_to_time(seconds)\n",
    "    \n",
    "    def increment(self, seconds):\n",
    "        seconds += self.second\n",
    "        return int_to_time(seconds)\n",
    "    \n",
    "    # not found above\n",
    "    def is_valid(self):\n",
    "        return self.second > 0 and self.second < 86400\n",
    "    \n",
    "    def __str__(self):\n",
    "        minutes, second = divmod(self.second, 60)\n",
    "        hour, minute = divmod(minutes, 60)\n",
    "        return \"{:02.0f}:{:02.0f}:{:02.0f}\".format(hour, minute, second)\n",
    "    \n",
    "    def __radd__(self, other):\n",
    "        return self.__add__(other)\n",
    "    \n",
    "    \n",
    "def int_to_time(seconds):\n",
    "    return Time(0, 0, seconds)"
   ]
  },
  {
   "cell_type": "code",
   "execution_count": 147,
   "metadata": {},
   "outputs": [
    {
     "name": "stdout",
     "output_type": "stream",
     "text": [
      "09:45:00\n",
      "10:07:17\n",
      "Is end after start?\n",
      "True\n",
      "Using __str__\n",
      "09:45:00 10:07:17\n",
      "11:20:00\n",
      "10:07:17\n",
      "10:07:17\n",
      "Example of polymorphism\n",
      "23:01:00\n"
     ]
    }
   ],
   "source": [
    "main()"
   ]
  }
 ],
 "metadata": {
  "kernelspec": {
   "display_name": "Python 3",
   "language": "python",
   "name": "python3"
  },
  "language_info": {
   "codemirror_mode": {
    "name": "ipython",
    "version": 3
   },
   "file_extension": ".py",
   "mimetype": "text/x-python",
   "name": "python",
   "nbconvert_exporter": "python",
   "pygments_lexer": "ipython3",
   "version": "3.7.3"
  }
 },
 "nbformat": 4,
 "nbformat_minor": 2
}
