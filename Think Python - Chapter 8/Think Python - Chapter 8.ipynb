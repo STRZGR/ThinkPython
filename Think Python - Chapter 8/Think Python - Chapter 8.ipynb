{
 "cells": [
  {
   "cell_type": "markdown",
   "metadata": {},
   "source": [
    "# Think Python\n",
    "\n",
    "## Chapter 8 - Strings\n",
    "\n",
    "HTML version can be found [here](http://greenteapress.com/thinkpython2/html/thinkpython2009.html \"Chpt 8\").\n",
    "\n",
    "### 8.1 A string is a sequence\n",
    "\n",
    "*No notes.*\n",
    "\n",
    "### 8.2 `len`\n",
    "\n",
    "*Other languages would use syntax like this to find the last letter in a string:*\n",
    "\n"
   ]
  },
  {
   "cell_type": "code",
   "execution_count": 1,
   "metadata": {},
   "outputs": [
    {
     "data": {
      "text/plain": [
       "'a'"
      ]
     },
     "execution_count": 1,
     "metadata": {},
     "output_type": "execute_result"
    }
   ],
   "source": [
    "fruit = \"banana\"\n",
    "last = fruit[len(fruit) - 1]\n",
    "last"
   ]
  },
  {
   "cell_type": "markdown",
   "metadata": {},
   "source": [
    "*But in Python, we can also use negative indexing:*"
   ]
  },
  {
   "cell_type": "code",
   "execution_count": 2,
   "metadata": {},
   "outputs": [
    {
     "data": {
      "text/plain": [
       "'a'"
      ]
     },
     "execution_count": 2,
     "metadata": {},
     "output_type": "execute_result"
    }
   ],
   "source": [
    "fruit[-1]"
   ]
  },
  {
   "cell_type": "markdown",
   "metadata": {},
   "source": [
    "### 8.3 Traversal with a `for` loop\n",
    "\n",
    "*As an exercise, write a function that takes a string as an argument and displays the letters backward, one per line.*"
   ]
  },
  {
   "cell_type": "code",
   "execution_count": 3,
   "metadata": {},
   "outputs": [],
   "source": [
    "def backwards(string):\n",
    "    \"\"\"\n",
    "    Prints string backwards, one letter per line.\n",
    "    \"\"\"\n",
    "    backwards_length = -len(string)\n",
    "    index = -1\n",
    "    while index >= backwards_length:\n",
    "        print(string[index])\n",
    "        index -= 1"
   ]
  },
  {
   "cell_type": "code",
   "execution_count": 4,
   "metadata": {},
   "outputs": [
    {
     "name": "stdout",
     "output_type": "stream",
     "text": [
      "!\n",
      "s\n",
      "e\n",
      "i\n",
      "n\n",
      "n\n",
      "u\n",
      "b\n",
      "e\n",
      "l\n",
      "g\n",
      "g\n",
      "u\n",
      "n\n",
      "S\n"
     ]
    }
   ],
   "source": [
    "backwards(\"Snugglebunnies!\")"
   ]
  },
  {
   "cell_type": "markdown",
   "metadata": {},
   "source": [
    "*The following example shows how to use concatenation (string addition) and a for loop to generate an abecedarian series (that is, in alphabetical order). In Robert McCloskey’s book __Make Way for Ducklings__, the names of the ducklings are Jack, Kack, Lack, Mack, Nack, Ouack, Pack, and Quack. As an exercise, use a for loop to print their names correctly:*"
   ]
  },
  {
   "cell_type": "code",
   "execution_count": 5,
   "metadata": {},
   "outputs": [
    {
     "name": "stdout",
     "output_type": "stream",
     "text": [
      "Jack\n",
      "Kack\n",
      "Lack\n",
      "Mack\n",
      "Nack\n",
      "Ouack\n",
      "Pack\n",
      "Quack\n"
     ]
    }
   ],
   "source": [
    "prefixes = \"JKLMNOPQ\"\n",
    "suffix = \"ack\"\n",
    "\n",
    "for letter in prefixes:\n",
    "    if letter == \"O\" or letter == \"Q\":\n",
    "        print(letter + \"u\" + suffix)\n",
    "    else:\n",
    "        print(letter + suffix)\n",
    "    "
   ]
  },
  {
   "cell_type": "markdown",
   "metadata": {},
   "source": [
    "### 8.4 String slices\n",
    "\n",
    "*As in many other languages, the last number in the slice is excluded.*\n",
    "\n",
    "### 8.5 Strings are immutable\n",
    "\n",
    "*No notes.*\n",
    "\n",
    "### 8.6 \n",
    "\n",
    "*As an exercise, modify `find` so that it has a third parameter, the index in word where it should start looking.*\n",
    "\n"
   ]
  },
  {
   "cell_type": "code",
   "execution_count": 6,
   "metadata": {},
   "outputs": [],
   "source": [
    "def find(word, letter, index):\n",
    "    \"\"\"Searches word for the first instance\n",
    "    of letter, starting at index.\n",
    "    \"\"\"\n",
    "    while index < len(word):\n",
    "        if word[index] == letter:\n",
    "            return index\n",
    "        index += 1\n",
    "    return -1"
   ]
  },
  {
   "cell_type": "code",
   "execution_count": 7,
   "metadata": {},
   "outputs": [
    {
     "data": {
      "text/plain": [
       "2"
      ]
     },
     "execution_count": 7,
     "metadata": {},
     "output_type": "execute_result"
    }
   ],
   "source": [
    "find(\"Snugglebunnies\", \"u\", 0)"
   ]
  },
  {
   "cell_type": "code",
   "execution_count": 8,
   "metadata": {},
   "outputs": [
    {
     "data": {
      "text/plain": [
       "8"
      ]
     },
     "execution_count": 8,
     "metadata": {},
     "output_type": "execute_result"
    }
   ],
   "source": [
    "find(\"Snugglebunnies\", \"u\", 6)"
   ]
  },
  {
   "cell_type": "code",
   "execution_count": 9,
   "metadata": {},
   "outputs": [
    {
     "data": {
      "text/plain": [
       "-1"
      ]
     },
     "execution_count": 9,
     "metadata": {},
     "output_type": "execute_result"
    }
   ],
   "source": [
    "find(\"Snugglebunnies\", \"u\", 10)"
   ]
  },
  {
   "cell_type": "markdown",
   "metadata": {},
   "source": [
    "### Looping and counting\n",
    "\n",
    "*As an exercise, encapsulate this code in a function named `count`, and generalize it so that it accepts the string and the letter as arguments.*\n"
   ]
  },
  {
   "cell_type": "code",
   "execution_count": 10,
   "metadata": {},
   "outputs": [],
   "source": [
    "def count(string, letter):\n",
    "    \"\"\"\n",
    "    Counts occurrences of letter in string.\n",
    "    \"\"\"\n",
    "    count = 0\n",
    "    for char in string:\n",
    "        if char == letter:\n",
    "            count += 1\n",
    "    print(count)"
   ]
  },
  {
   "cell_type": "code",
   "execution_count": 11,
   "metadata": {},
   "outputs": [
    {
     "name": "stdout",
     "output_type": "stream",
     "text": [
      "2\n"
     ]
    }
   ],
   "source": [
    "count(\"Snugglebunnies\", \"u\")"
   ]
  },
  {
   "cell_type": "markdown",
   "metadata": {},
   "source": [
    "*Then rewrite the function so that instead of traversing the string, it uses the three-parameter version of `find` from the previous section.*"
   ]
  },
  {
   "cell_type": "code",
   "execution_count": 12,
   "metadata": {},
   "outputs": [],
   "source": [
    "def find(word, letter, index):\n",
    "    \"\"\"Searches word for the first instance\n",
    "    of letter, starting at index.\n",
    "    \"\"\"\n",
    "    while index < len(word):\n",
    "        if word[index] == letter:\n",
    "            return index\n",
    "        index += 1\n",
    "    return -1\n",
    "\n",
    "def count(string, letter):\n",
    "    \"\"\"\n",
    "    Counts occurrences of letter in string.\n",
    "    \"\"\"\n",
    "    count = 0\n",
    "    index = find(string, letter, 0)\n",
    "    while index != -1:\n",
    "        count += 1\n",
    "        index = find(string, letter, index + 1)\n",
    "    print(count)"
   ]
  },
  {
   "cell_type": "code",
   "execution_count": 13,
   "metadata": {},
   "outputs": [
    {
     "name": "stdout",
     "output_type": "stream",
     "text": [
      "5\n"
     ]
    }
   ],
   "source": [
    "count(\"bananarama\", \"a\")"
   ]
  },
  {
   "cell_type": "markdown",
   "metadata": {},
   "source": [
    "### 8.8 String methods\n",
    "\n",
    "*No notes.*\n",
    "\n",
    "### 8.9 The `in` operator\n",
    "\n",
    "*No notes.*\n",
    "\n",
    "### 8.10 String comparison\n",
    "\n",
    "*No notes.*\n",
    "\n",
    "### 8.11 Debugging\n",
    "\n",
    "*Starting with this diagram, run the program on paper, changing the values of `i` and `j` during each iteration. Find and fix the second error in this function.*\n",
    "\n",
    "\n",
    "\n"
   ]
  },
  {
   "cell_type": "code",
   "execution_count": 14,
   "metadata": {},
   "outputs": [],
   "source": [
    "def is_reverse(word1, word2):\n",
    "    if len(word1) != len(word2):\n",
    "        return False\n",
    "    \n",
    "    i = 0\n",
    "    j = len(word2) - 1\n",
    "    \n",
    "    while j > 0:\n",
    "        if word1[i] != word2[j]:\n",
    "            return False\n",
    "        i += 1\n",
    "        j -= 1\n",
    "        \n",
    "    return True"
   ]
  },
  {
   "cell_type": "code",
   "execution_count": 15,
   "metadata": {},
   "outputs": [
    {
     "data": {
      "text/plain": [
       "True"
      ]
     },
     "execution_count": 15,
     "metadata": {},
     "output_type": "execute_result"
    }
   ],
   "source": [
    "is_reverse(\"stop\", \"pots\")"
   ]
  },
  {
   "cell_type": "code",
   "execution_count": 16,
   "metadata": {},
   "outputs": [
    {
     "data": {
      "text/plain": [
       "True"
      ]
     },
     "execution_count": 16,
     "metadata": {},
     "output_type": "execute_result"
    }
   ],
   "source": [
    "is_reverse(\"stop\", \"aots\")"
   ]
  },
  {
   "cell_type": "code",
   "execution_count": 17,
   "metadata": {},
   "outputs": [],
   "source": [
    "def is_reverse(word1, word2):\n",
    "    if len(word1) != len(word2):\n",
    "        return False\n",
    "    \n",
    "    i = 0\n",
    "    j = len(word2) - 1\n",
    "    \n",
    "    # in the old version, the program stopped before\n",
    "    # checking the last values.  I fixed that by \n",
    "    # changing `j > 0` to `j >= 0`\n",
    "    \n",
    "    while j >= 0:\n",
    "        if word1[i] != word2[j]:\n",
    "            return False\n",
    "        i += 1\n",
    "        j -= 1\n",
    "        \n",
    "    return True\n",
    "            "
   ]
  },
  {
   "cell_type": "code",
   "execution_count": 18,
   "metadata": {},
   "outputs": [
    {
     "data": {
      "text/plain": [
       "True"
      ]
     },
     "execution_count": 18,
     "metadata": {},
     "output_type": "execute_result"
    }
   ],
   "source": [
    "is_reverse(\"stop\", \"pots\")"
   ]
  },
  {
   "cell_type": "code",
   "execution_count": 19,
   "metadata": {},
   "outputs": [
    {
     "data": {
      "text/plain": [
       "False"
      ]
     },
     "execution_count": 19,
     "metadata": {},
     "output_type": "execute_result"
    }
   ],
   "source": [
    "is_reverse(\"stop\", \"aots\")"
   ]
  },
  {
   "cell_type": "markdown",
   "metadata": {},
   "source": [
    "### 8.12 Glossary\n",
    "\n",
    "*No notes.*\n",
    "\n",
    "#### Exercise 1  \n",
    "\n",
    "*Read the documentation of the string methods at http://docs.python.org/3/library/stdtypes.html#string-methods. You might want to experiment with some of them to make sure you understand how they work. `strip` and `replace` are particularly useful.*\n",
    "\n",
    "*The documentation uses a syntax that might be confusing. For example, in `find(sub[, start[, end]])`, the brackets indicate optional arguments. So `sub` is required, but `start` is optional, and if you include `start`, then `end` is optional.*\n",
    "\n",
    "#### Exercise 2  \n",
    "\n",
    "*There is a string method called `count` that is similar to the function in Section 8.7. Read the documentation of this method and write an invocation that counts the number of `a`’s in `'banana'`.*"
   ]
  },
  {
   "cell_type": "code",
   "execution_count": 20,
   "metadata": {},
   "outputs": [
    {
     "data": {
      "text/plain": [
       "3"
      ]
     },
     "execution_count": 20,
     "metadata": {},
     "output_type": "execute_result"
    }
   ],
   "source": [
    "fruit = \"banana\"\n",
    "fruit.count(\"a\")"
   ]
  },
  {
   "cell_type": "markdown",
   "metadata": {},
   "source": [
    "#### Exercise 3  \n",
    "\n",
    "*A string slice can take a third index that specifies the “step size”; that is, the number of spaces between successive characters. A step size of 2 means every other character; 3 means every third, etc.*\n",
    "\n",
    "```{Python}\n",
    ">>> fruit = 'banana'\n",
    ">>> fruit[0:5:2]\n",
    "'bnn'\n",
    "```\n",
    "\n",
    "*A step size of -1 goes through the word backwards, so the slice [::-1] generates a reversed string.*\n",
    "\n",
    "*Use this idiom to write a one-line version of `is_palindrome` from Exercise 3.*"
   ]
  },
  {
   "cell_type": "code",
   "execution_count": 21,
   "metadata": {},
   "outputs": [],
   "source": [
    "def is_palindrome(word):\n",
    "    \"\"\"\n",
    "    Returns True if word is palindromic.\n",
    "    \"\"\"\n",
    "    return word == word[::-1]"
   ]
  },
  {
   "cell_type": "code",
   "execution_count": 22,
   "metadata": {},
   "outputs": [
    {
     "data": {
      "text/plain": [
       "True"
      ]
     },
     "execution_count": 22,
     "metadata": {},
     "output_type": "execute_result"
    }
   ],
   "source": [
    "is_palindrome(\"madam\")"
   ]
  },
  {
   "cell_type": "code",
   "execution_count": 23,
   "metadata": {},
   "outputs": [
    {
     "data": {
      "text/plain": [
       "False"
      ]
     },
     "execution_count": 23,
     "metadata": {},
     "output_type": "execute_result"
    }
   ],
   "source": [
    "is_palindrome(\"racecars\")"
   ]
  },
  {
   "cell_type": "markdown",
   "metadata": {},
   "source": [
    "#### Exercise 4  \n",
    "\n",
    "*The following functions are all intended to check whether a string contains any lowercase letters, but at least some of them are wrong. For each function, describe what the function actually does (assuming that the parameter is a string).*"
   ]
  },
  {
   "cell_type": "code",
   "execution_count": 24,
   "metadata": {},
   "outputs": [],
   "source": [
    "def any_lowercase1(s):\n",
    "    for c in s:\n",
    "        if c.islower():\n",
    "            return True\n",
    "        else:\n",
    "            return False"
   ]
  },
  {
   "cell_type": "code",
   "execution_count": 25,
   "metadata": {},
   "outputs": [
    {
     "data": {
      "text/plain": [
       "False"
      ]
     },
     "execution_count": 25,
     "metadata": {},
     "output_type": "execute_result"
    }
   ],
   "source": [
    "any_lowercase1(\"Snafu\")"
   ]
  },
  {
   "cell_type": "code",
   "execution_count": 26,
   "metadata": {},
   "outputs": [
    {
     "data": {
      "text/plain": [
       "True"
      ]
     },
     "execution_count": 26,
     "metadata": {},
     "output_type": "execute_result"
    }
   ],
   "source": [
    "any_lowercase1(\"sNAFU\")"
   ]
  },
  {
   "cell_type": "markdown",
   "metadata": {},
   "source": [
    "*The first function only looks at the first letter in the string, since the function terminates at `return`.*"
   ]
  },
  {
   "cell_type": "code",
   "execution_count": 27,
   "metadata": {},
   "outputs": [],
   "source": [
    "def any_lowercase2(s):\n",
    "    for c in s:\n",
    "        if 'c'.islower():\n",
    "            return 'True'\n",
    "        else:\n",
    "            return 'False'"
   ]
  },
  {
   "cell_type": "code",
   "execution_count": 28,
   "metadata": {},
   "outputs": [
    {
     "data": {
      "text/plain": [
       "'True'"
      ]
     },
     "execution_count": 28,
     "metadata": {},
     "output_type": "execute_result"
    }
   ],
   "source": [
    "any_lowercase2(\"Snafu\")"
   ]
  },
  {
   "cell_type": "code",
   "execution_count": 29,
   "metadata": {},
   "outputs": [
    {
     "data": {
      "text/plain": [
       "'True'"
      ]
     },
     "execution_count": 29,
     "metadata": {},
     "output_type": "execute_result"
    }
   ],
   "source": [
    "any_lowercase2(\"SNAFU\")"
   ]
  },
  {
   "cell_type": "markdown",
   "metadata": {},
   "source": [
    "*This function doesn't look at the characters in the string `s`, but rather the string `'c'`, which is always going to return `'True'`, since `'c'` is lowercase.  Further, it returns the string `'True'`, and not the boolean value `True`.*"
   ]
  },
  {
   "cell_type": "code",
   "execution_count": 30,
   "metadata": {},
   "outputs": [],
   "source": [
    "def any_lowercase3(s):\n",
    "    for c in s:\n",
    "        flag = c.islower()\n",
    "    return flag"
   ]
  },
  {
   "cell_type": "code",
   "execution_count": 31,
   "metadata": {},
   "outputs": [
    {
     "data": {
      "text/plain": [
       "True"
      ]
     },
     "execution_count": 31,
     "metadata": {},
     "output_type": "execute_result"
    }
   ],
   "source": [
    "any_lowercase3(\"SNAFu\")"
   ]
  },
  {
   "cell_type": "code",
   "execution_count": 32,
   "metadata": {},
   "outputs": [
    {
     "data": {
      "text/plain": [
       "False"
      ]
     },
     "execution_count": 32,
     "metadata": {},
     "output_type": "execute_result"
    }
   ],
   "source": [
    "any_lowercase3(\"snafU\")"
   ]
  },
  {
   "cell_type": "markdown",
   "metadata": {},
   "source": [
    "*This function only returns the final value of `flag`.  Since the function iterates through the characters in the string, updating its value each time, in effect it's only looking at the last character in the string.*"
   ]
  },
  {
   "cell_type": "code",
   "execution_count": 33,
   "metadata": {},
   "outputs": [],
   "source": [
    "def any_lowercase4(s):\n",
    "    flag = False\n",
    "    for c in s:\n",
    "        flag = flag or c.islower()\n",
    "    return flag"
   ]
  },
  {
   "cell_type": "code",
   "execution_count": 34,
   "metadata": {},
   "outputs": [
    {
     "data": {
      "text/plain": [
       "True"
      ]
     },
     "execution_count": 34,
     "metadata": {},
     "output_type": "execute_result"
    }
   ],
   "source": [
    "any_lowercase4(\"Snafu\")"
   ]
  },
  {
   "cell_type": "code",
   "execution_count": 35,
   "metadata": {},
   "outputs": [
    {
     "data": {
      "text/plain": [
       "True"
      ]
     },
     "execution_count": 35,
     "metadata": {},
     "output_type": "execute_result"
    }
   ],
   "source": [
    "any_lowercase4(\"SNaFU\")"
   ]
  },
  {
   "cell_type": "code",
   "execution_count": 36,
   "metadata": {},
   "outputs": [
    {
     "data": {
      "text/plain": [
       "False"
      ]
     },
     "execution_count": 36,
     "metadata": {},
     "output_type": "execute_result"
    }
   ],
   "source": [
    "any_lowercase4(\"SNAFU\")"
   ]
  },
  {
   "cell_type": "markdown",
   "metadata": {},
   "source": [
    "*This function iterates, updating the value of `flag` each time; but since it uses a boolean `or`, if even one character in the string is lowercase, the function will return `True`.  I.e., this function actually works.*"
   ]
  },
  {
   "cell_type": "code",
   "execution_count": 37,
   "metadata": {},
   "outputs": [],
   "source": [
    "def any_lowercase5(s):\n",
    "    for c in s:\n",
    "        if not c.islower():\n",
    "            return False\n",
    "    return True"
   ]
  },
  {
   "cell_type": "code",
   "execution_count": 38,
   "metadata": {},
   "outputs": [
    {
     "data": {
      "text/plain": [
       "False"
      ]
     },
     "execution_count": 38,
     "metadata": {},
     "output_type": "execute_result"
    }
   ],
   "source": [
    "any_lowercase5(\"Snafu\")"
   ]
  },
  {
   "cell_type": "code",
   "execution_count": 39,
   "metadata": {},
   "outputs": [
    {
     "data": {
      "text/plain": [
       "False"
      ]
     },
     "execution_count": 39,
     "metadata": {},
     "output_type": "execute_result"
    }
   ],
   "source": [
    "any_lowercase5(\"sNAFU\")"
   ]
  },
  {
   "cell_type": "code",
   "execution_count": 40,
   "metadata": {},
   "outputs": [
    {
     "data": {
      "text/plain": [
       "False"
      ]
     },
     "execution_count": 40,
     "metadata": {},
     "output_type": "execute_result"
    }
   ],
   "source": [
    "any_lowercase5(\"snafU\")"
   ]
  },
  {
   "cell_type": "markdown",
   "metadata": {},
   "source": [
    "*This function iterates through the string and returns `False` if even one character is an uppercase letter.*\n",
    "\n",
    "#### Exercise 5  \n",
    "\n",
    "*A Caesar cypher is a weak form of encryption that involves “rotating” each letter by a fixed number of places. To rotate a letter means to shift it through the alphabet, wrapping around to the beginning if necessary, so ’A’ rotated by 3 is ’D’ and ’Z’ rotated by 1 is ’A’.*\n",
    "\n",
    "*To rotate a word, rotate each letter by the same amount. For example, “cheer” rotated by 7 is “jolly” and “melon” rotated by -10 is “cubed”. In the movie 2001: A Space Odyssey, the ship computer is called HAL, which is IBM rotated by -1.*\n",
    "\n",
    "*Write a function called `rotate_word` that takes a string and an integer as parameters, and returns a new string that contains the letters from the original string rotated by the given amount.*\n",
    "\n",
    "*You might want to use the built-in function `ord`, which converts a character to a numeric code, and `chr`, which converts numeric codes to characters. Letters of the alphabet are encoded in alphabetical order, so for example:*\n",
    "\n",
    "```{Python}\n",
    ">>> ord('c') - ord('a')\n",
    "2\n",
    "```\n",
    "\n",
    "*Because 'c' is the two-eth letter of the alphabet. But beware: the numeric codes for upper case letters are different.*\n",
    "\n",
    "*Potentially offensive jokes on the Internet are sometimes encoded in ROT13, which is a Caesar cypher with rotation 13. If you are not easily offended, find and decode some of them. Solution: http://thinkpython2.com/code/rotate.py.*"
   ]
  },
  {
   "cell_type": "code",
   "execution_count": 41,
   "metadata": {},
   "outputs": [],
   "source": [
    "def wraparound(c, lower_limit, upper_limit, i):\n",
    "    \"\"\"Rotates a letter by n places.\n",
    "    Maintains case of letter.\n",
    "    c: char\n",
    "    lower_limit: ASCII start of lower/uppercase letters\n",
    "    upper_limit: ASCII end of lower/uppercase letters\n",
    "    i: spaces to be rotated\n",
    "    \n",
    "    Returns: rotated characters\n",
    "    \"\"\"\n",
    "    new_c = ord(c) + i\n",
    "    if new_c > upper_limit:\n",
    "        new_c -= 26\n",
    "    elif new_c < lower_limit:\n",
    "        new_c += 26\n",
    "    return chr(new_c)\n",
    "\n",
    "def rotate_word(s, i):\n",
    "    \"\"\"Rotates an alphabetic string by i places\n",
    "    \n",
    "    s: word\n",
    "    i: int\n",
    "    \n",
    "    Returns: rotated string\n",
    "    \"\"\"\n",
    "    new_s = \"\"\n",
    "    for c in s:\n",
    "        if 65 <= ord(c) <= 90:\n",
    "            new_c = wraparound(c, 65, 90, i)\n",
    "        elif 97 <= ord(c) <= 122:\n",
    "            new_c = wraparound(c, 97, 122, i)\n",
    "        else:\n",
    "            print(\"String contains non-alphabetic character.\")\n",
    "            return\n",
    "        new_s += new_c\n",
    "    return new_s"
   ]
  },
  {
   "cell_type": "code",
   "execution_count": 42,
   "metadata": {},
   "outputs": [
    {
     "data": {
      "text/plain": [
       "'ZSJJK'"
      ]
     },
     "execution_count": 42,
     "metadata": {},
     "output_type": "execute_result"
    }
   ],
   "source": [
    "rotate_word(\"PIZZA\", -16)"
   ]
  },
  {
   "cell_type": "markdown",
   "metadata": {},
   "source": [
    "*The author's solution is more elegant, but perhaps not as self-evident (in my solution the ASCII values are more explicit):*"
   ]
  },
  {
   "cell_type": "code",
   "execution_count": 43,
   "metadata": {},
   "outputs": [],
   "source": [
    "def rotate_letter(letter, n):\n",
    "    \"\"\"Rotates a letter by n places.  Does not change other chars.\n",
    "    \n",
    "    letter: single-letter string\n",
    "    n: int\n",
    "    \n",
    "    Returns: single-letter string\n",
    "    \"\"\"\n",
    "    if letter.isupper():\n",
    "        start = ord('A')\n",
    "    elif letter.islower():\n",
    "        start = ord('a')\n",
    "    else:\n",
    "        return letter\n",
    "    \n",
    "    c = ord(letter) - start\n",
    "    i = (c + n) % 26 + start\n",
    "    return chr(i)\n",
    "\n",
    "\n",
    "def rotate_word(word, n):\n",
    "    \"\"\"Rotates a word by n places.\n",
    "    \n",
    "    word: string\n",
    "    n: integer\n",
    "    \n",
    "    Returns: string\n",
    "    \"\"\"\n",
    "    \n",
    "    res = \"\"\n",
    "    for letter in word:\n",
    "        res += rotate_letter(letter, n)\n",
    "    return res"
   ]
  },
  {
   "cell_type": "code",
   "execution_count": 44,
   "metadata": {},
   "outputs": [
    {
     "data": {
      "text/plain": [
       "'ZSJJK'"
      ]
     },
     "execution_count": 44,
     "metadata": {},
     "output_type": "execute_result"
    }
   ],
   "source": [
    "rotate_word(\"PIZZA\", 10)"
   ]
  }
 ],
 "metadata": {
  "kernelspec": {
   "display_name": "Python 3",
   "language": "python",
   "name": "python3"
  },
  "language_info": {
   "codemirror_mode": {
    "name": "ipython",
    "version": 3
   },
   "file_extension": ".py",
   "mimetype": "text/x-python",
   "name": "python",
   "nbconvert_exporter": "python",
   "pygments_lexer": "ipython3",
   "version": "3.6.4"
  }
 },
 "nbformat": 4,
 "nbformat_minor": 2
}
