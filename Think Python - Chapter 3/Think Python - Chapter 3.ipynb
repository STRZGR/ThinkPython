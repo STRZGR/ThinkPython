{
 "cells": [
  {
   "cell_type": "markdown",
   "metadata": {},
   "source": [
    "# Think Python\n",
    "\n",
    "## Chapter 3 - Functions\n",
    "\n",
    "*HTML version is available [here](http://greenteapress.com/thinkpython2/html/thinkpython2004.html \"Think Python - Chpt 3\").\n",
    "\n",
    "### 3.1 Function calls\n",
    "\n",
    "*Just a reminder, `int()` just chops off the part after the decimal:*"
   ]
  },
  {
   "cell_type": "code",
   "execution_count": 1,
   "metadata": {},
   "outputs": [
    {
     "data": {
      "text/plain": [
       "3"
      ]
     },
     "execution_count": 1,
     "metadata": {},
     "output_type": "execute_result"
    }
   ],
   "source": [
    "int(3.9999)"
   ]
  },
  {
   "cell_type": "markdown",
   "metadata": {},
   "source": [
    "### 3.2 Math functions\n",
    "\n",
    "*To convert from degrees to radians, divide by 180 and multiply by $\\pi$:*"
   ]
  },
  {
   "cell_type": "code",
   "execution_count": 2,
   "metadata": {},
   "outputs": [
    {
     "data": {
      "text/plain": [
       "0.7071067811865476"
      ]
     },
     "execution_count": 2,
     "metadata": {},
     "output_type": "execute_result"
    }
   ],
   "source": [
    "import math\n",
    "degrees = 45\n",
    "radians = degrees / 180.0 * math.pi\n",
    "math.sin(radians)"
   ]
  },
  {
   "cell_type": "markdown",
   "metadata": {},
   "source": [
    "### 3.3 Composition\n",
    "\n",
    "*No notes.*\n",
    "\n",
    "### 3.4 Adding new functions \n",
    "\n",
    "*No notes.*\n",
    "\n",
    "### 3.5 Definitions and uses\n",
    "\n",
    "*No notes.*\n",
    "\n",
    "### 3.6 Flow of execution\n",
    "\n",
    "*No notes.*\n",
    "\n",
    "### 3.7 Parameters and arguments\n",
    "\n",
    "*__Parameters__ are the variables assigned to arguments in a function.*\n",
    "\n",
    "### 3.8 Variables and parameters are local\n",
    "\n",
    "*No notes.*\n",
    "\n",
    "### 3.9 Stack diagrams\n",
    "\n",
    "*No notes.*\n",
    "\n",
    "### 3.10 Fruitful functions and void functions\n",
    "\n",
    "*__Fruitful__ functions return a value;  __void__ functions don't.*\n",
    "\n",
    "### 3.11 Why functions?\n",
    "\n",
    "*No notes.*\n",
    "\n",
    "### 3.12 Debugging \n",
    "\n",
    "*No notes.*\n"
   ]
  },
  {
   "cell_type": "markdown",
   "metadata": {},
   "source": [
    "### 3.14 Exercises\n",
    "\n",
    "#### Exercise 1  \n",
    "\n",
    "*Write a function named `right_justify` that takes a string named `s` as a parameter and prints the string with enough leading spaces so that the last letter of the string is in column 70 of the display.*\n",
    "\n",
    "```{Python\n",
    ">>> right_justify('monty')\n",
    "                                                                 monty\n",
    "                                                             ```\n",
    "                                                             \n",
    "*Hint: Use string concatenation and repetition. Also, Python provides a built-in function called len that returns the length of a string, so the value of `len('monty')` is `5`.*\n"
   ]
  },
  {
   "cell_type": "code",
   "execution_count": 3,
   "metadata": {},
   "outputs": [],
   "source": [
    "def right_justify(string):\n",
    "    buffer = 70 - len(string)\n",
    "    print(\" \" * buffer, string)"
   ]
  },
  {
   "cell_type": "code",
   "execution_count": 4,
   "metadata": {},
   "outputs": [
    {
     "name": "stdout",
     "output_type": "stream",
     "text": [
      "                                                         Snugglebunnies\n"
     ]
    }
   ],
   "source": [
    "right_justify(\"Snugglebunnies\")"
   ]
  },
  {
   "cell_type": "code",
   "execution_count": 5,
   "metadata": {},
   "outputs": [
    {
     "name": "stdout",
     "output_type": "stream",
     "text": [
      "                                                                    Eh?\n"
     ]
    }
   ],
   "source": [
    "right_justify(\"Eh?\")"
   ]
  },
  {
   "cell_type": "markdown",
   "metadata": {},
   "source": [
    "#### Exercise 2  \n",
    "\n",
    "*A function object is a value you can assign to a variable or pass as an argument. For example, `do_twice` is a function that takes a function object as an argument and calls it twice:*\n",
    "\n",
    "```{Python}\n",
    "def do_twice(f):\n",
    "    f()\n",
    "    f()\n",
    "```\n",
    "\n",
    "*Here’s an example that uses do_twice to call a function named print_spam twice.*\n",
    "\n",
    "```{Python}\n",
    "\n",
    "def print_spam():\n",
    "    print('spam')\n",
    "\n",
    "do_twice(print_spam)\n",
    "```\n",
    "\n",
    "1. *Type this example into a script and test it.*\n",
    "2. *Modify `do_twice` so that it takes two arguments, a function object and a value, and calls the function twice, passing the value as an argument.*\n",
    "3. *Copy the definition of `print_twice` from earlier in this chapter to your script.*\n",
    "4. *Use the modified version of `do_twice` to call `print_twice` twice, passing `'spam'` as an argument.*\n",
    "5. *Define a new function called `do_four` that takes a function object and a value and calls the function four times, passing the value as a parameter. There should be only two statements in the body of this function, not four.*"
   ]
  },
  {
   "cell_type": "code",
   "execution_count": 6,
   "metadata": {},
   "outputs": [],
   "source": [
    "# 1 \n",
    "\n",
    "def do_twice(f):\n",
    "    f()\n",
    "    f()\n",
    "    \n",
    "def print_spam():\n",
    "    print('spam')"
   ]
  },
  {
   "cell_type": "code",
   "execution_count": 7,
   "metadata": {},
   "outputs": [
    {
     "name": "stdout",
     "output_type": "stream",
     "text": [
      "spam\n",
      "spam\n"
     ]
    }
   ],
   "source": [
    "do_twice(print_spam)"
   ]
  },
  {
   "cell_type": "code",
   "execution_count": 8,
   "metadata": {},
   "outputs": [],
   "source": [
    "# 2\n",
    "\n",
    "def do_twice(f, arg):\n",
    "    f(arg)\n",
    "    f(arg)\n",
    "\n"
   ]
  },
  {
   "cell_type": "code",
   "execution_count": 9,
   "metadata": {},
   "outputs": [
    {
     "name": "stdout",
     "output_type": "stream",
     "text": [
      "Snugglebunnies\n",
      "Snugglebunnies\n"
     ]
    }
   ],
   "source": [
    "do_twice(print, \"Snugglebunnies\")"
   ]
  },
  {
   "cell_type": "code",
   "execution_count": 10,
   "metadata": {},
   "outputs": [],
   "source": [
    "#3\n",
    "def print_twice(bruce):\n",
    "        print(bruce)\n",
    "        print(bruce)"
   ]
  },
  {
   "cell_type": "code",
   "execution_count": 11,
   "metadata": {},
   "outputs": [
    {
     "name": "stdout",
     "output_type": "stream",
     "text": [
      "spam\n",
      "spam\n",
      "spam\n",
      "spam\n"
     ]
    }
   ],
   "source": [
    "#4\n",
    "do_twice(print_twice, \"spam\")"
   ]
  },
  {
   "cell_type": "code",
   "execution_count": 12,
   "metadata": {},
   "outputs": [],
   "source": [
    "#5 \n",
    "def do_4xs(f, arg):\n",
    "    do_twice(f, arg)\n",
    "    do_twice(f, arg)"
   ]
  },
  {
   "cell_type": "code",
   "execution_count": 13,
   "metadata": {},
   "outputs": [
    {
     "name": "stdout",
     "output_type": "stream",
     "text": [
      "Snugglebunnies\n",
      "Snugglebunnies\n",
      "Snugglebunnies\n",
      "Snugglebunnies\n"
     ]
    }
   ],
   "source": [
    "do_4xs(print, \"Snugglebunnies\")"
   ]
  },
  {
   "cell_type": "markdown",
   "metadata": {},
   "source": [
    "#### Exercise 3  \n",
    "*Note: This exercise should be done using only the statements and other features we have learned so far.*\n",
    "\n",
    "1. *Write a function that draws a grid like the following:*\n",
    "\n",
    "```{Python}\n",
    "+ - - - - + - - - - +\n",
    "|         |         |\n",
    "|         |         |\n",
    "|         |         |\n",
    "|         |         |\n",
    "+ - - - - + - - - - +\n",
    "|         |         |\n",
    "|         |         |\n",
    "|         |         |\n",
    "|         |         |\n",
    "+ - - - - + - - - - +\n",
    "```\n",
    "*Hint: to print more than one value on a line, you can print a comma-separated sequence of values:*\n",
    "\n",
    "`print('+', '-')`\n",
    "*By default, `print` advances to the next line, but you can override that behavior and put a space at the end, like this:*\n",
    "\n",
    "`print('+', end=' ')`\n",
    "`print('-')`\n",
    "\n",
    "*The output of these statements is `'+ -'` on the same line. The output from the next print statement would begin on the next line.*\n",
    "\n",
    "2. *Write a function that draws a similar grid with four rows and four columns.*"
   ]
  },
  {
   "cell_type": "markdown",
   "metadata": {},
   "source": [
    "*__It's pretty pointless to do something like this without loops, but what the hey.  As long as this code might be, it's a bit shorter than the author's suggested answer.  There may be ways to make this even more concise, but I don't really see any point to practicing this further...__*"
   ]
  },
  {
   "cell_type": "code",
   "execution_count": 14,
   "metadata": {},
   "outputs": [],
   "source": [
    "def do_twice(f):\n",
    "    f()\n",
    "    f()\n",
    "    \n",
    "def do_4xs(f):\n",
    "    do_twice(f)\n",
    "    do_twice(f)\n",
    "\n",
    "def print_beam():\n",
    "    print('+', end = '')\n",
    "    print(' -' * 4, end = ' ')\n",
    "    \n",
    "def print_full_beam():\n",
    "    do_twice(print_beam)\n",
    "    print('+')\n",
    "    \n",
    "def print_struct():\n",
    "    print('/', end = '')\n",
    "    print(' ' * 9, end = '')\n",
    "    \n",
    "def print_full_struct():\n",
    "    do_twice(print_struct)\n",
    "    print('/')\n",
    "    \n",
    "def print_top_half():\n",
    "    print_full_beam()\n",
    "    do_4xs(print_full_struct)"
   ]
  },
  {
   "cell_type": "code",
   "execution_count": 15,
   "metadata": {},
   "outputs": [
    {
     "name": "stdout",
     "output_type": "stream",
     "text": [
      "+ - - - - + - - - - +\n",
      "/         /         /\n",
      "/         /         /\n",
      "/         /         /\n",
      "/         /         /\n",
      "+ - - - - + - - - - +\n",
      "/         /         /\n",
      "/         /         /\n",
      "/         /         /\n",
      "/         /         /\n",
      "+ - - - - + - - - - +\n"
     ]
    }
   ],
   "source": [
    "do_twice(print_top_half)\n",
    "print_full_beam()"
   ]
  },
  {
   "cell_type": "code",
   "execution_count": 16,
   "metadata": {},
   "outputs": [],
   "source": [
    "# 2\n",
    "\n",
    "def print_4_beam():\n",
    "    do_4xs(print_beam)\n",
    "    print('+')\n",
    "    \n",
    "    \n",
    "def print_4_struct():\n",
    "    do_4xs(print_struct)\n",
    "    print('/')\n",
    "    \n",
    "def print_4_half():\n",
    "    print_4_beam()\n",
    "    do_4xs(print_4_struct)"
   ]
  },
  {
   "cell_type": "code",
   "execution_count": 17,
   "metadata": {},
   "outputs": [
    {
     "name": "stdout",
     "output_type": "stream",
     "text": [
      "+ - - - - + - - - - + - - - - + - - - - +\n",
      "/         /         /         /         /\n",
      "/         /         /         /         /\n",
      "/         /         /         /         /\n",
      "/         /         /         /         /\n",
      "+ - - - - + - - - - + - - - - + - - - - +\n",
      "/         /         /         /         /\n",
      "/         /         /         /         /\n",
      "/         /         /         /         /\n",
      "/         /         /         /         /\n",
      "+ - - - - + - - - - + - - - - + - - - - +\n",
      "/         /         /         /         /\n",
      "/         /         /         /         /\n",
      "/         /         /         /         /\n",
      "/         /         /         /         /\n",
      "+ - - - - + - - - - + - - - - + - - - - +\n",
      "/         /         /         /         /\n",
      "/         /         /         /         /\n",
      "/         /         /         /         /\n",
      "/         /         /         /         /\n",
      "+ - - - - + - - - - + - - - - + - - - - +\n"
     ]
    }
   ],
   "source": [
    "do_4xs(print_4_half)\n",
    "print_4_beam()"
   ]
  }
 ],
 "metadata": {
  "kernelspec": {
   "display_name": "Python 3",
   "language": "python",
   "name": "python3"
  },
  "language_info": {
   "codemirror_mode": {
    "name": "ipython",
    "version": 3
   },
   "file_extension": ".py",
   "mimetype": "text/x-python",
   "name": "python",
   "nbconvert_exporter": "python",
   "pygments_lexer": "ipython3",
   "version": "3.6.4"
  }
 },
 "nbformat": 4,
 "nbformat_minor": 2
}
